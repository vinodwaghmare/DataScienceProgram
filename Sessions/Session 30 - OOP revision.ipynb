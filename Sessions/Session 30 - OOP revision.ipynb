{
 "cells": [
  {
   "cell_type": "code",
   "execution_count": 8,
   "metadata": {},
   "outputs": [
    {
     "ename": "IndentationError",
     "evalue": "expected an indented block (<ipython-input-8-4446c49f233c>, line 44)",
     "output_type": "error",
     "traceback": [
      "\u001b[0;36m  File \u001b[0;32m\"<ipython-input-8-4446c49f233c>\"\u001b[0;36m, line \u001b[0;32m44\u001b[0m\n\u001b[0;31m    class Review:\u001b[0m\n\u001b[0m        ^\u001b[0m\n\u001b[0;31mIndentationError\u001b[0m\u001b[0;31m:\u001b[0m expected an indented block\n"
     ]
    }
   ],
   "source": [
    "class Product:\n",
    "    rating = 0\n",
    "    count = 0\n",
    "    \n",
    "    @classmethod\n",
    "    \n",
    "    for review in Review.reviews:\n",
    "        if self == Review.reviews:\n",
    "            count += 1\n",
    "            rating = rating + review.rating\n",
    "    \n",
    "    def __init__(self,prod,user_name,rating,text):\n",
    "        self.prod = prod\n",
    "        self.user_name = user_name\n",
    "        self.rating = rating\n",
    "        Product.add_product(self)\n",
    "        \n",
    "        \n",
    "    def set_name(self,new_name):\n",
    "        self.name = new_name\n",
    "    \n",
    "    def get_rating(self):\n",
    "        rating = 0\n",
    "        count = 0\n",
    "        \n",
    "        for review in Review.reviews:\n",
    "            if self == review.prod:\n",
    "                count += 1\n",
    "                rating = rating + revie.rating\n",
    "        return rating/count\n",
    "    \n",
    "    def get_rating(self):\n",
    "        rating = 0\n",
    "        all_ratings = [review.rating]\n",
    "        \n",
    "    \n",
    "    def get_name(self):\n",
    "        return self.__name\n",
    "\n",
    "class Mobile(Product):\n",
    "    def __init__(self,id,name,price,brand,cam,ram):\n",
    "        super().__init__(id,name,price,brand,)\n",
    "\n",
    "class Book(Product):\n",
    "    \n",
    "        \n",
    "class Review:\n",
    "    reviews = []\n",
    "    \n",
    "    def __init__(self,prod,user_name,rating,text) : \n",
    "        self.prod = prod\n",
    "        self.user_name = user_name\n",
    "        self.rating = rating\n",
    "        self.text = text\n",
    "        Review.review.append(self)\n",
    "        \n",
    "        \n",
    "prod1 = Product(101,\"ABC\",5000)\n",
    "prod2 = Product(102,\"XYZ\",7000)\n",
    "prod3 = Product(103,\"RST\",8000)\n",
    "print(prod1,Product,name)\n",
    "\n",
    "mob1 = Mobile(104,\"Moto X\",15000,\"Moto\",\"10\",\"4\")  \n",
    "mob2 = Mobile(104,\"Moto X\",12000,\"Moto\",\"15\",\"6\")\n",
    "\n",
    "book1 = Book(106,\"QQA\",\"200\",\"LLL\",\"LLL\")\n",
    "print(book1.__dict__)\n",
    "print(mob1.__dict__)"
   ]
  },
  {
   "cell_type": "code",
   "execution_count": null,
   "metadata": {},
   "outputs": [],
   "source": [
    "Books\n",
    "    author\n",
    "    publication\n",
    "    category\n",
    "    \n",
    "Mobiles \n",
    "    company_name\n",
    "    camera\n",
    "    "
   ]
  },
  {
   "cell_type": "code",
   "execution_count": null,
   "metadata": {},
   "outputs": [],
   "source": [
    "MRO => depth first left to right\n",
    "\n",
    "class A(B,C)\n",
    "\n",
    "class D(A)\n",
    "\n",
    "class E(A)\n",
    "a.get()\n",
    "\n",
    "e\n",
    "A\n",
    "B\n",
    "C\n",
    "\n",
    "e: E => A => B => C\n",
    "    \n",
    "    super.get() => we can set \n",
    "    B.get(self)"
   ]
  },
  {
   "cell_type": "code",
   "execution_count": null,
   "metadata": {},
   "outputs": [],
   "source": [
    "method overriding : "
   ]
  },
  {
   "cell_type": "code",
   "execution_count": null,
   "metadata": {},
   "outputs": [],
   "source": [
    "method overloading : add(int num1,str num2)\n",
    "    \n",
    "    add(int num1,int num2)\n",
    "    \n",
    "1.Number of para\n",
    "2.Type of para"
   ]
  },
  {
   "cell_type": "code",
   "execution_count": null,
   "metadata": {},
   "outputs": [],
   "source": [
    "Give human readable represntation of an obj in str format\n",
    "str\n",
    "__add__\n",
    "\n",
    "__str__"
   ]
  },
  {
   "cell_type": "code",
   "execution_count": 12,
   "metadata": {},
   "outputs": [
    {
     "name": "stdout",
     "output_type": "stream",
     "text": [
      "60\n"
     ]
    }
   ],
   "source": [
    "def add(num1,num2):\n",
    "    return num1 + num2\n",
    "\n",
    "def add(num1,num2,num3):\n",
    "    return num1 + num2 + num3\n",
    "\n",
    "print(add(10,20,30))"
   ]
  },
  {
   "cell_type": "code",
   "execution_count": null,
   "metadata": {},
   "outputs": [],
   "source": []
  }
 ],
 "metadata": {
  "kernelspec": {
   "display_name": "Python 3",
   "language": "python",
   "name": "python3"
  },
  "language_info": {
   "codemirror_mode": {
    "name": "ipython",
    "version": 3
   },
   "file_extension": ".py",
   "mimetype": "text/x-python",
   "name": "python",
   "nbconvert_exporter": "python",
   "pygments_lexer": "ipython3",
   "version": "3.7.4"
  }
 },
 "nbformat": 4,
 "nbformat_minor": 2
}
