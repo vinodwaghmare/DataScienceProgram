{
 "cells": [
  {
   "cell_type": "code",
   "execution_count": null,
   "metadata": {},
   "outputs": [],
   "source": [
    "Alert : Programming is not the first step\n",
    "    1) First step is building a conceptual approach to solve the problem.\n",
    "    2) Next step is translating the conceptual approach to program.\n",
    "    3) Intial thinking has to be done before we write a program.\n",
    "        Identify the problem solvable by computer.\n",
    "        Can we break large problem into sub problems.\n",
    "        Familiar problems and characteristic that can lead us to the potiential solutions\n",
    "        Identify non-essential aspects and ignore.\n",
    "    "
   ]
  },
  {
   "cell_type": "code",
   "execution_count": null,
   "metadata": {},
   "outputs": [],
   "source": [
    "5 steps for Computational Thinking.\n",
    "    1) Problem Identification.\n",
    "    2) Decomposition.\n",
    "    3) Pattern Recognition.\n",
    "    4) Abstraction.\n",
    "    5) Algorithm.\n"
   ]
  },
  {
   "cell_type": "code",
   "execution_count": null,
   "metadata": {},
   "outputs": [],
   "source": [
    "1) Problem Identification.\n",
    "    a) Identify problem solvable by computers.\n",
    "    b) Usually computers are not good at subjective problems(like tasting) but AI is changing the ecosystem.\n",
    "    c) Data & problem information should be usable and accessable by computer.\n",
    "    Example problem statement: Finding a date. \n"
   ]
  },
  {
   "cell_type": "code",
   "execution_count": null,
   "metadata": {},
   "outputs": [],
   "source": [
    "Problem Statement : Finding a date\n",
    "    1) I am a person of gender X aged 25 years & looking forward to date a person of gender Y. My interest areas are \n",
    "       travelling & music.\n",
    "    2) I am planning my date on Christmas eve."
   ]
  },
  {
   "cell_type": "code",
   "execution_count": null,
   "metadata": {},
   "outputs": [],
   "source": [
    "2) Decomposition\n",
    "  1) Can we break down big problem into smaller subproblems which are easier to solve ?\n",
    "  2) Finding conceptual solution to big problem is too difficult.\n",
    "  3) Finding solutions to smaller sub problems will be straight forward.\n",
    "  4) We can use flow chart,UML diagram to do this.\n"
   ]
  },
  {
   "cell_type": "code",
   "execution_count": null,
   "metadata": {},
   "outputs": [],
   "source": [
    "3) Pattern Recognition\n",
    "    1) Can we see familiar patterns in subproblems ?\n",
    "    2) Have we seen solutions to similar sub-problems in the past that we can use here.\n",
    "    3) Wrie solution to unsolved subproblem.\n",
    "    \n",
    "  Pattern Recognition : finding a date.\n",
    "    1) Making yourself seen as an expert involves demonstrating knowledge in music and travel\n",
    "    2) Information gathering from internet about music and travel is common."
   ]
  },
  {
   "cell_type": "code",
   "execution_count": null,
   "metadata": {},
   "outputs": [],
   "source": [
    "4) Abstraction\n",
    "    1) Removing information Bias\n",
    "    2) Identify non-essential aspect of program & remove it.\n",
    "    3) Sometimes removing info to make problem simple is also included.\n",
    "    Abstraction : finding a date\n",
    "        1) Christmas eve is round the corner, only 10 days to go.Getting everyting done to finer details will make \n",
    "           the things difficult.\n",
    "        2) If funds are not sufficient borrow from generious friends, Dont delay the plan.\n",
    "        3) If you are new on Tinder or instagram, Take help from friend very active in social networking."
   ]
  },
  {
   "cell_type": "code",
   "execution_count": null,
   "metadata": {},
   "outputs": [],
   "source": [
    "5) Algorithm is set of rules or sequence of instructions."
   ]
  },
  {
   "cell_type": "code",
   "execution_count": null,
   "metadata": {},
   "outputs": [],
   "source": [
    "Problem 1 : Assignment for flowchart\n",
    "    1) Take Age Gender.\n",
    "    2) If its a  male kid, enroll for tennis sessions else enroll for football.\n",
    "    3) Give respective t-shirts to both of them."
   ]
  },
  {
   "cell_type": "code",
   "execution_count": null,
   "metadata": {},
   "outputs": [],
   "source": [
    "Assignments for decomposition.\n",
    "1) Make birthday cake for grandmother's birthday.\n",
    "2) Selling car."
   ]
  }
 ],
 "metadata": {
  "kernelspec": {
   "display_name": "Python 3",
   "language": "python",
   "name": "python3"
  },
  "language_info": {
   "codemirror_mode": {
    "name": "ipython",
    "version": 3
   },
   "file_extension": ".py",
   "mimetype": "text/x-python",
   "name": "python",
   "nbconvert_exporter": "python",
   "pygments_lexer": "ipython3",
   "version": "3.7.4"
  }
 },
 "nbformat": 4,
 "nbformat_minor": 2
}
