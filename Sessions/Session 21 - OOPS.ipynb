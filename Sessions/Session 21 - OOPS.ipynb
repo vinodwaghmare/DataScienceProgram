{
 "cells": [
  {
   "cell_type": "code",
   "execution_count": null,
   "metadata": {},
   "outputs": [],
   "source": [
    "Class and Objects"
   ]
  },
  {
   "cell_type": "code",
   "execution_count": null,
   "metadata": {},
   "outputs": [],
   "source": [
    "Class :\n",
    "    Data members/attributes/variables \n",
    "    Methods \n",
    "    \n",
    "Objects"
   ]
  },
  {
   "cell_type": "code",
   "execution_count": null,
   "metadata": {},
   "outputs": [],
   "source": [
    "Paytm\n",
    "Class :\n",
    "    contact\n",
    "    email \n",
    "    kyc \n",
    "    \n",
    "    recharge \n",
    "    book_tickets \n",
    "    bill \n",
    "    wallet \n",
    "    \n",
    "User1\n",
    "User2"
   ]
  },
  {
   "cell_type": "code",
   "execution_count": null,
   "metadata": {},
   "outputs": [],
   "source": [
    "User \n",
    "    user_name    \n",
    "    email\n",
    "    password\n",
    "    \n",
    "    name\n",
    "    contact \n",
    "    \n",
    "    login \n",
    "    logout \n",
    "    \n",
    "    add_contact\n",
    "    add_name \n",
    "    update_name \n",
    "    update_email \n",
    "    change_password \n",
    "    change_contact"
   ]
  },
  {
   "cell_type": "code",
   "execution_count": 5,
   "metadata": {},
   "outputs": [
    {
     "name": "stdout",
     "output_type": "stream",
     "text": [
      "<__main__.User object at 0x105b373d0>\n"
     ]
    }
   ],
   "source": [
    "class User:\n",
    "    pass\n",
    "\n",
    "user1 = User()\n",
    "print(user1)\n"
   ]
  },
  {
   "cell_type": "code",
   "execution_count": 7,
   "metadata": {},
   "outputs": [
    {
     "name": "stdout",
     "output_type": "stream",
     "text": [
      "<__main__.User object at 0x105b98b90>\n"
     ]
    }
   ],
   "source": [
    "class User:\n",
    "    def __init__(self,username,email,password):\n",
    "        \n",
    "        self.user_name = username\n",
    "        self.email = email\n",
    "        self.password = password\n",
    "        \n",
    "\n",
    "user1 = User(\"abc@123\",\"abc@gmail.com\",\"password@123\")\n",
    "# User(user1,\"abc@123\",\"abc@gmail.com\",\"password@123\")\n",
    "\n",
    "user2 = User(\"pqr@123\",\"pqr@gmail.com\",\"password@123\")\n",
    "print(user1)"
   ]
  },
  {
   "cell_type": "code",
   "execution_count": 8,
   "metadata": {},
   "outputs": [
    {
     "name": "stdout",
     "output_type": "stream",
     "text": [
      "password@123\n",
      "password@123\n",
      "abc@123 abc@gmail.com password@123\n",
      "pqr@123 pqr@gmail.com\n"
     ]
    }
   ],
   "source": [
    "class User:\n",
    "    \n",
    "    def signup(self,username,email,password):\n",
    "        self.user_name = username\n",
    "        self.email = email\n",
    "        self.password = password\n",
    "        print(password)\n",
    "    \n",
    "user1 = User()\n",
    "user2 = User()\n",
    "user1.signup(\"abc@123\",\"abc@gmail.com\",\"password@123\")\n",
    "user2.signup(\"pqr@123\",\"pqr@gmail.com\",\"password@123\")\n",
    "# User(user1,\"abc@123\",\"abc@gmail.com\",\"password@123\")\n",
    "print(user1.user_name,user1.email,user1.password)\n",
    "print(user2.user_name,user2.email)"
   ]
  },
  {
   "cell_type": "code",
   "execution_count": null,
   "metadata": {},
   "outputs": [],
   "source": [
    "*a\n",
    "**k"
   ]
  },
  {
   "cell_type": "code",
   "execution_count": 9,
   "metadata": {},
   "outputs": [
    {
     "name": "stdout",
     "output_type": "stream",
     "text": [
      "True\n",
      "ABC\n",
      "PQR\n",
      "password@123\n",
      "abc@123\n"
     ]
    }
   ],
   "source": [
    "class User:\n",
    "    def __init__(self,username,email,password):\n",
    "        \n",
    "        self.user_name = username\n",
    "        self.email = email\n",
    "        self.password = password\n",
    "        \n",
    "    def login(self,username,password):\n",
    "        if self.user_name == username and self.password == password:\n",
    "            return True\n",
    "        else:\n",
    "            return False\n",
    "        \n",
    "    def add_name(self,name):\n",
    "        self.name = name\n",
    "        \n",
    "    def change_password(self,new_password):\n",
    "        self.password = new_password\n",
    "        \n",
    "        \n",
    "\n",
    "user1 = User(\"abc@123\",\"abc@gmail.com\",\"password@123\")\n",
    "# User(user1,\"abc@123\",\"abc@gmail.com\",\"password@123\")\n",
    "\n",
    "user2 = User(\"pqr@123\",\"pqr@gmail.com\",\"password@123\")\n",
    "\n",
    "print(user2.login(\"pqr@123\",\"password@123\"))\n",
    "# User.login(user1,\"abc@123\",\"password@123\")\n",
    "\n",
    "user1.add_name(\"ABC\")\n",
    "user2.add_name(\"PQR\")\n",
    "print(user1.name)\n",
    "print(user2.name)\n",
    "print(user1.password)\n",
    "user1.change_password(\"abc@123\")\n",
    "print(user1.password)"
   ]
  },
  {
   "cell_type": "code",
   "execution_count": 10,
   "metadata": {},
   "outputs": [
    {
     "name": "stdout",
     "output_type": "stream",
     "text": [
      "{'user_name': 'abc@123', 'email': 'abc@gmail.com', 'password': 'abc@123', 'name': 'ABC'}\n",
      "{'user_name': 'pqr@123', 'email': 'pqr@gmail.com', 'password': 'password@123', 'name': 'PQR'}\n"
     ]
    }
   ],
   "source": [
    "print(user1.__dict__)\n",
    "print(user2.__dict__)"
   ]
  },
  {
   "cell_type": "code",
   "execution_count": 11,
   "metadata": {},
   "outputs": [
    {
     "name": "stdout",
     "output_type": "stream",
     "text": [
      "abc@123 abc@gmail.com ABC\n",
      "pqr@123 pqr@gmail.com PQR\n",
      "xyz@123 xyz@gmail.com RST\n",
      "rst@123 rst@gmail.com XYZ\n"
     ]
    }
   ],
   "source": [
    "class User:\n",
    "    def __init__(self,username,email,password):\n",
    "        \n",
    "        self.user_name = username\n",
    "        self.email = email\n",
    "        self.password = password\n",
    "        \n",
    "    def login(self,username,password):\n",
    "        if self.user_name == username and self.password == password:\n",
    "            return True\n",
    "        else:\n",
    "            return False\n",
    "        \n",
    "    def add_name(self,name):\n",
    "        self.name = name\n",
    "        \n",
    "    def change_password(self,new_password):\n",
    "        self.password = new_password\n",
    "        \n",
    "    def __str__(self):\n",
    "        return \"{} {}\".format(self.user_name,self.email)\n",
    "    \n",
    "    def get_details(self):\n",
    "        return \"{} {} {}\".format(self.user_name,self.email,self.name)\n",
    "        \n",
    "\n",
    "user1 = User(\"abc@123\",\"abc@gmail.com\",\"password@123\")\n",
    "# User(user1,\"abc@123\",\"abc@gmail.com\",\"password@123\")\n",
    "\n",
    "user2 = User(\"pqr@123\",\"pqr@gmail.com\",\"password@123\")\n",
    "user3 = User(\"xyz@123\",\"xyz@gmail.com\",\"password@123\")\n",
    "user4 = User(\"rst@123\",\"rst@gmail.com\",\"password@123\")\n",
    "\n",
    "user1.add_name(\"ABC\")\n",
    "user2.add_name(\"PQR\")\n",
    "user3.add_name(\"RST\")\n",
    "user4.add_name(\"XYZ\")\n",
    "\n",
    "users = [user1,user2,user3,user4]\n",
    "for user in users:\n",
    "    print(user.get_details())\n",
    "# print(user1)"
   ]
  },
  {
   "cell_type": "code",
   "execution_count": null,
   "metadata": {},
   "outputs": [],
   "source": [
    "Student \n",
    "     name \n",
    "     roll_no \n",
    "     \n",
    "    \n",
    "     add_marks marks = []\n",
    "     cal_result()\n",
    "    \n",
    "    \n",
    "     All students who failed \n",
    "     Topper of the class name,rollno, marks , percentage"
   ]
  },
  {
   "cell_type": "code",
   "execution_count": 12,
   "metadata": {},
   "outputs": [
    {
     "name": "stdout",
     "output_type": "stream",
     "text": [
      "3 RST 34.6 Fail\n",
      "4 XYZ 39.0 Fail\n",
      "5 PPP 24.8 Fail\n",
      "[(<__main__.Student object at 0x105bede50>, 88.2), (<__main__.Student object at 0x105bede90>, 71.2), (<__main__.Student object at 0x105bedfd0>, 73.0)]\n",
      "(<__main__.Student object at 0x105bede50>, 88.2)\n",
      "Topper of the class is 1 ABC 88.2 Pass\n"
     ]
    }
   ],
   "source": [
    "class Student:\n",
    "    def __init__(self,roll_no,name):\n",
    "        self.roll_no = roll_no\n",
    "        self.name = name\n",
    "        \n",
    "    def add_marks(self,marks):\n",
    "        self.marks = marks\n",
    "        \n",
    "    def cal_result(self):\n",
    "        self.per = sum(self.marks.values())/500 * 100\n",
    "        if self.per >= 40:\n",
    "            self.result = \"Pass\"\n",
    "        else:\n",
    "            self.result = \"Fail\"\n",
    "            \n",
    "    def get_details(self):\n",
    "        return \"{} {} {} {}\".format(str(self.roll_no),self.name,round(self.per,2),self.result)\n",
    "    \n",
    "    \n",
    "stud1 = Student(1,\"ABC\")\n",
    "stud2 = Student(2,\"PQR\")\n",
    "stud3 = Student(3,\"RST\")\n",
    "stud4 = Student(4,\"XYZ\")\n",
    "stud5 = Student(5,\"PPP\")\n",
    "stud6 = Student(6,\"TTT\")\n",
    "\n",
    "stud1.add_marks({\"eng\":78,\"maths\":88,\"his\":88,\"sci\":88,\"geo\":99})\n",
    "stud2.add_marks({\"eng\":80,\"maths\":77,\"his\":89,\"sci\":70,\"geo\":40})\n",
    "stud3.add_marks({\"eng\":50,\"maths\":33,\"his\":30,\"sci\":30,\"geo\":30})\n",
    "stud4.add_marks({\"eng\":30,\"maths\":44,\"his\":35,\"sci\":56,\"geo\":30})\n",
    "stud5.add_marks({\"eng\":20,\"maths\":20,\"his\":20,\"sci\":44,\"geo\":20})\n",
    "stud6.add_marks({\"eng\":35,\"maths\":66,\"his\":89,\"sci\":76,\"geo\":99})\n",
    "\n",
    "students = [stud1,stud2,stud3,stud4,stud5,stud6]\n",
    "for student in students:\n",
    "    student.cal_result()\n",
    "    \n",
    "\n",
    "#Failed Students\n",
    "for student in students:\n",
    "    if student.result == \"Fail\":\n",
    "        print(student.get_details())\n",
    "        \n",
    "student_per = [(student,student.per) for student in students if student.result == \"Pass\"]\n",
    "print(student_per)\n",
    "topper = max(student_per,key = lambda t : t[1])\n",
    "print(topper)\n",
    "print(\"Topper of the class is\",topper[0].get_details())"
   ]
  },
  {
   "cell_type": "code",
   "execution_count": null,
   "metadata": {},
   "outputs": [],
   "source": [
    "All per [88,89,90,100] =100\n"
   ]
  },
  {
   "cell_type": "code",
   "execution_count": 15,
   "metadata": {},
   "outputs": [
    {
     "name": "stdout",
     "output_type": "stream",
     "text": [
      "Help on built-in function max in module builtins:\n",
      "\n",
      "max(...)\n",
      "    max(iterable, *[, default=obj, key=func]) -> value\n",
      "    max(arg1, arg2, *args, *[, key=func]) -> value\n",
      "    \n",
      "    With a single iterable argument, return its biggest item. The\n",
      "    default keyword-only argument specifies an object to return if\n",
      "    the provided iterable is empty.\n",
      "    With two or more arguments, return the largest argument.\n",
      "\n"
     ]
    }
   ],
   "source": [
    "help(max)"
   ]
  },
  {
   "cell_type": "code",
   "execution_count": null,
   "metadata": {},
   "outputs": [],
   "source": [
    "\n",
    "class class_name:\n",
    "    def __init__(self,val1,val2):\n",
    "        self.var_name = val1\n",
    "        \n",
    "    def __str__(self):\n",
    "        return str\n",
    "\n",
    "obj_name = class_name(\"ABC\",\"PQR\")\n",
    "print(obj_name)"
   ]
  },
  {
   "cell_type": "code",
   "execution_count": null,
   "metadata": {},
   "outputs": [],
   "source": []
  }
 ],
 "metadata": {
  "kernelspec": {
   "display_name": "Python 3",
   "language": "python",
   "name": "python3"
  },
  "language_info": {
   "codemirror_mode": {
    "name": "ipython",
    "version": 3
   },
   "file_extension": ".py",
   "mimetype": "text/x-python",
   "name": "python",
   "nbconvert_exporter": "python",
   "pygments_lexer": "ipython3",
   "version": "3.7.4"
  }
 },
 "nbformat": 4,
 "nbformat_minor": 2
}
