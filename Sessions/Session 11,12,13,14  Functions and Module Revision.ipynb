{
 "cells": [
  {
   "cell_type": "code",
   "execution_count": null,
   "metadata": {},
   "outputs": [],
   "source": [
    "Function:"
   ]
  },
  {
   "cell_type": "code",
   "execution_count": null,
   "metadata": {},
   "outputs": [],
   "source": [
    "def [func_name](args):\n",
    "    statements\n",
    "    return variable_name\n",
    "\n",
    "None"
   ]
  },
  {
   "cell_type": "code",
   "execution_count": null,
   "metadata": {},
   "outputs": [],
   "source": [
    "- Positional Parameter\n",
    "- default parameter\n",
    "-keyword args/named\n",
    "-*args - variable positional\n",
    "-**kwargs - variable keyword args\n"
   ]
  },
  {
   "cell_type": "code",
   "execution_count": 3,
   "metadata": {},
   "outputs": [
    {
     "name": "stdout",
     "output_type": "stream",
     "text": [
      "300\n"
     ]
    }
   ],
   "source": [
    "# functional call should be after function definition \n",
    "def add(num1,num2):\n",
    "    return num1 + num2\n",
    "\n",
    "result = add(100,200)\n",
    "print(result)"
   ]
  },
  {
   "cell_type": "code",
   "execution_count": null,
   "metadata": {},
   "outputs": [],
   "source": [
    "# Positional parameter => no. of args in function call == no. of args in function def\n",
    "# and they get assigned in sequential manner.\n",
    "def add(num1,num2):\n",
    "    return num1 + num2\n",
    "\n",
    "result = add(100,200)\n",
    "print(result)"
   ]
  },
  {
   "cell_type": "code",
   "execution_count": 6,
   "metadata": {},
   "outputs": [
    {
     "name": "stdout",
     "output_type": "stream",
     "text": [
      "100\n",
      "100\n"
     ]
    }
   ],
   "source": [
    "# Default paramter => ByDefault args if not given\n",
    "def add(num1 = 0,num2 = 0):\n",
    "    return num1 + num2\n",
    "\n",
    "result = add(100)\n",
    "print(result)\n",
    "\n",
    "# positional first then bydefault para not vice-versa\n",
    "def add(num1,num2 = 0):\n",
    "    return num1 + num2\n",
    "\n",
    "result = add(100)\n",
    "print(result)"
   ]
  },
  {
   "cell_type": "code",
   "execution_count": 10,
   "metadata": {},
   "outputs": [
    {
     "name": "stdout",
     "output_type": "stream",
     "text": [
      "True\n",
      "False\n",
      "True\n"
     ]
    }
   ],
   "source": [
    "# Keyword/named Parameter => \n",
    "\n",
    "def login(username,password):\n",
    "    if username =='abc@123' and password == 'password':\n",
    "        return True\n",
    "    else:\n",
    "        return False\n",
    "\n",
    "print(login('abc@123','password')) # sequential\n",
    "print(login('password','abc@123')) \n",
    "print(login(password = 'password',username = 'abc@123')) # named para\n"
   ]
  },
  {
   "cell_type": "code",
   "execution_count": 13,
   "metadata": {},
   "outputs": [
    {
     "name": "stdout",
     "output_type": "stream",
     "text": [
      "10,20 Hi\n"
     ]
    }
   ],
   "source": [
    "\n",
    "print(10,20,sep =\",\", end = \" \") #it uses by default para gives space betn 10 and 20 and next line\n",
    "print(\"Hi\")"
   ]
  },
  {
   "cell_type": "code",
   "execution_count": 14,
   "metadata": {},
   "outputs": [
    {
     "name": "stdout",
     "output_type": "stream",
     "text": [
      "Help on built-in function print in module builtins:\n",
      "\n",
      "print(...)\n",
      "    print(value, ..., sep=' ', end='\\n', file=sys.stdout, flush=False)\n",
      "    \n",
      "    Prints the values to a stream, or to sys.stdout by default.\n",
      "    Optional keyword arguments:\n",
      "    file:  a file-like object (stream); defaults to the current sys.stdout.\n",
      "    sep:   string inserted between values, default a space.\n",
      "    end:   string appended after the last value, default a newline.\n",
      "    flush: whether to forcibly flush the stream.\n",
      "\n"
     ]
    }
   ],
   "source": [
    "help(print)"
   ]
  },
  {
   "cell_type": "code",
   "execution_count": null,
   "metadata": {},
   "outputs": [],
   "source": [
    "Variable positional => args"
   ]
  },
  {
   "cell_type": "code",
   "execution_count": 24,
   "metadata": {},
   "outputs": [
    {
     "name": "stdout",
     "output_type": "stream",
     "text": [
      "([10, 20, 30], {1: 2, 2: 4}, 40, 50)\n",
      "None\n",
      "()\n",
      "None\n",
      "(300,)\n",
      "None\n",
      "(300, 400, 500, 600, 700, 800)\n",
      "None\n"
     ]
    }
   ],
   "source": [
    "def add(num1 = 0,num2 = 0,*args): #Its not mandatory give *args only *a works\n",
    "#datatype of args is tuples \n",
    "#here will 10 will pass to num1 20 to num2 and rest to tuple *args\n",
    "    print(args)\n",
    "    #return sum(args)\n",
    "\n",
    "print(add(10,\"Python\",[10,20,30],{1:2,2:4},40,50))\n",
    "print(add(100))\n",
    "print(add(100,200,300))\n",
    "print(add(100,200,300,400,500,600,700,800))\n",
    "\n"
   ]
  },
  {
   "cell_type": "code",
   "execution_count": null,
   "metadata": {},
   "outputs": [],
   "source": [
    "Variable keyword =>**kwargs =>Datatype (dictionary)"
   ]
  },
  {
   "cell_type": "code",
   "execution_count": null,
   "metadata": {},
   "outputs": [],
   "source": [
    "username email contact dob\n",
    "I'm trying to write a form where can write email or contact or both but others are mandatory \n",
    "so 3 possibility 1.username email contact dob\n",
    "                 2.username email  dob\n",
    "                 3.username contact dob\n"
   ]
  },
  {
   "cell_type": "code",
   "execution_count": 30,
   "metadata": {},
   "outputs": [
    {
     "name": "stdout",
     "output_type": "stream",
     "text": [
      "(30, 40) {'username': 'abc', 'email': 'abc@gmail.com', 'contact': '91215698121', 'dob': '12-12-2019'}\n"
     ]
    }
   ],
   "source": [
    "def get_data(num1,num2,*args,**kwargs):#num1 =10 num2 = 20 args gets mapped to 30,40 and kwargs gets mapped to rest . \n",
    "    print(args,kwargs)\n",
    "    \n",
    "get_data(10,20,30,40,username ='abc',email ='abc@gmail.com',contact ='91215698121',dob ='12-12-2019')    \n",
    "# get_data(username ='abc',email ='abc@gmail.com',dob ='12-12-2019')    \n",
    "# get_data(username ='abc',contact ='91215698121',dob ='12-12-2019')    \n"
   ]
  },
  {
   "cell_type": "code",
   "execution_count": 6,
   "metadata": {},
   "outputs": [
    {
     "ename": "NameError",
     "evalue": "name 'num1' is not defined",
     "output_type": "error",
     "traceback": [
      "\u001b[0;31m---------------------------------------------------------------------------\u001b[0m",
      "\u001b[0;31mNameError\u001b[0m                                 Traceback (most recent call last)",
      "\u001b[0;32m<ipython-input-6-1c539b3612d0>\u001b[0m in \u001b[0;36m<module>\u001b[0;34m\u001b[0m\n\u001b[1;32m      3\u001b[0m \u001b[0;34m\u001b[0m\u001b[0m\n\u001b[1;32m      4\u001b[0m \u001b[0madd\u001b[0m\u001b[0;34m(\u001b[0m\u001b[0;34m)\u001b[0m\u001b[0;34m\u001b[0m\u001b[0;34m\u001b[0m\u001b[0m\n\u001b[0;32m----> 5\u001b[0;31m \u001b[0mprint\u001b[0m\u001b[0;34m(\u001b[0m\u001b[0mnum1\u001b[0m\u001b[0;34m)\u001b[0m\u001b[0;34m\u001b[0m\u001b[0;34m\u001b[0m\u001b[0m\n\u001b[0m",
      "\u001b[0;31mNameError\u001b[0m: name 'num1' is not defined"
     ]
    }
   ],
   "source": [
    "def add():\n",
    "    num1 = 100 # any variable defined inside the func is not access outside. \n",
    "\n",
    "add()\n",
    "print(num1)"
   ]
  },
  {
   "cell_type": "code",
   "execution_count": 35,
   "metadata": {},
   "outputs": [
    {
     "name": "stdout",
     "output_type": "stream",
     "text": [
      "100\n"
     ]
    }
   ],
   "source": [
    "def add():\n",
    "    print(num1)\n",
    "num1 = 100    \n",
    "add()\n"
   ]
  },
  {
   "cell_type": "code",
   "execution_count": 7,
   "metadata": {},
   "outputs": [
    {
     "name": "stdout",
     "output_type": "stream",
     "text": [
      "50\n",
      "100\n"
     ]
    }
   ],
   "source": [
    "def add():\n",
    "    num1 = 50  # value inside the func unable to vary.\n",
    "    print(num1)\n",
    "\n",
    "num1 = 100    \n",
    "add()\n",
    "print(num1)"
   ]
  },
  {
   "cell_type": "code",
   "execution_count": 8,
   "metadata": {},
   "outputs": [
    {
     "ename": "UnboundLocalError",
     "evalue": "local variable 'num1' referenced before assignment",
     "output_type": "error",
     "traceback": [
      "\u001b[0;31m---------------------------------------------------------------------------\u001b[0m",
      "\u001b[0;31mUnboundLocalError\u001b[0m                         Traceback (most recent call last)",
      "\u001b[0;32m<ipython-input-8-6a452ee095ea>\u001b[0m in \u001b[0;36m<module>\u001b[0;34m\u001b[0m\n\u001b[1;32m      6\u001b[0m \u001b[0;34m\u001b[0m\u001b[0m\n\u001b[1;32m      7\u001b[0m \u001b[0mnum1\u001b[0m \u001b[0;34m=\u001b[0m \u001b[0;36m100\u001b[0m\u001b[0;34m\u001b[0m\u001b[0;34m\u001b[0m\u001b[0m\n\u001b[0;32m----> 8\u001b[0;31m \u001b[0madd\u001b[0m\u001b[0;34m(\u001b[0m\u001b[0;34m)\u001b[0m\u001b[0;34m\u001b[0m\u001b[0;34m\u001b[0m\u001b[0m\n\u001b[0m\u001b[1;32m      9\u001b[0m \u001b[0mprint\u001b[0m\u001b[0;34m(\u001b[0m\u001b[0mnum1\u001b[0m\u001b[0;34m)\u001b[0m\u001b[0;34m\u001b[0m\u001b[0;34m\u001b[0m\u001b[0m\n",
      "\u001b[0;32m<ipython-input-8-6a452ee095ea>\u001b[0m in \u001b[0;36madd\u001b[0;34m()\u001b[0m\n\u001b[1;32m      1\u001b[0m \u001b[0;32mdef\u001b[0m \u001b[0madd\u001b[0m\u001b[0;34m(\u001b[0m\u001b[0;34m)\u001b[0m\u001b[0;34m:\u001b[0m\u001b[0;34m\u001b[0m\u001b[0;34m\u001b[0m\u001b[0m\n\u001b[0;32m----> 2\u001b[0;31m     \u001b[0mprint\u001b[0m\u001b[0;34m(\u001b[0m\u001b[0mnum1\u001b[0m\u001b[0;34m)\u001b[0m \u001b[0;31m#here we can't print before assigning the value because have assigned after the print so local num1\u001b[0m\u001b[0;34m\u001b[0m\u001b[0;34m\u001b[0m\u001b[0m\n\u001b[0m\u001b[1;32m      3\u001b[0m    \u001b[0;31m# cant access var outside the func\u001b[0m\u001b[0;34m\u001b[0m\u001b[0;34m\u001b[0m\u001b[0;34m\u001b[0m\u001b[0m\n\u001b[1;32m      4\u001b[0m     \u001b[0mnum1\u001b[0m \u001b[0;34m=\u001b[0m \u001b[0;36m50\u001b[0m \u001b[0;31m# value inside the func unable to vary.\u001b[0m\u001b[0;34m\u001b[0m\u001b[0;34m\u001b[0m\u001b[0m\n\u001b[1;32m      5\u001b[0m     \u001b[0mprint\u001b[0m\u001b[0;34m(\u001b[0m\u001b[0mnum1\u001b[0m\u001b[0;34m)\u001b[0m\u001b[0;34m\u001b[0m\u001b[0;34m\u001b[0m\u001b[0m\n",
      "\u001b[0;31mUnboundLocalError\u001b[0m: local variable 'num1' referenced before assignment"
     ]
    }
   ],
   "source": [
    "def add():\n",
    "    print(num1) #here we can't print before assigning the value because have assigned after the print so local num1\n",
    "   # cant access var outside the func\n",
    "    num1 = 50 # value inside the func unable to vary.\n",
    "    print(num1)\n",
    "    \n",
    "num1 = 100    \n",
    "add()\n",
    "print(num1)"
   ]
  },
  {
   "cell_type": "code",
   "execution_count": 10,
   "metadata": {},
   "outputs": [
    {
     "name": "stdout",
     "output_type": "stream",
     "text": [
      "50\n",
      "50\n"
     ]
    }
   ],
   "source": [
    "def add():\n",
    "    global num1\n",
    "    num1 = 50 # value inside the func unable to vary.\n",
    "    print(num1)\n",
    "    \n",
    "num1 = 100    \n",
    "add()\n",
    "print(num1)"
   ]
  },
  {
   "cell_type": "markdown",
   "metadata": {},
   "source": [
    "Recursive funcs => A function calling itself.\n",
    "\n",
    "eg :1) Factorial\n",
    "\n",
    "    2) Binary search"
   ]
  },
  {
   "cell_type": "code",
   "execution_count": 12,
   "metadata": {},
   "outputs": [
    {
     "name": "stdout",
     "output_type": "stream",
     "text": [
      "24\n"
     ]
    }
   ],
   "source": [
    "def fact(num):\n",
    "    if num == 1:\n",
    "        return 1\n",
    "    else:\n",
    "        return num * fact(num - 1)\n",
    "    \n",
    "    \n",
    "print(fact(4))"
   ]
  },
  {
   "cell_type": "code",
   "execution_count": 8,
   "metadata": {},
   "outputs": [
    {
     "name": "stdout",
     "output_type": "stream",
     "text": [
      "False\n"
     ]
    }
   ],
   "source": [
    "# #Binary search where hve to search a key \n",
    "# l = [100,200,300,400,500,600,700]\n",
    "\n",
    "# key = 600\n",
    "\n",
    "# 1. key == l[len(l) // 2]\n",
    "# 2. if True stop\n",
    "# 3.else repeat the binary search from left side to right side.\n",
    "\n",
    "def binary_search(l,key):\n",
    "    mid = len(l) // 2\n",
    "    \n",
    "    if not  l:\n",
    "        return False #if list gets empty after some binary \n",
    "\n",
    "    elif l[mid] == key:\n",
    "        return True\n",
    "\n",
    "    elif key < l[mid]:\n",
    "        return binary_search( l[:mid],key)\n",
    "        r\n",
    "    elif key > l[mid]:\n",
    "        return binary_search(l[mid + 1:],key)  \n",
    "\n",
    "\n",
    "l = [100,200,300,400,500,600,700]\n",
    "\n",
    "key = 4000 #key 4000 is not present in list if key reach to 700 after 600 where 1//2 == 0 so first if condtion is used.\n",
    "\n",
    "print(binary_search(l,key))\n",
    "\n",
    "\n"
   ]
  },
  {
   "cell_type": "code",
   "execution_count": null,
   "metadata": {},
   "outputs": [],
   "source": [
    "bs([100,200,300,40,500,600,700],600)\n",
    "bs([500,600,700],600) = True"
   ]
  },
  {
   "cell_type": "code",
   "execution_count": 1,
   "metadata": {},
   "outputs": [],
   "source": [
    "import bs # here we are importing bs.py module where we defined our function\n",
    "#while importing the module we should not get the output "
   ]
  },
  {
   "cell_type": "code",
   "execution_count": 2,
   "metadata": {},
   "outputs": [
    {
     "name": "stdout",
     "output_type": "stream",
     "text": [
      "False\n"
     ]
    }
   ],
   "source": [
    "l = [1,2,3,4,5]\n",
    "key = 6 \n",
    "print(bs.binary_search(l,key)) # accessing binary search func from bs module."
   ]
  },
  {
   "cell_type": "code",
   "execution_count": null,
   "metadata": {},
   "outputs": [],
   "source": [
    "# python has variable called\n",
    "__name__ => we will not set or change the value \n",
    "\n",
    "The module your executing using (Ctrl + enter) .\n",
    "eg :- session 14 is my main fn.\n",
    "main => __main__ and bydefault it will create the value __main__."
   ]
  },
  {
   "cell_type": "code",
   "execution_count": 1,
   "metadata": {},
   "outputs": [
    {
     "ename": "ModuleNotFoundError",
     "evalue": "No module named 'bs.binary_search'; 'bs' is not a package",
     "output_type": "error",
     "traceback": [
      "\u001b[0;31m---------------------------------------------------------------------------\u001b[0m",
      "\u001b[0;31mModuleNotFoundError\u001b[0m                       Traceback (most recent call last)",
      "\u001b[0;32m<ipython-input-1-259ee7794c17>\u001b[0m in \u001b[0;36m<module>\u001b[0;34m\u001b[0m\n\u001b[0;32m----> 1\u001b[0;31m \u001b[0;32mimport\u001b[0m \u001b[0mbs\u001b[0m\u001b[0;34m.\u001b[0m\u001b[0mbinary_search\u001b[0m\u001b[0;34m\u001b[0m\u001b[0;34m\u001b[0m\u001b[0m\n\u001b[0m",
      "\u001b[0;31mModuleNotFoundError\u001b[0m: No module named 'bs.binary_search'; 'bs' is not a package"
     ]
    }
   ],
   "source": [
    "import bs.binary_search\n",
    "#we import till module not the function "
   ]
  },
  {
   "cell_type": "code",
   "execution_count": 2,
   "metadata": {},
   "outputs": [],
   "source": [
    "from bs import binary_search"
   ]
  },
  {
   "cell_type": "code",
   "execution_count": 3,
   "metadata": {},
   "outputs": [
    {
     "name": "stdout",
     "output_type": "stream",
     "text": [
      "False\n"
     ]
    }
   ],
   "source": [
    "l = [1,2,3,4,5]\n",
    "key = 6 \n",
    "print(binary_search(l,key)) # accessing fn directly "
   ]
  },
  {
   "cell_type": "code",
   "execution_count": 1,
   "metadata": {},
   "outputs": [],
   "source": [
    "import folder1.new_bs #modules should always be present in the same directory or call folder where that module is present. \n",
    "\n"
   ]
  },
  {
   "cell_type": "code",
   "execution_count": 3,
   "metadata": {},
   "outputs": [
    {
     "name": "stdout",
     "output_type": "stream",
     "text": [
      "False\n"
     ]
    }
   ],
   "source": [
    "l = [1,2,3,4,5]\n",
    "key = 6 \n",
    "print(folder1.new_bs.binary_search_new(l,key)) # accessing fn directly \n"
   ]
  },
  {
   "cell_type": "code",
   "execution_count": 7,
   "metadata": {},
   "outputs": [],
   "source": [
    "from folder1.new_bs import binary_search_new as b"
   ]
  },
  {
   "cell_type": "code",
   "execution_count": 8,
   "metadata": {},
   "outputs": [
    {
     "name": "stdout",
     "output_type": "stream",
     "text": [
      "False\n",
      "False\n"
     ]
    }
   ],
   "source": [
    "l = [1,2,3,4,5]\n",
    "key = 6 \n",
    "print(binary_search_new(l,key)) # accessing fn directly \n",
    "print(b(l,key)) # accessing fn directly \n"
   ]
  },
  {
   "cell_type": "code",
   "execution_count": null,
   "metadata": {},
   "outputs": [],
   "source": [
    "import random\n",
    "help(random) #help will give detail of inbuilt module."
   ]
  },
  {
   "cell_type": "code",
   "execution_count": 1,
   "metadata": {},
   "outputs": [
    {
     "name": "stdout",
     "output_type": "stream",
     "text": [
      "Help on module folder1.new_bs in folder1:\n",
      "\n",
      "NAME\n",
      "    folder1.new_bs - DOC String :As Description of your module\n",
      "\n",
      "FUNCTIONS\n",
      "    binary_search_new(l, key)\n",
      "        BS Implementation, takes list and key as input and return True If key present else return False\n",
      "\n",
      "FILE\n",
      "    /Users/vinod/folder1/new_bs.py\n",
      "\n",
      "\n"
     ]
    }
   ],
   "source": [
    "from folder1 import new_bs\n",
    "help(new_bs)"
   ]
  },
  {
   "cell_type": "code",
   "execution_count": null,
   "metadata": {},
   "outputs": [],
   "source": [
    "Project : \n",
    "    manage.py #main executable module \n",
    "    \n",
    "    product\n",
    "        view.py\n",
    "    comment\n",
    "        view.py"
   ]
  }
 ],
 "metadata": {
  "kernelspec": {
   "display_name": "Python 3",
   "language": "python",
   "name": "python3"
  },
  "language_info": {
   "codemirror_mode": {
    "name": "ipython",
    "version": 3
   },
   "file_extension": ".py",
   "mimetype": "text/x-python",
   "name": "python",
   "nbconvert_exporter": "python",
   "pygments_lexer": "ipython3",
   "version": "3.7.4"
  }
 },
 "nbformat": 4,
 "nbformat_minor": 2
}
