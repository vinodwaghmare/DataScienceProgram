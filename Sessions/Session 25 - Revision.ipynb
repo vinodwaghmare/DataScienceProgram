{
 "cells": [
  {
   "cell_type": "code",
   "execution_count": null,
   "metadata": {},
   "outputs": [],
   "source": [
    "Mutables datatypes :\n",
    "    list\n",
    "    dict\n",
    "    set\n",
    "Immutable datatypes :\n",
    "    int\n",
    "    float\n",
    "    str\n",
    "    "
   ]
  },
  {
   "cell_type": "code",
   "execution_count": null,
   "metadata": {},
   "outputs": [],
   "source": [
    "Mutable : at same memory location"
   ]
  },
  {
   "cell_type": "code",
   "execution_count": null,
   "metadata": {},
   "outputs": [],
   "source": [
    "id()"
   ]
  },
  {
   "cell_type": "code",
   "execution_count": null,
   "metadata": {},
   "outputs": [],
   "source": [
    "type()"
   ]
  },
  {
   "cell_type": "code",
   "execution_count": 1,
   "metadata": {},
   "outputs": [
    {
     "name": "stdout",
     "output_type": "stream",
     "text": [
      "4407546576 4407543840\n"
     ]
    }
   ],
   "source": [
    "l1 = [10,20,30]\n",
    "l2 = [10,20,30]\n",
    "print(id(l1),id(l2))\n",
    "# memory locations are different because list are mutables if we perform operationon particualr\n",
    "#list another list shouldn't get affected"
   ]
  },
  {
   "cell_type": "code",
   "execution_count": 2,
   "metadata": {},
   "outputs": [
    {
     "name": "stdout",
     "output_type": "stream",
     "text": [
      "4408259152 4408259120\n"
     ]
    }
   ],
   "source": [
    "num1 = 1000\n",
    "num2 = 1000\n",
    "print(id(num1),id(num2))"
   ]
  },
  {
   "cell_type": "code",
   "execution_count": null,
   "metadata": {},
   "outputs": [],
   "source": [
    "object intering : 0 -256"
   ]
  },
  {
   "cell_type": "code",
   "execution_count": null,
   "metadata": {},
   "outputs": [],
   "source": [
    "start with alpha \n",
    "\n",
    "FIRST_NUM => constants\n",
    "first_name preffered not firstName camelcasing."
   ]
  },
  {
   "cell_type": "code",
   "execution_count": null,
   "metadata": {},
   "outputs": [],
   "source": [
    " == : values => comparison\n",
    " is : mem location => identity operator"
   ]
  },
  {
   "cell_type": "code",
   "execution_count": null,
   "metadata": {},
   "outputs": [],
   "source": [
    "// => floor div\n",
    "/ => True div"
   ]
  },
  {
   "cell_type": "code",
   "execution_count": null,
   "metadata": {},
   "outputs": [],
   "source": [
    " True/False:\n",
    "        comparison operator : >=,<=,==,!=,>,<\n",
    "        identity operator : is, is not\n",
    "        membership operator : in, not in\n",
    "        logical operator : not and or"
   ]
  },
  {
   "cell_type": "code",
   "execution_count": 3,
   "metadata": {},
   "outputs": [
    {
     "ename": "TypeError",
     "evalue": "argument of type 'int' is not iterable",
     "output_type": "error",
     "traceback": [
      "\u001b[0;31m---------------------------------------------------------------------------\u001b[0m",
      "\u001b[0;31mTypeError\u001b[0m                                 Traceback (most recent call last)",
      "\u001b[0;32m<ipython-input-3-3c88053b5764>\u001b[0m in \u001b[0;36m<module>\u001b[0;34m\u001b[0m\n\u001b[0;32m----> 1\u001b[0;31m \u001b[0mprint\u001b[0m\u001b[0;34m(\u001b[0m\u001b[0;36m5\u001b[0m \u001b[0;32min\u001b[0m \u001b[0;36m500\u001b[0m\u001b[0;34m)\u001b[0m\u001b[0;34m\u001b[0m\u001b[0;34m\u001b[0m\u001b[0m\n\u001b[0m",
      "\u001b[0;31mTypeError\u001b[0m: argument of type 'int' is not iterable"
     ]
    }
   ],
   "source": [
    "print(5 in 500)"
   ]
  },
  {
   "cell_type": "code",
   "execution_count": 4,
   "metadata": {},
   "outputs": [
    {
     "name": "stdout",
     "output_type": "stream",
     "text": [
      "True\n"
     ]
    }
   ],
   "source": [
    "print(\"a\" in \"aeiou\")"
   ]
  },
  {
   "cell_type": "code",
   "execution_count": null,
   "metadata": {},
   "outputs": [],
   "source": [
    "Iterable datatypes:\n",
    "    str => chars\n",
    "    list => elements\n",
    "    tuple => elements\n",
    "    dict => keys\n",
    "    set => elements\n",
    "fp: lines (\\n)\n",
    "Not Iterables datatypes:\n",
    "    int\n",
    "    float"
   ]
  },
  {
   "cell_type": "code",
   "execution_count": null,
   "metadata": {},
   "outputs": [],
   "source": [
    "print(5 in d)"
   ]
  },
  {
   "cell_type": "code",
   "execution_count": 5,
   "metadata": {},
   "outputs": [
    {
     "name": "stdout",
     "output_type": "stream",
     "text": [
      "[1, 2, 3]\n"
     ]
    }
   ],
   "source": [
    "l = [1,2,3]\n",
    "if [100,200,300]:\n",
    "    print(l)\n",
    "else:\n",
    "    print(\"Python\")"
   ]
  },
  {
   "cell_type": "code",
   "execution_count": null,
   "metadata": {},
   "outputs": [],
   "source": [
    "Python : Zero and Non-zero value\n",
    "zero = \" \" [] {} () False None"
   ]
  },
  {
   "cell_type": "code",
   "execution_count": null,
   "metadata": {},
   "outputs": [],
   "source": [
    "Iterating index and values in list : Enumerate "
   ]
  },
  {
   "cell_type": "code",
   "execution_count": 7,
   "metadata": {},
   "outputs": [
    {
     "name": "stdout",
     "output_type": "stream",
     "text": [
      "(0, 10)\n",
      "(1, 20)\n",
      "(2, 30)\n",
      "(3, 40)\n",
      "(4, 50)\n",
      "0 10\n",
      "1 20\n",
      "2 30\n",
      "3 40\n",
      "4 50\n"
     ]
    }
   ],
   "source": [
    "l = [10,20,30,40,50]\n",
    "for x in enumerate(l):\n",
    "    print(x)\n",
    "#Iterating using single variable the enumerate will give index,value in \n",
    "#a tuple\n",
    "for index,value in enumerate(l):\n",
    "    print(index,value)"
   ]
  },
  {
   "cell_type": "code",
   "execution_count": 10,
   "metadata": {},
   "outputs": [
    {
     "name": "stdout",
     "output_type": "stream",
     "text": [
      "<class 'tuple'> (100, 200)\n",
      "<class 'int'> 100\n"
     ]
    }
   ],
   "source": [
    "x = 100,200\n",
    "print(type(x),x)\n",
    "x,y = 100,200\n",
    "print(type(x),x)\n"
   ]
  },
  {
   "cell_type": "code",
   "execution_count": 11,
   "metadata": {},
   "outputs": [
    {
     "name": "stdout",
     "output_type": "stream",
     "text": [
      "200 100\n"
     ]
    }
   ],
   "source": [
    "#swap in Python\n",
    "num1,num2 = 100,200\n",
    "num1,num2 = num2,num1\n",
    "print(num1,num2)"
   ]
  },
  {
   "cell_type": "code",
   "execution_count": null,
   "metadata": {},
   "outputs": [],
   "source": [
    "for user_var in [iterable datatype]:\n",
    "    print(user_var)\n",
    "else:\n",
    "    print(\"after completing it will come here\")\n",
    "    "
   ]
  },
  {
   "cell_type": "code",
   "execution_count": null,
   "metadata": {},
   "outputs": [],
   "source": [
    "str:\n",
    "    count\n",
    "    len\n",
    "    \n",
    "    split\n",
    "    join\n",
    "    \n",
    "    replace\n",
    "    upper\n",
    "    lower\n",
    "    title\n",
    "    \n",
    "    isalpha\n",
    "    isnum\n",
    "    isdigit\n",
    "    istitle\n",
    "    \n",
    "    find\n",
    "    count\n",
    "    index\n",
    "    \n",
    "    center\n",
    "    ljust\n",
    "    rjust\n",
    "    \n",
    "    strip\n",
    "    lstrip\n",
    "    rstip\n",
    "    \n",
    "    format\n",
    "    \n",
    "    dir(str)\n",
    "    help(str)\n",
    "    help(str.find)"
   ]
  },
  {
   "cell_type": "code",
   "execution_count": null,
   "metadata": {},
   "outputs": [],
   "source": [
    "split str => list\n",
    "join  list => str"
   ]
  },
  {
   "cell_type": "code",
   "execution_count": 1,
   "metadata": {},
   "outputs": [
    {
     "name": "stdout",
     "output_type": "stream",
     "text": [
      "['Python Java C']\n"
     ]
    }
   ],
   "source": [
    "s =\"Python Java C\"\n",
    "l = s.split(\",\")\n",
    "print(l)"
   ]
  },
  {
   "cell_type": "code",
   "execution_count": 2,
   "metadata": {},
   "outputs": [
    {
     "name": "stdout",
     "output_type": "stream",
     "text": [
      "200 100 \n"
     ]
    }
   ],
   "source": [
    "num1 = 100\n",
    "num2 = 200\n",
    "\n",
    "s = \"{n1} {n2} \".format(n2 = num1,n1 = num2)\n",
    "print(s)"
   ]
  },
  {
   "cell_type": "code",
   "execution_count": null,
   "metadata": {},
   "outputs": [],
   "source": [
    "isalnum \"a 999 bdgdd\" if we add space the its not a alnum"
   ]
  },
  {
   "cell_type": "code",
   "execution_count": 3,
   "metadata": {},
   "outputs": [
    {
     "name": "stdout",
     "output_type": "stream",
     "text": [
      "97\n",
      "a\n"
     ]
    }
   ],
   "source": [
    "print(ord('a'))\n",
    "print(chr(97))"
   ]
  },
  {
   "cell_type": "code",
   "execution_count": null,
   "metadata": {},
   "outputs": [],
   "source": [
    "start\n",
    "end\n",
    "stride => left to right index left to right"
   ]
  },
  {
   "cell_type": "code",
   "execution_count": 9,
   "metadata": {},
   "outputs": [
    {
     "name": "stdout",
     "output_type": "stream",
     "text": [
      "! how are yo\n"
     ]
    }
   ],
   "source": [
    "s = \"hello! how are you\"\n",
    "#print(s[1:6:-1])\n",
    "print(s[5:-1])"
   ]
  },
  {
   "cell_type": "code",
   "execution_count": 12,
   "metadata": {},
   "outputs": [
    {
     "name": "stdout",
     "output_type": "stream",
     "text": [
      "uoy era woh !olleh\n"
     ]
    }
   ],
   "source": [
    "s = \"hello! how are you\"\n",
    "print(s[::-1])"
   ]
  },
  {
   "cell_type": "code",
   "execution_count": null,
   "metadata": {},
   "outputs": [],
   "source": [
    "List:\n",
    "    add:\n",
    "        append([\"Python\",\"Java\"]) it will append the list entirely to lst\n",
    "        extend([]\"Python\",\"Java\"]) it will append elements sep in the lst\n",
    "        insert(index,value)\n",
    "        \n",
    "    Update:\n",
    "        l[index] = new_value\n",
    "        \n",
    "    delete:\n",
    "        pop => index if not it will pop last element in the list\n",
    "        remove => value\n",
    "        clear => empty list\n",
    "        del => del ref"
   ]
  },
  {
   "cell_type": "code",
   "execution_count": 13,
   "metadata": {},
   "outputs": [
    {
     "name": "stdout",
     "output_type": "stream",
     "text": [
      "200\n"
     ]
    }
   ],
   "source": [
    "l = [10,20,30,40,[100,200,300]]\n",
    "print(l[-1][1])\n",
    "print(l[-1][100]) out of range"
   ]
  },
  {
   "cell_type": "code",
   "execution_count": 16,
   "metadata": {},
   "outputs": [
    {
     "name": "stdout",
     "output_type": "stream",
     "text": [
      "200\n",
      "300\n",
      "400\n",
      "500\n"
     ]
    }
   ],
   "source": [
    "l = [100,200,300,400,500,600]\n",
    "for value in l[1:-1]:\n",
    "    print(value)"
   ]
  },
  {
   "cell_type": "code",
   "execution_count": 18,
   "metadata": {},
   "outputs": [
    {
     "name": "stdout",
     "output_type": "stream",
     "text": [
      "4484551296 4484551296\n",
      "4484551296 4484547840\n"
     ]
    }
   ],
   "source": [
    "l1 = [10,20,30]\n",
    "l2 = l1\n",
    "print(id(l1),id(l2))\n",
    "\n",
    "# To avoid assign with memory loc we have to use copy\n",
    "# l2 = l2 fast because we only assign new var to same mem loc\n",
    "#l2 = l1.copy() slow because we create new mem loc and assign var \n",
    "#which copies lst.\n",
    "\n",
    "l2 = l1.copy()\n",
    "print(id(l1),id(l2))\n"
   ]
  },
  {
   "cell_type": "code",
   "execution_count": 23,
   "metadata": {},
   "outputs": [
    {
     "name": "stdout",
     "output_type": "stream",
     "text": [
      "(10, 20, 30, 40)\n",
      "[10, 20, 30, 40]\n",
      "[\n"
     ]
    }
   ],
   "source": [
    "l = [10,20,30,40]\n",
    "print(tuple(l))\n",
    "print(str(l))\n",
    "print(str(l)[0])"
   ]
  },
  {
   "cell_type": "code",
   "execution_count": null,
   "metadata": {},
   "outputs": [],
   "source": [
    "dict :\n",
    "    Mutable => add ,update,delete\n",
    "    unordered => not support indexing and slicing\n",
    "    keys should be unique\n",
    "    keys should be immutable : int str  float\n",
    "        "
   ]
  },
  {
   "cell_type": "code",
   "execution_count": 25,
   "metadata": {},
   "outputs": [
    {
     "name": "stdout",
     "output_type": "stream",
     "text": [
      "{1: 1, 2: 2, 3: 3, 4: 4, 5: 5, 6: 6}\n"
     ]
    }
   ],
   "source": [
    "d = {1:1,2:2,3:3,4:4}\n",
    "d[5] = 5\n",
    "d.setdefault(6,6)\n",
    "print(d)"
   ]
  },
  {
   "cell_type": "code",
   "execution_count": 27,
   "metadata": {},
   "outputs": [
    {
     "name": "stdout",
     "output_type": "stream",
     "text": [
      "4\n",
      "{1: 1, 2: 2, 3: 3, 4: 4}\n"
     ]
    }
   ],
   "source": [
    "d = {1:1,2:2,3:3,4:4}\n",
    "print(d.setdefault(4,16)) # if key not present it will return new value if present return old value\n",
    "\n",
    "print(d)"
   ]
  },
  {
   "cell_type": "code",
   "execution_count": null,
   "metadata": {},
   "outputs": [],
   "source": [
    "keys()\n",
    "values()\n",
    "items() => key,val\n"
   ]
  },
  {
   "cell_type": "code",
   "execution_count": 28,
   "metadata": {},
   "outputs": [
    {
     "name": "stdout",
     "output_type": "stream",
     "text": [
      "{1: 1, 2: 4, 3: 9}\n"
     ]
    }
   ],
   "source": [
    "l1 = [1,2,3]\n",
    "l2 = [1,4,9]\n",
    "d = dict(zip(l1,l2))\n",
    "print(d)"
   ]
  },
  {
   "cell_type": "code",
   "execution_count": 31,
   "metadata": {},
   "outputs": [
    {
     "name": "stdout",
     "output_type": "stream",
     "text": [
      "{40, 10, 20, 30}\n"
     ]
    }
   ],
   "source": [
    "l = [10,20,30,40]\n",
    "#print(dict(l))\n",
    "print(set(l))"
   ]
  },
  {
   "cell_type": "code",
   "execution_count": 32,
   "metadata": {},
   "outputs": [
    {
     "name": "stdout",
     "output_type": "stream",
     "text": [
      "{1, 2}\n"
     ]
    }
   ],
   "source": [
    "d = {1:1,2:4}\n",
    "print(set(d))"
   ]
  },
  {
   "cell_type": "code",
   "execution_count": 33,
   "metadata": {},
   "outputs": [
    {
     "name": "stdout",
     "output_type": "stream",
     "text": [
      "<class 'dict'>\n"
     ]
    }
   ],
   "source": [
    "d = {}\n",
    "print(type(d))"
   ]
  },
  {
   "cell_type": "code",
   "execution_count": 34,
   "metadata": {},
   "outputs": [
    {
     "name": "stdout",
     "output_type": "stream",
     "text": [
      "<class 'set'>\n"
     ]
    }
   ],
   "source": [
    "d = set()\n",
    "print(type(d))"
   ]
  },
  {
   "cell_type": "code",
   "execution_count": null,
   "metadata": {},
   "outputs": [],
   "source": [
    "Sets:\n",
    "    Mutable => add update delete\n",
    "    Uordered\n",
    "    element shoulde unique\n",
    "    all the elements should be immutable\n",
    "    \n",
    "    delete\n",
    "    discard(40)\n",
    "    remove(40) \n",
    "    both doesnt return anything if value present discard"
   ]
  },
  {
   "cell_type": "code",
   "execution_count": null,
   "metadata": {},
   "outputs": [],
   "source": [
    "Union\n",
    "Intersection\n",
    "s1 difference s2\n",
    "symmetric diff\n",
    "\n",
    "issubset\n",
    "issuperset\n"
   ]
  },
  {
   "cell_type": "code",
   "execution_count": null,
   "metadata": {},
   "outputs": [],
   "source": [
    "dict:\n",
    "    delete:\n",
    "        popitem returns key,value as tuple\n",
    "        pop return(\"key\")\n",
    "        clear\n",
    "        remove\n",
    "        del"
   ]
  },
  {
   "cell_type": "code",
   "execution_count": 36,
   "metadata": {},
   "outputs": [
    {
     "name": "stdout",
     "output_type": "stream",
     "text": [
      "PythonPython\n"
     ]
    }
   ],
   "source": [
    "print(\"Python\" * 2)\n",
    "    "
   ]
  },
  {
   "cell_type": "code",
   "execution_count": 39,
   "metadata": {},
   "outputs": [],
   "source": [
    "def func_name(*args):\n",
    "    pass\n",
    "\n",
    "func_name(10,20)"
   ]
  },
  {
   "cell_type": "code",
   "execution_count": null,
   "metadata": {},
   "outputs": [],
   "source": [
    "1. Positional => sequential\n",
    "2. Default => def num1 = 0\n",
    "3. Keyword => call args in func by name\n",
    "4. Var positional =>  *args => datatype tuple\n",
    "5. Var keyword => **kwargs => datatype dict"
   ]
  },
  {
   "cell_type": "code",
   "execution_count": 42,
   "metadata": {},
   "outputs": [
    {
     "ename": "SyntaxError",
     "evalue": "invalid syntax (<ipython-input-42-34ec1d661cb0>, line 1)",
     "output_type": "error",
     "traceback": [
      "\u001b[0;36m  File \u001b[0;32m\"<ipython-input-42-34ec1d661cb0>\"\u001b[0;36m, line \u001b[0;32m1\u001b[0m\n\u001b[0;31m    def add(num1 = 10,num2,num3 , **kwargs, *args):\u001b[0m\n\u001b[0m                                            ^\u001b[0m\n\u001b[0;31mSyntaxError\u001b[0m\u001b[0;31m:\u001b[0m invalid syntax\n"
     ]
    }
   ],
   "source": [
    "def add(num1 = 10,num2,num3 , **kwargs, *args):"
   ]
  },
  {
   "cell_type": "code",
   "execution_count": null,
   "metadata": {},
   "outputs": [],
   "source": [
    "positional\n",
    "default\n",
    "var positional\n",
    "var keyword"
   ]
  },
  {
   "cell_type": "code",
   "execution_count": null,
   "metadata": {},
   "outputs": [],
   "source": [
    "import pkg1.pkg2.mod # folder pkg1 then pkg2 and file mod\n",
    "pkg1.pkg2mod.add(10,20)"
   ]
  },
  {
   "cell_type": "code",
   "execution_count": null,
   "metadata": {},
   "outputs": [],
   "source": [
    "from pkg1.pkg2 import mod\n",
    "mod.add(10,20)\n",
    "\n",
    "from pkg1.pkg2,mod import add\n",
    "add(10,20)"
   ]
  },
  {
   "cell_type": "code",
   "execution_count": null,
   "metadata": {},
   "outputs": [],
   "source": [
    "fp = open(\"filename\",\"mode\")"
   ]
  },
  {
   "cell_type": "code",
   "execution_count": null,
   "metadata": {},
   "outputs": [],
   "source": [
    "r : start, read, error\n",
    "r+: start,read + write , error\n",
    "\n",
    "w : start, write,create\n",
    "w+: start, write +read, create file\n",
    "\n",
    "a : end of the file, write at the end, create\n",
    "a+ : end of the file, write at the end, create\n"
   ]
  },
  {
   "cell_type": "code",
   "execution_count": null,
   "metadata": {},
   "outputs": [],
   "source": [
    "r+\n",
    "w+"
   ]
  },
  {
   "cell_type": "code",
   "execution_count": null,
   "metadata": {},
   "outputs": [],
   "source": [
    "fp pos\n",
    "tell()\n",
    "\n",
    "move fp\n",
    "seek(offset,position)\n",
    "\n",
    "offset\n",
    "0 : start of the file\n",
    "1 : current position\n",
    "2 : end of the file\n",
    "    \n",
    "    seek(100,0) seek only work for start of the file\n"
   ]
  },
  {
   "cell_type": "code",
   "execution_count": null,
   "metadata": {},
   "outputs": [],
   "source": [
    "regx :\n",
    "    metchar of regx\n",
    "    \n",
    "    (.) single occurence, any char\n",
    "    [a-z] : single\n",
    "    [0-9] :single\n",
    "    (+): Atleast one or more\n",
    "    (*): zero or more\n",
    "    (?) : Optional\n",
    "    (^): start of the \n",
    "    ($) : end of the\n",
    "    [^a-z]: except (compliment)\n",
    "    ^[a-z]:start from \n",
    "        \n",
    "    \\w : [a-zA-Z0-9]\n",
    "    \\W : [^a-zA-Z0-9]\n",
    "    \n",
    "    \\s :blank spaces\n",
    "    \\S\n",
    "    \n",
    "    \\d : digits\n",
    "    \\D :\n",
    "        "
   ]
  },
  {
   "cell_type": "code",
   "execution_count": 66,
   "metadata": {},
   "outputs": [],
   "source": [
    "import re"
   ]
  },
  {
   "cell_type": "code",
   "execution_count": null,
   "metadata": {},
   "outputs": [],
   "source": [
    "re.compile\n",
    "re.findall(r,s) => return list\n",
    "re.search => return (match object) => group func match.group()"
   ]
  },
  {
   "cell_type": "code",
   "execution_count": 68,
   "metadata": {},
   "outputs": [
    {
     "name": "stdout",
     "output_type": "stream",
     "text": [
      "12-12-2019\n"
     ]
    }
   ],
   "source": [
    "s =\"12-12-2019\"\n",
    "\n",
    "r = re.compile(\"(?P<day>[0-9)]{2})-(?P<month>[0-9]{2})-(?P<year>[0-9]{4})\")\n",
    "m = re.search(r,s)\n",
    "print(m.group())"
   ]
  },
  {
   "cell_type": "code",
   "execution_count": 65,
   "metadata": {},
   "outputs": [
    {
     "name": "stdout",
     "output_type": "stream",
     "text": [
      "[900]\n"
     ]
    }
   ],
   "source": [
    "l = [10,2,30,40,50]\n",
    "l2 = [value * value for value in l if value % 3 == 0]\n",
    "print(l2)"
   ]
  },
  {
   "cell_type": "code",
   "execution_count": null,
   "metadata": {},
   "outputs": [],
   "source": [
    "map\n",
    "filter"
   ]
  },
  {
   "cell_type": "code",
   "execution_count": null,
   "metadata": {},
   "outputs": [],
   "source": [
    "map(func,iterable,iterable2)"
   ]
  },
  {
   "cell_type": "code",
   "execution_count": 56,
   "metadata": {},
   "outputs": [
    {
     "name": "stdout",
     "output_type": "stream",
     "text": [
      "[101, 202, 303, 404]\n"
     ]
    }
   ],
   "source": [
    "def add(num1,num2):\n",
    "    return num1 + num2\n",
    "l1 = [1,2,3,4]\n",
    "l2 = [100,200,300,400]\n",
    "\n",
    "map(add,l1,l2)\n",
    "print(list(map(add,l1,l2)))"
   ]
  },
  {
   "cell_type": "code",
   "execution_count": 57,
   "metadata": {},
   "outputs": [
    {
     "name": "stdout",
     "output_type": "stream",
     "text": [
      "[101, 202, 303, 404]\n"
     ]
    }
   ],
   "source": [
    "l1 = [1,2,3,4]\n",
    "l2 = [100,200,300,400]\n",
    "\n",
    "map(add,l1,l2)\n",
    "print(list(map(lambda num1,num2:num1 + num2 ,l1,l2)))"
   ]
  },
  {
   "cell_type": "code",
   "execution_count": 59,
   "metadata": {},
   "outputs": [
    {
     "name": "stdout",
     "output_type": "stream",
     "text": [
      "[10, 30, 40, 100]\n"
     ]
    }
   ],
   "source": [
    "l = [10,25,30,35,40,45,100]\n",
    "l2 = [value for value in l if value % 2 == 0]\n",
    "print(l2)"
   ]
  },
  {
   "cell_type": "code",
   "execution_count": 62,
   "metadata": {},
   "outputs": [
    {
     "name": "stdout",
     "output_type": "stream",
     "text": [
      "[10, 30, 40, 100]\n"
     ]
    }
   ],
   "source": [
    "l = [10,25,30,35,40,45,100]\n",
    "f = filter(lambda num1: num1% 2 == 0,l)\n",
    "print(list(f))"
   ]
  },
  {
   "cell_type": "code",
   "execution_count": null,
   "metadata": {},
   "outputs": [],
   "source": []
  }
 ],
 "metadata": {
  "kernelspec": {
   "display_name": "Python 3",
   "language": "python",
   "name": "python3"
  },
  "language_info": {
   "codemirror_mode": {
    "name": "ipython",
    "version": 3
   },
   "file_extension": ".py",
   "mimetype": "text/x-python",
   "name": "python",
   "nbconvert_exporter": "python",
   "pygments_lexer": "ipython3",
   "version": "3.7.4"
  }
 },
 "nbformat": 4,
 "nbformat_minor": 2
}
