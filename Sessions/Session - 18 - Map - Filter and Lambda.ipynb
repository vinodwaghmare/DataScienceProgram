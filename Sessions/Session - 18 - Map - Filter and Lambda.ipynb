{
 "cells": [
  {
   "cell_type": "code",
   "execution_count": null,
   "metadata": {},
   "outputs": [],
   "source": [
    "List Comprehension"
   ]
  },
  {
   "cell_type": "code",
   "execution_count": null,
   "metadata": {},
   "outputs": [],
   "source": [
    "l = [expression for var in iterable_datatype filtering condition]\n",
    "\n",
    "\"output1\" if condition else \"output2\""
   ]
  },
  {
   "cell_type": "code",
   "execution_count": null,
   "metadata": {},
   "outputs": [],
   "source": [
    "map,filter and lambda"
   ]
  },
  {
   "cell_type": "code",
   "execution_count": null,
   "metadata": {},
   "outputs": [],
   "source": [
    "map(func obj,iterable dataype)"
   ]
  },
  {
   "cell_type": "code",
   "execution_count": 1,
   "metadata": {},
   "outputs": [
    {
     "name": "stdout",
     "output_type": "stream",
     "text": [
      "[100, 400, 900, 1600, 2500, 3600]\n"
     ]
    }
   ],
   "source": [
    "l = [10,20,30,40,50,60]\n",
    "l2 = [value*value for value in l]\n",
    "print(l2)"
   ]
  },
  {
   "cell_type": "code",
   "execution_count": 9,
   "metadata": {},
   "outputs": [
    {
     "name": "stdout",
     "output_type": "stream",
     "text": [
      "[100, 400, 900, 1600, 2500, 3600]\n",
      "0.0002185289999943052\n"
     ]
    }
   ],
   "source": [
    "import timeit\n",
    "t =timeit.timeit( stmt =\"\"\"def sqr(num1):\n",
    "    return num1 * num1\n",
    "\n",
    "l = [10,20,30,40,50,60] \n",
    "r = map(sqr, l)\n",
    "print(list(r))\"\"\",number = 1)\n",
    "print(t)\n"
   ]
  },
  {
   "cell_type": "code",
   "execution_count": 11,
   "metadata": {},
   "outputs": [
    {
     "name": "stdout",
     "output_type": "stream",
     "text": [
      "<map object at 0x10cdf9a10>\n",
      "100\n",
      "400\n"
     ]
    }
   ],
   "source": [
    "def sqr(num1):\n",
    "    return num1 * num1\n",
    "\n",
    "l = [10,20,30,40,50,60] \n",
    "r = map(sqr, l)\n",
    "print(r)\n",
    "print(next(r))\n",
    "print(next(r))"
   ]
  },
  {
   "cell_type": "code",
   "execution_count": 13,
   "metadata": {},
   "outputs": [
    {
     "name": "stdout",
     "output_type": "stream",
     "text": [
      "4.548000106296968e-06\n",
      "2500\n",
      "3600\n"
     ]
    }
   ],
   "source": [
    "import timeit\n",
    "t = timeit.timeit(stmt =\"\"\"\n",
    "def sqr(num1):\n",
    "    return num1 * num1\n",
    "\n",
    "l = [10,20,30,40,50,60] \n",
    "r = map(sqr, l)\n",
    "t = list(r)\n",
    "\"\"\",number = 1)\n",
    "print(t)\n",
    "# print(next(r)) # o/p for next element through mapping.\n",
    "# print(next(r))"
   ]
  },
  {
   "cell_type": "code",
   "execution_count": 16,
   "metadata": {},
   "outputs": [
    {
     "name": "stdout",
     "output_type": "stream",
     "text": [
      "100\n",
      "400\n",
      "900\n",
      "1600\n",
      "2500\n",
      "3600\n",
      "<map object at 0x10cdbdad0>\n"
     ]
    }
   ],
   "source": [
    "def sqr(num1):\n",
    "    return num1 * num1\n",
    "\n",
    "l = [10,20,30,40,50,60] \n",
    "r = map(sqr, l)\n",
    "# print(r)\n",
    "# print(next(r))\n",
    "# print(next(r))\n",
    "\n",
    "for value in r:\n",
    "    print(value)\n"
   ]
  },
  {
   "cell_type": "code",
   "execution_count": 17,
   "metadata": {},
   "outputs": [
    {
     "name": "stdout",
     "output_type": "stream",
     "text": [
      "[4, 5, 8, 8]\n"
     ]
    }
   ],
   "source": [
    "l = ['abcd','erere','yrwrrqwf','tsrrrsrs']\n",
    "m = map(len,l)\n",
    "print(list(m)) # for o/p typecast map to the list"
   ]
  },
  {
   "cell_type": "code",
   "execution_count": 18,
   "metadata": {},
   "outputs": [
    {
     "name": "stdout",
     "output_type": "stream",
     "text": [
      "[111, 222, 333]\n"
     ]
    }
   ],
   "source": [
    "def add(num1,num2,num3): # input in positional parameter . \n",
    "    return num1 + num2 + num3\n",
    "l1 = [10,20,30]\n",
    "l2 = [1,2,3]\n",
    "l3 = [100,200,300]\n",
    "\n",
    "m = map(add,l1,l2,l3) # Passing func as a argument \n",
    "print(list(m))"
   ]
  },
  {
   "cell_type": "code",
   "execution_count": null,
   "metadata": {},
   "outputs": [],
   "source": [
    "filter "
   ]
  },
  {
   "cell_type": "code",
   "execution_count": 24,
   "metadata": {},
   "outputs": [
    {
     "name": "stdout",
     "output_type": "stream",
     "text": [
      "[10, 20, 30, 40]\n"
     ]
    }
   ],
   "source": [
    "def even(num1):\n",
    "    if num1 % 2 == 0:\n",
    "        return True\n",
    "    else:\n",
    "        return False\n",
    "\n",
    "l = [10,20,25,30,35,40,45]\n",
    "f  = filter(even,l) #Takes func and iterable datatype as a arqument \n",
    "print(list(f))"
   ]
  },
  {
   "cell_type": "code",
   "execution_count": 25,
   "metadata": {},
   "outputs": [
    {
     "name": "stdout",
     "output_type": "stream",
     "text": [
      "[True, True, False, True, False, True, False]\n"
     ]
    }
   ],
   "source": [
    "def even(num1):\n",
    "    if num1 % 2 == 0:\n",
    "        return True\n",
    "    else:\n",
    "        return False\n",
    "\n",
    "l = [10,20,25,30,35,40,45]\n",
    "f  = map(even,l) #Takes func and iterable datatype as a arqument \n",
    "print(list(f))"
   ]
  },
  {
   "cell_type": "code",
   "execution_count": 31,
   "metadata": {},
   "outputs": [
    {
     "name": "stdout",
     "output_type": "stream",
     "text": [
      "['ad', 'ps', 'xx', 'rr']\n"
     ]
    }
   ],
   "source": [
    "def  get_char(value):\n",
    "    return value[0]+value[-1]\n",
    "\n",
    "\n",
    "l = ['abcd','pqrs','xyzx','rrrr']\n",
    "m = map(get_char,l)\n",
    "print(list(m))\n",
    "\n"
   ]
  },
  {
   "cell_type": "code",
   "execution_count": 39,
   "metadata": {},
   "outputs": [
    {
     "name": "stdout",
     "output_type": "stream",
     "text": [
      "[True, False, True, False, False, False]\n"
     ]
    }
   ],
   "source": [
    "def perfect_no(value):\n",
    "    sum1 = 0\n",
    "    for i in range(1,value):\n",
    "        if value % i == 0:\n",
    "            sum1 += i\n",
    "    if sum1 == value:\n",
    "        return True\n",
    "    else:\n",
    "        return False\n",
    "\n",
    "l = [6,45,28,12,35,89]\n",
    "m = map(perfect_no,l)\n",
    "print(list(m))"
   ]
  },
  {
   "cell_type": "code",
   "execution_count": 40,
   "metadata": {},
   "outputs": [
    {
     "name": "stdout",
     "output_type": "stream",
     "text": [
      "[6, 28]\n"
     ]
    }
   ],
   "source": [
    "def perfect(value):\n",
    "    sum1 = 0\n",
    "    for i in range(1,value//2 + 1):\n",
    "        if value % i == 0:\n",
    "            sum1 += i\n",
    "    if sum1 == value:\n",
    "        return True\n",
    "    else:\n",
    "        return False\n",
    "\n",
    "l = [6,45,28,12,35,89]\n",
    "m = filter(perfect,l)\n",
    "print(list(m))"
   ]
  },
  {
   "cell_type": "code",
   "execution_count": null,
   "metadata": {},
   "outputs": [],
   "source": [
    "lambda func : single line anonymous functions."
   ]
  },
  {
   "cell_type": "code",
   "execution_count": null,
   "metadata": {},
   "outputs": [],
   "source": [
    "def add()\n",
    "\n",
    "add()"
   ]
  },
  {
   "cell_type": "code",
   "execution_count": null,
   "metadata": {},
   "outputs": [],
   "source": [
    "lambda arg1,arg2,arg3:single expression"
   ]
  },
  {
   "cell_type": "code",
   "execution_count": 41,
   "metadata": {},
   "outputs": [
    {
     "name": "stdout",
     "output_type": "stream",
     "text": [
      "[100, 400, 900, 1600, 2500, 3600]\n"
     ]
    }
   ],
   "source": [
    "l = [10,20,30,40,50,60]\n",
    "r = map(lambda num1: num1 * num1 ,l)\n",
    "print(list(r))\n"
   ]
  },
  {
   "cell_type": "code",
   "execution_count": 42,
   "metadata": {},
   "outputs": [
    {
     "name": "stdout",
     "output_type": "stream",
     "text": [
      "[111, 222, 333]\n"
     ]
    }
   ],
   "source": [
    "l1 = [1,2,3]\n",
    "l2 = [100,200,300]\n",
    "l3 = [10,20,30]\n",
    "r = map(lambda num1,num2,num3: num1 + num2 + num3,l1,l2,l3)\n",
    "print(list(r))\n"
   ]
  },
  {
   "cell_type": "code",
   "execution_count": 44,
   "metadata": {},
   "outputs": [
    {
     "name": "stdout",
     "output_type": "stream",
     "text": [
      "['ad', 'ps', 'xx', 'rr']\n"
     ]
    }
   ],
   "source": [
    "l = ['abcd','pqrs','xyzx','rrrr']\n",
    "m = map(lambda value : value[0]+value[-1] ,l)\n",
    "print(list(m))\n",
    "\n"
   ]
  },
  {
   "cell_type": "code",
   "execution_count": 47,
   "metadata": {},
   "outputs": [
    {
     "name": "stdout",
     "output_type": "stream",
     "text": [
      "[10, 20, 30, 40]\n"
     ]
    }
   ],
   "source": [
    "def even(num1):\n",
    "    if num1 % 2 == 0:\n",
    "        return True\n",
    "    else:\n",
    "        return False\n",
    "\n",
    "l = [10,20,25,30,35,40,45]\n",
    "f  = filter(lambda num1: num1 % 2 == 0,l) #Takes func and iterable datatype as a arqument \n",
    "print(list(f))"
   ]
  },
  {
   "cell_type": "code",
   "execution_count": 48,
   "metadata": {},
   "outputs": [
    {
     "name": "stdout",
     "output_type": "stream",
     "text": [
      "True\n"
     ]
    }
   ],
   "source": [
    "char = \"a\"\n",
    "f = lambda value: value in \"aeiou\"\n",
    "print(f(char))"
   ]
  },
  {
   "cell_type": "code",
   "execution_count": 57,
   "metadata": {},
   "outputs": [
    {
     "name": "stdout",
     "output_type": "stream",
     "text": [
      "{50: 10, 40: 20, 30: 30, 20: 40, 10: 50}\n"
     ]
    }
   ],
   "source": [
    "\n",
    "d = {10:50,20:40,30:30,40:20,50:10}\n",
    "print(dict(sorted(d.items(),key = lambda t:t[1])))"
   ]
  },
  {
   "cell_type": "code",
   "execution_count": null,
   "metadata": {},
   "outputs": [],
   "source": [
    "r = map(func obj,iterable) => map obj\n",
    "\n",
    "1.list\n",
    "2.next\n",
    "3.for \n",
    "\n",
    "filter(func obj,iterable) => filter obj\n",
    "\n",
    "lambda arg1,arg2,arg3 :statements\n",
    "\n"
   ]
  },
  {
   "cell_type": "code",
   "execution_count": null,
   "metadata": {},
   "outputs": [],
   "source": [
    "perfect no. => lambda"
   ]
  }
 ],
 "metadata": {
  "kernelspec": {
   "display_name": "Python 3",
   "language": "python",
   "name": "python3"
  },
  "language_info": {
   "codemirror_mode": {
    "name": "ipython",
    "version": 3
   },
   "file_extension": ".py",
   "mimetype": "text/x-python",
   "name": "python",
   "nbconvert_exporter": "python",
   "pygments_lexer": "ipython3",
   "version": "3.7.4"
  }
 },
 "nbformat": 4,
 "nbformat_minor": 2
}
