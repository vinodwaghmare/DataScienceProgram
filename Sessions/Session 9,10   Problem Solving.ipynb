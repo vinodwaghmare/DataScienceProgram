{
 "cells": [
  {
   "cell_type": "code",
   "execution_count": 14,
   "metadata": {},
   "outputs": [
    {
     "name": "stdout",
     "output_type": "stream",
     "text": [
      "[1, 2, 3, 4, 5, 6, 7, 9, 10, 8]\n",
      "[8]\n"
     ]
    }
   ],
   "source": [
    "# Problem 1\n",
    "# Find the missing integer in given integer array from 1 to 10\n",
    "\n",
    "input_nums = [1,2,3,4,5,6,7,9,10]\n",
    "\n",
    "all_nums = list(range(1,11))\n",
    "missing_element = []\n",
    "for value in all_nums:\n",
    "    if value not in input_nums:\n",
    "        input_nums.append(value)\n",
    "        missing_element.append(value)\n",
    "        \n",
    "print(input_nums)\n",
    "print(missing_element)\n"
   ]
  },
  {
   "cell_type": "code",
   "execution_count": 11,
   "metadata": {},
   "outputs": [
    {
     "name": "stdout",
     "output_type": "stream",
     "text": [
      "Help on method_descriptor:\n",
      "\n",
      "sort(self, /, *, key=None, reverse=False)\n",
      "    Stable sort *IN PLACE*.\n",
      "\n"
     ]
    }
   ],
   "source": [
    "help(list.sort)"
   ]
  },
  {
   "cell_type": "code",
   "execution_count": 15,
   "metadata": {},
   "outputs": [
    {
     "name": "stdout",
     "output_type": "stream",
     "text": [
      "eqi element present is at index 3 and value 4\n"
     ]
    }
   ],
   "source": [
    "# Problem 2\n",
    "#Find an element in array such that sum of left array is equal to sum of right array\n",
    "\n",
    "\n",
    "# 1. [1] 2 [3 4 5 1]\n",
    "#    [1 2] 3 [ 4 5 1]\n",
    "#    [1 2 3] 4 [5 1] 4 is an integer where (sum of left array === sum of right array)\n",
    "\n",
    "\n",
    "\n",
    "l = [1,2,3,4,5,1]\n",
    "\n",
    "for index in l[1:]:\n",
    "    if sum(l[:index]) == sum(l[index +1:]):\n",
    "        print(\"eqi element present is at index {} and value {}\".format(index,l[index]))\n",
    "        break        \n"
   ]
  },
  {
   "cell_type": "code",
   "execution_count": 38,
   "metadata": {},
   "outputs": [
    {
     "name": "stdout",
     "output_type": "stream",
     "text": [
      "Incorrect string for shuffle \n"
     ]
    }
   ],
   "source": [
    "# # Problem 3\n",
    "# #Check the string s1 and s2 are valid shuffle in s3 \n",
    "# # eg:- s1 ='abc',s2 ='def'  s3 ='dabcef'\n",
    "\n",
    "# 1. s1 ='abc',s2 ='def',s3 ='dabecf'\n",
    "# 2. s1_pointer = s2_pointer = 0\n",
    "# 3. Compare s1 and s2 pointer with starting value in s3 if starting value is present one of the pointer then increment \n",
    "# that pointer if other gets matched inc that pointer and simultaneously increase s3\n",
    "# 4. else not a valid shuffle \n",
    "\n",
    "s1 ='abc'\n",
    "s2 ='def'\n",
    "s3 ='dabecf'\n",
    "\n",
    "s1_pointer = s2_pointer = 0\n",
    "\n",
    "s3_index = 0\n",
    "if len(s3) == len(s1) + len(s2):\n",
    "    while s3_index < len(s3):\n",
    "        if s3[s3_index] in s1 and s1[s1_pointer] == s3[s3_index]:\n",
    "            s1_pointer += 1\n",
    "\n",
    "        elif s3[s3_index] in s2 and s2[s2_pointer] == s3[s3_index]:\n",
    "            s2_pointer += 1\n",
    "\n",
    "        else:\n",
    "            (\"Not a Valid Shuffle\")\n",
    "            break\n",
    "\n",
    "        s3_index += 1    \n",
    "    else:\n",
    "        print(\"Valid Shuffle\")\n",
    "        \n",
    "else:\n",
    "    print(\"Incorrect string for shuffle \")\n",
    "     "
   ]
  },
  {
   "cell_type": "code",
   "execution_count": 39,
   "metadata": {},
   "outputs": [
    {
     "name": "stdout",
     "output_type": "stream",
     "text": [
      "['ABCD', 'BCDA', 'CDAB', 'DABC']\n"
     ]
    }
   ],
   "source": [
    "# # Problem 4\n",
    "# Possible Rotation of 'ABCD' = ['ABCD','BCDA','CDAB','DABC']\n",
    "\n",
    "s = 'ABCD'\n",
    "l = []\n",
    "for i in range(len(s)):\n",
    "    s1 = s[i:] +s[:i]\n",
    "    l.append(s1)\n",
    "print(l)    \n",
    "    "
   ]
  },
  {
   "cell_type": "code",
   "execution_count": 5,
   "metadata": {},
   "outputs": [
    {
     "name": "stdout",
     "output_type": "stream",
     "text": [
      "Valid rotation\n"
     ]
    }
   ],
   "source": [
    "# Problem 5\n",
    "# Check whether s1 = 'DABC' is valid rotaion of s2 ='ABCD'\n",
    "\n",
    "s1 = 'ABCD'\n",
    "s2 = 'DABC'\n",
    "\n",
    "s2_pointer = 0\n",
    "s1_pointer = s1.find(s2[0])\n",
    "\n",
    "while s2_pointer < len(s2):\n",
    "    if s1[s1_pointer] == s2[s2_pointer]:\n",
    "        s2_pointer += 1\n",
    "        s1_pointer += 1\n",
    "        \n",
    "        if s1_pointer >= len(s1):\n",
    "            s1_pointer =s1_pointer - len(s1)\n",
    "        \n",
    "    else:\n",
    "        print(\"Not Valid rotation\")\n",
    "        break\n",
    "            \n",
    "else:\n",
    "    print(\"Valid rotation\")"
   ]
  },
  {
   "cell_type": "code",
   "execution_count": 68,
   "metadata": {},
   "outputs": [
    {
     "name": "stdout",
     "output_type": "stream",
     "text": [
      "[(1, 6), (2, 5), (3, 4), (4, 3), (5, 2), (6, 1)]\n"
     ]
    }
   ],
   "source": [
    "# # Problem 6\n",
    "# # Write a program to find all pairs whose sum is equal to 7\n",
    "# l =[1,2,3,4,5,6,7,8,9,10]\n",
    "\n",
    "# o/p =[(3,4),(4,3),(2,5),(5,2)]\n",
    "\n",
    "nums = [1,2,3,4,5,6,7,8,9,10]\n",
    "sum_seven = []\n",
    "for val1 in nums:\n",
    "    for val2 in nums:\n",
    "        if val1 + val2 == 7:\n",
    "            sum_seven.append((val1,val2))\n",
    "print(sum_seven)"
   ]
  },
  {
   "cell_type": "code",
   "execution_count": 12,
   "metadata": {},
   "outputs": [
    {
     "name": "stdout",
     "output_type": "stream",
     "text": [
      "Help on class zip in module builtins:\n",
      "\n",
      "class zip(object)\n",
      " |  zip(iter1 [,iter2 [...]]) --> zip object\n",
      " |  \n",
      " |  Return a zip object whose .__next__() method returns a tuple where\n",
      " |  the i-th element comes from the i-th iterable argument.  The .__next__()\n",
      " |  method continues until the shortest iterable in the argument sequence\n",
      " |  is exhausted and then it raises StopIteration.\n",
      " |  \n",
      " |  Methods defined here:\n",
      " |  \n",
      " |  __getattribute__(self, name, /)\n",
      " |      Return getattr(self, name).\n",
      " |  \n",
      " |  __iter__(self, /)\n",
      " |      Implement iter(self).\n",
      " |  \n",
      " |  __next__(self, /)\n",
      " |      Implement next(self).\n",
      " |  \n",
      " |  __reduce__(...)\n",
      " |      Return state information for pickling.\n",
      " |  \n",
      " |  ----------------------------------------------------------------------\n",
      " |  Static methods defined here:\n",
      " |  \n",
      " |  __new__(*args, **kwargs) from builtins.type\n",
      " |      Create and return a new object.  See help(type) for accurate signature.\n",
      "\n"
     ]
    }
   ],
   "source": [
    "help(zip)"
   ]
  },
  {
   "cell_type": "code",
   "execution_count": 69,
   "metadata": {},
   "outputs": [
    {
     "name": "stdout",
     "output_type": "stream",
     "text": [
      "['a', 'i', 'p', 'g', 's', 'q', 'i']\n",
      "d\n",
      "aipgsqi\n"
     ]
    }
   ],
   "source": [
    "# Problem 7\n",
    "# Rotate the character in the string by 4\n",
    "# for eg: s1 =\"welcome\" to s2 ='aipgtq'\n",
    "\n",
    "# print(chr(ord('z')-25))\n",
    "\n",
    "s1 = 'welcome'\n",
    "\n",
    "#s2 = 'aipgtq'\n",
    "\n",
    "rotation = 4\n",
    "l = []\n",
    "rot_str = 0\n",
    "for char in s1:\n",
    "    rot_str = ( ord(char) + rotation )\n",
    "    \n",
    "    if rot_str < 123:\n",
    "        l.append(chr(rot_str))\n",
    "    elif rot_str > 122:\n",
    "        rot_str -=  26\n",
    "        l.append(chr(rot_str))\n",
    "print(l)\n",
    "\n",
    "print(chr(ord('z') + 4 - 26))\n",
    "\n",
    "\n",
    "s = (\"\").join(l)\n",
    "print(s)"
   ]
  },
  {
   "cell_type": "code",
   "execution_count": 72,
   "metadata": {},
   "outputs": [
    {
     "name": "stdout",
     "output_type": "stream",
     "text": [
      "Anagram\n"
     ]
    }
   ],
   "source": [
    "# # Problem 8\n",
    "# Write a program to check if two given strings are anagram of each other or not.\n",
    "# Anagram strings:\n",
    "#   if two given str are anagram of each other using sam eexact letter ignore spaces, capitalization, punctuation.\n",
    "\n",
    "s1 = 'Arm y#'\n",
    "\n",
    "s2 ='Ma#r$ y'\n",
    "\n",
    "# 1. If length is same or not\n",
    "# 2. Check the count of every character\n",
    "# 3. Every char of s1 is present in s2\n",
    "# 4. Sort on ASCII & check if sorted strings are equal or not.\n",
    "\n",
    "\n",
    "l1 = []\n",
    "l2 = []\n",
    "\n",
    "for value in s1:\n",
    "    if  value.isalpha():\n",
    "        l1.append(value.lower())\n",
    "        \n",
    "for value in s2:\n",
    "    if value.isalpha():\n",
    "        l2.append(value.lower())  \n",
    "        \n",
    "if sorted(l1) == sorted(l2):\n",
    "    \n",
    "    print(\"Anagram\")\n",
    "else:\n",
    "    print(\"Not a anagram\")\n",
    "    "
   ]
  },
  {
   "cell_type": "code",
   "execution_count": 73,
   "metadata": {},
   "outputs": [
    {
     "name": "stdout",
     "output_type": "stream",
     "text": [
      "h\n"
     ]
    }
   ],
   "source": [
    "# Problem 9\n",
    "# Write a program to find the 1st non-repeated character in a given\n",
    "\n",
    "s ='hello'\n",
    "\n",
    "s1 = set(s)\n",
    "for value in s1:\n",
    "    if s.count(value) == 1:\n",
    "        print(value)\n",
    "        break\n",
    "        \n",
    "else:\n",
    "    print(\"All are repeated characters\")\n",
    "        "
   ]
  },
  {
   "cell_type": "code",
   "execution_count": null,
   "metadata": {},
   "outputs": [],
   "source": []
  }
 ],
 "metadata": {
  "kernelspec": {
   "display_name": "Python 3",
   "language": "python",
   "name": "python3"
  },
  "language_info": {
   "codemirror_mode": {
    "name": "ipython",
    "version": 3
   },
   "file_extension": ".py",
   "mimetype": "text/x-python",
   "name": "python",
   "nbconvert_exporter": "python",
   "pygments_lexer": "ipython3",
   "version": "3.7.4"
  }
 },
 "nbformat": 4,
 "nbformat_minor": 2
}
