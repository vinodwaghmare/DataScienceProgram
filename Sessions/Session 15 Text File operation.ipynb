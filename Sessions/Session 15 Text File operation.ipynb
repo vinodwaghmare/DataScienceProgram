{
 "cells": [
  {
   "cell_type": "code",
   "execution_count": null,
   "metadata": {},
   "outputs": [],
   "source": [
    "1.Positional\n",
    "2.Default\n",
    "3.Keyword\n",
    "4.Variable positional *args => tuple\n",
    "5.Variable keyword => **kwargs =>"
   ]
  },
  {
   "cell_type": "code",
   "execution_count": null,
   "metadata": {},
   "outputs": [],
   "source": [
    "from pk1.pkg2 import mod1.func/class\n",
    "import pk1.pkg2.mod"
   ]
  },
  {
   "cell_type": "code",
   "execution_count": null,
   "metadata": {},
   "outputs": [],
   "source": [
    "#help \n",
    "\"\"\" doc_string\"\"\"\n",
    "\n",
    "def add():\n",
    "    \"\"\" func description\"\"\""
   ]
  },
  {
   "cell_type": "code",
   "execution_count": null,
   "metadata": {},
   "outputs": [],
   "source": [
    "__name__ =='__main__' #the module we are executing"
   ]
  },
  {
   "cell_type": "code",
   "execution_count": null,
   "metadata": {},
   "outputs": [],
   "source": [
    "if __name__ == '__main__'"
   ]
  },
  {
   "cell_type": "code",
   "execution_count": null,
   "metadata": {},
   "outputs": [],
   "source": [
    "l = [1,2,3]\n",
    "l.pop(2) => index\n",
    "l.remove(2) => value\n"
   ]
  },
  {
   "cell_type": "code",
   "execution_count": null,
   "metadata": {},
   "outputs": [],
   "source": [
    "d = {}\n",
    "l = [10,20,30]\n",
    "d ={[10,20,30]:3}"
   ]
  },
  {
   "cell_type": "code",
   "execution_count": null,
   "metadata": {},
   "outputs": [],
   "source": [
    "-all the keys should be unique\n",
    "-all the keys should be immutable"
   ]
  },
  {
   "cell_type": "code",
   "execution_count": 1,
   "metadata": {},
   "outputs": [
    {
     "name": "stdout",
     "output_type": "stream",
     "text": [
      "4341029856 4341529728\n"
     ]
    }
   ],
   "source": [
    "l1 = [10,20,30]\n",
    "l2 = [10,20,30]\n",
    "print(id(l1),id(l2))"
   ]
  },
  {
   "cell_type": "code",
   "execution_count": 6,
   "metadata": {},
   "outputs": [
    {
     "name": "stdout",
     "output_type": "stream",
     "text": [
      "4343027984 4343027984\n",
      "4343027984 4343902848\n"
     ]
    }
   ],
   "source": [
    "l1 = [10,20,30]\n",
    "l2 = (l1)\n",
    "print(id(l1),id(l2))\n",
    "l2 = list(l1)\n",
    "print(id(l1),id(l2))\n"
   ]
  },
  {
   "cell_type": "code",
   "execution_count": 4,
   "metadata": {},
   "outputs": [
    {
     "name": "stdout",
     "output_type": "stream",
     "text": [
      "4343840672 4343837952\n"
     ]
    }
   ],
   "source": [
    "t1 =(1,2,3)\n",
    "t2 =(1,2,3)\n",
    "print(id(t1),id(t2))"
   ]
  },
  {
   "cell_type": "code",
   "execution_count": null,
   "metadata": {},
   "outputs": [],
   "source": [
    "File Operations : TXT files "
   ]
  },
  {
   "cell_type": "code",
   "execution_count": null,
   "metadata": {},
   "outputs": [],
   "source": [
    "Different modes :\n",
    "    r : read\n",
    "    r+ : read + write\n",
    "    \n",
    "    w : write\n",
    "    w+ : write + read\n",
    "        \n",
    "    a : append\n",
    "    a+    "
   ]
  },
  {
   "cell_type": "code",
   "execution_count": 8,
   "metadata": {},
   "outputs": [
    {
     "name": "stdout",
     "output_type": "stream",
     "text": [
      "Sample text file line1\n",
      "Sample text file line2\n",
      "Sample text file line3\n",
      "Sample text file line4\n",
      "Sample text file line5\n",
      "Sample text file line1\n",
      "Sample text file line1\n",
      "Sample text file line1\n",
      "Sample text file line1\n",
      "Sample text file line1\n"
     ]
    }
   ],
   "source": [
    "fp = open(\"sample.txt\",\"r\")\n",
    "\n",
    "content = fp.read() #file pointer will at the start of file and it reaches to the end of the file.\n",
    "#read: reads entire file and returns the file in str format.\n",
    "print(content)\n",
    "\n",
    "content = fp.read() #file pointer starts at the end of the file so it doesn't return any content\n",
    "print(content)\n",
    "\n",
    "fp.close() #if we don't close the file the file gets corrupted"
   ]
  },
  {
   "cell_type": "code",
   "execution_count": 9,
   "metadata": {},
   "outputs": [
    {
     "name": "stdout",
     "output_type": "stream",
     "text": [
      "Sample tex\n",
      "t file line1\n",
      "Sample \n"
     ]
    }
   ],
   "source": [
    "fp = open(\"sample.txt\",\"r\")\n",
    "\n",
    "content = fp.read(10) # fp pointer at the start of the file and end at 10th element.\n",
    "print(content)\n",
    "\n",
    "content = fp.read(20) #fp pointer starts from 11th element and ends at 20th element.\n",
    "print(content)\n",
    "\n",
    "fp.close()"
   ]
  },
  {
   "cell_type": "code",
   "execution_count": 1,
   "metadata": {},
   "outputs": [
    {
     "name": "stdout",
     "output_type": "stream",
     "text": [
      "['Sample text file line1\\n', 'Sample text file line2\\n', 'Sample text file line3\\n', 'Sample text file line4\\n', 'Sample text file line5\\n']\n",
      "[]\n"
     ]
    }
   ],
   "source": [
    "fp = open(\"sample.txt\",\"r\")\n",
    "content = fp.readlines()\n",
    "print(content)\n",
    "\n",
    "content = fp.readlines()\n",
    "print(content)\n",
    "\n",
    "fp.close()\n",
    "\n"
   ]
  },
  {
   "cell_type": "code",
   "execution_count": 2,
   "metadata": {},
   "outputs": [
    {
     "name": "stdout",
     "output_type": "stream",
     "text": [
      "['Sample text file line1 Sample text file line1 Sample text file line1 Sample text file line1 Sample text file line1 \\n', 'Sample text file line2 Sample text file line1 Sample text file line1 Sample text file line1 Sample text file line1\\n', 'Sample text file line3 Sample text file line1 Sample text file line1 Sample text file line1 Sample text file line1\\n', 'Sample text file line4 Sample text file line1 Sample text file line1*\\n', 'Sample text file line5 Sample text file line1 Sample text file line1 Sample text file line1 Sample text file line1\\n', 'Sample text file line1 Sample text file line1 Sample text file line1 Sample text file line1 Sample text file line1\\n', 'Sample text file line1\\n', 'Sample text file line1\\n', 'Sample text file line1\\n', 'Sample text file line1']\n",
      "[]\n"
     ]
    }
   ],
   "source": [
    "fp = open(\"sample1.txt\",\"r\")\n",
    "content = fp.readlines() #reads the entire file  and returns in the  list format.\n",
    "print(content)\n",
    "\n",
    "content = fp.readlines()\n",
    "print(content)\n",
    "\n",
    "fp.close()\n",
    "\n"
   ]
  },
  {
   "cell_type": "code",
   "execution_count": 3,
   "metadata": {},
   "outputs": [
    {
     "name": "stdout",
     "output_type": "stream",
     "text": [
      "Sample text file line1\n",
      "\n",
      "Sample text file line2\n",
      "\n",
      "Sample text file line3\n",
      "\n",
      "Sample text file line4\n",
      "\n",
      "Sample text file line5\n",
      "\n"
     ]
    }
   ],
   "source": [
    "fp = open(\"sample.txt\",\"r\")\n",
    "# content = fp.readlines() #Reads the entire file and returns in the form of list.\n",
    "# print(content)\n",
    "\n",
    "# print(content[1:])\n",
    "# print(len(content))\n",
    "\n",
    "for line in fp: #for loop for file pointer iterates over a line.\n",
    "    print(line)\n",
    "\n",
    "fp.close()\n",
    "\n"
   ]
  },
  {
   "cell_type": "code",
   "execution_count": 1,
   "metadata": {},
   "outputs": [
    {
     "name": "stdout",
     "output_type": "stream",
     "text": [
      "<_io.TextIOWrapper name='sample.txt' mode='r' encoding='UTF-8'>\n",
      "Sample text file line1\n",
      "\n"
     ]
    }
   ],
   "source": [
    "fp = open('sample.txt','r')\n",
    "print(fp)\n",
    "print(next(fp))\n",
    "fp.close()"
   ]
  },
  {
   "cell_type": "code",
   "execution_count": null,
   "metadata": {},
   "outputs": [],
   "source": [
    "iterating in str over char\n",
    "iterating in list over element\n",
    "iterating in dict over key\n",
    "iterate over keys,values in list use enumerate\n",
    "iterate over keys,values in dict use items"
   ]
  },
  {
   "cell_type": "code",
   "execution_count": 2,
   "metadata": {},
   "outputs": [],
   "source": [
    "# Operation => write\n",
    "\n",
    "fp = open(\"Sample2.txt\",\"w\") # Creating new file to write in it.\n",
    "\n",
    "fp.write(\"Add this line to the file sample2.txt\")\n",
    "\n",
    "fp.close()"
   ]
  },
  {
   "cell_type": "code",
   "execution_count": 3,
   "metadata": {},
   "outputs": [],
   "source": [
    "fp = open(\"Sample2.txt\",\"w\")\n",
    "\n",
    "fp.write(\"trying to write new content in Sample2.txt\")\n",
    "\n",
    "fp.close()"
   ]
  },
  {
   "cell_type": "code",
   "execution_count": 3,
   "metadata": {},
   "outputs": [
    {
     "name": "stdout",
     "output_type": "stream",
     "text": [
      "<built-in method read of _io.TextIOWrapper object at 0x108d093d0>\n"
     ]
    }
   ],
   "source": [
    "#if we use write operation to open and write into it the old content \n",
    "#present will removed.\n",
    "# Use write mode only if file doesn't exist\n",
    "fp = open(\"Sample2.txt\",\"w\")\n",
    "#fp.write(\"tyring to write new content to sample2.txt\")\n",
    "\n",
    "\n",
    "fp.close()"
   ]
  },
  {
   "cell_type": "code",
   "execution_count": 5,
   "metadata": {},
   "outputs": [
    {
     "ename": "UnsupportedOperation",
     "evalue": "not readable",
     "output_type": "error",
     "traceback": [
      "\u001b[0;31m---------------------------------------------------------------------------\u001b[0m",
      "\u001b[0;31mUnsupportedOperation\u001b[0m                      Traceback (most recent call last)",
      "\u001b[0;32m<ipython-input-5-cf911a7e1769>\u001b[0m in \u001b[0;36m<module>\u001b[0;34m\u001b[0m\n\u001b[1;32m      1\u001b[0m \u001b[0mfp\u001b[0m \u001b[0;34m=\u001b[0m \u001b[0mopen\u001b[0m\u001b[0;34m(\u001b[0m\u001b[0;34m\"Sample2.txt\"\u001b[0m\u001b[0;34m,\u001b[0m\u001b[0;34m\"w\"\u001b[0m\u001b[0;34m)\u001b[0m\u001b[0;34m\u001b[0m\u001b[0;34m\u001b[0m\u001b[0m\n\u001b[1;32m      2\u001b[0m \u001b[0mfp\u001b[0m\u001b[0;34m.\u001b[0m\u001b[0mwrite\u001b[0m\u001b[0;34m(\u001b[0m\u001b[0;34m\"tyring to write new content to sample2.txt\"\u001b[0m\u001b[0;34m)\u001b[0m\u001b[0;34m\u001b[0m\u001b[0;34m\u001b[0m\u001b[0m\n\u001b[0;32m----> 3\u001b[0;31m \u001b[0mr\u001b[0m \u001b[0;34m=\u001b[0m \u001b[0mfp\u001b[0m\u001b[0;34m.\u001b[0m\u001b[0mread\u001b[0m\u001b[0;34m(\u001b[0m\u001b[0;34m)\u001b[0m\u001b[0;34m\u001b[0m\u001b[0;34m\u001b[0m\u001b[0m\n\u001b[0m\u001b[1;32m      4\u001b[0m \u001b[0mprint\u001b[0m\u001b[0;34m(\u001b[0m\u001b[0mr\u001b[0m\u001b[0;34m)\u001b[0m\u001b[0;34m\u001b[0m\u001b[0;34m\u001b[0m\u001b[0m\n\u001b[1;32m      5\u001b[0m \u001b[0;34m\u001b[0m\u001b[0m\n",
      "\u001b[0;31mUnsupportedOperation\u001b[0m: not readable"
     ]
    }
   ],
   "source": [
    "fp = open(\"Sample2.txt\",\"w\") # only \"w\" doesn't work \n",
    "fp.write(\"tyring to write new content to sample2.txt\")\n",
    "r = fp.read()\n",
    "print(r)\n",
    "\n",
    "fp.close()\n",
    "#"
   ]
  },
  {
   "cell_type": "code",
   "execution_count": 6,
   "metadata": {},
   "outputs": [
    {
     "name": "stdout",
     "output_type": "stream",
     "text": [
      "0\n",
      "42\n",
      "0\n",
      "42\n",
      "tyring to write new content to sample2.txt\n"
     ]
    }
   ],
   "source": [
    "fp = open(\"Sample2.txt\",\"w+\") # only \"w+\"  works to write and read \n",
    "print(fp.tell())\n",
    "fp.write(\"tyring to write new content to sample2.txt\")\n",
    "print(fp.tell())\n",
    "fp.seek(0)\n",
    "print(fp.tell())\n",
    "r = fp.read()\n",
    "print(fp.tell())\n",
    "print(r)\n",
    "\n",
    "fp.close()\n"
   ]
  },
  {
   "cell_type": "code",
   "execution_count": null,
   "metadata": {},
   "outputs": [],
   "source": []
  },
  {
   "cell_type": "code",
   "execution_count": null,
   "metadata": {},
   "outputs": [],
   "source": [
    "tell(): Current fp position\n",
    "seek(): To change the fp position\n",
    "    args: 1) Offset : How many char\n",
    "          2) Position : 1 : Start of the file.\n",
    "                        2 : Current position.\n",
    "                        3 : End of the file.\n",
    "\n",
    "seek(15,0) :- move fp to 15 chars from 0th position/Start of the file.\n",
    "seek(0,0) :\n",
    "seek(0,2)\n",
    "Any offset value works from the start of the file.\n",
    "seek(15,1) :doesn't work\n",
    "    "
   ]
  },
  {
   "cell_type": "code",
   "execution_count": null,
   "metadata": {},
   "outputs": [],
   "source": [
    "r+ : read + write\n",
    "     if file doesnt exist it will not work\n",
    "     if file exist it will not whip out the old content \n",
    "        It reads the file then write to the old content\n",
    "w+ : write + read\n",
    "     if file doesnt exist it will create new file and write in it then read the content.\n",
    "     if file exist it will whipout the old content then  write and read the file.\n",
    "    \n",
    "    "
   ]
  },
  {
   "cell_type": "code",
   "execution_count": 32,
   "metadata": {
    "scrolled": true
   },
   "outputs": [
    {
     "name": "stdout",
     "output_type": "stream",
     "text": [
      "11213\n",
      "12668\n"
     ]
    }
   ],
   "source": [
    "#r : raw data given use as it is.\n",
    "fp =open(r\"sample4.txt\",\"r+\",encoding = 'utf-8')\n",
    "#UTF encoding is used because some chars are not able to decode by python\n",
    "content = fp.read()\n",
    "\n",
    "#print(content)\n",
    "print(fp.tell())\n",
    "data =\"\"\"f-strings support = for self-documenting expressions and debugging\n",
    "Added an = specifier to f-strings. An f-string such as f'{expr=}' will expand to the text of the expression, an equal sign, then the representation of the evaluated expression. For example:\n",
    "\n",
    ">>> user = 'eric_idle'\n",
    ">>> member_since = date(1975, 7, 31)\n",
    ">>> f'{user=} {member_since=}'\n",
    "\"user='eric_idle' member_since=datetime.date(1975, 7, 31)\"\n",
    "The usual f-string format specifiers allow more control over how the result of the expression is displayed:\n",
    "\n",
    ">>>\n",
    ">>> delta = date.today() - member_since\n",
    ">>> f'{user=!s}  {delta.days=:,d}'\n",
    "'user=eric_idle  delta.days=16,075'\n",
    "The = specifier will display the whole expression so that calculations can be shown:\n",
    "\n",
    ">>>\n",
    ">>> print(f'{theta=}  {cos(radians(theta))=:.3f}')\n",
    "theta=30  cos(radians(theta))=0.866\n",
    "(Contributed by Eric V. Smith and Larry Hastings in bpo-36817.)\n",
    "\n",
    "PEP 578: Python Runtime Audit Hooks\n",
    "The PEP adds an Audit Hook and Verified Open Hook. Both are available from Python and native code, allowing applications and frameworks written in pure Python code to take advantage of extra notifications, while also allowing embedders or system administrators to deploy builds of Python where auditing is always enabled.\n",
    "\n",
    "See PEP 578 for full details.\n",
    "\n",
    "PEP 587: Python Initialization Configuration\n",
    "The PEP 587 adds a new C API to configure the Python Initialization providing finer control on the whole configuration and better error reporting.\"\"\"\n",
    "fp.write(data)\n",
    "print(fp.tell())\n",
    "fp.close()"
   ]
  },
  {
   "cell_type": "code",
   "execution_count": null,
   "metadata": {},
   "outputs": [],
   "source": [
    "a: perform at the end of file\n",
    "a+:  perform read and write operation at the end of the file."
   ]
  },
  {
   "cell_type": "code",
   "execution_count": 43,
   "metadata": {
    "scrolled": false
   },
   "outputs": [
    {
     "name": "stdout",
     "output_type": "stream",
     "text": [
      "12896\n"
     ]
    }
   ],
   "source": [
    "#Opening file at append mode\n",
    "fp = open('sample4.txt','a')\n",
    "print(fp.tell())\n",
    "fp.write(\"\\n \\n add seek(15,1) to the next release\")\n",
    "\n",
    "#print(r)\n",
    "fp.close()\n",
    "#Defaulty append will at end of the file."
   ]
  },
  {
   "cell_type": "code",
   "execution_count": 44,
   "metadata": {},
   "outputs": [
    {
     "name": "stdout",
     "output_type": "stream",
     "text": [
      "12934\n",
      "What’s New In Python 3.8\n",
      "Editor\n",
      "Raymond Hettinger\n",
      "\n",
      "This article explains the new features in Python 3.8, compared to 3.7. For full details, see the changelog.\n",
      "\n",
      "Python 3.8 was released on October 14th, 2019.\n",
      "\n",
      "Summary – Release highlights\n",
      "New Features\n",
      "Assignment expressions\n",
      "There is new syntax := that assigns values to variables as part of a larger expression. It is affectionately known as “the walrus operator” due to its resemblance to the eyes and tusks of a walrus.\n",
      "\n",
      "In this example, the assignment expression helps avoid calling len() twice:\n",
      "\n",
      "if (n := len(a)) > 10:\n",
      "    print(f\"List is too long ({n} elements, expected <= 10)\")\n",
      "A similar benefit arises during regular expression matching where match objects are needed twice, once to test whether a match occurred and another to extract a subgroup:\n",
      "\n",
      "discount = 0.0\n",
      "if (mo := re.search(r'(\\d+)% discount', advertisement)):\n",
      "    discount = float(mo.group(1)) / 100.0\n",
      "The operator is also useful with while-loops that compute a value to test loop termination and then need that same value again in the body of the loop:\n",
      "\n",
      "# Loop over fixed length blocks\n",
      "while (block := f.read(256)) != '':\n",
      "    process(block)\n",
      "Another motivating use case arises in list comprehensions where a value computed in a filtering condition is also needed in the expression body:\n",
      "\n",
      "[clean_name.title() for name in names\n",
      " if (clean_name := normalize('NFC', name)) in allowed_names]\n",
      "Try to limit use of the walrus operator to clean cases that reduce complexity and improve readability.\n",
      "\n",
      "See PEP 572 for a full description.\n",
      "\n",
      "(Contributed by Emily Morehouse in bpo-35224.)\n",
      "\n",
      "Positional-only parameters\n",
      "There is a new function parameter syntax / to indicate that some function parameters must be specified positionally and cannot be used as keyword arguments. This is the same notation shown by help() for C functions annotated with Larry Hastings’ Argument Clinic tool.\n",
      "\n",
      "In the following example, parameters a and b are positional-only, while c or d can be positional or keyword, and e or f are required to be keywords:\n",
      "\n",
      "def f(a, b, /, c, d, *, e, f):\n",
      "    print(a, b, c, d, e, f)\n",
      "The following is a valid call:\n",
      "\n",
      "f(10, 20, 30, d=40, e=50, f=60)\n",
      "However, these are invalid calls:\n",
      "\n",
      "f(10, b=20, c=30, d=40, e=50, f=60)   # b cannot be a keyword argument\n",
      "f(10, 20, 30, 40, 50, f=60)           # e must be a keyword argument\n",
      "One use case for this notation is that it allows pure Python functions to fully emulate behaviors of existing C coded functions. For example, the built-in pow() function does not accept keyword arguments:\n",
      "\n",
      "def pow(x, y, z=None, /):\n",
      "    \"Emulate the built in pow() function\"\n",
      "    r = x ** y\n",
      "    return r if z is None else r%z\n",
      "Another use case is to preclude keyword arguments when the parameter name is not helpful. For example, the builtin len() function has the signature len(obj, /). This precludes awkward calls such as:\n",
      "\n",
      "len(obj='hello')  # The \"obj\" keyword argument impairs readability\n",
      "A further benefit of marking a parameter as positional-only is that it allows the parameter name to be changed in the future without risk of breaking client code. For example, in the statistics module, the parameter name dist may be changed in the future. This was made possible with the following function specification:\n",
      "\n",
      "def quantiles(dist, /, *, n=4, method='exclusive')\n",
      "    ...\n",
      "Since the parameters to the left of / are not exposed as possible keywords, the parameters names remain available for use in **kwargs:\n",
      "\n",
      ">>>\n",
      ">>> def f(a, b, /, **kwargs):\n",
      "...     print(a, b, kwargs)\n",
      "...\n",
      ">>> f(10, 20, a=1, b=2, c=3)         # a and b are used in two ways\n",
      "10 20 {'a': 1, 'b': 2, 'c': 3}\n",
      "This greatly simplifies the implementation of functions and methods that need to accept arbitrary keyword arguments. For example, here is an excerpt from code in the collections module:\n",
      "\n",
      "class Counter(dict):\n",
      "\n",
      "    def __init__(self, iterable=None, /, **kwds):\n",
      "        # Note \"iterable\" is a possible keyword argument\n",
      "f-strings support = for self-documenting expressions and debugging\n",
      "Added an = specifier to f-strings. An f-string such as f'{expr=}' will expand to the text of the expression, an equal sign, then the representation of the evaluated expression. For example:\n",
      "\n",
      ">>> user = 'eric_idle'\n",
      ">>> member_since = date(1975, 7, 31)\n",
      ">>> f'{user=} {member_since=}'\n",
      "\"user='eric_idle' member_since=datetime.date(1975, 7, 31)\"\n",
      "The usual f-string format specifiers allow more control over how the result of the expression is displayed:\n",
      "\n",
      ">>>\n",
      ">>> delta = date.today() - member_since\n",
      ">>> f'{user=!s}  {delta.days=:,d}'\n",
      "'user=eric_idle  delta.days=16,075'\n",
      "The = specifier will display the whole expression so that calculations can be shown:\n",
      "\n",
      ">>>\n",
      ">>> print(f'{theta=}  {cos(radians(theta))=:.3f}')\n",
      "theta=30  cos(radians(theta))=0.866\n",
      "(Contributed by Eric V. Smith and Larry Hastings in bpo-36817.)\n",
      "\n",
      "PEP 578: Python Runtime Audit Hooks\n",
      "The PEP adds an Audit Hook and Verified Open Hook. Both are available from Python and native code, allowing applications and frameworks written in pure Python code to take advantage of extra notifications, while also allowing embedders or system administrators to deploy builds of Python where auditing is always enabled.\n",
      "\n",
      "See PEP 578 for full details.\n",
      "\n",
      "PEP 587: Python Initialization Configuration\n",
      "The PEP 587 adds a new C API to configure the Python Initialization providing finer control on the whole configuration and better error reporting.f-strings support = for self-documenting expressions and debugging\n",
      "Added an = specifier to f-strings. An f-string such as f'{expr=}' will expand to the text of the expression, an equal sign, then the representation of the evaluated expression. For example:\n",
      "\n",
      ">>> user = 'eric_idle'\n",
      ">>> member_since = date(1975, 7, 31)\n",
      ">>> f'{user=} {member_since=}'\n",
      "\"user='eric_idle' member_since=datetime.date(1975, 7, 31)\"\n",
      "The usual f-string format specifiers allow more control over how the result of the expression is displayed:\n",
      "\n",
      ">>>\n",
      ">>> delta = date.today() - member_since\n",
      ">>> f'{user=!s}  {delta.days=:,d}'\n",
      "'user=eric_idle  delta.days=16,075'\n",
      "The = specifier will display the whole expression so that calculations can be shown:\n",
      "\n",
      ">>>\n",
      ">>> print(f'{theta=}  {cos(radians(theta))=:.3f}')\n",
      "theta=30  cos(radians(theta))=0.866\n",
      "(Contributed by Eric V. Smith and Larry Hastings in bpo-36817.)\n",
      "\n",
      "PEP 578: Python Runtime Audit Hooks\n",
      "The PEP adds an Audit Hook and Verified Open Hook. Both are available from Python and native code, allowing applications and frameworks written in pure Python code to take advantage of extra notifications, while also allowing embedders or system administrators to deploy builds of Python where auditing is always enabled.\n",
      "\n",
      "See PEP 578 for full details.\n",
      "\n",
      "PEP 587: Python Initialization Configuration\n",
      "The PEP 587 adds a new C API to configure the Python Initialization providing finer control on the whole configuration and better error reporting.f-strings support = for self-documenting expressions and debugging\n",
      "Added an = specifier to f-strings. An f-string such as f'{expr=}' will expand to the text of the expression, an equal sign, then the representation of the evaluated expression. For example:\n",
      "\n",
      ">>> user = 'eric_idle'\n",
      ">>> member_since = date(1975, 7, 31)\n",
      ">>> f'{user=} {member_since=}'\n",
      "\"user='eric_idle' member_since=datetime.date(1975, 7, 31)\"\n",
      "The usual f-string format specifiers allow more control over how the result of the expression is displayed:\n",
      "\n",
      ">>>\n",
      ">>> delta = date.today() - member_since\n",
      ">>> f'{user=!s}  {delta.days=:,d}'\n",
      "'user=eric_idle  delta.days=16,075'\n",
      "The = specifier will display the whole expression so that calculations can be shown:\n",
      "\n",
      ">>>\n",
      ">>> print(f'{theta=}  {cos(radians(theta))=:.3f}')\n",
      "theta=30  cos(radians(theta))=0.866\n",
      "(Contributed by Eric V. Smith and Larry Hastings in bpo-36817.)\n",
      "\n",
      "PEP 578: Python Runtime Audit Hooks\n",
      "The PEP adds an Audit Hook and Verified Open Hook. Both are available from Python and native code, allowing applications and frameworks written in pure Python code to take advantage of extra notifications, while also allowing embedders or system administrators to deploy builds of Python where auditing is always enabled.\n",
      "\n",
      "See PEP 578 for full details.\n",
      "\n",
      "PEP 587: Python Initialization Configuration\n",
      "The PEP 587 adds a new C API to configure the Python Initialization providing finer control on the whole configuration and better error reporting.f-strings support = for self-documenting expressions and debugging\n",
      "Added an = specifier to f-strings. An f-string such as f'{expr=}' will expand to the text of the expression, an equal sign, then the representation of the evaluated expression. For example:\n",
      "\n",
      ">>> user = 'eric_idle'\n",
      ">>> member_since = date(1975, 7, 31)\n",
      ">>> f'{user=} {member_since=}'\n",
      "\"user='eric_idle' member_since=datetime.date(1975, 7, 31)\"\n",
      "The usual f-string format specifiers allow more control over how the result of the expression is displayed:\n",
      "\n",
      ">>>\n",
      ">>> delta = date.today() - member_since\n",
      ">>> f'{user=!s}  {delta.days=:,d}'\n",
      "'user=eric_idle  delta.days=16,075'\n",
      "The = specifier will display the whole expression so that calculations can be shown:\n",
      "\n",
      ">>>\n",
      ">>> print(f'{theta=}  {cos(radians(theta))=:.3f}')\n",
      "theta=30  cos(radians(theta))=0.866\n",
      "(Contributed by Eric V. Smith and Larry Hastings in bpo-36817.)\n",
      "\n",
      "PEP 578: Python Runtime Audit Hooks\n",
      "The PEP adds an Audit Hook and Verified Open Hook. Both are available from Python and native code, allowing applications and frameworks written in pure Python code to take advantage of extra notifications, while also allowing embedders or system administrators to deploy builds of Python where auditing is always enabled.\n",
      "\n",
      "See PEP 578 for full details.\n",
      "\n",
      "PEP 587: Python Initialization Configuration\n",
      "The PEP 587 adds a new C API to configure the Python Initialization providing finer control on the whole configuration and better error reporting.f-strings support = for self-documenting expressions and debugging\n",
      "Added an = specifier to f-strings. An f-string such as f'{expr=}' will expand to the text of the expression, an equal sign, then the representation of the evaluated expression. For example:\n",
      "\n",
      ">>> user = 'eric_idle'\n",
      ">>> member_since = date(1975, 7, 31)\n",
      ">>> f'{user=} {member_since=}'\n",
      "\"user='eric_idle' member_since=datetime.date(1975, 7, 31)\"\n",
      "The usual f-string format specifiers allow more control over how the result of the expression is displayed:\n",
      "\n",
      ">>>\n",
      ">>> delta = date.today() - member_since\n",
      ">>> f'{user=!s}  {delta.days=:,d}'\n",
      "'user=eric_idle  delta.days=16,075'\n",
      "The = specifier will display the whole expression so that calculations can be shown:\n",
      "\n",
      ">>>\n",
      ">>> print(f'{theta=}  {cos(radians(theta))=:.3f}')\n",
      "theta=30  cos(radians(theta))=0.866\n",
      "(Contributed by Eric V. Smith and Larry Hastings in bpo-36817.)\n",
      "\n",
      "PEP 578: Python Runtime Audit Hooks\n",
      "The PEP adds an Audit Hook and Verified Open Hook. Both are available from Python and native code, allowing applications and frameworks written in pure Python code to take advantage of extra notifications, while also allowing embedders or system administrators to deploy builds of Python where auditing is always enabled.\n",
      "\n",
      "See PEP 578 for full details.\n",
      "\n",
      "PEP 587: Python Initialization Configuration\n",
      "The PEP 587 adds a new C API to configure the Python Initialization providing finer control on the whole configuration and better error reporting.f-strings support = for self-documenting expressions and debugging\n",
      "Added an = specifier to f-strings. An f-string such as f'{expr=}' will expand to the text of the expression, an equal sign, then the representation of the evaluated expression. For example:\n",
      "\n",
      ">>> user = 'eric_idle'\n",
      ">>> member_since = date(1975, 7, 31)\n",
      ">>> f'{user=} {member_since=}'\n",
      "\"user='eric_idle' member_since=datetime.date(1975, 7, 31)\"\n",
      "The usual f-string format specifiers allow more control over how the result of the expression is displayed:\n",
      "\n",
      ">>>\n",
      ">>> delta = date.today() - member_since\n",
      ">>> f'{user=!s}  {delta.days=:,d}'\n",
      "'user=eric_idle  delta.days=16,075'\n",
      "The = specifier will display the whole expression so that calculations can be shown:\n",
      "\n",
      ">>>\n",
      ">>> print(f'{theta=}  {cos(radians(theta))=:.3f}')\n",
      "theta=30  cos(radians(theta))=0.866\n",
      "(Contributed by Eric V. Smith and Larry Hastings in bpo-36817.)\n",
      "\n",
      "PEP 578: Python Runtime Audit Hooks\n",
      "The PEP adds an Audit Hook and Verified Open Hook. Both are available from Python and native code, allowing applications and frameworks written in pure Python code to take advantage of extra notifications, while also allowing embedders or system administrators to deploy builds of Python where auditing is always enabled.\n",
      "\n",
      "See PEP 578 for full details.\n",
      "\n",
      "PEP 587: Python Initialization Configuration\n",
      "The PEP 587 adds a new C API to configure the Python Initialization providing finer control on the whole configuration and better error reporting.\n",
      " \n",
      " add seek(15,1) to the next release\n",
      " \n",
      " add seek(15,1) to the next release\n",
      " \n",
      " add seek(15,1) to the next release\n",
      " \n",
      " add seek(15,1) to the next release\n",
      " \n",
      " add seek(15,1) to the next release\n",
      " \n",
      " add seek(15,1) to the next release\n",
      " \n",
      " add seek(15,1) to the next release\n",
      " \n",
      " add seek(15,1) to the next release\n"
     ]
    }
   ],
   "source": [
    "#Opening file at append mode\n",
    "fp = open('sample4.txt','a+')\n",
    "print(fp.tell())\n",
    "fp.write(\"\\n \\n add seek(15,1) to the next release\")\n",
    "fp.seek(0)\n",
    "r = fp.read()\n",
    "print(r)\n",
    "fp.close()\n",
    "#Append + will perform read and write operation."
   ]
  },
  {
   "cell_type": "code",
   "execution_count": 46,
   "metadata": {},
   "outputs": [
    {
     "name": "stdout",
     "output_type": "stream",
     "text": [
      "12972\n",
      "What’s New In Python 3.8\n",
      "Editor\n",
      "Raymond Hettinger\n",
      "\n",
      "This article explains the new features in Python 3.8, compared to 3.7. For full details, see the changelog.\n",
      "\n",
      "Python 3.8 was released on October 14th, 2019.\n",
      "\n",
      "Summary – Release highlights\n",
      "New Features\n",
      "Assignment expressions\n",
      "There is new syntax := that assigns values to variables as part of a larger expression. It is affectionately known as “the walrus operator” due to its resemblance to the eyes and tusks of a walrus.\n",
      "\n",
      "In this example, the assignment expression helps avoid calling len() twice:\n",
      "\n",
      "if (n := len(a)) > 10:\n",
      "    print(f\"List is too long ({n} elements, expected <= 10)\")\n",
      "A similar benefit arises during regular expression matching where match objects are needed twice, once to test whether a match occurred and another to extract a subgroup:\n",
      "\n",
      "discount = 0.0\n",
      "if (mo := re.search(r'(\\d+)% discount', advertisement)):\n",
      "    discount = float(mo.group(1)) / 100.0\n",
      "The operator is also useful with while-loops that compute a value to test loop termination and then need that same value again in the body of the loop:\n",
      "\n",
      "# Loop over fixed length blocks\n",
      "while (block := f.read(256)) != '':\n",
      "    process(block)\n",
      "Another motivating use case arises in list comprehensions where a value computed in a filtering condition is also needed in the expression body:\n",
      "\n",
      "[clean_name.title() for name in names\n",
      " if (clean_name := normalize('NFC', name)) in allowed_names]\n",
      "Try to limit use of the walrus operator to clean cases that reduce complexity and improve readability.\n",
      "\n",
      "See PEP 572 for a full description.\n",
      "\n",
      "(Contributed by Emily Morehouse in bpo-35224.)\n",
      "\n",
      "Positional-only parameters\n",
      "There is a new function parameter syntax / to indicate that some function parameters must be specified positionally and cannot be used as keyword arguments. This is the same notation shown by help() for C functions annotated with Larry Hastings’ Argument Clinic tool.\n",
      "\n",
      "In the following example, parameters a and b are positional-only, while c or d can be positional or keyword, and e or f are required to be keywords:\n",
      "\n",
      "def f(a, b, /, c, d, *, e, f):\n",
      "    print(a, b, c, d, e, f)\n",
      "The following is a valid call:\n",
      "\n",
      "f(10, 20, 30, d=40, e=50, f=60)\n",
      "However, these are invalid calls:\n",
      "\n",
      "f(10, b=20, c=30, d=40, e=50, f=60)   # b cannot be a keyword argument\n",
      "f(10, 20, 30, 40, 50, f=60)           # e must be a keyword argument\n",
      "One use case for this notation is that it allows pure Python functions to fully emulate behaviors of existing C coded functions. For example, the built-in pow() function does not accept keyword arguments:\n",
      "\n",
      "def pow(x, y, z=None, /):\n",
      "    \"Emulate the built in pow() function\"\n",
      "    r = x ** y\n",
      "    return r if z is None else r%z\n",
      "Another use case is to preclude keyword arguments when the parameter name is not helpful. For example, the builtin len() function has the signature len(obj, /). This precludes awkward calls such as:\n",
      "\n",
      "len(obj='hello')  # The \"obj\" keyword argument impairs readability\n",
      "A further benefit of marking a parameter as positional-only is that it allows the parameter name to be changed in the future without risk of breaking client code. For example, in the statistics module, the parameter name dist may be changed in the future. This was made possible with the following function specification:\n",
      "\n",
      "def quantiles(dist, /, *, n=4, method='exclusive')\n",
      "    ...\n",
      "Since the parameters to the left of / are not exposed as possible keywords, the parameters names remain available for use in **kwargs:\n",
      "\n",
      ">>>\n",
      ">>> def f(a, b, /, **kwargs):\n",
      "...     print(a, b, kwargs)\n",
      "...\n",
      ">>> f(10, 20, a=1, b=2, c=3)         # a and b are used in two ways\n",
      "10 20 {'a': 1, 'b': 2, 'c': 3}\n",
      "This greatly simplifies the implementation of functions and methods that need to accept arbitrary keyword arguments. For example, here is an excerpt from code in the collections module:\n",
      "\n",
      "class Counter(dict):\n",
      "\n",
      "    def __init__(self, iterable=None, /, **kwds):\n",
      "        # Note \"iterable\" is a possible keyword argument\n",
      "f-strings support = for self-documenting expressions and debugging\n",
      "Added an = specifier to f-strings. An f-string such as f'{expr=}' will expand to the text of the expression, an equal sign, then the representation of the evaluated expression. For example:\n",
      "\n",
      ">>> user = 'eric_idle'\n",
      ">>> member_since = date(1975, 7, 31)\n",
      ">>> f'{user=} {member_since=}'\n",
      "\"user='eric_idle' member_since=datetime.date(1975, 7, 31)\"\n",
      "The usual f-string format specifiers allow more control over how the result of the expression is displayed:\n",
      "\n",
      ">>>\n",
      ">>> delta = date.today() - member_since\n",
      ">>> f'{user=!s}  {delta.days=:,d}'\n",
      "'user=eric_idle  delta.days=16,075'\n",
      "The = specifier will display the whole expression so that calculations can be shown:\n",
      "\n",
      ">>>\n",
      ">>> print(f'{theta=}  {cos(radians(theta))=:.3f}')\n",
      "theta=30  cos(radians(theta))=0.866\n",
      "(Contributed by Eric V. Smith and Larry Hastings in bpo-36817.)\n",
      "\n",
      "PEP 578: Python Runtime Audit Hooks\n",
      "The PEP adds an Audit Hook and Verified Open Hook. Both are available from Python and native code, allowing applications and frameworks written in pure Python code to take advantage of extra notifications, while also allowing embedders or system administrators to deploy builds of Python where auditing is always enabled.\n",
      "\n",
      "See PEP 578 for full details.\n",
      "\n",
      "PEP 587: Python Initialization Configuration\n",
      "The PEP 587 adds a new C API to configure the Python Initialization providing finer control on the whole configuration and better error reporting.f-strings support = for self-documenting expressions and debugging\n",
      "Added an = specifier to f-strings. An f-string such as f'{expr=}' will expand to the text of the expression, an equal sign, then the representation of the evaluated expression. For example:\n",
      "\n",
      ">>> user = 'eric_idle'\n",
      ">>> member_since = date(1975, 7, 31)\n",
      ">>> f'{user=} {member_since=}'\n",
      "\"user='eric_idle' member_since=datetime.date(1975, 7, 31)\"\n",
      "The usual f-string format specifiers allow more control over how the result of the expression is displayed:\n",
      "\n",
      ">>>\n",
      ">>> delta = date.today() - member_since\n",
      ">>> f'{user=!s}  {delta.days=:,d}'\n",
      "'user=eric_idle  delta.days=16,075'\n",
      "The = specifier will display the whole expression so that calculations can be shown:\n",
      "\n",
      ">>>\n",
      ">>> print(f'{theta=}  {cos(radians(theta))=:.3f}')\n",
      "theta=30  cos(radians(theta))=0.866\n",
      "(Contributed by Eric V. Smith and Larry Hastings in bpo-36817.)\n",
      "\n",
      "PEP 578: Python Runtime Audit Hooks\n",
      "The PEP adds an Audit Hook and Verified Open Hook. Both are available from Python and native code, allowing applications and frameworks written in pure Python code to take advantage of extra notifications, while also allowing embedders or system administrators to deploy builds of Python where auditing is always enabled.\n",
      "\n",
      "See PEP 578 for full details.\n",
      "\n",
      "PEP 587: Python Initialization Configuration\n",
      "The PEP 587 adds a new C API to configure the Python Initialization providing finer control on the whole configuration and better error reporting.f-strings support = for self-documenting expressions and debugging\n",
      "Added an = specifier to f-strings. An f-string such as f'{expr=}' will expand to the text of the expression, an equal sign, then the representation of the evaluated expression. For example:\n",
      "\n",
      ">>> user = 'eric_idle'\n",
      ">>> member_since = date(1975, 7, 31)\n",
      ">>> f'{user=} {member_since=}'\n",
      "\"user='eric_idle' member_since=datetime.date(1975, 7, 31)\"\n",
      "The usual f-string format specifiers allow more control over how the result of the expression is displayed:\n",
      "\n",
      ">>>\n",
      ">>> delta = date.today() - member_since\n",
      ">>> f'{user=!s}  {delta.days=:,d}'\n",
      "'user=eric_idle  delta.days=16,075'\n",
      "The = specifier will display the whole expression so that calculations can be shown:\n",
      "\n",
      ">>>\n",
      ">>> print(f'{theta=}  {cos(radians(theta))=:.3f}')\n",
      "theta=30  cos(radians(theta))=0.866\n",
      "(Contributed by Eric V. Smith and Larry Hastings in bpo-36817.)\n",
      "\n",
      "PEP 578: Python Runtime Audit Hooks\n",
      "The PEP adds an Audit Hook and Verified Open Hook. Both are available from Python and native code, allowing applications and frameworks written in pure Python code to take advantage of extra notifications, while also allowing embedders or system administrators to deploy builds of Python where auditing is always enabled.\n",
      "\n",
      "See PEP 578 for full details.\n",
      "\n",
      "PEP 587: Python Initialization Configuration\n",
      "The PEP 587 adds a new C API to configure the Python Initialization providing finer control on the whole configuration and better error reporting.f-strings support = for self-documenting expressions and debugging\n",
      "Added an = specifier to f-strings. An f-string such as f'{expr=}' will expand to the text of the expression, an equal sign, then the representation of the evaluated expression. For example:\n",
      "\n",
      ">>> user = 'eric_idle'\n",
      ">>> member_since = date(1975, 7, 31)\n",
      ">>> f'{user=} {member_since=}'\n",
      "\"user='eric_idle' member_since=datetime.date(1975, 7, 31)\"\n",
      "The usual f-string format specifiers allow more control over how the result of the expression is displayed:\n",
      "\n",
      ">>>\n",
      ">>> delta = date.today() - member_since\n",
      ">>> f'{user=!s}  {delta.days=:,d}'\n",
      "'user=eric_idle  delta.days=16,075'\n",
      "The = specifier will display the whole expression so that calculations can be shown:\n",
      "\n",
      ">>>\n",
      ">>> print(f'{theta=}  {cos(radians(theta))=:.3f}')\n",
      "theta=30  cos(radians(theta))=0.866\n",
      "(Contributed by Eric V. Smith and Larry Hastings in bpo-36817.)\n",
      "\n",
      "PEP 578: Python Runtime Audit Hooks\n",
      "The PEP adds an Audit Hook and Verified Open Hook. Both are available from Python and native code, allowing applications and frameworks written in pure Python code to take advantage of extra notifications, while also allowing embedders or system administrators to deploy builds of Python where auditing is always enabled.\n",
      "\n",
      "See PEP 578 for full details.\n",
      "\n",
      "PEP 587: Python Initialization Configuration\n",
      "The PEP 587 adds a new C API to configure the Python Initialization providing finer control on the whole configuration and better error reporting.f-strings support = for self-documenting expressions and debugging\n",
      "Added an = specifier to f-strings. An f-string such as f'{expr=}' will expand to the text of the expression, an equal sign, then the representation of the evaluated expression. For example:\n",
      "\n",
      ">>> user = 'eric_idle'\n",
      ">>> member_since = date(1975, 7, 31)\n",
      ">>> f'{user=} {member_since=}'\n",
      "\"user='eric_idle' member_since=datetime.date(1975, 7, 31)\"\n",
      "The usual f-string format specifiers allow more control over how the result of the expression is displayed:\n",
      "\n",
      ">>>\n",
      ">>> delta = date.today() - member_since\n",
      ">>> f'{user=!s}  {delta.days=:,d}'\n",
      "'user=eric_idle  delta.days=16,075'\n",
      "The = specifier will display the whole expression so that calculations can be shown:\n",
      "\n",
      ">>>\n",
      ">>> print(f'{theta=}  {cos(radians(theta))=:.3f}')\n",
      "theta=30  cos(radians(theta))=0.866\n",
      "(Contributed by Eric V. Smith and Larry Hastings in bpo-36817.)\n",
      "\n",
      "PEP 578: Python Runtime Audit Hooks\n",
      "The PEP adds an Audit Hook and Verified Open Hook. Both are available from Python and native code, allowing applications and frameworks written in pure Python code to take advantage of extra notifications, while also allowing embedders or system administrators to deploy builds of Python where auditing is always enabled.\n",
      "\n",
      "See PEP 578 for full details.\n",
      "\n",
      "PEP 587: Python Initialization Configuration\n",
      "The PEP 587 adds a new C API to configure the Python Initialization providing finer control on the whole configuration and better error reporting.f-strings support = for self-documenting expressions and debugging\n",
      "Added an = specifier to f-strings. An f-string such as f'{expr=}' will expand to the text of the expression, an equal sign, then the representation of the evaluated expression. For example:\n",
      "\n",
      ">>> user = 'eric_idle'\n",
      ">>> member_since = date(1975, 7, 31)\n",
      ">>> f'{user=} {member_since=}'\n",
      "\"user='eric_idle' member_since=datetime.date(1975, 7, 31)\"\n",
      "The usual f-string format specifiers allow more control over how the result of the expression is displayed:\n",
      "\n",
      ">>>\n",
      ">>> delta = date.today() - member_since\n",
      ">>> f'{user=!s}  {delta.days=:,d}'\n",
      "'user=eric_idle  delta.days=16,075'\n",
      "The = specifier will display the whole expression so that calculations can be shown:\n",
      "\n",
      ">>>\n",
      ">>> print(f'{theta=}  {cos(radians(theta))=:.3f}')\n",
      "theta=30  cos(radians(theta))=0.866\n",
      "(Contributed by Eric V. Smith and Larry Hastings in bpo-36817.)\n",
      "\n",
      "PEP 578: Python Runtime Audit Hooks\n",
      "The PEP adds an Audit Hook and Verified Open Hook. Both are available from Python and native code, allowing applications and frameworks written in pure Python code to take advantage of extra notifications, while also allowing embedders or system administrators to deploy builds of Python where auditing is always enabled.\n",
      "\n",
      "See PEP 578 for full details.\n",
      "\n",
      "PEP 587: Python Initialization Configuration\n",
      "The PEP 587 adds a new C API to configure the Python Initialization providing finer control on the whole configuration and better error reporting.\n",
      " \n",
      " add seek(15,1) to the next release\n",
      " \n",
      " add seek(15,1) to the next release\n",
      " \n",
      " add seek(15,1) to the next release\n",
      " \n",
      " add seek(15,1) to the next release\n",
      " \n",
      " add seek(15,1) to the next release\n",
      " \n",
      " add seek(15,1) to the next release\n",
      " \n",
      " add seek(15,1) to the next release\n",
      " \n",
      " add seek(15,1) to the next release\n",
      " \n",
      " add seek(15,1) to the next release\n",
      "add seek(-15,2) to next release\n"
     ]
    }
   ],
   "source": [
    "#Opening file at append mode\n",
    "fp = open('sample4.txt','a+')\n",
    "print(fp.tell())\n",
    "fp.writelines([\"\\n \\n add seek(15,1) to the next release\\n\",\"add seek(-15,2) to next release\"])\n",
    "fp.seek(0)\n",
    "r = fp.read()\n",
    "print(r)\n",
    "fp.close()\n",
    "#Append + will perform read and write operation."
   ]
  },
  {
   "cell_type": "code",
   "execution_count": 49,
   "metadata": {},
   "outputs": [],
   "source": [
    "fp = open(r'sample5.txt','w')\n",
    "\n",
    "\n",
    "\n",
    "fp.close()"
   ]
  },
  {
   "cell_type": "code",
   "execution_count": null,
   "metadata": {},
   "outputs": [],
   "source": []
  }
 ],
 "metadata": {
  "kernelspec": {
   "display_name": "Python 3",
   "language": "python",
   "name": "python3"
  },
  "language_info": {
   "codemirror_mode": {
    "name": "ipython",
    "version": 3
   },
   "file_extension": ".py",
   "mimetype": "text/x-python",
   "name": "python",
   "nbconvert_exporter": "python",
   "pygments_lexer": "ipython3",
   "version": "3.7.4"
  }
 },
 "nbformat": 4,
 "nbformat_minor": 2
}
