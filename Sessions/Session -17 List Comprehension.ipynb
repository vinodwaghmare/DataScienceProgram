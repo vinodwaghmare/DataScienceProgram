{
 "cells": [
  {
   "cell_type": "code",
   "execution_count": 1,
   "metadata": {},
   "outputs": [
    {
     "name": "stdout",
     "output_type": "stream",
     "text": [
      "['a', 'n', 'w', 'c']\n"
     ]
    }
   ],
   "source": [
    "import random\n",
    "l = [97,110,119,99]\n",
    "l2 = [chr(value) for value in l]\n",
    "print(l2)"
   ]
  },
  {
   "cell_type": "code",
   "execution_count": 2,
   "metadata": {},
   "outputs": [
    {
     "name": "stdout",
     "output_type": "stream",
     "text": [
      "[25, 59, 89, 63, 73]\n"
     ]
    }
   ],
   "source": [
    "import random\n",
    "\n",
    "l2 = [random.randint(10,100) for value in range(5)]\n",
    "print(l2)"
   ]
  },
  {
   "cell_type": "code",
   "execution_count": 15,
   "metadata": {},
   "outputs": [],
   "source": [
    "l1 = [1,2,3]\n",
    "l2 = [10,20,30]\n",
    "l3 = [100,200,300]\n",
    "\n",
    "l5 = []"
   ]
  },
  {
   "cell_type": "code",
   "execution_count": 16,
   "metadata": {},
   "outputs": [
    {
     "name": "stdout",
     "output_type": "stream",
     "text": [
      "[[1, 10, 100], [2, 20, 200], [3, 30, 300]]\n"
     ]
    }
   ],
   "source": [
    "l5 =  [list(value) for value in zip(l1,l2,l3)]\n",
    "print(l5)"
   ]
  },
  {
   "cell_type": "code",
   "execution_count": null,
   "metadata": {},
   "outputs": [],
   "source": [
    "list compression when operations are same on each or every element"
   ]
  },
  {
   "cell_type": "code",
   "execution_count": 26,
   "metadata": {},
   "outputs": [
    {
     "name": "stdout",
     "output_type": "stream",
     "text": [
      "0.05678514700002779\n"
     ]
    }
   ],
   "source": [
    "import timeit \n",
    "t = timeit.timeit(stmt =\"\"\"\n",
    "l2 = [(value**2) for value in range(1,100000)]\n",
    "\"\"\",number = 1)\n",
    "print(t)"
   ]
  },
  {
   "cell_type": "code",
   "execution_count": 28,
   "metadata": {},
   "outputs": [
    {
     "name": "stdout",
     "output_type": "stream",
     "text": [
      "[10, 20, 30]\n"
     ]
    }
   ],
   "source": [
    "l = [10,15,20,25,30,35]\n",
    "l2 = [value for value in l if value % 2 == 0]\n",
    "print(l2)"
   ]
  },
  {
   "cell_type": "code",
   "execution_count": 29,
   "metadata": {},
   "outputs": [
    {
     "name": "stdout",
     "output_type": "stream",
     "text": [
      "[5, 5, 8]\n"
     ]
    }
   ],
   "source": [
    "l = ['abc',\"abcde\",\"zyzzy\",\"rttyuqyq\"]\n",
    "l2 = [len(value) for value in l if len(value) > 3]\n",
    "print(l2)"
   ]
  },
  {
   "cell_type": "code",
   "execution_count": 10,
   "metadata": {},
   "outputs": [
    {
     "name": "stdout",
     "output_type": "stream",
     "text": [
      "['a', 'n', 'w', 'n', 'a', 'h', 'z']\n"
     ]
    }
   ],
   "source": [
    "l = [60,97,110,119,110,123,130,122]\n",
    "\n",
    "l2 = [chr(value) if ord('a') <= value <= ord('z') else chr(value - 26) for value in l if value >= 97]\n",
    "print(l2)\n"
   ]
  },
  {
   "cell_type": "code",
   "execution_count": 7,
   "metadata": {},
   "outputs": [
    {
     "name": "stdout",
     "output_type": "stream",
     "text": [
      "['a', 'n', 'w', 'n', 'a', 'a', 'z']\n"
     ]
    }
   ],
   "source": [
    "l = [97,110,119,110,123,130,122]\n",
    "l2 = []\n",
    "for value in l:\n",
    "    if value in range(ord('a'),ord('z')+1):\n",
    "        l2.append(chr(value))\n",
    "    else:\n",
    "        l2.append(chr(ord('a')))\n",
    "print(l2)      "
   ]
  },
  {
   "cell_type": "code",
   "execution_count": 11,
   "metadata": {},
   "outputs": [
    {
     "name": "stdout",
     "output_type": "stream",
     "text": [
      "[(0, 100), (0, 101), (0, 102), (0, 103), (0, 104), (1, 100), (1, 101), (1, 102), (1, 103), (1, 104), (2, 100), (2, 101), (2, 102), (2, 103), (2, 104), (3, 100), (3, 101), (3, 102), (3, 103), (3, 104), (4, 100), (4, 101), (4, 102), (4, 103), (4, 104)]\n"
     ]
    }
   ],
   "source": [
    "l = [(value1,value2) for value1 in range(5) for value2 in range(100,105)]\n",
    "print(l)"
   ]
  },
  {
   "cell_type": "code",
   "execution_count": 13,
   "metadata": {},
   "outputs": [
    {
     "name": "stdout",
     "output_type": "stream",
     "text": [
      "[1, 2, 3, 4, 5, 6, 7, 8, 9]\n"
     ]
    }
   ],
   "source": [
    "l = [[1,2,3],[4,5,6],[7,8,9]]\n",
    "#l2 = [1,2,3,4,5,6,7,8,9]\n",
    "l2 = [ val2 for val1 in l for val2 in val1]\n",
    "print(l2)"
   ]
  },
  {
   "cell_type": "code",
   "execution_count": 37,
   "metadata": {},
   "outputs": [
    {
     "name": "stdout",
     "output_type": "stream",
     "text": [
      "[[1, 4, 7], [2, 5, 8], [3, 6, 9]]\n"
     ]
    }
   ],
   "source": [
    "l = [[1,2,3],[4,5,6],[7,8,9]]\n",
    "\n",
    "l2 = [[value[index] for value in l] for index in range(len(l[0]))]\n",
    "print(l2)"
   ]
  },
  {
   "cell_type": "code",
   "execution_count": null,
   "metadata": {},
   "outputs": [],
   "source": [
    "# d ={1:1,2:4,3:9,4:16 .....10:100}\n"
   ]
  },
  {
   "cell_type": "code",
   "execution_count": 38,
   "metadata": {},
   "outputs": [
    {
     "name": "stdout",
     "output_type": "stream",
     "text": [
      "{1: 1, 2: 4, 3: 9, 4: 16, 5: 25, 6: 36, 7: 49, 8: 64, 9: 81, 10: 100}\n"
     ]
    }
   ],
   "source": [
    "d2 = {key:key **2 for key in range(1,11)}\n",
    "print(d2)"
   ]
  },
  {
   "cell_type": "code",
   "execution_count": null,
   "metadata": {},
   "outputs": [],
   "source": [
    "d2 = {chr(value):value for c}"
   ]
  },
  {
   "cell_type": "code",
   "execution_count": 39,
   "metadata": {},
   "outputs": [
    {
     "name": "stdout",
     "output_type": "stream",
     "text": [
      "{(1, 10): 0, (11, 20): 0, (21, 30): 0, (31, 40): 0, (41, 50): 0, (51, 60): 0, (61, 70): 0, (71, 80): 0, (81, 90): 0, (91, 100): 0}\n"
     ]
    }
   ],
   "source": [
    "d3 ={(key,key +9):0 for key in range(1,92,10)}\n",
    "print(d3)"
   ]
  },
  {
   "cell_type": "code",
   "execution_count": 41,
   "metadata": {},
   "outputs": [
    {
     "name": "stdout",
     "output_type": "stream",
     "text": [
      "{0, 2, 3, 4}\n"
     ]
    }
   ],
   "source": [
    "l ={10,20,25,30,40,45,33,39,67}\n",
    "l2 = {value % 5 for value in l }\n",
    "print(l2)"
   ]
  },
  {
   "cell_type": "code",
   "execution_count": null,
   "metadata": {},
   "outputs": [],
   "source": []
  }
 ],
 "metadata": {
  "kernelspec": {
   "display_name": "Python 3",
   "language": "python",
   "name": "python3"
  },
  "language_info": {
   "codemirror_mode": {
    "name": "ipython",
    "version": 3
   },
   "file_extension": ".py",
   "mimetype": "text/x-python",
   "name": "python",
   "nbconvert_exporter": "python",
   "pygments_lexer": "ipython3",
   "version": "3.7.4"
  }
 },
 "nbformat": 4,
 "nbformat_minor": 2
}
