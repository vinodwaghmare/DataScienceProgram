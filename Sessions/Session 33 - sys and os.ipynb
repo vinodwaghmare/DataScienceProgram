{
 "cells": [
  {
   "cell_type": "code",
   "execution_count": null,
   "metadata": {},
   "outputs": [],
   "source": [
    "1 Execute all tests : >> pytest -v\n",
    "2 Specific folder     >> pytest -v folder_name\n",
    "3 Specfic py file     >> pytest -v folder_name/file_name.py\n",
    "4 Specific func       >> pytest -v folder_name/file_name.py ::func_name\n",
    "5 Specific set of func>> @pytest.mark.marker_name\n",
    "6 pytest -v -m \"marker_name\"\n",
    "\n",
    "@pytest.mark.parametrize(\"num1.num2\",[(10,20),(100,200)])\n",
    "\n",
    "    "
   ]
  },
  {
   "cell_type": "code",
   "execution_count": null,
   "metadata": {},
   "outputs": [],
   "source": [
    "import pdb\n",
    "pdb.set_trace()\n",
    "\n",
    "n => next\n",
    "c => continue\n",
    "s => step into\n",
    "r => return\n",
    "l1 => long list\n",
    "h => help\n"
   ]
  },
  {
   "cell_type": "code",
   "execution_count": null,
   "metadata": {},
   "outputs": [],
   "source": [
    "Counter\n",
    "deque\n",
    "ChainMap\n",
    "OrderedDict"
   ]
  },
  {
   "cell_type": "code",
   "execution_count": null,
   "metadata": {},
   "outputs": [],
   "source": [
    "c.most_common(5)\n",
    "update\n",
    "subract\n",
    "\n",
    "Dict parent class of Counter\n",
    "c[10]\n"
   ]
  },
  {
   "cell_type": "code",
   "execution_count": null,
   "metadata": {},
   "outputs": [],
   "source": [
    "dlinklist \n",
    "\n",
    "inserting at the start.\n",
    "pop from start.\n",
    "indexing will be slow.\n"
   ]
  },
  {
   "cell_type": "code",
   "execution_count": null,
   "metadata": {},
   "outputs": [],
   "source": [
    "generator ? yield \n",
    "\n",
    "list()\n",
    "for()\n",
    "next()  exe from one yield statemet to another yeild statement"
   ]
  },
  {
   "cell_type": "code",
   "execution_count": null,
   "metadata": {},
   "outputs": [],
   "source": [
    "itertools\n",
    "chain => combine multiple iterables\n",
    "islice => set value and iterate over it.\n",
    "permutations => all possible combinations\n",
    "combinations => \n",
    "cycle => It will iterate over same iterables until final condition is reached.\n",
    "repeat => It will repeat entire iterables until final condition is reached\n",
    "tee => multiple copies of iterator \n",
    "count => generate series of numbers."
   ]
  },
  {
   "cell_type": "code",
   "execution_count": null,
   "metadata": {},
   "outputs": [],
   "source": [
    "Parameter passing techniques\n",
    "    - positional => sequential mapping.\n",
    "    - keyword \n",
    "    - default num = 0\n",
    "    - variable positional *args/*a\n",
    "    - var keyword **kwargs"
   ]
  },
  {
   "cell_type": "code",
   "execution_count": null,
   "metadata": {},
   "outputs": [],
   "source": [
    "is => mem loc\n",
    "== => value"
   ]
  },
  {
   "cell_type": "code",
   "execution_count": null,
   "metadata": {},
   "outputs": [],
   "source": [
    "5 in 500 err : "
   ]
  },
  {
   "cell_type": "code",
   "execution_count": null,
   "metadata": {},
   "outputs": [],
   "source": [
    "[start:end:stride]"
   ]
  },
  {
   "cell_type": "code",
   "execution_count": null,
   "metadata": {},
   "outputs": [],
   "source": [
    "map_obj = map(func,iterables) => return map_obj"
   ]
  },
  {
   "cell_type": "code",
   "execution_count": null,
   "metadata": {},
   "outputs": [],
   "source": [
    "match obj => re.search\n",
    "m.group() => specific group in re through round brackets ()\n",
    "Specifiy name (?P<name>)"
   ]
  },
  {
   "cell_type": "code",
   "execution_count": null,
   "metadata": {},
   "outputs": [],
   "source": [
    "lambda arg1,arg2,arg3:( arg1 + arg2 +arg3) * 3"
   ]
  },
  {
   "cell_type": "code",
   "execution_count": 2,
   "metadata": {},
   "outputs": [],
   "source": [
    "import sys # sys modules provides info of python we're using"
   ]
  },
  {
   "cell_type": "code",
   "execution_count": 6,
   "metadata": {},
   "outputs": [
    {
     "name": "stdout",
     "output_type": "stream",
     "text": [
      "/Users/vinod/opt/anaconda3/bin/python\n",
      "3.7.4 (default, Aug 13 2019, 15:17:50) \n",
      "[Clang 4.0.1 (tags/RELEASE_401/final)]\n",
      "darwin\n"
     ]
    }
   ],
   "source": [
    "print(sys.executable)\n",
    "print(sys.version)\n",
    "print(sys.platform)"
   ]
  },
  {
   "cell_type": "code",
   "execution_count": 7,
   "metadata": {},
   "outputs": [
    {
     "name": "stdout",
     "output_type": "stream",
     "text": [
      "['/Users/vinod/Documents/Data_Scientist/Python', '/Users/vinod/opt/anaconda3/lib/python37.zip', '/Users/vinod/opt/anaconda3/lib/python3.7', '/Users/vinod/opt/anaconda3/lib/python3.7/lib-dynload', '', '/Users/vinod/opt/anaconda3/lib/python3.7/site-packages', '/Users/vinod/opt/anaconda3/lib/python3.7/site-packages/aeosa', '/Users/vinod/opt/anaconda3/lib/python3.7/site-packages/IPython/extensions', '/Users/vinod/.ipython']\n"
     ]
    }
   ],
   "source": [
    "print(sys.path)"
   ]
  },
  {
   "cell_type": "code",
   "execution_count": 16,
   "metadata": {},
   "outputs": [
    {
     "name": "stdout",
     "output_type": "stream",
     "text": [
      "['/Users/vinod/Documents/Data_Scientist/Python', '/Users/vinod/opt/anaconda3/lib/python37.zip', '/Users/vinod/opt/anaconda3/lib/python3.7', '/Users/vinod/opt/anaconda3/lib/python3.7/lib-dynload', '', '/Users/vinod/opt/anaconda3/lib/python3.7/site-packages', '/Users/vinod/opt/anaconda3/lib/python3.7/site-packages/aeosa', '/Users/vinod/opt/anaconda3/lib/python3.7/site-packages/IPython/extensions', '/Users/vinod/.ipython', 'Users/vinod/Applications', 'Users/vinod/Applications', 'Users/vinod/Applications', 'Users/vinod/Applications', 'Users/vinod/Applications', 'Users/vinod/Applications', 'Users/vinod/Applications', 'Users/vinod/Applications', 'Users/vinod/Documents']\n"
     ]
    }
   ],
   "source": [
    "sys.path.append(\"Users/vinod/Documents\")\n",
    "print(sys.path)\n",
    "import test\n"
   ]
  },
  {
   "cell_type": "code",
   "execution_count": 17,
   "metadata": {},
   "outputs": [
    {
     "name": "stdout",
     "output_type": "stream",
     "text": [
      "enter the value10\n"
     ]
    }
   ],
   "source": [
    "s = input(\"enter the value\")\n"
   ]
  },
  {
   "cell_type": "code",
   "execution_count": null,
   "metadata": {},
   "outputs": [],
   "source": [
    "While exe python automation script from cmd prompy"
   ]
  },
  {
   "cell_type": "code",
   "execution_count": null,
   "metadata": {},
   "outputs": [],
   "source": [
    "python filename.py 10 20 "
   ]
  },
  {
   "cell_type": "code",
   "execution_count": null,
   "metadata": {},
   "outputs": [],
   "source": [
    "python filename.py filename"
   ]
  },
  {
   "cell_type": "code",
   "execution_count": 54,
   "metadata": {},
   "outputs": [
    {
     "name": "stdout",
     "output_type": "stream",
     "text": [
      "24\n"
     ]
    }
   ],
   "source": [
    "num1 = 0\n",
    "print(sys.getsizeof(num1))\n"
   ]
  },
  {
   "cell_type": "code",
   "execution_count": 27,
   "metadata": {},
   "outputs": [
    {
     "name": "stdout",
     "output_type": "stream",
     "text": [
      "55\n"
     ]
    }
   ],
   "source": [
    "s = \"python\"\n",
    "s2 = \"Java\"\n",
    "s3 = \"pythonJava\"\n",
    "print(sys.getsizeof(s))\n",
    "#overhead value for str is 49"
   ]
  },
  {
   "cell_type": "code",
   "execution_count": null,
   "metadata": {},
   "outputs": [],
   "source": [
    "int => C code Structure defined as follows\n",
    "- number\n",
    "- ref count"
   ]
  },
  {
   "cell_type": "code",
   "execution_count": 50,
   "metadata": {},
   "outputs": [
    {
     "name": "stdout",
     "output_type": "stream",
     "text": [
      "72\n",
      "104\n",
      "104\n",
      "28\n",
      "104\n",
      "136\n",
      "136\n",
      "136\n",
      "136\n",
      "200\n"
     ]
    }
   ],
   "source": [
    "l = []\n",
    "print(sys.getsizeof(l))\n",
    "l.append(10)\n",
    "print(sys.getsizeof(l))\n",
    "l.append(\"Python is easy to learn\")\n",
    "print(sys.getsizeof(l))\n",
    "l.append(30)\n",
    "print(sys.getsizeof(l[0]))\n",
    "l.append(40)\n",
    "print(sys.getsizeof(l))\n",
    "l.append(50)\n",
    "print(sys.getsizeof(l))\n",
    "l.append(60)\n",
    "print(sys.getsizeof(l))\n",
    "l.append(70)\n",
    "print(sys.getsizeof(l))\n",
    "l.append(80)\n",
    "print(sys.getsizeof(l))\n",
    "l.append(90)\n",
    "print(sys.getsizeof(l))"
   ]
  },
  {
   "cell_type": "code",
   "execution_count": null,
   "metadata": {},
   "outputs": [],
   "source": [
    "default if we add a element it reserve place for next for elements "
   ]
  },
  {
   "cell_type": "code",
   "execution_count": null,
   "metadata": {},
   "outputs": [],
   "source": [
    "l = [1001,1002,1003,1004]\n",
    "1001 => 10\n",
    "1002 => 20\n",
    "1003 => \"Python\"\n",
    "1004 => (10,20,30)"
   ]
  },
  {
   "cell_type": "code",
   "execution_count": 60,
   "metadata": {},
   "outputs": [
    {
     "ename": "ZeroDivisionError",
     "evalue": "division by zero",
     "output_type": "error",
     "traceback": [
      "\u001b[0;31m---------------------------------------------------------------------------\u001b[0m",
      "\u001b[0;31mZeroDivisionError\u001b[0m                         Traceback (most recent call last)",
      "\u001b[0;32m<ipython-input-60-396560ac1a0c>\u001b[0m in \u001b[0;36m<module>\u001b[0;34m\u001b[0m\n\u001b[0;32m----> 1\u001b[0;31m \u001b[0mprint\u001b[0m\u001b[0;34m(\u001b[0m\u001b[0;36m10\u001b[0m\u001b[0;34m/\u001b[0m\u001b[0;36m0\u001b[0m\u001b[0;34m)\u001b[0m\u001b[0;34m\u001b[0m\u001b[0;34m\u001b[0m\u001b[0m\n\u001b[0m\u001b[1;32m      2\u001b[0m \u001b[0mfp\u001b[0m \u001b[0;34m=\u001b[0m \u001b[0mopen\u001b[0m\u001b[0;34m(\u001b[0m\u001b[0;34m'Users/vinod/Documents/Data_Scientist/Python/std_error.txt'\u001b[0m\u001b[0;34m,\u001b[0m\u001b[0;34m\"a\"\u001b[0m\u001b[0;34m)\u001b[0m\u001b[0;34m\u001b[0m\u001b[0;34m\u001b[0m\u001b[0m\n\u001b[1;32m      3\u001b[0m \u001b[0msys\u001b[0m\u001b[0;34m.\u001b[0m\u001b[0mstderr\u001b[0m \u001b[0;34m=\u001b[0m \u001b[0mfp\u001b[0m\u001b[0;34m\u001b[0m\u001b[0;34m\u001b[0m\u001b[0m\n\u001b[1;32m      4\u001b[0m \u001b[0mprint\u001b[0m\u001b[0;34m(\u001b[0m\u001b[0ml\u001b[0m\u001b[0;34m[\u001b[0m\u001b[0;36m1000\u001b[0m\u001b[0;34m]\u001b[0m\u001b[0;34m)\u001b[0m\u001b[0;34m\u001b[0m\u001b[0;34m\u001b[0m\u001b[0m\n\u001b[1;32m      5\u001b[0m \u001b[0;34m\u001b[0m\u001b[0m\n",
      "\u001b[0;31mZeroDivisionError\u001b[0m: division by zero"
     ]
    }
   ],
   "source": [
    "print(10/0)\n",
    "fp = open('Users/vinod/Documents/Data_Scientist/Python/std_error.txt',\"a\")\n",
    "sys.stderr = fp\n",
    "print(l[1000])\n",
    "\n",
    "fp.close()"
   ]
  },
  {
   "cell_type": "code",
   "execution_count": null,
   "metadata": {},
   "outputs": [],
   "source": [
    "import sys\n",
    "print(sys.argv)\n",
    "num1 = int(sys.argv[1])\n",
    "num2 = int(sys.argv[2])\n",
    "num3 = num1 + num2\n",
    "print(num3)\n"
   ]
  },
  {
   "cell_type": "code",
   "execution_count": null,
   "metadata": {},
   "outputs": [],
   "source": [
    "fp = open(\"errors.txt\",\"a\")\n",
    "sys.stderr = fp\n",
    "l = [10,20,30]\n",
    "print(l[1000])\n",
    "fp.close()\n"
   ]
  },
  {
   "cell_type": "code",
   "execution_count": null,
   "metadata": {},
   "outputs": [],
   "source": [
    "fp = open(\"a_out.txt\",\"a\")\n",
    "sys.stdout = fp\n",
    "l = [10,20,30]\n",
    "print(l[1])\n",
    "fp.close()\n"
   ]
  },
  {
   "cell_type": "code",
   "execution_count": 62,
   "metadata": {},
   "outputs": [],
   "source": [
    "import os #Allows you to perform Os level functionalities"
   ]
  },
  {
   "cell_type": "code",
   "execution_count": 63,
   "metadata": {},
   "outputs": [
    {
     "name": "stdout",
     "output_type": "stream",
     "text": [
      "/Users/vinod/Documents/Data_Scientist/Python\n"
     ]
    }
   ],
   "source": [
    "print(os.getcwd())"
   ]
  },
  {
   "cell_type": "code",
   "execution_count": 64,
   "metadata": {},
   "outputs": [
    {
     "name": "stdout",
     "output_type": "stream",
     "text": [
      "['problems.ipynb', 'Session 21 Object Oriented programming.ipynb', 'Session 15 Text File operation.ipynb', 'Session 30 - OOP revision.ipynb', 'a_out.txt', '.DS_Store', 'OOP Part 4.ipynb', 'Assignment 2 - OOPS.ipynb', 'gloss.xml', 'Untitled.ipynb', 'errors.txt', 'Session 21 - OOPS.ipynb', 'Session 31 - pytest and pdb.ipynb', 'Assignment 1 - Datatypes.ipynb', 'test.csv', 'Session 32 - Collections.ipynb', 'Session 20 - Problem Solving.ipynb', 'blog8.txt', 'Session 9,10   Problem Solving.ipynb', 'gloss.json', 'Session 7 - Tuple,Dictionaries.ipynb', 'Session 11,12,13,14  Functions and Module Revision.ipynb', 'Session 3 - Conditional Statement.ipynb', 'Functions1.ipynb', 'blog7.txt', 'Functions.ipynb', 'Session 8 -Sets.ipynb', 'Session - 26 - Iterators Generators Decorators.ipynb', 'Session -17 List Comprehension.ipynb', 'Session 22 - OOP Part2.ipynb', 'blog5.txt', 'Session 21 - Object Oriented Programming.ipynb', 'sys_test.py', 'blog1.txt', 'Session 33 - sys and os.ipynb', 'Session 16 Regular Expression .ipynb', 'Session - 24 Problem Solving.ipynb', 'Session 2 - Introduction of Python.ipynb', 'Session 23 - OOP  Part 3.ipynb', 'Session - 1 Environmental Setup  .ipynb', 'Session 4 - Looping Statement.ipynb', 'Session 6 - List.ipynb', 'Session 28 BS and requests.ipynb', 'Session 25 - Revision.ipynb', '.ipynb_checkpoints', 'unit_testing', 'sample6.txt', 'blog3.txt.ipynb', 'sample4.txt', 'Session 19 Problem Solving Session.ipynb', 'Session 5 - Strings.ipynb', 'sample5.txt', 'sample1.txt', 'Session - 18 - Map - Filter and Lambda.ipynb', 'Sample2.txt', 'assignment1.ipynb', 'Session 27 - XML JSON CSV file parsing.ipynb', 'sample.txt', 'sample3.txt']\n"
     ]
    }
   ],
   "source": [
    "print(os.listdir())"
   ]
  },
  {
   "cell_type": "code",
   "execution_count": 65,
   "metadata": {},
   "outputs": [
    {
     "name": "stdout",
     "output_type": "stream",
     "text": [
      "['problems.ipynb', 'Session 21 Object Oriented programming.ipynb', 'Session 15 Text File operation.ipynb', 'Session 30 - OOP revision.ipynb', 'a_out.txt', '.DS_Store', 'OOP Part 4.ipynb', 'Assignment 2 - OOPS.ipynb', 'gloss.xml', 'Untitled.ipynb', 'errors.txt', 'Session 21 - OOPS.ipynb', 'Session 31 - pytest and pdb.ipynb', 'Assignment 1 - Datatypes.ipynb', 'test.csv', 'Session 32 - Collections.ipynb', 'Session 20 - Problem Solving.ipynb', 'blog8.txt', 'Session 9,10   Problem Solving.ipynb', 'gloss.json', 'Session 7 - Tuple,Dictionaries.ipynb', 'Session 11,12,13,14  Functions and Module Revision.ipynb', 'Session 3 - Conditional Statement.ipynb', 'Functions1.ipynb', 'blog7.txt', 'Functions.ipynb', 'Session 8 -Sets.ipynb', 'Session - 26 - Iterators Generators Decorators.ipynb', 'Session -17 List Comprehension.ipynb', 'Session 22 - OOP Part2.ipynb', 'blog5.txt', 'Session 21 - Object Oriented Programming.ipynb', 'sys_test.py', 'blog1.txt', 'Session 33 - sys and os.ipynb', 'Session 16 Regular Expression .ipynb', 'Session - 24 Problem Solving.ipynb', 'Session 2 - Introduction of Python.ipynb', 'Session 23 - OOP  Part 3.ipynb', 'Session - 1 Environmental Setup  .ipynb', 'Session 4 - Looping Statement.ipynb', 'Session 6 - List.ipynb', 'Session 28 BS and requests.ipynb', 'Session 25 - Revision.ipynb', '.ipynb_checkpoints', 'unit_testing', 'sample6.txt', 'blog3.txt.ipynb', 'sample4.txt', 'Session 19 Problem Solving Session.ipynb', 'Session 5 - Strings.ipynb', 'sample5.txt', 'sample1.txt', 'Session - 18 - Map - Filter and Lambda.ipynb', 'os_test', 'Sample2.txt', 'assignment1.ipynb', 'Session 27 - XML JSON CSV file parsing.ipynb', 'sample.txt', 'sample3.txt']\n"
     ]
    }
   ],
   "source": [
    "os.mkdir(\"os_test\")\n",
    "print(os.listdir())"
   ]
  },
  {
   "cell_type": "code",
   "execution_count": 66,
   "metadata": {},
   "outputs": [
    {
     "name": "stdout",
     "output_type": "stream",
     "text": [
      "/Users/vinod/Documents/Data_Scientist/Python/os_test\n"
     ]
    }
   ],
   "source": [
    "os.chdir(\"os_test\")\n",
    "print(os.getcwd())"
   ]
  },
  {
   "cell_type": "code",
   "execution_count": 70,
   "metadata": {},
   "outputs": [
    {
     "name": "stdout",
     "output_type": "stream",
     "text": [
      "['test.py']\n",
      "test.py\n"
     ]
    }
   ],
   "source": [
    "print(os.listdir())\n",
    "print(os.listdir()[0])"
   ]
  },
  {
   "cell_type": "code",
   "execution_count": 71,
   "metadata": {},
   "outputs": [
    {
     "name": "stdout",
     "output_type": "stream",
     "text": [
      "test.py\n",
      "256\n"
     ]
    }
   ],
   "source": [
    "file_name = os.listdir()[0]\n",
    "print(file_name)\n",
    "a = os.system(\"python {}\".format(file_name))\n",
    "print(a)"
   ]
  },
  {
   "cell_type": "code",
   "execution_count": 74,
   "metadata": {},
   "outputs": [],
   "source": [
    "if sys.platform == \"darwin\":\n",
    "    os.system(\"ls\")\n",
    "else:\n",
    "    os.system(\"dir\")"
   ]
  },
  {
   "cell_type": "code",
   "execution_count": 3,
   "metadata": {},
   "outputs": [],
   "source": [
    "import os"
   ]
  },
  {
   "cell_type": "code",
   "execution_count": 4,
   "metadata": {},
   "outputs": [
    {
     "name": "stdout",
     "output_type": "stream",
     "text": [
      "/Users/vinod/Documents/Data_Scientist/Python\n"
     ]
    }
   ],
   "source": [
    "print(os.getcwd())"
   ]
  },
  {
   "cell_type": "code",
   "execution_count": 6,
   "metadata": {},
   "outputs": [
    {
     "name": "stdout",
     "output_type": "stream",
     "text": [
      "problems.ipynb\n"
     ]
    }
   ],
   "source": [
    "print(os.listdir()[0])"
   ]
  },
  {
   "cell_type": "code",
   "execution_count": 17,
   "metadata": {},
   "outputs": [
    {
     "name": "stdout",
     "output_type": "stream",
     "text": [
      "test.py\n",
      "Users/vinod/Data_Scientist/Python/os-test\n",
      "('Users/vinod/Data_Scientist/Python/os-test', 'test.py')\n"
     ]
    }
   ],
   "source": [
    "s = r\"Users/vinod/Data_Scientist/Python/os-test/test.py\"\n",
    "print(os.path.basename(s))\n",
    "print(os.path.dirname(s))\n",
    "print(os.path.split(s))"
   ]
  },
  {
   "cell_type": "code",
   "execution_count": 18,
   "metadata": {},
   "outputs": [
    {
     "name": "stdout",
     "output_type": "stream",
     "text": [
      "Users/vinod/Data_Scientist/Python/os-test/test.py\n"
     ]
    }
   ],
   "source": [
    "# r : raw str means we don't have to anything.\n",
    "s = r\"Users/vinod/Data_Scientist/Python/os-test/test.py\"\n",
    "d = os.path.dirname(s)\n",
    "file_name = \"test.py\"\n",
    "path = os.path.join(d,file_name)\n",
    "print(path)\n"
   ]
  },
  {
   "cell_type": "code",
   "execution_count": null,
   "metadata": {},
   "outputs": [],
   "source": [
    "print(__file__) #these calls the present file"
   ]
  },
  {
   "cell_type": "code",
   "execution_count": null,
   "metadata": {},
   "outputs": [],
   "source": []
  }
 ],
 "metadata": {
  "kernelspec": {
   "display_name": "Python 3",
   "language": "python",
   "name": "python3"
  },
  "language_info": {
   "codemirror_mode": {
    "name": "ipython",
    "version": 3
   },
   "file_extension": ".py",
   "mimetype": "text/x-python",
   "name": "python",
   "nbconvert_exporter": "python",
   "pygments_lexer": "ipython3",
   "version": "3.7.4"
  }
 },
 "nbformat": 4,
 "nbformat_minor": 2
}
