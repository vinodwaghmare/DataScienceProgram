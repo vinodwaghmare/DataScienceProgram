{
 "cells": [
  {
   "cell_type": "code",
   "execution_count": null,
   "metadata": {},
   "outputs": [],
   "source": [
    "Looping Statements : For \n",
    "                     While\n",
    "        "
   ]
  },
  {
   "cell_type": "code",
   "execution_count": 1,
   "metadata": {},
   "outputs": [
    {
     "name": "stdout",
     "output_type": "stream",
     "text": [
      "Python is easy to learn"
     ]
    }
   ],
   "source": [
    "for value in \"Python is easy to learn\":\n",
    "    \n",
    "    print(value,end = \"\") #here \"\\n\" =>new line is removed by using end = \"\""
   ]
  },
  {
   "cell_type": "code",
   "execution_count": 2,
   "metadata": {},
   "outputs": [
    {
     "name": "stdout",
     "output_type": "stream",
     "text": [
      "email\n",
      "name\n",
      "id\n"
     ]
    }
   ],
   "source": [
    "d = {\"email\" : \"abc@gmail.com\",\"name\":\"ABC\",\"id\":100}\n",
    "for x in d:\n",
    "    print(x) #only keys are the output not the value."
   ]
  },
  {
   "cell_type": "code",
   "execution_count": null,
   "metadata": {},
   "outputs": [],
   "source": [
    "l = [10,20,30,40,50]\n",
    "for [userdefined_variable] in [iterable_datatype]:\n",
    "    [statements]\n",
    "[Outside of for loop]    "
   ]
  },
  {
   "cell_type": "code",
   "execution_count": 3,
   "metadata": {},
   "outputs": [
    {
     "name": "stdout",
     "output_type": "stream",
     "text": [
      "100\n",
      "400\n",
      "900\n",
      "1600\n",
      "2500\n"
     ]
    }
   ],
   "source": [
    "l = [10,20,30,40,50]\n",
    "for value in l:\n",
    "    print(value * value)\n",
    "    "
   ]
  },
  {
   "cell_type": "markdown",
   "metadata": {},
   "source": [
    "iterable datatypes: \n",
    "    list \n",
    "    set\n",
    "    dict\n",
    "    tuple\n",
    "    str\n",
    "non-iterables datatypes:    \n",
    "    int\n",
    "    float\n",
    "    "
   ]
  },
  {
   "cell_type": "code",
   "execution_count": 1,
   "metadata": {},
   "outputs": [
    {
     "name": "stdout",
     "output_type": "stream",
     "text": [
      "150\n"
     ]
    }
   ],
   "source": [
    "l = [10,20,30,40,50]\n",
    "\n",
    "sum1 = 0\n",
    "\n",
    "for num in l:\n",
    "    sum1 = sum1 + num\n",
    "print(sum1)    \n"
   ]
  },
  {
   "cell_type": "code",
   "execution_count": null,
   "metadata": {},
   "outputs": [],
   "source": [
    "range(10) 0..... 9\n",
    "range(10,50) 10 11 12 .... 49\n",
    "range(10,50,5) 10 15 20..... 45\n"
   ]
  },
  {
   "cell_type": "code",
   "execution_count": 2,
   "metadata": {},
   "outputs": [
    {
     "name": "stdout",
     "output_type": "stream",
     "text": [
      "10\n",
      "15\n",
      "20\n",
      "25\n",
      "30\n",
      "35\n",
      "40\n",
      "45\n"
     ]
    }
   ],
   "source": [
    "for value in range(10,50,5):\n",
    "    print(value)"
   ]
  },
  {
   "cell_type": "code",
   "execution_count": 3,
   "metadata": {},
   "outputs": [
    {
     "name": "stdout",
     "output_type": "stream",
     "text": [
      "[0, 1, 2, 3, 4, 5, 6, 7, 8, 9, 10, 11, 12, 13, 14, 15, 16, 17, 18, 19, 20, 21, 22, 23, 24, 25, 26, 27, 28, 29, 30, 31, 32, 33, 34, 35, 36, 37, 38, 39, 40, 41, 42, 43, 44, 45, 46, 47, 48, 49]\n"
     ]
    }
   ],
   "source": [
    "print(list(range(50)))\n"
   ]
  },
  {
   "cell_type": "code",
   "execution_count": 4,
   "metadata": {},
   "outputs": [
    {
     "name": "stdout",
     "output_type": "stream",
     "text": [
      "0\n",
      "1\n",
      "2\n",
      "3\n",
      "4\n",
      "5\n",
      "6\n",
      "7\n",
      "8\n",
      "9\n",
      "10\n",
      "11\n",
      "12\n",
      "13\n",
      "14\n",
      "15\n",
      "16\n",
      "17\n",
      "18\n",
      "19\n",
      "20\n",
      "21\n",
      "22\n",
      "23\n",
      "24\n",
      "25\n",
      "26\n",
      "27\n",
      "28\n",
      "29\n",
      "30\n",
      "31\n",
      "32\n",
      "33\n",
      "34\n",
      "35\n",
      "36\n",
      "37\n",
      "38\n",
      "39\n",
      "40\n",
      "41\n",
      "42\n",
      "43\n",
      "44\n",
      "45\n",
      "46\n",
      "47\n",
      "48\n",
      "49\n"
     ]
    }
   ],
   "source": [
    "num1 = list(range(50))\n",
    "for value in num1: \n",
    "    print(value)"
   ]
  },
  {
   "cell_type": "code",
   "execution_count": null,
   "metadata": {},
   "outputs": [],
   "source": [
    "pass #It is used to \"do nothing\"\n",
    "continue #continue the loop \n",
    "break #break the loop"
   ]
  },
  {
   "cell_type": "code",
   "execution_count": 5,
   "metadata": {},
   "outputs": [
    {
     "name": "stdout",
     "output_type": "stream",
     "text": [
      "No. of Vowels are 4\n",
      "No. of Consonants are 14\n"
     ]
    }
   ],
   "source": [
    "# Count the number of vowel and consonant in a given string.\n",
    "s = \"Python Sample String\"\n",
    "vowel_count = 0\n",
    "consonant_count = 0\n",
    "for value in s:\n",
    "    if value in \"AEIOUaeiou\":\n",
    "        vowel_count += 1\n",
    "    elif value in \" \":\n",
    "        continue\n",
    "    else:    \n",
    "        consonant_count += 1\n",
    "print(\"No. of Vowels are\",vowel_count)\n",
    "\n",
    "print(\"No. of Consonants are\",consonant_count)\n",
    "\n",
    "        "
   ]
  },
  {
   "cell_type": "code",
   "execution_count": 6,
   "metadata": {},
   "outputs": [
    {
     "name": "stdout",
     "output_type": "stream",
     "text": [
      "hi\n",
      "hello\n"
     ]
    }
   ],
   "source": [
    "#lets see \"PASS\" is exactly \n",
    "if 100:\n",
    "    print(\"hi\")\n",
    "else:\n",
    "    pass\n",
    "print('hello')    \n",
    "\n",
    "#the meaning of pass is we help the condition to execute even if we don't have final condition.\n",
    "    #pass => Do Nothing,block of code not defined use pass to neglect the error.\n",
    " "
   ]
  },
  {
   "cell_type": "code",
   "execution_count": 7,
   "metadata": {},
   "outputs": [
    {
     "name": "stdout",
     "output_type": "stream",
     "text": [
      "10\n",
      "20\n",
      "30\n",
      "Negative value is -1\n"
     ]
    }
   ],
   "source": [
    "# Stop after getting negative no. in the list\n",
    "l = [10,20,30,-1,100,20,50,60]\n",
    "\n",
    "for value in l:\n",
    "    if value < 0:\n",
    "        break\n",
    "    else:\n",
    "        print(value)\n",
    "print(\"Negative value is\",value)        "
   ]
  },
  {
   "cell_type": "code",
   "execution_count": 8,
   "metadata": {},
   "outputs": [
    {
     "name": "stdout",
     "output_type": "stream",
     "text": [
      "10\n",
      "20\n",
      "30\n",
      "40\n",
      "Key is present\n"
     ]
    }
   ],
   "source": [
    "#how to use flag inorder to remove continuous printing statements.\n",
    "l= [10,20,30,40,50,70,80]\n",
    "key = 50\n",
    "\n",
    "flag = False\n",
    "\n",
    "for value in l:\n",
    "    if key == value:\n",
    "        flag = True\n",
    "        break\n",
    "    print(value)\n",
    "\n",
    "if flag == True:\n",
    "    print(\"Key is present\")\n",
    "else:\n",
    "    print(\"Key is not present\")"
   ]
  },
  {
   "cell_type": "code",
   "execution_count": 9,
   "metadata": {},
   "outputs": [],
   "source": [
    "l= [10,20,30,40,50,70,80]\n",
    "key = 50\n",
    "flag = False\n",
    "\n",
    "for value in l:\n",
    "    if key == value:\n",
    "\n",
    "        break\n",
    "else:\n",
    "    pass\n",
    "    \n"
   ]
  },
  {
   "cell_type": "code",
   "execution_count": 10,
   "metadata": {},
   "outputs": [
    {
     "name": "stdout",
     "output_type": "stream",
     "text": [
      "10\n",
      "20\n",
      "30\n",
      "40\n",
      "50\n",
      "60\n",
      "70\n",
      "80\n",
      "This statement is executed\n"
     ]
    }
   ],
   "source": [
    "#When for finishes from start to end it executes else condition outside the loop.\n",
    "l = [10,20,30,40,50,60,70,80]\n",
    "for value in l:\n",
    "    print(value)\n",
    "else:\n",
    "    print(\"This statement is executed\")\n"
   ]
  },
  {
   "cell_type": "code",
   "execution_count": null,
   "metadata": {},
   "outputs": [],
   "source": [
    "#When for loop doesn't finishes from start to end it doesn't executes the else condition.\n",
    "l = [10,20,30,40,50,60,70,80]\n",
    "key = 50\n",
    "for value in l:\n",
    "    if key == value:\n",
    "        print(\"Value is 50\")\n",
    "        break\n",
    "    else:    \n",
    "        print(value)\n",
    "else:\n",
    "    print(\"This statement is executed\")"
   ]
  },
  {
   "cell_type": "code",
   "execution_count": 11,
   "metadata": {},
   "outputs": [
    {
     "name": "stdout",
     "output_type": "stream",
     "text": [
      "10\n",
      "20\n",
      "30\n",
      "40\n",
      "Key is present\n"
     ]
    }
   ],
   "source": [
    "#earlier code\n",
    "#Here were going to use else conditon instead of flag\n",
    "l= [10,20,30,40,50,70,80]\n",
    "key = 50\n",
    "\n",
    "for value in l:\n",
    "    if key == value:\n",
    "        print(\"Key is present\")    \n",
    "        break\n",
    "        \n",
    "    print(value)\n",
    "    \n",
    "else:\n",
    "    print(\"Key is not present\")\n"
   ]
  },
  {
   "cell_type": "code",
   "execution_count": 12,
   "metadata": {},
   "outputs": [
    {
     "name": "stdout",
     "output_type": "stream",
     "text": [
      "0 10\n",
      "1 20\n",
      "2 30\n",
      "3 40\n",
      "4 50\n",
      "5 70\n",
      "6 80\n"
     ]
    }
   ],
   "source": [
    "#enumerate is a function which gives us index,value\n",
    "l= [10,20,30,40,50,70,80]\n",
    "for index,value in enumerate(l):\n",
    "    print(index,value)"
   ]
  },
  {
   "cell_type": "code",
   "execution_count": 13,
   "metadata": {},
   "outputs": [
    {
     "name": "stdout",
     "output_type": "stream",
     "text": [
      "20\n"
     ]
    }
   ],
   "source": [
    "l= [10,20,30,40,50,70,80]\n",
    "print(l[1])"
   ]
  },
  {
   "cell_type": "code",
   "execution_count": 14,
   "metadata": {},
   "outputs": [
    {
     "name": "stdout",
     "output_type": "stream",
     "text": [
      "10\n",
      "20\n",
      "30\n",
      "40\n",
      "Key is present and its index is 4\n"
     ]
    }
   ],
   "source": [
    "#Earlier code\n",
    "#here we're gonna also find the position of the key\n",
    "\n",
    "l= [10,20,30,40,50,70,80]\n",
    "key = 50\n",
    "\n",
    "for index,value in enumerate(l):\n",
    "    if key == value:\n",
    "        position_of_the_key = index\n",
    "        print(\"Key is present and its\",\"index is\",index)    \n",
    "        break\n",
    "        \n",
    "    print(value)\n",
    "    \n",
    "else:\n",
    "    print(\"Key is not present\")\n"
   ]
  },
  {
   "cell_type": "code",
   "execution_count": 15,
   "metadata": {},
   "outputs": [
    {
     "name": "stdout",
     "output_type": "stream",
     "text": [
      "23  is a  not perfect no.\n"
     ]
    }
   ],
   "source": [
    "#Check whether the no. is prefect no. or not\n",
    "#eg 1 + 2 + 3 = 6\n",
    "#here we div by 2 and add by 1 because max no. div is half the actual no. \n",
    "# for 28 div by 1 2 4 7 14 so max num is 14 which is half after 14 other divides 28\n",
    "num1 = 23\n",
    "sum = 0\n",
    "for i in range(1,num1 // 2 + 1): \n",
    "    if num1 % i == 0:             \n",
    "        sum = sum + i\n",
    "if sum == num1:\n",
    "    print(num1 ,\" is a perfect no.\")\n",
    "else:\n",
    "        print(num1 ,\" is a  not perfect no.\")\n",
    "\n",
    "    "
   ]
  },
  {
   "cell_type": "code",
   "execution_count": 16,
   "metadata": {},
   "outputs": [
    {
     "name": "stdout",
     "output_type": "stream",
     "text": [
      "1 * 1 = 1 1 * 2 = 2 1 * 3 = 3 1 * 4 = 4 1 * 5 = 5 1 * 6 = 6 1 * 7 = 7 1 * 8 = 8 1 * 9 = 9 1 * 10 = 10 \n",
      "\n",
      "2 * 1 = 2 2 * 2 = 4 2 * 3 = 6 2 * 4 = 8 2 * 5 = 10 2 * 6 = 12 2 * 7 = 14 2 * 8 = 16 2 * 9 = 18 2 * 10 = 20 \n",
      "\n",
      "3 * 1 = 3 3 * 2 = 6 3 * 3 = 9 3 * 4 = 12 3 * 5 = 15 3 * 6 = 18 3 * 7 = 21 3 * 8 = 24 3 * 9 = 27 3 * 10 = 30 \n",
      "\n",
      "4 * 1 = 4 4 * 2 = 8 4 * 3 = 12 4 * 4 = 16 4 * 5 = 20 4 * 6 = 24 4 * 7 = 28 4 * 8 = 32 4 * 9 = 36 4 * 10 = 40 \n",
      "\n",
      "5 * 1 = 5 5 * 2 = 10 5 * 3 = 15 5 * 4 = 20 5 * 5 = 25 5 * 6 = 30 5 * 7 = 35 5 * 8 = 40 5 * 9 = 45 5 * 10 = 50 \n",
      "\n"
     ]
    }
   ],
   "source": [
    "#Print the table of 5\n",
    "num2 = 5\n",
    "#5 * 1 = 5\n",
    "for num1 in range(1,num2 + 1):\n",
    "    for num in range(1,11):\n",
    "        print(num1, \"*\" ,num, \"=\" ,num1*num,end = \" \")\n",
    "    print(\"\\n\")    \n",
    "    "
   ]
  },
  {
   "cell_type": "code",
   "execution_count": null,
   "metadata": {},
   "outputs": [],
   "source": [
    "-for loop syntax\n",
    "-for var in [iterable datatype]:\n",
    "-range(100,500) => 100...499\n",
    "-range(100,500,100) => 100,200,300,400\n",
    "-enumerate => index,value\n",
    "-pass\n",
    "-continue\n",
    "-break\n",
    "\n"
   ]
  },
  {
   "cell_type": "code",
   "execution_count": 17,
   "metadata": {},
   "outputs": [
    {
     "name": "stdout",
     "output_type": "stream",
     "text": [
      "10,20,Python Hi,Java\n"
     ]
    }
   ],
   "source": [
    "print(10,20,\"Python\",end =\" \",sep =\",\")\n",
    "print(\"Hi\",end = \",\")\n",
    "print(\"Java\")"
   ]
  },
  {
   "cell_type": "code",
   "execution_count": null,
   "metadata": {},
   "outputs": [],
   "source": [
    "while condition => True/False\n",
    "    statements"
   ]
  },
  {
   "cell_type": "code",
   "execution_count": null,
   "metadata": {},
   "outputs": [],
   "source": [
    "num1 = 5\n",
    "result = 1\n",
    "while num1 > 1:\n",
    "    result = result * num1\n",
    "    num1 -= 1\n",
    "print(result)    "
   ]
  },
  {
   "cell_type": "code",
   "execution_count": 18,
   "metadata": {},
   "outputs": [
    {
     "name": "stdout",
     "output_type": "stream",
     "text": [
      "105\n"
     ]
    }
   ],
   "source": [
    "#here were going to use else\n",
    "count = 1\n",
    "sum = 0\n",
    "\n",
    "while count <= 20:\n",
    "    sum = sum + count\n",
    "    count += 1\n",
    "    if count == 15:\n",
    "        break\n",
    "    \n",
    "else:\n",
    "    print(\"Statement gets executed\")\n",
    "print(sum)    "
   ]
  },
  {
   "cell_type": "code",
   "execution_count": null,
   "metadata": {},
   "outputs": [],
   "source": []
  },
  {
   "cell_type": "code",
   "execution_count": null,
   "metadata": {},
   "outputs": [],
   "source": []
  },
  {
   "cell_type": "code",
   "execution_count": null,
   "metadata": {},
   "outputs": [],
   "source": []
  },
  {
   "cell_type": "code",
   "execution_count": null,
   "metadata": {},
   "outputs": [],
   "source": []
  }
 ],
 "metadata": {
  "kernelspec": {
   "display_name": "Python 3",
   "language": "python",
   "name": "python3"
  },
  "language_info": {
   "codemirror_mode": {
    "name": "ipython",
    "version": 3
   },
   "file_extension": ".py",
   "mimetype": "text/x-python",
   "name": "python",
   "nbconvert_exporter": "python",
   "pygments_lexer": "ipython3",
   "version": "3.7.4"
  }
 },
 "nbformat": 4,
 "nbformat_minor": 2
}
