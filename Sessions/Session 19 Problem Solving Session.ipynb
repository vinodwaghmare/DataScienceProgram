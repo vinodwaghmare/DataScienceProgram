{
 "cells": [
  {
   "cell_type": "code",
   "execution_count": null,
   "metadata": {},
   "outputs": [],
   "source": [
    "Keyword Density :\n",
    "    -target keyword : count(artificial intelligence)\n",
    "    -total no. of words in the file\n",
    "    -"
   ]
  },
  {
   "cell_type": "code",
   "execution_count": 15,
   "metadata": {},
   "outputs": [
    {
     "name": "stdout",
     "output_type": "stream",
     "text": [
      "Total number of words in this file 617\n",
      "0.008103727714748784\n"
     ]
    }
   ],
   "source": [
    "import re\n",
    "fp = open(\"blog1.txt\",\"r\",encoding = \"utf-8\")\n",
    "raw_content = fp.read()\n",
    "words = re.compile(\"[a-zA-Z']+\")\n",
    "all_words = re.findall(words,raw_content.lower())\n",
    "all_words_count = len(all_words)\n",
    "print(\"Total number of words in this file {}\".format((all_words_count)))\n",
    "\n",
    "target_keyword = \"Artificial Intelligence\".lower()\n",
    "target_keyword_count = raw_content.count(target_keyword)\n",
    "keyword_density = target_keyword_count / all_words_count\n",
    "print(keyword_density)\n",
    "fp.close()"
   ]
  },
  {
   "cell_type": "code",
   "execution_count": 12,
   "metadata": {},
   "outputs": [
    {
     "name": "stdout",
     "output_type": "stream",
     "text": [
      "[\"We're\", 'one']\n"
     ]
    }
   ],
   "source": [
    "import re\n",
    "s = \"We're one\"\n",
    "r = re.compile(\"[a-zA-Z']+\")\n",
    "m = re.findall(r,s)\n",
    "print(m)"
   ]
  },
  {
   "cell_type": "code",
   "execution_count": 41,
   "metadata": {},
   "outputs": [
    {
     "name": "stdout",
     "output_type": "stream",
     "text": [
      "[('and', 0.03889789303079417), ('the', 0.03727714748784441), ('of', 0.03403565640194489), ('to', 0.03241491085899514), ('a', 0.03079416531604538), ('ai', 0.024311183144246355), ('is', 0.022690437601296597), ('it', 0.02106969205834684), ('learning', 0.017828200972447326), ('that', 0.01620745542949757)]\n"
     ]
    }
   ],
   "source": [
    "import re\n",
    "fp = open(\"blog1.txt\",\"r\",encoding = \"utf-8\")\n",
    "raw_content = fp.read()\n",
    "keyword_density = {}\n",
    "\n",
    "words = re.compile(\"[A-Za-z']+\")\n",
    "all_words = re.findall(words,raw_content.lower())\n",
    "#print(all_words)\n",
    "all_unique_words = set(all_words)\n",
    "all_words_count = len(all_words)\n",
    "\n",
    "for word in all_unique_words:\n",
    "    keyword_density.setdefault(word, all_words.count(word) / all_words_count)\n",
    "    \n",
    "#print(keyword_density)    \n",
    "most_freq = sorted(keyword_density.items(),reverse = True, key = lambda val: val[1])\n",
    "#lambda use a condition where we are sorting the tuple on the basis of 1st value and in descending order \n",
    "# So, key = Rversed\n",
    "print(most_freq[:10]) # Top 10 frequencies of number in a file.\n"
   ]
  },
  {
   "cell_type": "code",
   "execution_count": 37,
   "metadata": {},
   "outputs": [
    {
     "name": "stdout",
     "output_type": "stream",
     "text": [
      "[\"we're\"]\n"
     ]
    }
   ],
   "source": [
    "s =\"we're\"\n",
    "r = re.compile(\"[a-zA-Z']+\")\n",
    "m = re.findall(r,s)\n",
    "print(m)"
   ]
  },
  {
   "cell_type": "code",
   "execution_count": null,
   "metadata": {},
   "outputs": [],
   "source": [
    "2. Write a program to search word in given text file.\n",
    "    1. If a word is present print the sentence containing the given word.\n",
    "    2. Implement find,find next and find all functionality.\n",
    "    \n",
    "    "
   ]
  },
  {
   "cell_type": "code",
   "execution_count": 74,
   "metadata": {},
   "outputs": [
    {
     "name": "stdout",
     "output_type": "stream",
     "text": [
      "<_io.TextIOWrapper name='blog1.txt' mode='r' encoding='utf'>\n",
      "Getting started with Artificial Intelligence\n",
      "\n"
     ]
    }
   ],
   "source": [
    "fp = open(\"blog1.txt\",\"r\",encoding =\"utf\")\n",
    "# raw_content = fp.read()\n",
    "# word = re.compile(\"[A-Za-z']+\")\n",
    "# all_words = re.findall(word, raw_content.lower())\n",
    "# print(all_words)\n",
    "# target_word = \"Artificial Intelligence\".lower()\n",
    "# print(target_word)\n",
    "for word in \n",
    "print(next(fp))\n",
    "fp.close()"
   ]
  },
  {
   "cell_type": "code",
   "execution_count": null,
   "metadata": {},
   "outputs": [],
   "source": [
    "s = In this artificial intelligence course, we will talk about how to get started with AI and what exactly it is. While it began as a part of smartphones and other smart devices, AI has been increasingly taking over in other fields too"
   ]
  },
  {
   "cell_type": "code",
   "execution_count": 84,
   "metadata": {},
   "outputs": [
    {
     "name": "stdout",
     "output_type": "stream",
     "text": [
      "re rapidly moving towards a day and age where almost everything can be controlled by machines and one of the most revolutionary moves has been the advent of artificial intelligence.\n",
      "\n",
      "\n",
      " \n",
      "Types\n",
      "\n",
      "Next in line with this artificial intelligence online course is understanding the various types of AI.\n"
     ]
    }
   ],
   "source": [
    "import re\n",
    "fp = open(\"blog1.txt\",\"r\")\n",
    "raw_content = fp.read()\n",
    "sentencse = re.compile(\"[a-zA-Z\\s']+\\.\")\n",
    "all_sen = re.findall(sentencse,raw_content)\n",
    "#print(all_sen[0])\n",
    "\n",
    "keyword = \"Artificial Intelligence\".lower()\n",
    "f = filter(lambda value: keyword in value,all_sen)\n",
    "print(next(f))\n",
    "print(next(f))\n"
   ]
  },
  {
   "cell_type": "code",
   "execution_count": null,
   "metadata": {},
   "outputs": [],
   "source": []
  }
 ],
 "metadata": {
  "kernelspec": {
   "display_name": "Python 3",
   "language": "python",
   "name": "python3"
  },
  "language_info": {
   "codemirror_mode": {
    "name": "ipython",
    "version": 3
   },
   "file_extension": ".py",
   "mimetype": "text/x-python",
   "name": "python",
   "nbconvert_exporter": "python",
   "pygments_lexer": "ipython3",
   "version": "3.7.4"
  }
 },
 "nbformat": 4,
 "nbformat_minor": 2
}
