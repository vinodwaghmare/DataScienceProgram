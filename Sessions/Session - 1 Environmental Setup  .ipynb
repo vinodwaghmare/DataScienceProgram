{
 "cells": [
  {
   "cell_type": "code",
   "execution_count": 1,
   "metadata": {},
   "outputs": [
    {
     "name": "stdout",
     "output_type": "stream",
     "text": [
      "Hi\n"
     ]
    }
   ],
   "source": [
    "print(\"Hi\")"
   ]
  },
  {
   "cell_type": "code",
   "execution_count": null,
   "metadata": {},
   "outputs": [],
   "source": [
    "Datatype:\n",
    "    1)int 10 14\n",
    "    2)float 12.332 34.92932\n",
    "    3) Str ‘Hi’ \"I’m\" ‘’’Vinod’’'\n",
    "    4) list [10,20,30,40],[10,20,30,40,50,\"Java\", \"Python\", [10, 34, 98, 43] ]\n",
    "    5)tuple ( 10, 20, 30 ,40, \"Python\", \"Java\")\n",
    "    6)dict { \"Email\":\"abc@gmail.com\", \"Phone no.\":\"9158590121\",\"Age\":22 }\n",
    "    7)set {10,20,30,40 }\n",
    "    8)bool True/False\n",
    "    None\n"
   ]
  },
  {
   "cell_type": "code",
   "execution_count": 3,
   "metadata": {},
   "outputs": [
    {
     "name": "stdout",
     "output_type": "stream",
     "text": [
      "300\n"
     ]
    }
   ],
   "source": [
    "num1=100\n",
    "num2=200\n",
    "num3=num1+num2\n",
    "print(num3)"
   ]
  },
  {
   "cell_type": "code",
   "execution_count": 4,
   "metadata": {},
   "outputs": [
    {
     "ename": "SyntaxError",
     "evalue": "invalid syntax (<ipython-input-4-bd33bad39c1f>, line 1)",
     "output_type": "error",
     "traceback": [
      "\u001b[0;36m  File \u001b[0;32m\"<ipython-input-4-bd33bad39c1f>\"\u001b[0;36m, line \u001b[0;32m1\u001b[0m\n\u001b[0;31m    PEP 8 =>guidlines about how your python code should look\u001b[0m\n\u001b[0m        ^\u001b[0m\n\u001b[0;31mSyntaxError\u001b[0m\u001b[0;31m:\u001b[0m invalid syntax\n"
     ]
    }
   ],
   "source": [
    "PEP 8 =>guidlines about how your python code should look\n"
   ]
  },
  {
   "cell_type": "code",
   "execution_count": null,
   "metadata": {},
   "outputs": [],
   "source": [
    "balance = 455\n",
    "remaining_balance = 500\n",
    "\n",
    "first_name\n",
    "firstName"
   ]
  },
  {
   "cell_type": "code",
   "execution_count": null,
   "metadata": {},
   "outputs": [],
   "source": [
    "num_one = 100"
   ]
  },
  {
   "cell_type": "code",
   "execution_count": null,
   "metadata": {},
   "outputs": [],
   "source": [
    "FIRST_NAME = \"Vinod\""
   ]
  },
  {
   "cell_type": "code",
   "execution_count": null,
   "metadata": {},
   "outputs": [],
   "source": [
    "num_one = 100\n",
    "FILE_LOCATION = \"\""
   ]
  },
  {
   "cell_type": "code",
   "execution_count": null,
   "metadata": {},
   "outputs": [],
   "source": [
    "*Always give meaningful variable names\n",
    "1. underscore first_name\n",
    "2. for variable name it should start with lower_case alpha\n",
    "3. For constant ALL CAPS\n",
    "4. digits are allowed not ate the start,omnly special char allowed _\n"
   ]
  },
  {
   "cell_type": "code",
   "execution_count": 7,
   "metadata": {},
   "outputs": [
    {
     "name": "stdout",
     "output_type": "stream",
     "text": [
      "<class 'str'>\n"
     ]
    }
   ],
   "source": [
    "name = \"ABC\"\n",
    "print(type(name))"
   ]
  },
  {
   "cell_type": "code",
   "execution_count": null,
   "metadata": {},
   "outputs": [],
   "source": []
  },
  {
   "cell_type": "code",
   "execution_count": null,
   "metadata": {},
   "outputs": [],
   "source": [
    "print(10,20,30)\n"
   ]
  },
  {
   "cell_type": "code",
   "execution_count": 8,
   "metadata": {},
   "outputs": [
    {
     "name": "stdout",
     "output_type": "stream",
     "text": [
      "<class 'dict'>\n"
     ]
    }
   ],
   "source": [
    "d = {1:1,2:4,4:5}\n",
    "print(type(d))"
   ]
  },
  {
   "cell_type": "code",
   "execution_count": null,
   "metadata": {},
   "outputs": [],
   "source": [
    "immutable vs mutable"
   ]
  },
  {
   "cell_type": "code",
   "execution_count": 10,
   "metadata": {},
   "outputs": [
    {
     "name": "stdout",
     "output_type": "stream",
     "text": [
      "100 4403581168\n",
      "200 4403584368\n"
     ]
    }
   ],
   "source": [
    "num1 = 100\n",
    "print(num1,id(num1))\n",
    "\n",
    "num2 = 200\n",
    "print(num2,id(num2))"
   ]
  },
  {
   "cell_type": "code",
   "execution_count": null,
   "metadata": {},
   "outputs": [],
   "source": [
    "Memory Location: \n",
    "    1.Immutable: At same memory location I can not change the value\n",
    "    2.Mutable: I can change the value at same memory location    "
   ]
  },
  {
   "cell_type": "code",
   "execution_count": 11,
   "metadata": {},
   "outputs": [
    {
     "name": "stdout",
     "output_type": "stream",
     "text": [
      "4417486640\n",
      "4405996016\n"
     ]
    }
   ],
   "source": [
    "s = \"python\"\n",
    "print(id(s))\n",
    "s = \"java\"\n",
    "\n",
    "print(id(s))\n"
   ]
  },
  {
   "cell_type": "code",
   "execution_count": 13,
   "metadata": {},
   "outputs": [
    {
     "name": "stdout",
     "output_type": "stream",
     "text": [
      "4443741952\n",
      "4443741952\n"
     ]
    }
   ],
   "source": [
    "l = [10,20,30,40]\n",
    "print(id(l))\n",
    "l.append(50)\n",
    "print(id(l))"
   ]
  },
  {
   "cell_type": "code",
   "execution_count": null,
   "metadata": {},
   "outputs": [],
   "source": [
    "1. Mutable : Add,Update and delete operations\n",
    "2. Immutable : Can not perform add,update,delete\n",
    "    "
   ]
  },
  {
   "cell_type": "code",
   "execution_count": null,
   "metadata": {},
   "outputs": [],
   "source": [
    "Immutable:\n",
    "    int\n",
    "    float\n",
    "    str\n",
    "    tuple\n",
    "Mutable :(Add ,Update,Delete)\n",
    "    list\n",
    "    dict \n",
    "    set"
   ]
  },
  {
   "cell_type": "code",
   "execution_count": 15,
   "metadata": {},
   "outputs": [
    {
     "name": "stdout",
     "output_type": "stream",
     "text": [
      "<class 'set'> {34, 10, 20, 23, 30}\n"
     ]
    }
   ],
   "source": [
    "s = {10,20,30,30,20,30,34,23}\n",
    "print(type(s),s)"
   ]
  },
  {
   "cell_type": "code",
   "execution_count": 4,
   "metadata": {},
   "outputs": [
    {
     "name": "stdout",
     "output_type": "stream",
     "text": [
      "4359344368\n",
      "4359344656\n"
     ]
    }
   ],
   "source": [
    "num1 = 257\n",
    "num2 = 257\n",
    "print(id(num1))\n",
    "print(id(num2))"
   ]
  },
  {
   "cell_type": "code",
   "execution_count": null,
   "metadata": {},
   "outputs": [],
   "source": [
    "0 - 256 => Object intering\n"
   ]
  },
  {
   "cell_type": "code",
   "execution_count": 8,
   "metadata": {},
   "outputs": [
    {
     "ename": "TypeError",
     "evalue": "unsupported operand type(s) for -: 'str' and 'str'",
     "output_type": "error",
     "traceback": [
      "\u001b[0;31m---------------------------------------------------------------------------\u001b[0m",
      "\u001b[0;31mTypeError\u001b[0m                                 Traceback (most recent call last)",
      "\u001b[0;32m<ipython-input-8-7b83306df522>\u001b[0m in \u001b[0;36m<module>\u001b[0;34m\u001b[0m\n\u001b[1;32m      1\u001b[0m \u001b[0ms1\u001b[0m \u001b[0;34m=\u001b[0m \u001b[0;34m'j'\u001b[0m\u001b[0;34m\u001b[0m\u001b[0;34m\u001b[0m\u001b[0m\n\u001b[1;32m      2\u001b[0m \u001b[0ms2\u001b[0m \u001b[0;34m=\u001b[0m \u001b[0;34m'se'\u001b[0m\u001b[0;34m\u001b[0m\u001b[0;34m\u001b[0m\u001b[0m\n\u001b[0;32m----> 3\u001b[0;31m \u001b[0mprint\u001b[0m\u001b[0;34m(\u001b[0m\u001b[0ms1\u001b[0m \u001b[0;34m-\u001b[0m \u001b[0ms2\u001b[0m\u001b[0;34m)\u001b[0m\u001b[0;34m\u001b[0m\u001b[0;34m\u001b[0m\u001b[0m\n\u001b[0m",
      "\u001b[0;31mTypeError\u001b[0m: unsupported operand type(s) for -: 'str' and 'str'"
     ]
    }
   ],
   "source": [
    "s1 = 'j'\n",
    "s2 = 'se'\n",
    "print(s1 - s2)"
   ]
  },
  {
   "cell_type": "code",
   "execution_count": 40,
   "metadata": {},
   "outputs": [
    {
     "ename": "SyntaxError",
     "evalue": "invalid syntax (<ipython-input-40-3d1d3789fd33>, line 1)",
     "output_type": "error",
     "traceback": [
      "\u001b[0;36m  File \u001b[0;32m\"<ipython-input-40-3d1d3789fd33>\"\u001b[0;36m, line \u001b[0;32m1\u001b[0m\n\u001b[0;31m    Operators :\u001b[0m\n\u001b[0m               ^\u001b[0m\n\u001b[0;31mSyntaxError\u001b[0m\u001b[0;31m:\u001b[0m invalid syntax\n"
     ]
    }
   ],
   "source": [
    "Operators :\n",
    "    1. Arthimetic Operator : => = - * ,=>.%, // floor division, / =>True Division\n",
    "    2.Comparison Operator ==,<,>,<=,>=,==,=> True/False\n",
    "    3.Membership Operators== in,not in\n",
    "    4.Identity Operator: is,is not\n",
    "    5.Assignment Operator:=,+=,-=,*=,/= \n",
    "    6.Logical Operators: and or not && ||\n",
    "    "
   ]
  },
  {
   "cell_type": "code",
   "execution_count": 20,
   "metadata": {},
   "outputs": [
    {
     "name": "stdout",
     "output_type": "stream",
     "text": [
      "3\n",
      "3.3333333333333335\n",
      "1\n",
      "100\n"
     ]
    }
   ],
   "source": [
    "print(10//3)\n",
    "print(10/3)\n",
    "print(10%3)\n",
    "print(10**2)\n"
   ]
  },
  {
   "cell_type": "code",
   "execution_count": 21,
   "metadata": {},
   "outputs": [
    {
     "name": "stdout",
     "output_type": "stream",
     "text": [
      "False\n"
     ]
    }
   ],
   "source": [
    "s1=\"Python\"\n",
    "s2=\"python\"\n",
    "print(s1==s2)"
   ]
  },
  {
   "cell_type": "code",
   "execution_count": 22,
   "metadata": {},
   "outputs": [
    {
     "name": "stdout",
     "output_type": "stream",
     "text": [
      "True\n"
     ]
    }
   ],
   "source": [
    "print(10>5)"
   ]
  },
  {
   "cell_type": "code",
   "execution_count": 2,
   "metadata": {},
   "outputs": [
    {
     "name": "stdout",
     "output_type": "stream",
     "text": [
      "False\n"
     ]
    }
   ],
   "source": [
    "l=[100,200,300,400,500]\n",
    "print(4000 in l)\n"
   ]
  },
  {
   "cell_type": "code",
   "execution_count": 4,
   "metadata": {},
   "outputs": [
    {
     "name": "stdout",
     "output_type": "stream",
     "text": [
      "True\n"
     ]
    }
   ],
   "source": [
    "s1=\"Python\"\n",
    "print(\"n\" in s1)"
   ]
  },
  {
   "cell_type": "code",
   "execution_count": 27,
   "metadata": {},
   "outputs": [
    {
     "name": "stdout",
     "output_type": "stream",
     "text": [
      "False\n"
     ]
    }
   ],
   "source": [
    "s1=\"Python\"\n",
    "print(\"P\" not in s1)"
   ]
  },
  {
   "cell_type": "code",
   "execution_count": 28,
   "metadata": {},
   "outputs": [
    {
     "ename": "TypeError",
     "evalue": "argument of type 'int' is not iterable",
     "output_type": "error",
     "traceback": [
      "\u001b[0;31m---------------------------------------------------------------------------\u001b[0m",
      "\u001b[0;31mTypeError\u001b[0m                                 Traceback (most recent call last)",
      "\u001b[0;32m<ipython-input-28-3c88053b5764>\u001b[0m in \u001b[0;36m<module>\u001b[0;34m\u001b[0m\n\u001b[0;32m----> 1\u001b[0;31m \u001b[0mprint\u001b[0m\u001b[0;34m(\u001b[0m\u001b[0;36m5\u001b[0m \u001b[0;32min\u001b[0m \u001b[0;36m500\u001b[0m\u001b[0;34m)\u001b[0m\u001b[0;34m\u001b[0m\u001b[0;34m\u001b[0m\u001b[0m\n\u001b[0m",
      "\u001b[0;31mTypeError\u001b[0m: argument of type 'int' is not iterable"
     ]
    }
   ],
   "source": [
    "print(5 in 500)"
   ]
  },
  {
   "cell_type": "code",
   "execution_count": null,
   "metadata": {},
   "outputs": [],
   "source": [
    "Not iterable : int,float\n",
    "Iterable (Collection of values,str,elements):str,tuple,list,dict,set"
   ]
  },
  {
   "cell_type": "code",
   "execution_count": 31,
   "metadata": {},
   "outputs": [
    {
     "name": "stdout",
     "output_type": "stream",
     "text": [
      "True\n"
     ]
    }
   ],
   "source": [
    "d={1:100,2:200,3:300}\n",
    "print(3 in d)  #in operator checks whether 3 is present in the dict or not by iterating from starting key."
   ]
  },
  {
   "cell_type": "code",
   "execution_count": null,
   "metadata": {},
   "outputs": [],
   "source": [
    "in not in will not work with int,float\n",
    "in case of dict in/not in will only check with keys ,will not check with the values"
   ]
  },
  {
   "cell_type": "code",
   "execution_count": 9,
   "metadata": {},
   "outputs": [
    {
     "name": "stdout",
     "output_type": "stream",
     "text": [
      "True\n",
      "False\n"
     ]
    }
   ],
   "source": [
    "c"
   ]
  },
  {
   "cell_type": "code",
   "execution_count": 10,
   "metadata": {},
   "outputs": [
    {
     "name": "stdout",
     "output_type": "stream",
     "text": [
      "True\n",
      "False\n"
     ]
    }
   ],
   "source": [
    "l1 = [10,20,30]\n",
    "l2 = [10,20,30]\n",
    "print(l1 == l2)\n",
    "print(l1 is l2) #here list is mutable so the memory loc is not same."
   ]
  },
  {
   "cell_type": "code",
   "execution_count": null,
   "metadata": {},
   "outputs": [],
   "source": [
    "== Values\n",
    "is Memory Location\n"
   ]
  },
  {
   "cell_type": "code",
   "execution_count": 11,
   "metadata": {},
   "outputs": [
    {
     "name": "stdout",
     "output_type": "stream",
     "text": [
      "100\n",
      "110\n",
      "105\n"
     ]
    }
   ],
   "source": [
    "num1 = 100\n",
    "print(num1)\n",
    "num1 += 10\n",
    "print(num1)\n",
    "\n",
    "num1 -= 5\n",
    "print(num1)"
   ]
  },
  {
   "cell_type": "code",
   "execution_count": 42,
   "metadata": {},
   "outputs": [
    {
     "name": "stdout",
     "output_type": "stream",
     "text": [
      "False\n"
     ]
    }
   ],
   "source": [
    "print(100==100 and 100!=100)"
   ]
  },
  {
   "cell_type": "code",
   "execution_count": null,
   "metadata": {},
   "outputs": [],
   "source": [
    "True/False:\n",
    "    comparison operators \n",
    "    membership operators\n",
    "    logical operators\n",
    "    identity operators\n",
    "    "
   ]
  },
  {
   "cell_type": "code",
   "execution_count": 13,
   "metadata": {},
   "outputs": [
    {
     "name": "stdout",
     "output_type": "stream",
     "text": [
      "python\n",
      "p\n"
     ]
    }
   ],
   "source": [
    "num = 'python'\n",
    "print(num[:2] + num[2:])\n",
    "print(num[0])"
   ]
  },
  {
   "cell_type": "code",
   "execution_count": null,
   "metadata": {},
   "outputs": [],
   "source": [
    "Conditional Statements if elif else"
   ]
  },
  {
   "cell_type": "code",
   "execution_count": 6,
   "metadata": {},
   "outputs": [
    {
     "name": "stdout",
     "output_type": "stream",
     "text": [
      "both are equal\n"
     ]
    }
   ],
   "source": [
    "num1=200\n",
    "num2=200\n",
    "\n",
    "#num1 is greater\n",
    "#num2 is greater\n",
    "#both are equal\n",
    "\n",
    "if [condition]=True/False:\n",
    "\n",
    "if num1>num2:\n",
    "   print('num1 is greater')\n",
    "elif num2>num1:\n",
    "   print('num2 is greater')\n",
    "else:\n",
    "   print('both are equal')"
   ]
  },
  {
   "cell_type": "code",
   "execution_count": 16,
   "metadata": {},
   "outputs": [
    {
     "name": "stdout",
     "output_type": "stream",
     "text": [
      "Vowel\n"
     ]
    }
   ],
   "source": [
    "char ='a'\n",
    "# Vowel/Consonant\n",
    "if char in'aeiou':\n",
    "    print('Vowel')\n",
    "else:\n",
    "    print('Consonant')"
   ]
  },
  {
   "cell_type": "code",
   "execution_count": 18,
   "metadata": {},
   "outputs": [
    {
     "name": "stdout",
     "output_type": "stream",
     "text": [
      "hi\n"
     ]
    }
   ],
   "source": [
    "if 100:\n",
    "    print('hi')\n",
    "else:\n",
    "    print(\"p\")"
   ]
  },
  {
   "cell_type": "code",
   "execution_count": null,
   "metadata": {},
   "outputs": [],
   "source": [
    "Any non-zero value is True in python\n",
    "Any zero value is False 0,None,\"\",[],{},()\n"
   ]
  },
  {
   "cell_type": "code",
   "execution_count": 19,
   "metadata": {},
   "outputs": [
    {
     "name": "stdout",
     "output_type": "stream",
     "text": [
      "list is empty\n"
     ]
    }
   ],
   "source": [
    "l=[]\n",
    "if l:\n",
    "    print(\"list is not empty\")\n",
    "else:\n",
    "    print(\"list is empty\")\n",
    "#less computation    "
   ]
  },
  {
   "cell_type": "code",
   "execution_count": null,
   "metadata": {},
   "outputs": [],
   "source": [
    "PEP 8"
   ]
  },
  {
   "cell_type": "code",
   "execution_count": 2,
   "metadata": {},
   "outputs": [
    {
     "name": "stdout",
     "output_type": "stream",
     "text": [
      "3\n",
      "list is not empty\n"
     ]
    }
   ],
   "source": [
    "l=[10,20,30]\n",
    "print(len(l))\n",
    "if len(l) > 0:\n",
    "    print('list is not empty')\n",
    "else:\n",
    "    print('list is empty')\n",
    "#Computation is more    "
   ]
  },
  {
   "cell_type": "code",
   "execution_count": 23,
   "metadata": {},
   "outputs": [
    {
     "name": "stdout",
     "output_type": "stream",
     "text": [
      "A is present\n"
     ]
    }
   ],
   "source": [
    "s=\"Python sample string\"\n",
    "if 'a' in s:\n",
    "    print('A is present')\n",
    "else:\n",
    "    print('A is not present')\n",
    "#it will not go to else part better selection.       "
   ]
  },
  {
   "cell_type": "code",
   "execution_count": 25,
   "metadata": {},
   "outputs": [
    {
     "name": "stdout",
     "output_type": "stream",
     "text": [
      "A is present\n"
     ]
    }
   ],
   "source": [
    "s=\"Python sample string\"\n",
    "if 'a' not in s:\n",
    "    print('A is not present')\n",
    "else:\n",
    "    print('A is present')\n",
    "#it will go to else part    "
   ]
  },
  {
   "cell_type": "code",
   "execution_count": 32,
   "metadata": {},
   "outputs": [
    {
     "name": "stdout",
     "output_type": "stream",
     "text": [
      "pass 76.0\n"
     ]
    }
   ],
   "source": [
    "marks_obtained = 380\n",
    "total_marks=500\n",
    "#Pass/Fail\n",
    "#40% =>Pass else Fail\n",
    "percentage=(marks_obtained/total_marks)*100\n",
    "passing_per=40\n",
    "if percentage >passing_per:\n",
    "    print('pass',percentage)\n",
    "else:\n",
    "    print('fail')"
   ]
  },
  {
   "cell_type": "code",
   "execution_count": null,
   "metadata": {},
   "outputs": [],
   "source": [
    "mutiline comment=> Ctrl + /"
   ]
  },
  {
   "cell_type": "code",
   "execution_count": 3,
   "metadata": {},
   "outputs": [
    {
     "name": "stdout",
     "output_type": "stream",
     "text": [
      "odd\n"
     ]
    }
   ],
   "source": [
    "num1 = 45\n",
    "if num1 % 2 == 0:\n",
    "    print('even')\n",
    "else:\n",
    "    print('odd')\n",
    "    "
   ]
  },
  {
   "cell_type": "code",
   "execution_count": 43,
   "metadata": {},
   "outputs": [
    {
     "name": "stdout",
     "output_type": "stream",
     "text": [
      "The no. 2000 are 2\n",
      "The no. of hundreds are  11\n",
      "The no. of fifties are 55\n",
      "The no. of twenties are  111\n",
      "The no. of tens are  556\n"
     ]
    }
   ],
   "source": [
    "valid_currency = 2000,500,100,50,10\n",
    "rs = 5560\n",
    "    \n",
    "while(rs >= 2000):\n",
    "    \n",
    "    a = rs // 2000 \n",
    "    print(\"The no. 2000 are\",a) \n",
    "    break ;\n",
    "    \n",
    "while(rs >= 500):\n",
    "    \n",
    "    b = rs // 500\n",
    "    print(\"The no. of hundreds are \", b) \n",
    "    break ;\n",
    "    \n",
    "while(rs >= 100):\n",
    "    \n",
    "    c = rs // 100 \n",
    "    print(\"The no. of fifties are\", c) ;\n",
    "    break ;\n",
    "    \n",
    "while(rs >= 50):\n",
    "    \n",
    "    d = rs // 50 \n",
    "    print(\"The no. of twenties are \", d) ;\n",
    "    break ;\n",
    "    \n",
    "while(rs >= 10):\n",
    "    \n",
    "    e = rs // 10 \n",
    "    print(\"The no. of tens are \", e) ;\n",
    "    break ;\n",
    "   \n",
    "\n"
   ]
  },
  {
   "cell_type": "code",
   "execution_count": 50,
   "metadata": {},
   "outputs": [
    {
     "name": "stdout",
     "output_type": "stream",
     "text": [
      "Notes of 2000 are 2\n",
      "Notes of 500 are 3\n",
      "Can not issue notes of 100\n",
      "Notes of 50 are 1\n",
      "Notes of 10 are 1\n",
      "total no of notes are 7\n"
     ]
    }
   ],
   "source": [
    "amount = 5560\n",
    "note_count = 0\n",
    "if amount >= 2000:    \n",
    "    print(\"Notes of 2000 are\",amount//2000)\n",
    "    note_count+=amount//2000\n",
    "    amount = amount  %  2000\n",
    "else:\n",
    "    print(\"Can not issue notes of 2000\")\n",
    "\n",
    "if amount >= 500:\n",
    "    print(\"Notes of 500 are\",amount//500)\n",
    "    note_count+=amount//500\n",
    "    amount = amount  %  500\n",
    "else:\n",
    "    print(\"Can not issue notes of 500\")\n",
    "    \n",
    "if amount >= 100:\n",
    "    print(\"Notes of 100 are\",amount//100)\n",
    "    note_count+=amount//100\n",
    "    amount = amount  %  100\n",
    "else:\n",
    "    print(\"Can not issue notes of 100\")\n",
    "    \n",
    "if amount >= 50:\n",
    "    print(\"Notes of 50 are\",amount//50)\n",
    "    note_count+=amount//50\n",
    "    amount = amount  %  50\n",
    "else:\n",
    "    print(\"Can not issue notes of 50\")\n",
    "        \n",
    "    \n",
    "if amount >= 10:\n",
    "    print(\"Notes of 10 are\",amount//10)\n",
    "    note_count+=amount//10\n",
    "    amount = amount  %  10\n",
    "else:\n",
    "    print(\"Can not issue notes of 10\")\n",
    "print('total no of notes are',note_count)        "
   ]
  },
  {
   "cell_type": "code",
   "execution_count": 51,
   "metadata": {},
   "outputs": [
    {
     "name": "stdout",
     "output_type": "stream",
     "text": [
      "0\n"
     ]
    }
   ],
   "source": [
    "print(amount % 2000)"
   ]
  },
  {
   "cell_type": "code",
   "execution_count": 55,
   "metadata": {},
   "outputs": [
    {
     "name": "stdout",
     "output_type": "stream",
     "text": [
      "1200.0\n"
     ]
    }
   ],
   "source": [
    "rating=2\n",
    "bill_amt=1000\n",
    "tip=bill_amt * (rating * 10/100)\n",
    "final_amt=bill_amt+tip\n",
    "print(final_amt)\n",
    "\n"
   ]
  },
  {
   "cell_type": "raw",
   "metadata": {},
   "source": [
    "# 1.Given two numbers, print their sum. However, if the two numbers are the same, return double their sum.\n",
    "\n"
   ]
  },
  {
   "cell_type": "code",
   "execution_count": 1,
   "metadata": {},
   "outputs": [
    {
     "name": "stdout",
     "output_type": "stream",
     "text": [
      "3\n"
     ]
    }
   ],
   "source": [
    "a = [1,2]\n",
    "sum = 0\n",
    "for i in a:\n",
    "    sum = sum + i\n",
    "print(sum)    "
   ]
  },
  {
   "cell_type": "code",
   "execution_count": 4,
   "metadata": {},
   "outputs": [
    {
     "name": "stdout",
     "output_type": "stream",
     "text": [
      " Profit on a product is 15\n"
     ]
    }
   ],
   "source": [
    "# 2.Given a Cost price and Selling price of a product,write program to calculate profit or loss\n",
    "cost_price = 30\n",
    "selling_price = 45\n",
    "profit = selling_price - cost_price\n",
    "Loss =  cost_price - selling_price\n",
    "no_profit_loss = selling_price - cost_price\n",
    "if selling_price > cost_price :\n",
    "    print(' Profit on a product is', profit )\n",
    "    \n",
    "elif cost_price > selling_price :\n",
    "    print(' Loss on a product is' , Loss )\n",
    "\n",
    "else :    \n",
    "    print( 'No Profit No Loss' , no_profit_loss )    \n"
   ]
  },
  {
   "cell_type": "code",
   "execution_count": 5,
   "metadata": {},
   "outputs": [
    {
     "name": "stdout",
     "output_type": "stream",
     "text": [
      "Gross Salary 32250.0\n"
     ]
    }
   ],
   "source": [
    "# 3.Write a program to input basic salary of an employee and calculate gross salary according to given conditions. Basic Salary <= 10000 : HRA = 20%, DA = 80% Basic Salary is between 10001 to 20000 : HRA = 25%, DA = 90% Basic Salary >= 20001 : HRA = 30%, DA = 95%\n",
    "basic_salary = 15000\n",
    "\n",
    "if basic_salary <= 10000:\n",
    "    hra = (basic_salary * 20) / 100\n",
    "    da = (basic_salary * 80) / 100\n",
    "elif basic_salary <= 20000:\n",
    "    hra = (basic_salary * 25) / 100\n",
    "    da = (basic_salary * 90) / 100 \n",
    "elif basic_salary > 20001:\n",
    "    hra = (basic_salary * 30) / 100\n",
    "    da = (basic_salary * 95) / 100 \n",
    "gross_salary = basic_salary + hra + da    \n",
    "print('Gross Salary', gross_salary)    "
   ]
  },
  {
   "cell_type": "code",
   "execution_count": null,
   "metadata": {},
   "outputs": [],
   "source": [
    "Looping Statements : For \n",
    "                     While\n",
    "        "
   ]
  },
  {
   "cell_type": "code",
   "execution_count": 7,
   "metadata": {},
   "outputs": [
    {
     "name": "stdout",
     "output_type": "stream",
     "text": [
      "Python is easy to learn"
     ]
    }
   ],
   "source": [
    "for value in \"Python is easy to learn\":\n",
    "    \n",
    "    print(value,end = \"\") #here \"\\n\" =>new line is removed by using end = \"\""
   ]
  },
  {
   "cell_type": "code",
   "execution_count": 10,
   "metadata": {},
   "outputs": [
    {
     "name": "stdout",
     "output_type": "stream",
     "text": [
      "email\n",
      "name\n",
      "id\n"
     ]
    }
   ],
   "source": [
    "d = {\"email\" : \"abc@gmail.com\",\"name\":\"ABC\",\"id\":100}\n",
    "for x in d:\n",
    "    print(x) #only keys are the output not the value."
   ]
  },
  {
   "cell_type": "code",
   "execution_count": null,
   "metadata": {},
   "outputs": [],
   "source": [
    "l = [10,20,30,40,50]\n",
    "for [userdefined_variable] in [iterable_datatype]:\n",
    "    [statements]\n",
    "[Outside of for loop]    "
   ]
  },
  {
   "cell_type": "code",
   "execution_count": 9,
   "metadata": {},
   "outputs": [
    {
     "name": "stdout",
     "output_type": "stream",
     "text": [
      "100\n",
      "400\n",
      "900\n",
      "1600\n",
      "2500\n"
     ]
    }
   ],
   "source": [
    "l = [10,20,30,40,50]\n",
    "for value in l:\n",
    "    print(value * value)\n",
    "    "
   ]
  },
  {
   "cell_type": "code",
   "execution_count": null,
   "metadata": {},
   "outputs": [],
   "source": [
    "iterable datatypes: \n",
    "    list \n",
    "    set\n",
    "    dict\n",
    "    tuple\n",
    "    str\n",
    "non-iterables datatypes:    \n",
    "    int\n",
    "    float\n",
    "    "
   ]
  },
  {
   "cell_type": "code",
   "execution_count": 11,
   "metadata": {},
   "outputs": [
    {
     "name": "stdout",
     "output_type": "stream",
     "text": [
      "150\n"
     ]
    }
   ],
   "source": [
    "l = [10,20,30,40,50]\n",
    "\n",
    "sum = 0\n",
    "\n",
    "for num in l:\n",
    "    sum = sum + num\n",
    "print(sum)    \n"
   ]
  },
  {
   "cell_type": "code",
   "execution_count": null,
   "metadata": {},
   "outputs": [],
   "source": [
    "range(10) 0..... 9\n",
    "range(10,50) 10 11 12 .... 49\n",
    "range(10,50,5) 10 15 20..... 45\n"
   ]
  },
  {
   "cell_type": "code",
   "execution_count": 15,
   "metadata": {},
   "outputs": [
    {
     "name": "stdout",
     "output_type": "stream",
     "text": [
      "10\n",
      "15\n",
      "20\n",
      "25\n",
      "30\n",
      "35\n",
      "40\n",
      "45\n"
     ]
    }
   ],
   "source": [
    "for value in range(10,50,5):\n",
    "    print(value)"
   ]
  },
  {
   "cell_type": "code",
   "execution_count": 18,
   "metadata": {},
   "outputs": [
    {
     "name": "stdout",
     "output_type": "stream",
     "text": [
      "[0, 1, 2, 3, 4, 5, 6, 7, 8, 9, 10, 11, 12, 13, 14, 15, 16, 17, 18, 19, 20, 21, 22, 23, 24, 25, 26, 27, 28, 29, 30, 31, 32, 33, 34, 35, 36, 37, 38, 39, 40, 41, 42, 43, 44, 45, 46, 47, 48, 49]\n"
     ]
    }
   ],
   "source": [
    "print(list(range(50)))\n"
   ]
  },
  {
   "cell_type": "code",
   "execution_count": 17,
   "metadata": {},
   "outputs": [
    {
     "name": "stdout",
     "output_type": "stream",
     "text": [
      "0\n",
      "1\n",
      "2\n",
      "3\n",
      "4\n",
      "5\n",
      "6\n",
      "7\n",
      "8\n",
      "9\n",
      "10\n",
      "11\n",
      "12\n",
      "13\n",
      "14\n",
      "15\n",
      "16\n",
      "17\n",
      "18\n",
      "19\n",
      "20\n",
      "21\n",
      "22\n",
      "23\n",
      "24\n",
      "25\n",
      "26\n",
      "27\n",
      "28\n",
      "29\n",
      "30\n",
      "31\n",
      "32\n",
      "33\n",
      "34\n",
      "35\n",
      "36\n",
      "37\n",
      "38\n",
      "39\n",
      "40\n",
      "41\n",
      "42\n",
      "43\n",
      "44\n",
      "45\n",
      "46\n",
      "47\n",
      "48\n",
      "49\n"
     ]
    }
   ],
   "source": [
    "num1 = list(range(50))\n",
    "for value in num1: \n",
    "    print(value)"
   ]
  },
  {
   "cell_type": "code",
   "execution_count": 13,
   "metadata": {},
   "outputs": [
    {
     "ename": "SyntaxError",
     "evalue": "'continue' not properly in loop (<ipython-input-13-51e4fd9689ab>, line 5)",
     "output_type": "error",
     "traceback": [
      "\u001b[0;36m  File \u001b[0;32m\"<ipython-input-13-51e4fd9689ab>\"\u001b[0;36m, line \u001b[0;32m5\u001b[0m\n\u001b[0;31mSyntaxError\u001b[0m\u001b[0;31m:\u001b[0m 'continue' not properly in loop\n"
     ]
    }
   ],
   "source": [
    "pass #It is used to \"do nothing\"\n",
    "continue #continue the loop \n",
    "break #break the loop"
   ]
  },
  {
   "cell_type": "code",
   "execution_count": 19,
   "metadata": {},
   "outputs": [
    {
     "name": "stdout",
     "output_type": "stream",
     "text": [
      "No. of Vowels are 4\n",
      "No. of Consonants are 14\n"
     ]
    }
   ],
   "source": [
    "# Count the number of vowel and consonant in a given string.\n",
    "s = \"Python Sample String\"\n",
    "vowel_count = 0\n",
    "consonant_count = 0\n",
    "for value in s:\n",
    "    if value in \"AEIOUaeiou\":\n",
    "        vowel_count += 1\n",
    "    elif value in \" \":\n",
    "        continue\n",
    "    else:    \n",
    "        consonant_count += 1\n",
    "print(\"No. of Vowels are\",vowel_count)\n",
    "\n",
    "print(\"No. of Consonants are\",consonant_count)\n",
    "\n",
    "        "
   ]
  },
  {
   "cell_type": "code",
   "execution_count": 16,
   "metadata": {},
   "outputs": [
    {
     "name": "stdout",
     "output_type": "stream",
     "text": [
      "hi\n",
      "hello\n"
     ]
    }
   ],
   "source": [
    "#lets see \"PASS\" is exactly \n",
    "if 100:\n",
    "    print(\"hi\")\n",
    "else:\n",
    "    pass\n",
    "print('hello')    \n",
    "\n",
    "#the meaning of pass is we help the condition to execute even if we don't have final condition.\n",
    "    #pass => Do Nothing,block of code not defined use pass to neglect the error.\n",
    " "
   ]
  },
  {
   "cell_type": "code",
   "execution_count": 21,
   "metadata": {},
   "outputs": [
    {
     "name": "stdout",
     "output_type": "stream",
     "text": [
      "10\n",
      "20\n",
      "30\n",
      "Negative value is -1\n"
     ]
    }
   ],
   "source": [
    "# Stop after getting negative no. in the list\n",
    "l = [10,20,30,-1,100,20,50,60]\n",
    "\n",
    "for value in l:\n",
    "    if value < 0:\n",
    "        break\n",
    "    else:\n",
    "        print(value)\n",
    "print(\"Negative value is\",value)        "
   ]
  },
  {
   "cell_type": "code",
   "execution_count": 24,
   "metadata": {},
   "outputs": [
    {
     "name": "stdout",
     "output_type": "stream",
     "text": [
      "10\n",
      "20\n",
      "30\n",
      "40\n",
      "Key is present\n"
     ]
    }
   ],
   "source": [
    "#how to use flag inorder to remove continuous printing statements.\n",
    "l= [10,20,30,40,50,70,80]\n",
    "key = 50\n",
    "\n",
    "flag = False\n",
    "\n",
    "for value in l:\n",
    "    if key == value:\n",
    "        flag = True\n",
    "        break\n",
    "    print(value)\n",
    "\n",
    "if flag == True:\n",
    "    print(\"Key is present\")\n",
    "else:\n",
    "    print(\"Key is not present\")"
   ]
  },
  {
   "cell_type": "code",
   "execution_count": null,
   "metadata": {},
   "outputs": [],
   "source": [
    "l= [10,20,30,40,50,70,80]\n",
    "key = 50\n",
    "flag = False\n",
    "\n",
    "for value in l:\n",
    "    if key == value:\n",
    "\n",
    "        break\n",
    "else:\n",
    "    \n"
   ]
  },
  {
   "cell_type": "code",
   "execution_count": 25,
   "metadata": {},
   "outputs": [
    {
     "name": "stdout",
     "output_type": "stream",
     "text": [
      "10\n",
      "20\n",
      "30\n",
      "40\n",
      "50\n",
      "60\n",
      "70\n",
      "80\n",
      "This statement is executed\n"
     ]
    }
   ],
   "source": [
    "#When for finishes from start to end it executes else condition outside the loop.\n",
    "l = [10,20,30,40,50,60,70,80]\n",
    "for value in l:\n",
    "    print(value)\n",
    "else:\n",
    "    print(\"This statement is executed\")\n"
   ]
  },
  {
   "cell_type": "code",
   "execution_count": 28,
   "metadata": {},
   "outputs": [
    {
     "name": "stdout",
     "output_type": "stream",
     "text": [
      "10\n",
      "20\n",
      "30\n",
      "40\n",
      "Value is 50\n"
     ]
    }
   ],
   "source": [
    "#When for loop doesn't finishes from start to end it doesn't executes the else condition.\n",
    "l = [10,20,30,40,50,60,70,80]\n",
    "key = 50\n",
    "for value in l:\n",
    "    if key == value:\n",
    "        print(\"Value is 50\")\n",
    "        break\n",
    "    else:    \n",
    "        print(value)\n",
    "else:\n",
    "    print(\"This statement is executed\")"
   ]
  },
  {
   "cell_type": "code",
   "execution_count": 31,
   "metadata": {},
   "outputs": [
    {
     "name": "stdout",
     "output_type": "stream",
     "text": [
      "10\n",
      "20\n",
      "30\n",
      "40\n",
      "Key is present\n"
     ]
    }
   ],
   "source": [
    "#earlier code\n",
    "#Here were going to use else conditon instead of flag\n",
    "l= [10,20,30,40,50,70,80]\n",
    "key = 50\n",
    "\n",
    "for value in l:\n",
    "    if key == value:\n",
    "        print(\"Key is present\")    \n",
    "        break\n",
    "        \n",
    "    print(value)\n",
    "    \n",
    "else:\n",
    "    print(\"Key is not present\")\n"
   ]
  },
  {
   "cell_type": "code",
   "execution_count": 34,
   "metadata": {},
   "outputs": [
    {
     "name": "stdout",
     "output_type": "stream",
     "text": [
      "0 10\n",
      "1 20\n",
      "2 30\n",
      "3 40\n",
      "4 50\n",
      "5 70\n",
      "6 80\n"
     ]
    }
   ],
   "source": [
    "#enumerate is a function which gives us index,value\n",
    "l= [10,20,30,40,50,70,80]\n",
    "for index,value in enumerate(l):\n",
    "    print(index,value)"
   ]
  },
  {
   "cell_type": "code",
   "execution_count": 32,
   "metadata": {},
   "outputs": [
    {
     "name": "stdout",
     "output_type": "stream",
     "text": [
      "20\n"
     ]
    }
   ],
   "source": [
    "l= [10,20,30,40,50,70,80]\n",
    "print(l[1])"
   ]
  },
  {
   "cell_type": "code",
   "execution_count": 43,
   "metadata": {},
   "outputs": [
    {
     "name": "stdout",
     "output_type": "stream",
     "text": [
      "10\n",
      "20\n",
      "30\n",
      "40\n",
      "Key is present and its index is 4\n"
     ]
    }
   ],
   "source": [
    "#Earlier code\n",
    "#here we're gonna also find the position of the key\n",
    "\n",
    "l= [10,20,30,40,50,70,80]\n",
    "key = 50\n",
    "\n",
    "for index,value in enumerate(l):\n",
    "    if key == value:\n",
    "        position_of_the_key = index\n",
    "        print(\"Key is present and its\",\"index is\",index)    \n",
    "        break\n",
    "        \n",
    "    print(value)\n",
    "    \n",
    "else:\n",
    "    print(\"Key is not present\")\n"
   ]
  },
  {
   "cell_type": "code",
   "execution_count": 49,
   "metadata": {},
   "outputs": [
    {
     "name": "stdout",
     "output_type": "stream",
     "text": [
      "23  is a  not perfect no.\n"
     ]
    }
   ],
   "source": [
    "#Check whether the no. is prefect no. or not\n",
    "#eg 1 + 2 + 3 = 6\n",
    "#here we div by 2 and add by 1 because max no. div is half the actual no. \n",
    "# for 28 div by 1 2 4 7 14 so max num is 14 which is half after 14 other divides 28\n",
    "num1 = 23\n",
    "sum = 0\n",
    "for i in range(1,num1 // 2 + 1): \n",
    "    if num1 % i == 0:             \n",
    "        sum = sum + i\n",
    "if sum == num1:\n",
    "    print(num1 ,\" is a perfect no.\")\n",
    "else:\n",
    "        print(num1 ,\" is a  not perfect no.\")\n",
    "\n",
    "    "
   ]
  },
  {
   "cell_type": "code",
   "execution_count": 63,
   "metadata": {},
   "outputs": [
    {
     "name": "stdout",
     "output_type": "stream",
     "text": [
      "1 * 1 = 1 1 * 2 = 2 1 * 3 = 3 1 * 4 = 4 1 * 5 = 5 1 * 6 = 6 1 * 7 = 7 1 * 8 = 8 1 * 9 = 9 1 * 10 = 10 \n",
      "\n",
      "2 * 1 = 2 2 * 2 = 4 2 * 3 = 6 2 * 4 = 8 2 * 5 = 10 2 * 6 = 12 2 * 7 = 14 2 * 8 = 16 2 * 9 = 18 2 * 10 = 20 \n",
      "\n",
      "3 * 1 = 3 3 * 2 = 6 3 * 3 = 9 3 * 4 = 12 3 * 5 = 15 3 * 6 = 18 3 * 7 = 21 3 * 8 = 24 3 * 9 = 27 3 * 10 = 30 \n",
      "\n",
      "4 * 1 = 4 4 * 2 = 8 4 * 3 = 12 4 * 4 = 16 4 * 5 = 20 4 * 6 = 24 4 * 7 = 28 4 * 8 = 32 4 * 9 = 36 4 * 10 = 40 \n",
      "\n",
      "5 * 1 = 5 5 * 2 = 10 5 * 3 = 15 5 * 4 = 20 5 * 5 = 25 5 * 6 = 30 5 * 7 = 35 5 * 8 = 40 5 * 9 = 45 5 * 10 = 50 \n",
      "\n"
     ]
    }
   ],
   "source": [
    "#Print the table of 5\n",
    "num2 = 5\n",
    "#5 * 1 = 5\n",
    "for num1 in range(1,num2 + 1):\n",
    "    for num in range(1,11):\n",
    "        print(num1, \"*\" ,num, \"=\" ,num1*num,end = \" \")\n",
    "    print(\"\\n\")    \n",
    "    "
   ]
  },
  {
   "cell_type": "code",
   "execution_count": 70,
   "metadata": {},
   "outputs": [
    {
     "name": "stdout",
     "output_type": "stream",
     "text": [
      "10,20 "
     ]
    }
   ],
   "source": [
    "print(\"10,20\",end = \" \",sep = \",\")\n",
    "#print(\"100\")"
   ]
  },
  {
   "cell_type": "code",
   "execution_count": null,
   "metadata": {},
   "outputs": [],
   "source": [
    "-for loop syntax\n",
    "-for var in [iterable datatype]:\n",
    "-range(100,500) => 100...499\n",
    "-range(100,500,100) => 100,200,300,400\n",
    "-enumerate => index,value\n",
    "-pass\n",
    "-continue\n",
    "-break\n",
    "\n"
   ]
  },
  {
   "cell_type": "code",
   "execution_count": 77,
   "metadata": {},
   "outputs": [
    {
     "name": "stdout",
     "output_type": "stream",
     "text": [
      "10,20,Python Hi,Java\n"
     ]
    }
   ],
   "source": [
    "print(10,20,\"Python\",end =\" \",sep =\",\")\n",
    "print(\"Hi\",end = \",\")\n",
    "print(\"Java\")"
   ]
  },
  {
   "cell_type": "code",
   "execution_count": null,
   "metadata": {},
   "outputs": [],
   "source": [
    "while condition => True/False\n",
    "    statements"
   ]
  },
  {
   "cell_type": "code",
   "execution_count": 79,
   "metadata": {
    "scrolled": true
   },
   "outputs": [
    {
     "name": "stdout",
     "output_type": "stream",
     "text": [
      "120\n"
     ]
    }
   ],
   "source": [
    "num1 = 5\n",
    "result = 1\n",
    "while num1 > 1:\n",
    "    result = result * num1\n",
    "    num1 -= 1\n",
    "print(result)    "
   ]
  },
  {
   "cell_type": "code",
   "execution_count": 82,
   "metadata": {},
   "outputs": [
    {
     "name": "stdout",
     "output_type": "stream",
     "text": [
      "105\n"
     ]
    }
   ],
   "source": [
    "#here were going to use else\n",
    "count = 1\n",
    "sum = 0\n",
    "\n",
    "while count <= 20:\n",
    "    sum = sum + count\n",
    "    count += 1\n",
    "    if count == 15:\n",
    "        break\n",
    "    \n",
    "else:\n",
    "    print(\"Statement gets executed\")\n",
    "print(sum)    "
   ]
  },
  {
   "cell_type": "markdown",
   "metadata": {},
   "source": [
    "# Str :\n",
    "-immutable => no methods to add,update,delete\n",
    "-ordered => indexing and slicing\n",
    "    "
   ]
  },
  {
   "cell_type": "code",
   "execution_count": 1,
   "metadata": {},
   "outputs": [
    {
     "name": "stdout",
     "output_type": "stream",
     "text": [
      "4476489904\n",
      "4481264048\n"
     ]
    }
   ],
   "source": [
    "# here we see two variables have different memory location because they contain string which are immutable\n",
    "s1 = \"Python\"\n",
    "print(id(s1))\n",
    "s1 =\"Java\"\n",
    "print(id(s1))"
   ]
  },
  {
   "cell_type": "code",
   "execution_count": null,
   "metadata": {},
   "outputs": [],
   "source": [
    "\"Python\" 224\n",
    "\"Java\" s1 664"
   ]
  },
  {
   "cell_type": "code",
   "execution_count": 20,
   "metadata": {},
   "outputs": [
    {
     "name": "stdout",
     "output_type": "stream",
     "text": [
      "\" Python\" is easy to learn\n",
      " \"Python\" \n",
      "is easy to learn\n"
     ]
    }
   ],
   "source": [
    "# Here we have used backslash => \\ to so the double quotes => \" should not be treated as special characters.\n",
    "\n",
    "s1 =\"\\\" Python\\\" is easy to learn\"\n",
    "print(s1)\n",
    "# Here triple quotes are used to define strings which are multiple lines.\n",
    "s2 =\"\"\" \"Python\" \n",
    "is easy to learn\"\"\"\n",
    "print(s2)"
   ]
  },
  {
   "cell_type": "code",
   "execution_count": 29,
   "metadata": {},
   "outputs": [
    {
     "name": "stdout",
     "output_type": "stream",
     "text": [
      "e\n",
      "e\n",
      "\"\n",
      "\"\n"
     ]
    }
   ],
   "source": [
    "#Here indexing method is used to get what is present at a particular position.\n",
    "s1 = \"Python is easy to learn\"\n",
    "print(s1[10])\n",
    "print(s1[-13])\n",
    "s1 = \"\\\"Python\\\" is easy to learn\"\n",
    "print(s1[0])  #here / is not treated as string but a special character but \" is treated as normal char due to /\n",
    "print(s1[7])"
   ]
  },
  {
   "cell_type": "code",
   "execution_count": 24,
   "metadata": {},
   "outputs": [
    {
     "name": "stdout",
     "output_type": "stream",
     "text": [
      "Python\n",
      "Python\n",
      "is easy to learn\n"
     ]
    }
   ],
   "source": [
    "# Here slicing is done \n",
    "s1 = \"Python is easy to learn\"\n",
    "print(s1[0:6])\n",
    "print(s1[:6])\n",
    "print(s1[7:])"
   ]
  },
  {
   "cell_type": "code",
   "execution_count": null,
   "metadata": {},
   "outputs": [],
   "source": [
    "start\n",
    "end\n",
    "stride => 1\n",
    "    1. Alternate chars\n",
    "    2. Direction\n",
    "            +ve => left to right\n",
    "            -ve => right to left\n",
    "\n",
    "check the stride\n",
    "    1. if stride not given  => 1  (left to right)\n",
    "    2. if stride is +ve check the index left to right\n",
    "    3. if stride is -ve check the index right to left"
   ]
  },
  {
   "cell_type": "code",
   "execution_count": 11,
   "metadata": {},
   "outputs": [
    {
     "name": "stdout",
     "output_type": "stream",
     "text": [
      "i ayt er\n",
      "ieyoen\n"
     ]
    }
   ],
   "source": [
    "s1 = \"Python is easy to learn\"\n",
    "print(s1[7::2]) #it will give every second character after 7\n",
    "print(s1[7::3]) #it will give every third character after 7"
   ]
  },
  {
   "cell_type": "code",
   "execution_count": 37,
   "metadata": {},
   "outputs": [
    {
     "name": "stdout",
     "output_type": "stream",
     "text": [
      "nohty\n",
      "nohtyP\n"
     ]
    }
   ],
   "source": [
    "s1 = \"Python is easy to learn\"\n",
    "print(s1[5:0:-1]) #excludes 0\n",
    "print(s1[5::-1])  #includes 0"
   ]
  },
  {
   "cell_type": "code",
   "execution_count": 46,
   "metadata": {},
   "outputs": [
    {
     "name": "stdout",
     "output_type": "stream",
     "text": [
      "nrael ot ysae si nohtyP\n",
      "nalo ses otP\n",
      "inh\n"
     ]
    }
   ],
   "source": [
    "s1 = \"Python is easy to learn\"\n",
    "#here we reversed the whole string and now if we use -1 only reverse order but if we use -2 giving alternate no.\n",
    "#These happens because we have not mentioned start or end so it's reversing.\n",
    "print(s1[::-1])\n",
    "print(s1[::-2])\n",
    "print(s1[7:2:-2])"
   ]
  },
  {
   "cell_type": "code",
   "execution_count": 33,
   "metadata": {},
   "outputs": [
    {
     "name": "stdout",
     "output_type": "stream",
     "text": [
      "nohty\n"
     ]
    }
   ],
   "source": [
    "s1 = \"Python is easy to learn\"\n",
    "print(s1[5:0:-1])\n"
   ]
  },
  {
   "cell_type": "code",
   "execution_count": 35,
   "metadata": {},
   "outputs": [
    {
     "name": "stdout",
     "output_type": "stream",
     "text": [
      "ytho\n"
     ]
    }
   ],
   "source": [
    "s1 = \"Python is easy to learn\"\n",
    "print(s1[1:5:1])\n"
   ]
  },
  {
   "cell_type": "code",
   "execution_count": 37,
   "metadata": {},
   "outputs": [
    {
     "name": "stdout",
     "output_type": "stream",
     "text": [
      "Hello Python!!\n",
      "HloPto!\n"
     ]
    }
   ],
   "source": [
    "s1 = \"Hello Python!!!\"\n",
    "print(s1[:-1])\n",
    "print(s1[:-1:2])"
   ]
  },
  {
   "cell_type": "code",
   "execution_count": 39,
   "metadata": {},
   "outputs": [
    {
     "name": "stdout",
     "output_type": "stream",
     "text": [
      "ohtyP\n"
     ]
    }
   ],
   "source": [
    "s1 = \"Python is easy to learn\"\n",
    "s2 = (s1[:5])\n",
    "s3 = (s2[::-1])\n",
    "print(s3)"
   ]
  },
  {
   "cell_type": "code",
   "execution_count": 46,
   "metadata": {},
   "outputs": [
    {
     "name": "stdout",
     "output_type": "stream",
     "text": [
      "Python Java\n",
      "True\n"
     ]
    }
   ],
   "source": [
    "s1 = \"Python\"\n",
    "s2 = \" Java\"\n",
    "print(s1 + s2)\n",
    "#print(s1 - s2) =>Not supported\n",
    "print(s1 > s2)"
   ]
  },
  {
   "cell_type": "code",
   "execution_count": 45,
   "metadata": {},
   "outputs": [
    {
     "name": "stdout",
     "output_type": "stream",
     "text": [
      "['__add__', '__class__', '__contains__', '__delattr__', '__dir__', '__doc__', '__eq__', '__format__', '__ge__', '__getattribute__', '__getitem__', '__getnewargs__', '__gt__', '__hash__', '__init__', '__init_subclass__', '__iter__', '__le__', '__len__', '__lt__', '__mod__', '__mul__', '__ne__', '__new__', '__reduce__', '__reduce_ex__', '__repr__', '__rmod__', '__rmul__', '__setattr__', '__sizeof__', '__str__', '__subclasshook__', 'capitalize', 'casefold', 'center', 'count', 'encode', 'endswith', 'expandtabs', 'find', 'format', 'format_map', 'index', 'isalnum', 'isalpha', 'isascii', 'isdecimal', 'isdigit', 'isidentifier', 'islower', 'isnumeric', 'isprintable', 'isspace', 'istitle', 'isupper', 'join', 'ljust', 'lower', 'lstrip', 'maketrans', 'partition', 'replace', 'rfind', 'rindex', 'rjust', 'rpartition', 'rsplit', 'rstrip', 'split', 'splitlines', 'startswith', 'strip', 'swapcase', 'title', 'translate', 'upper', 'zfill']\n"
     ]
    }
   ],
   "source": [
    "print(dir(str))"
   ]
  },
  {
   "cell_type": "code",
   "execution_count": 47,
   "metadata": {},
   "outputs": [
    {
     "name": "stdout",
     "output_type": "stream",
     "text": [
      "False\n"
     ]
    }
   ],
   "source": [
    "s1 = \"Python\"\n",
    "s2 = \"python\"\n",
    "print(s1 > s2)"
   ]
  },
  {
   "cell_type": "code",
   "execution_count": null,
   "metadata": {},
   "outputs": [],
   "source": [
    "ASCII value of the characters\n",
    "Upper case char => 65\n",
    "Lower case char => 97 - 132\n"
   ]
  },
  {
   "cell_type": "code",
   "execution_count": 48,
   "metadata": {},
   "outputs": [
    {
     "name": "stdout",
     "output_type": "stream",
     "text": [
      "Help on class str in module builtins:\n",
      "\n",
      "class str(object)\n",
      " |  str(object='') -> str\n",
      " |  str(bytes_or_buffer[, encoding[, errors]]) -> str\n",
      " |  \n",
      " |  Create a new string object from the given object. If encoding or\n",
      " |  errors is specified, then the object must expose a data buffer\n",
      " |  that will be decoded using the given encoding and error handler.\n",
      " |  Otherwise, returns the result of object.__str__() (if defined)\n",
      " |  or repr(object).\n",
      " |  encoding defaults to sys.getdefaultencoding().\n",
      " |  errors defaults to 'strict'.\n",
      " |  \n",
      " |  Methods defined here:\n",
      " |  \n",
      " |  __add__(self, value, /)\n",
      " |      Return self+value.\n",
      " |  \n",
      " |  __contains__(self, key, /)\n",
      " |      Return key in self.\n",
      " |  \n",
      " |  __eq__(self, value, /)\n",
      " |      Return self==value.\n",
      " |  \n",
      " |  __format__(self, format_spec, /)\n",
      " |      Return a formatted version of the string as described by format_spec.\n",
      " |  \n",
      " |  __ge__(self, value, /)\n",
      " |      Return self>=value.\n",
      " |  \n",
      " |  __getattribute__(self, name, /)\n",
      " |      Return getattr(self, name).\n",
      " |  \n",
      " |  __getitem__(self, key, /)\n",
      " |      Return self[key].\n",
      " |  \n",
      " |  __getnewargs__(...)\n",
      " |  \n",
      " |  __gt__(self, value, /)\n",
      " |      Return self>value.\n",
      " |  \n",
      " |  __hash__(self, /)\n",
      " |      Return hash(self).\n",
      " |  \n",
      " |  __iter__(self, /)\n",
      " |      Implement iter(self).\n",
      " |  \n",
      " |  __le__(self, value, /)\n",
      " |      Return self<=value.\n",
      " |  \n",
      " |  __len__(self, /)\n",
      " |      Return len(self).\n",
      " |  \n",
      " |  __lt__(self, value, /)\n",
      " |      Return self<value.\n",
      " |  \n",
      " |  __mod__(self, value, /)\n",
      " |      Return self%value.\n",
      " |  \n",
      " |  __mul__(self, value, /)\n",
      " |      Return self*value.\n",
      " |  \n",
      " |  __ne__(self, value, /)\n",
      " |      Return self!=value.\n",
      " |  \n",
      " |  __repr__(self, /)\n",
      " |      Return repr(self).\n",
      " |  \n",
      " |  __rmod__(self, value, /)\n",
      " |      Return value%self.\n",
      " |  \n",
      " |  __rmul__(self, value, /)\n",
      " |      Return value*self.\n",
      " |  \n",
      " |  __sizeof__(self, /)\n",
      " |      Return the size of the string in memory, in bytes.\n",
      " |  \n",
      " |  __str__(self, /)\n",
      " |      Return str(self).\n",
      " |  \n",
      " |  capitalize(self, /)\n",
      " |      Return a capitalized version of the string.\n",
      " |      \n",
      " |      More specifically, make the first character have upper case and the rest lower\n",
      " |      case.\n",
      " |  \n",
      " |  casefold(self, /)\n",
      " |      Return a version of the string suitable for caseless comparisons.\n",
      " |  \n",
      " |  center(self, width, fillchar=' ', /)\n",
      " |      Return a centered string of length width.\n",
      " |      \n",
      " |      Padding is done using the specified fill character (default is a space).\n",
      " |  \n",
      " |  count(...)\n",
      " |      S.count(sub[, start[, end]]) -> int\n",
      " |      \n",
      " |      Return the number of non-overlapping occurrences of substring sub in\n",
      " |      string S[start:end].  Optional arguments start and end are\n",
      " |      interpreted as in slice notation.\n",
      " |  \n",
      " |  encode(self, /, encoding='utf-8', errors='strict')\n",
      " |      Encode the string using the codec registered for encoding.\n",
      " |      \n",
      " |      encoding\n",
      " |        The encoding in which to encode the string.\n",
      " |      errors\n",
      " |        The error handling scheme to use for encoding errors.\n",
      " |        The default is 'strict' meaning that encoding errors raise a\n",
      " |        UnicodeEncodeError.  Other possible values are 'ignore', 'replace' and\n",
      " |        'xmlcharrefreplace' as well as any other name registered with\n",
      " |        codecs.register_error that can handle UnicodeEncodeErrors.\n",
      " |  \n",
      " |  endswith(...)\n",
      " |      S.endswith(suffix[, start[, end]]) -> bool\n",
      " |      \n",
      " |      Return True if S ends with the specified suffix, False otherwise.\n",
      " |      With optional start, test S beginning at that position.\n",
      " |      With optional end, stop comparing S at that position.\n",
      " |      suffix can also be a tuple of strings to try.\n",
      " |  \n",
      " |  expandtabs(self, /, tabsize=8)\n",
      " |      Return a copy where all tab characters are expanded using spaces.\n",
      " |      \n",
      " |      If tabsize is not given, a tab size of 8 characters is assumed.\n",
      " |  \n",
      " |  find(...)\n",
      " |      S.find(sub[, start[, end]]) -> int\n",
      " |      \n",
      " |      Return the lowest index in S where substring sub is found,\n",
      " |      such that sub is contained within S[start:end].  Optional\n",
      " |      arguments start and end are interpreted as in slice notation.\n",
      " |      \n",
      " |      Return -1 on failure.\n",
      " |  \n",
      " |  format(...)\n",
      " |      S.format(*args, **kwargs) -> str\n",
      " |      \n",
      " |      Return a formatted version of S, using substitutions from args and kwargs.\n",
      " |      The substitutions are identified by braces ('{' and '}').\n",
      " |  \n",
      " |  format_map(...)\n",
      " |      S.format_map(mapping) -> str\n",
      " |      \n",
      " |      Return a formatted version of S, using substitutions from mapping.\n",
      " |      The substitutions are identified by braces ('{' and '}').\n",
      " |  \n",
      " |  index(...)\n",
      " |      S.index(sub[, start[, end]]) -> int\n",
      " |      \n",
      " |      Return the lowest index in S where substring sub is found, \n",
      " |      such that sub is contained within S[start:end].  Optional\n",
      " |      arguments start and end are interpreted as in slice notation.\n",
      " |      \n",
      " |      Raises ValueError when the substring is not found.\n",
      " |  \n",
      " |  isalnum(self, /)\n",
      " |      Return True if the string is an alpha-numeric string, False otherwise.\n",
      " |      \n",
      " |      A string is alpha-numeric if all characters in the string are alpha-numeric and\n",
      " |      there is at least one character in the string.\n",
      " |  \n",
      " |  isalpha(self, /)\n",
      " |      Return True if the string is an alphabetic string, False otherwise.\n",
      " |      \n",
      " |      A string is alphabetic if all characters in the string are alphabetic and there\n",
      " |      is at least one character in the string.\n",
      " |  \n",
      " |  isascii(self, /)\n",
      " |      Return True if all characters in the string are ASCII, False otherwise.\n",
      " |      \n",
      " |      ASCII characters have code points in the range U+0000-U+007F.\n",
      " |      Empty string is ASCII too.\n",
      " |  \n",
      " |  isdecimal(self, /)\n",
      " |      Return True if the string is a decimal string, False otherwise.\n",
      " |      \n",
      " |      A string is a decimal string if all characters in the string are decimal and\n",
      " |      there is at least one character in the string.\n",
      " |  \n",
      " |  isdigit(self, /)\n",
      " |      Return True if the string is a digit string, False otherwise.\n",
      " |      \n",
      " |      A string is a digit string if all characters in the string are digits and there\n",
      " |      is at least one character in the string.\n",
      " |  \n",
      " |  isidentifier(self, /)\n",
      " |      Return True if the string is a valid Python identifier, False otherwise.\n",
      " |      \n",
      " |      Use keyword.iskeyword() to test for reserved identifiers such as \"def\" and\n",
      " |      \"class\".\n",
      " |  \n",
      " |  islower(self, /)\n",
      " |      Return True if the string is a lowercase string, False otherwise.\n",
      " |      \n",
      " |      A string is lowercase if all cased characters in the string are lowercase and\n",
      " |      there is at least one cased character in the string.\n",
      " |  \n",
      " |  isnumeric(self, /)\n",
      " |      Return True if the string is a numeric string, False otherwise.\n",
      " |      \n",
      " |      A string is numeric if all characters in the string are numeric and there is at\n",
      " |      least one character in the string.\n",
      " |  \n",
      " |  isprintable(self, /)\n",
      " |      Return True if the string is printable, False otherwise.\n",
      " |      \n",
      " |      A string is printable if all of its characters are considered printable in\n",
      " |      repr() or if it is empty.\n",
      " |  \n",
      " |  isspace(self, /)\n",
      " |      Return True if the string is a whitespace string, False otherwise.\n",
      " |      \n",
      " |      A string is whitespace if all characters in the string are whitespace and there\n",
      " |      is at least one character in the string.\n",
      " |  \n",
      " |  istitle(self, /)\n",
      " |      Return True if the string is a title-cased string, False otherwise.\n",
      " |      \n",
      " |      In a title-cased string, upper- and title-case characters may only\n",
      " |      follow uncased characters and lowercase characters only cased ones.\n",
      " |  \n",
      " |  isupper(self, /)\n",
      " |      Return True if the string is an uppercase string, False otherwise.\n",
      " |      \n",
      " |      A string is uppercase if all cased characters in the string are uppercase and\n",
      " |      there is at least one cased character in the string.\n",
      " |  \n",
      " |  join(self, iterable, /)\n",
      " |      Concatenate any number of strings.\n",
      " |      \n",
      " |      The string whose method is called is inserted in between each given string.\n",
      " |      The result is returned as a new string.\n",
      " |      \n",
      " |      Example: '.'.join(['ab', 'pq', 'rs']) -> 'ab.pq.rs'\n",
      " |  \n",
      " |  ljust(self, width, fillchar=' ', /)\n",
      " |      Return a left-justified string of length width.\n",
      " |      \n",
      " |      Padding is done using the specified fill character (default is a space).\n",
      " |  \n",
      " |  lower(self, /)\n",
      " |      Return a copy of the string converted to lowercase.\n",
      " |  \n",
      " |  lstrip(self, chars=None, /)\n",
      " |      Return a copy of the string with leading whitespace removed.\n",
      " |      \n",
      " |      If chars is given and not None, remove characters in chars instead.\n",
      " |  \n",
      " |  partition(self, sep, /)\n",
      " |      Partition the string into three parts using the given separator.\n",
      " |      \n",
      " |      This will search for the separator in the string.  If the separator is found,\n",
      " |      returns a 3-tuple containing the part before the separator, the separator\n",
      " |      itself, and the part after it.\n",
      " |      \n",
      " |      If the separator is not found, returns a 3-tuple containing the original string\n",
      " |      and two empty strings.\n",
      " |  \n",
      " |  replace(self, old, new, count=-1, /)\n",
      " |      Return a copy with all occurrences of substring old replaced by new.\n",
      " |      \n",
      " |        count\n",
      " |          Maximum number of occurrences to replace.\n",
      " |          -1 (the default value) means replace all occurrences.\n",
      " |      \n",
      " |      If the optional argument count is given, only the first count occurrences are\n",
      " |      replaced.\n",
      " |  \n",
      " |  rfind(...)\n",
      " |      S.rfind(sub[, start[, end]]) -> int\n",
      " |      \n",
      " |      Return the highest index in S where substring sub is found,\n",
      " |      such that sub is contained within S[start:end].  Optional\n",
      " |      arguments start and end are interpreted as in slice notation.\n",
      " |      \n",
      " |      Return -1 on failure.\n",
      " |  \n",
      " |  rindex(...)\n",
      " |      S.rindex(sub[, start[, end]]) -> int\n",
      " |      \n",
      " |      Return the highest index in S where substring sub is found,\n",
      " |      such that sub is contained within S[start:end].  Optional\n",
      " |      arguments start and end are interpreted as in slice notation.\n",
      " |      \n",
      " |      Raises ValueError when the substring is not found.\n",
      " |  \n",
      " |  rjust(self, width, fillchar=' ', /)\n",
      " |      Return a right-justified string of length width.\n",
      " |      \n",
      " |      Padding is done using the specified fill character (default is a space).\n",
      " |  \n",
      " |  rpartition(self, sep, /)\n",
      " |      Partition the string into three parts using the given separator.\n",
      " |      \n",
      " |      This will search for the separator in the string, starting at the end. If\n",
      " |      the separator is found, returns a 3-tuple containing the part before the\n",
      " |      separator, the separator itself, and the part after it.\n",
      " |      \n",
      " |      If the separator is not found, returns a 3-tuple containing two empty strings\n",
      " |      and the original string.\n",
      " |  \n",
      " |  rsplit(self, /, sep=None, maxsplit=-1)\n",
      " |      Return a list of the words in the string, using sep as the delimiter string.\n",
      " |      \n",
      " |        sep\n",
      " |          The delimiter according which to split the string.\n",
      " |          None (the default value) means split according to any whitespace,\n",
      " |          and discard empty strings from the result.\n",
      " |        maxsplit\n",
      " |          Maximum number of splits to do.\n",
      " |          -1 (the default value) means no limit.\n",
      " |      \n",
      " |      Splits are done starting at the end of the string and working to the front.\n",
      " |  \n",
      " |  rstrip(self, chars=None, /)\n",
      " |      Return a copy of the string with trailing whitespace removed.\n",
      " |      \n",
      " |      If chars is given and not None, remove characters in chars instead.\n",
      " |  \n",
      " |  split(self, /, sep=None, maxsplit=-1)\n",
      " |      Return a list of the words in the string, using sep as the delimiter string.\n",
      " |      \n",
      " |      sep\n",
      " |        The delimiter according which to split the string.\n",
      " |        None (the default value) means split according to any whitespace,\n",
      " |        and discard empty strings from the result.\n",
      " |      maxsplit\n",
      " |        Maximum number of splits to do.\n",
      " |        -1 (the default value) means no limit.\n",
      " |  \n",
      " |  splitlines(self, /, keepends=False)\n",
      " |      Return a list of the lines in the string, breaking at line boundaries.\n",
      " |      \n",
      " |      Line breaks are not included in the resulting list unless keepends is given and\n",
      " |      true.\n",
      " |  \n",
      " |  startswith(...)\n",
      " |      S.startswith(prefix[, start[, end]]) -> bool\n",
      " |      \n",
      " |      Return True if S starts with the specified prefix, False otherwise.\n",
      " |      With optional start, test S beginning at that position.\n",
      " |      With optional end, stop comparing S at that position.\n",
      " |      prefix can also be a tuple of strings to try.\n",
      " |  \n",
      " |  strip(self, chars=None, /)\n",
      " |      Return a copy of the string with leading and trailing whitespace remove.\n",
      " |      \n",
      " |      If chars is given and not None, remove characters in chars instead.\n",
      " |  \n",
      " |  swapcase(self, /)\n",
      " |      Convert uppercase characters to lowercase and lowercase characters to uppercase.\n",
      " |  \n",
      " |  title(self, /)\n",
      " |      Return a version of the string where each word is titlecased.\n",
      " |      \n",
      " |      More specifically, words start with uppercased characters and all remaining\n",
      " |      cased characters have lower case.\n",
      " |  \n",
      " |  translate(self, table, /)\n",
      " |      Replace each character in the string using the given translation table.\n",
      " |      \n",
      " |        table\n",
      " |          Translation table, which must be a mapping of Unicode ordinals to\n",
      " |          Unicode ordinals, strings, or None.\n",
      " |      \n",
      " |      The table must implement lookup/indexing via __getitem__, for instance a\n",
      " |      dictionary or list.  If this operation raises LookupError, the character is\n",
      " |      left untouched.  Characters mapped to None are deleted.\n",
      " |  \n",
      " |  upper(self, /)\n",
      " |      Return a copy of the string converted to uppercase.\n",
      " |  \n",
      " |  zfill(self, width, /)\n",
      " |      Pad a numeric string with zeros on the left, to fill a field of the given width.\n",
      " |      \n",
      " |      The string is never truncated.\n",
      " |  \n",
      " |  ----------------------------------------------------------------------\n",
      " |  Static methods defined here:\n",
      " |  \n",
      " |  __new__(*args, **kwargs) from builtins.type\n",
      " |      Create and return a new object.  See help(type) for accurate signature.\n",
      " |  \n",
      " |  maketrans(x, y=None, z=None, /)\n",
      " |      Return a translation table usable for str.translate().\n",
      " |      \n",
      " |      If there is only one argument, it must be a dictionary mapping Unicode\n",
      " |      ordinals (integers) or characters to Unicode ordinals, strings or None.\n",
      " |      Character keys will be then converted to ordinals.\n",
      " |      If there are two arguments, they must be strings of equal length, and\n",
      " |      in the resulting dictionary, each character in x will be mapped to the\n",
      " |      character at the same position in y. If there is a third argument, it\n",
      " |      must be a string, whose characters will be mapped to None in the result.\n",
      "\n"
     ]
    }
   ],
   "source": [
    "help(str)"
   ]
  },
  {
   "cell_type": "code",
   "execution_count": 16,
   "metadata": {},
   "outputs": [
    {
     "name": "stdout",
     "output_type": "stream",
     "text": [
      "The value of num1 is 100  and value for num2 is 200\n"
     ]
    }
   ],
   "source": [
    "num1 = 100\n",
    "num2 = 200\n",
    "print(\"The value of num1 is\",num1,\" and value for num2 is\",num2)"
   ]
  },
  {
   "cell_type": "code",
   "execution_count": 53,
   "metadata": {},
   "outputs": [
    {
     "name": "stdout",
     "output_type": "stream",
     "text": [
      "the value for num1 is 100 and value for num2 is 200\n",
      "the value for num1 is 200 and value for num2 is 100\n"
     ]
    }
   ],
   "source": [
    "# Standard format to place value in between strings using {}\n",
    "num1 = 100\n",
    "num2 = 200\n",
    "s1 = \"the value for num1 is {} and value for num2 is {}\".format(num1,num2)\n",
    "print(s1)\n",
    "s2 = \"the value for num1 is {1} and value for num2 is {0}\".format(num1,num2)\n",
    "print(s2)\n",
    "# two ways to use it"
   ]
  },
  {
   "cell_type": "code",
   "execution_count": 59,
   "metadata": {},
   "outputs": [
    {
     "name": "stdout",
     "output_type": "stream",
     "text": [
      "recieved an entry from user abc with email abc@gmail.com\n"
     ]
    }
   ],
   "source": [
    "n =\"abc\"\n",
    "e = \"abc@gmail.com\"\n",
    "subject =\"recieved an entry from user {name} with email {email}\".format(name=n,email=e) #keys are used\n",
    "print(subject)"
   ]
  },
  {
   "cell_type": "markdown",
   "metadata": {},
   "source": [
    "# Split and Join"
   ]
  },
  {
   "cell_type": "code",
   "execution_count": 7,
   "metadata": {},
   "outputs": [
    {
     "name": "stdout",
     "output_type": "stream",
     "text": [
      "['python', 'java', 'c', 'c++', 'r']\n",
      "['r', 'c++', 'c', 'java', 'python']\n",
      "python,java,c,c++,r\n"
     ]
    }
   ],
   "source": [
    "s = \"python,java,c,c++,r\"\n",
    "l=s.split(\",\") # convert string into a list\n",
    "print(l[:])\n",
    "print(l[::-1])\n",
    "\n",
    "s1 = (\",\").join(l) # convert list into a string\n",
    "print(s1)"
   ]
  },
  {
   "cell_type": "code",
   "execution_count": 85,
   "metadata": {},
   "outputs": [
    {
     "name": "stdout",
     "output_type": "stream",
     "text": [
      "['python', 'java', 'c', 'c++', 'r']\n",
      "['r', 'c++', 'c', 'java', 'python']\n",
      "r,c++,c,java,python\n"
     ]
    }
   ],
   "source": [
    "s = \"python,java,c,c++,r\"\n",
    "l=s.split(\",\")\n",
    "print(l)\n",
    "s1=l[::-1]\n",
    "print(s1)\n",
    "s2 = (\",\").join(s1)\n",
    "print(s2)"
   ]
  },
  {
   "cell_type": "code",
   "execution_count": 92,
   "metadata": {},
   "outputs": [
    {
     "name": "stdout",
     "output_type": "stream",
     "text": [
      "['python', 'java', 'c', 'c++', 'r']\n",
      "got ['python', 'java', 'c', 'c++', 'r']\n"
     ]
    }
   ],
   "source": [
    "s = \"python,java,c,c++,r\"\n",
    "l = s.split(\",\")\n",
    "print(l)\n",
    "if \"java\" in l:\n",
    "    print(\"got\")"
   ]
  },
  {
   "cell_type": "code",
   "execution_count": 97,
   "metadata": {},
   "outputs": [
    {
     "name": "stdout",
     "output_type": "stream",
     "text": [
      "7\n",
      "7\n",
      "20\n",
      "20\n",
      "python 3.8,java,c,c++,r,java\n",
      "4\n"
     ]
    }
   ],
   "source": [
    "s = \"python,java,c,c++,r,java,python\"\n",
    "#print(\"java\" in s)\n",
    "print(s.find(\"java\")) # It gives output as index\n",
    "print(s.index(\"java\")) # It gives output as index\n",
    "print(s.rfind(\"java\")) # It gives output as index but from right to left\n",
    "print(s.rindex(\"java\")) # It gives output as index but from right to left\n",
    "\n",
    "s = s.replace(\"python\",\"python 3.8\") # memory location will be different.\n",
    "print(s)\n",
    "print(s.count(\"a\"))"
   ]
  },
  {
   "cell_type": "code",
   "execution_count": 103,
   "metadata": {},
   "outputs": [
    {
     "name": "stdout",
     "output_type": "stream",
     "text": [
      "r 10\n"
     ]
    }
   ],
   "source": [
    "s = \"abcdaabbeededzzzaaaarrrrrrrrrr\"\n",
    "max_char =\"\"\n",
    "max_count = 0\n",
    "\n",
    "for value in s:\n",
    "    if s.count(value) > max_count:\n",
    "        max_char = value\n",
    "        max_count = s.count(value)\n",
    "        \n",
    "print(max_char,max_count)"
   ]
  },
  {
   "cell_type": "code",
   "execution_count": null,
   "metadata": {},
   "outputs": [],
   "source": [
    "convert lower check: islower\n",
    "convert upper check: isupper\n",
    "title istitle\n",
    "capitalize"
   ]
  },
  {
   "cell_type": "code",
   "execution_count": 109,
   "metadata": {},
   "outputs": [
    {
     "name": "stdout",
     "output_type": "stream",
     "text": [
      "True\n",
      "PYTHON STRING\n",
      "Python String\n",
      "Python string\n"
     ]
    }
   ],
   "source": [
    "s =\"PYTHON string\"\n",
    "s2 = s.lower()\n",
    "print(s2.islower())\n",
    "\n",
    "s2 =s.upper()\n",
    "print(s2)\n",
    "\n",
    "s2 = s.title()\n",
    "print(s2)\n",
    "\n",
    "s2 = s.capitalize()\n",
    "print(s2)"
   ]
  },
  {
   "cell_type": "code",
   "execution_count": null,
   "metadata": {},
   "outputs": [],
   "source": [
    "Check\n",
    "isalpha => alpha\n",
    "isdigit => digit\n",
    "isalnum =>alpha numeric\n",
    "isspace => space \\n \\r"
   ]
  },
  {
   "cell_type": "code",
   "execution_count": 114,
   "metadata": {},
   "outputs": [
    {
     "name": "stdout",
     "output_type": "stream",
     "text": [
      "True\n",
      "False\n",
      "False\n"
     ]
    }
   ],
   "source": [
    "s = \"python3\"\n",
    "print(s.isalnum())\n",
    "print(s.isdigit())\n",
    "print(s.isspace()) # to see a s have empty string\n",
    "\n"
   ]
  },
  {
   "cell_type": "code",
   "execution_count": 13,
   "metadata": {},
   "outputs": [
    {
     "name": "stdout",
     "output_type": "stream",
     "text": [
      "Python,Java\n"
     ]
    }
   ],
   "source": [
    "# strip\n",
    "# lstrip\n",
    "# rstrip\n",
    "\n",
    "# center\n",
    "# ljust\n",
    "# rjust\n",
    "\n",
    "s = \"     Python,Java      \"\n",
    "s1 = s.strip()\n",
    "print(s1)"
   ]
  },
  {
   "cell_type": "code",
   "execution_count": 15,
   "metadata": {},
   "outputs": [
    {
     "name": "stdout",
     "output_type": "stream",
     "text": [
      "     Python,Java      \n"
     ]
    }
   ],
   "source": [
    "s = \"aaa     Python,Java      aaa\"\n",
    "s1 = s.strip(\"a\") # removing whitespace\n",
    "print(s1)"
   ]
  },
  {
   "cell_type": "code",
   "execution_count": 16,
   "metadata": {},
   "outputs": [
    {
     "name": "stdout",
     "output_type": "stream",
     "text": [
      "@@@@@@@Python@@@@@@@\n",
      "Python@@@@@@@@@@@@@@\n",
      "Python@@@@@@@@@@@@@@\n"
     ]
    }
   ],
   "source": [
    "s = \"Python\"\n",
    "s2 = s.center(20,\"@\") #adding @\n",
    "print(s2)\n",
    "s = s.ljust(20,\"@\")\n",
    "print(s)\n",
    "s2 = s.rjust(20,\"@\")\n",
    "print(s2)"
   ]
  },
  {
   "cell_type": "code",
   "execution_count": 146,
   "metadata": {},
   "outputs": [
    {
     "name": "stdout",
     "output_type": "stream",
     "text": [
      "LEArnIng pythOn Is EAsy\n"
     ]
    }
   ],
   "source": [
    "s = \"Learning python is easy\"\n",
    "for value in s:\n",
    "    if value in \"aeiou\":\n",
    "        s = s.replace(value,value.upper())\n",
    "    \n",
    "print(s)    \n",
    "    "
   ]
  },
  {
   "cell_type": "code",
   "execution_count": 152,
   "metadata": {},
   "outputs": [
    {
     "name": "stdout",
     "output_type": "stream",
     "text": [
      "True\n"
     ]
    }
   ],
   "source": [
    "#iscapitalize\n",
    "\n",
    "s = \"Python is easy to learn\"\n",
    "\n",
    "#if s[0].isupper() and s[1:].islower:\n",
    "if s==s.capitalize():\n",
    "    print(True)\n",
    "else:\n",
    "    print(False)"
   ]
  },
  {
   "cell_type": "code",
   "execution_count": 17,
   "metadata": {},
   "outputs": [
    {
     "name": "stdout",
     "output_type": "stream",
     "text": [
      "False\n",
      "False\n"
     ]
    }
   ],
   "source": [
    "s =\"100.25\" #with dot it is considered s as character.\n",
    "print(s.isdigit())\n",
    "print(s.isalnum())"
   ]
  },
  {
   "cell_type": "code",
   "execution_count": 155,
   "metadata": {},
   "outputs": [
    {
     "name": "stdout",
     "output_type": "stream",
     "text": [
      "True\n"
     ]
    }
   ],
   "source": [
    "s =[10,20,30,40]\n",
    "print(type(s) == list)"
   ]
  },
  {
   "cell_type": "code",
   "execution_count": null,
   "metadata": {},
   "outputs": [],
   "source": []
  }
 ],
 "metadata": {
  "kernelspec": {
   "display_name": "Python 3",
   "language": "python",
   "name": "python3"
  },
  "language_info": {
   "codemirror_mode": {
    "name": "ipython",
    "version": 3
   },
   "file_extension": ".py",
   "mimetype": "text/x-python",
   "name": "python",
   "nbconvert_exporter": "python",
   "pygments_lexer": "ipython3",
   "version": "3.7.4"
  }
 },
 "nbformat": 4,
 "nbformat_minor": 2
}
