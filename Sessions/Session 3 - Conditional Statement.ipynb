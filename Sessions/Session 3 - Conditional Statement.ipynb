{
 "cells": [
  {
   "cell_type": "code",
   "execution_count": null,
   "metadata": {},
   "outputs": [],
   "source": [
    "Conditional Statements if elif else"
   ]
  },
  {
   "cell_type": "code",
   "execution_count": null,
   "metadata": {},
   "outputs": [],
   "source": [
    "num1=200\n",
    "num2=200\n",
    "\n",
    "#num1 is greater\n",
    "#num2 is greater\n",
    "#both are equal\n",
    "\n",
    "if [condition]=True/False:\n",
    "\n",
    "if num1>num2:\n",
    "   print('num1 is greater')\n",
    "elif num2>num1:\n",
    "   print('num2 is greater')\n",
    "else:\n",
    "   print('both are equal')"
   ]
  },
  {
   "cell_type": "code",
   "execution_count": null,
   "metadata": {},
   "outputs": [],
   "source": [
    "char ='a'\n",
    "# Vowel/Consonant\n",
    "if char in'aeiou':\n",
    "    print('Vowel')\n",
    "else:\n",
    "    print('Consonant')"
   ]
  },
  {
   "cell_type": "code",
   "execution_count": null,
   "metadata": {},
   "outputs": [],
   "source": [
    "if 100:\n",
    "    print('hi')\n",
    "else:\n",
    "    print(\"p\")"
   ]
  },
  {
   "cell_type": "code",
   "execution_count": null,
   "metadata": {},
   "outputs": [],
   "source": [
    "Any non-zero value is True in python\n",
    "Any zero value is False 0,None,\"\",[],{},()\n"
   ]
  },
  {
   "cell_type": "code",
   "execution_count": 2,
   "metadata": {},
   "outputs": [
    {
     "name": "stdout",
     "output_type": "stream",
     "text": [
      "list is empty\n"
     ]
    }
   ],
   "source": [
    "l=[]\n",
    "if l:\n",
    "    print(\"list is not empty\")\n",
    "else:\n",
    "    print(\"list is empty\")\n",
    "#less computation    "
   ]
  },
  {
   "cell_type": "code",
   "execution_count": null,
   "metadata": {},
   "outputs": [],
   "source": [
    "PEP 8"
   ]
  },
  {
   "cell_type": "code",
   "execution_count": 1,
   "metadata": {},
   "outputs": [
    {
     "name": "stdout",
     "output_type": "stream",
     "text": [
      "3\n",
      "list is not empty\n"
     ]
    }
   ],
   "source": [
    "l=[10,20,30]\n",
    "print(len(l))\n",
    "if len(l) > 0:\n",
    "    print('list is not empty')\n",
    "else:\n",
    "    print('list is empty')\n",
    "#Computation is more    "
   ]
  },
  {
   "cell_type": "code",
   "execution_count": null,
   "metadata": {},
   "outputs": [],
   "source": [
    "s=\"Python sample string\"\n",
    "if 'a' in s:\n",
    "    print('A is present')\n",
    "else:\n",
    "    print('A is not present')\n",
    "#it will not go to else part better selection.       "
   ]
  },
  {
   "cell_type": "code",
   "execution_count": 3,
   "metadata": {},
   "outputs": [
    {
     "name": "stdout",
     "output_type": "stream",
     "text": [
      "A is present\n"
     ]
    }
   ],
   "source": [
    "s=\"Python sample string\"\n",
    "if 'a' not in s:\n",
    "    print('A is not present')\n",
    "else:\n",
    "    print('A is present')\n",
    "#it will go to else part    "
   ]
  },
  {
   "cell_type": "code",
   "execution_count": null,
   "metadata": {},
   "outputs": [],
   "source": [
    "marks_obtained = 380\n",
    "total_marks=500\n",
    "#Pass/Fail\n",
    "#40% =>Pass else Fail\n",
    "percentage=(marks_obtained/total_marks)*100\n",
    "passing_per=40\n",
    "if percentage > passing_per:\n",
    "    print('pass',percentage)\n",
    "else:\n",
    "    print('fail')"
   ]
  },
  {
   "cell_type": "code",
   "execution_count": null,
   "metadata": {},
   "outputs": [],
   "source": [
    "mutiline comment=> Ctrl + /"
   ]
  },
  {
   "cell_type": "code",
   "execution_count": null,
   "metadata": {},
   "outputs": [],
   "source": [
    "num1 = 45\n",
    "if num1 % 2 == 0:\n",
    "    print('even')\n",
    "else:\n",
    "    print('odd')\n",
    "    "
   ]
  },
  {
   "cell_type": "code",
   "execution_count": null,
   "metadata": {},
   "outputs": [],
   "source": [
    "amount = 5560\n",
    "note_count = 0\n",
    "if amount >= 2000:    \n",
    "    print(\"Notes of 2000 are\",amount//2000)\n",
    "    note_count+=amount//2000\n",
    "    amount = amount  %  2000\n",
    "else:\n",
    "    print(\"Can not issue notes of 2000\")\n",
    "\n",
    "if amount >= 500:\n",
    "    print(\"Notes of 500 are\",amount//500)\n",
    "    note_count+=amount//500\n",
    "    amount = amount  %  500\n",
    "else:\n",
    "    print(\"Can not issue notes of 500\")\n",
    "    \n",
    "if amount >= 100:\n",
    "    print(\"Notes of 100 are\",amount//100)\n",
    "    note_count+=amount//100\n",
    "    amount = amount  %  100\n",
    "else:\n",
    "    print(\"Can not issue notes of 100\")\n",
    "    \n",
    "if amount >= 50:\n",
    "    print(\"Notes of 50 are\",amount//50)\n",
    "    note_count+=amount//50\n",
    "    amount = amount  %  50\n",
    "else:\n",
    "    print(\"Can not issue notes of 50\")\n",
    "        \n",
    "    \n",
    "if amount >= 10:\n",
    "    print(\"Notes of 10 are\",amount//10)\n",
    "    note_count+=amount//10\n",
    "    amount = amount  %  10\n",
    "else:\n",
    "    print(\"Can not issue notes of 10\")\n",
    "print('total no of notes are',note_count)        "
   ]
  },
  {
   "cell_type": "code",
   "execution_count": 1,
   "metadata": {},
   "outputs": [
    {
     "name": "stdout",
     "output_type": "stream",
     "text": [
      "1200.0\n"
     ]
    }
   ],
   "source": [
    "rating=2\n",
    "bill_amt=1000\n",
    "tip=bill_amt * (rating * 10/100)\n",
    "final_amt=bill_amt+tip\n",
    "print(final_amt)\n",
    "\n"
   ]
  },
  {
   "cell_type": "code",
   "execution_count": null,
   "metadata": {},
   "outputs": [],
   "source": [
    "# 1.Given two numbers, print their sum. However, if the two numbers are the same, return double their sum.\n",
    "a = [1,2]\n",
    "sum = 0\n",
    "for i in a:\n",
    "    sum = sum + i\n",
    "print(sum)    "
   ]
  },
  {
   "cell_type": "code",
   "execution_count": null,
   "metadata": {},
   "outputs": [],
   "source": [
    "# 2.Given a Cost price and Selling price of a product,write program to calculate profit or loss\n",
    "cost_price = 30\n",
    "selling_price = 45\n",
    "profit = selling_price - cost_price\n",
    "Loss =  cost_price - selling_price\n",
    "no_profit_loss = selling_price - cost_price\n",
    "if selling_price > cost_price :\n",
    "    print(' Profit on a product is', profit )\n",
    "    \n",
    "elif cost_price > selling_price :\n",
    "    print(' Loss on a product is' , Loss )\n",
    "\n",
    "else :    \n",
    "    print( 'No Profit No Loss' , no_profit_loss )    \n"
   ]
  },
  {
   "cell_type": "code",
   "execution_count": null,
   "metadata": {},
   "outputs": [],
   "source": [
    "# 3.Write a program to input basic salary of an employee and calculate gross salary according to given conditions. Basic Salary <= 10000 : HRA = 20%, DA = 80% Basic Salary is between 10001 to 20000 : HRA = 25%, DA = 90% Basic Salary >= 20001 : HRA = 30%, DA = 95%\n",
    "basic_salary = 15000\n",
    "\n",
    "if basic_salary <= 10000:\n",
    "    hra = (basic_salary * 20) / 100\n",
    "    da = (basic_salary * 80) / 100\n",
    "elif basic_salary <= 20000:\n",
    "    hra = (basic_salary * 25) / 100\n",
    "    da = (basic_salary * 90) / 100 \n",
    "elif basic_salary > 20001:\n",
    "    hra = (basic_salary * 30) / 100\n",
    "    da = (basic_salary * 95) / 100 \n",
    "gross_salary = basic_salary + hra + da    \n",
    "print('Gross Salary', gross_salary)    "
   ]
  },
  {
   "cell_type": "code",
   "execution_count": null,
   "metadata": {},
   "outputs": [],
   "source": []
  },
  {
   "cell_type": "code",
   "execution_count": null,
   "metadata": {},
   "outputs": [],
   "source": []
  },
  {
   "cell_type": "code",
   "execution_count": null,
   "metadata": {},
   "outputs": [],
   "source": []
  },
  {
   "cell_type": "code",
   "execution_count": null,
   "metadata": {},
   "outputs": [],
   "source": []
  },
  {
   "cell_type": "code",
   "execution_count": null,
   "metadata": {},
   "outputs": [],
   "source": []
  },
  {
   "cell_type": "code",
   "execution_count": null,
   "metadata": {},
   "outputs": [],
   "source": []
  },
  {
   "cell_type": "code",
   "execution_count": null,
   "metadata": {},
   "outputs": [],
   "source": []
  },
  {
   "cell_type": "code",
   "execution_count": null,
   "metadata": {},
   "outputs": [],
   "source": []
  },
  {
   "cell_type": "code",
   "execution_count": null,
   "metadata": {},
   "outputs": [],
   "source": []
  },
  {
   "cell_type": "code",
   "execution_count": null,
   "metadata": {},
   "outputs": [],
   "source": []
  },
  {
   "cell_type": "code",
   "execution_count": null,
   "metadata": {},
   "outputs": [],
   "source": []
  },
  {
   "cell_type": "code",
   "execution_count": null,
   "metadata": {},
   "outputs": [],
   "source": []
  },
  {
   "cell_type": "code",
   "execution_count": null,
   "metadata": {},
   "outputs": [],
   "source": []
  },
  {
   "cell_type": "code",
   "execution_count": null,
   "metadata": {},
   "outputs": [],
   "source": []
  },
  {
   "cell_type": "code",
   "execution_count": null,
   "metadata": {},
   "outputs": [],
   "source": []
  }
 ],
 "metadata": {
  "kernelspec": {
   "display_name": "Python 3",
   "language": "python",
   "name": "python3"
  },
  "language_info": {
   "codemirror_mode": {
    "name": "ipython",
    "version": 3
   },
   "file_extension": ".py",
   "mimetype": "text/x-python",
   "name": "python",
   "nbconvert_exporter": "python",
   "pygments_lexer": "ipython3",
   "version": "3.7.4"
  }
 },
 "nbformat": 4,
 "nbformat_minor": 2
}
