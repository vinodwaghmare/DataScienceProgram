{
 "cells": [
  {
   "cell_type": "code",
   "execution_count": null,
   "metadata": {},
   "outputs": [],
   "source": [
    "Instance variable :"
   ]
  },
  {
   "cell_type": "code",
   "execution_count": 55,
   "metadata": {},
   "outputs": [
    {
     "name": "stdout",
     "output_type": "stream",
     "text": [
      "0\n",
      "{'Id': 1, 'name': 'ABC'}\n"
     ]
    }
   ],
   "source": [
    "class User:\n",
    "    \n",
    "    @classmethod\n",
    "    def incr_count(cls): #If we want any changes in class variables then define classmethod \n",
    "        cls.count += 1 # cls is a ref to the class so we can directly access to the class var\n",
    "    def __init__(self,Id,name):\n",
    "        self.Id = Id\n",
    "        self.name = name\n",
    "    count = 0    \n",
    "    \n",
    "user1 =User(1,\"ABC\")    \n",
    "print(User.count)\n",
    "print(user1.__dict__) # Access all the instance variables.\n",
    "user1.count = 50 # create local variable(class variable) for obj in class\n",
    "\n"
   ]
  },
  {
   "cell_type": "code",
   "execution_count": null,
   "metadata": {},
   "outputs": [],
   "source": [
    "# Anything starts with __ __ we should not give a call\n",
    "__str__ : => str\n",
    "__add__ : obj1 + obj2 "
   ]
  },
  {
   "cell_type": "code",
   "execution_count": null,
   "metadata": {},
   "outputs": [],
   "source": [
    "Inheritance "
   ]
  },
  {
   "cell_type": "raw",
   "metadata": {},
   "source": [
    "User :\n",
    "    username\n",
    "    first_name\n",
    "    last_name\n",
    "    password\n",
    "    email\n",
    "    \n",
    "    login\n",
    "    logout\n",
    "    isauthenticated\n",
    "    \n",
    "Profile :  \n",
    "    Contact\n",
    "    Github \n",
    "    linkedin\n",
    "\n",
    "\n",
    "Inheritance Concept: we can access each and everything from parent class and add additional functionality as we want.\n",
    "\n",
    "Explaining : So we are having a builtin class called user, it provides standard functionality username to isauthenticated.\n",
    "\n",
    "Aim : Reusing the existing code and extend the functionality with minimum implementation`like using class Profile for more info."
   ]
  },
  {
   "cell_type": "code",
   "execution_count": 5,
   "metadata": {},
   "outputs": [
    {
     "name": "stdout",
     "output_type": "stream",
     "text": [
      "www.github.com/a\n",
      "Hi {'_user_name': 'pqr', 'email': 'pqr@gmail.com', '_User__password': 'password@123'}\n",
      "ABC\n",
      "abc@123\n",
      "abc@123 abc@gmail.com www.github.com/a www.linkedin.com\n",
      "password@123\n"
     ]
    }
   ],
   "source": [
    "class User: #parent\n",
    "    def __init__(self,username,email,password):\n",
    "        self._user_name = username\n",
    "        self.email = email\n",
    "        self.__password = password\n",
    "        \n",
    "    def get_user_name(self):\n",
    "        return self._user_name\n",
    "\n",
    "    def login(self,username,password):   \n",
    "        if self._user_name == username and self.__password == password:\n",
    "            return True\n",
    "        else:\n",
    "            return False\n",
    "        \n",
    "        \n",
    "    def set_name(self,new_name):\n",
    "        self.__name = new_name # __ is to make var private\n",
    "        \n",
    "    def get_name(self):\n",
    "        return self.__name\n",
    "        \n",
    "    def change_password(self,new_password):\n",
    "        self.__password = new_password\n",
    "        \n",
    "    def get_details(self):\n",
    "        return \"{} {} \".format(self._user_name,self.email)\n",
    "        \n",
    "class Admin:\n",
    "    \n",
    "    def get_details(self):\n",
    "        return \"{} {}\".format(\"admin\",\"admin@xyz.com\")\n",
    "\n",
    "#child\n",
    "class Profile(User,Admin): \n",
    "    def __init__(self,username,email,password,contact,github,linkedin):\n",
    "        super().__init__(username,email,password)\n",
    "        self.contact = contact\n",
    "        self.github_url = github\n",
    "        self.linkedin_url = linkedin\n",
    "        \n",
    "    def update_github(self,new_url):\n",
    "        self.github_url = new_url\n",
    "    \n",
    "    def get_details(self):\n",
    "#                 return \"{} {} {}\".format(super().get_details(),self.github_url,self.linkedin_url)\n",
    "#                 return \"{} {} {} {}\".format(User.get_details(self),self.github_url,self.linkedin_url)\n",
    "                return \"{} {} {} {}\".format(self._user_name,self.email,self.github_url,self.linkedin_url)\n",
    "\n",
    "\n",
    "profile1 = Profile(\"abc@123\",\"abc@gmail.com\",\"password@123\",\"9158950121\",\"www.github.com/abc\",\"www.linkedin.com\")\n",
    "#here add_name is a func of parent class, we can call all the functions of parent class\n",
    "#from child class\n",
    "profile1.set_name(\"ABC\")\n",
    "# print(profile1.name)\n",
    "profile1.update_github(\"www.github.com/a\")\n",
    "print(profile1.github_url)\n",
    "# print(profile1.__dict__)\n",
    "# print(profile1.user_name)\n",
    "# Whenever we create Obj (here profile1) is getting created it will call __init__ func in Profile class\n",
    "#but profile class is inheriting the class (User) functions.\n",
    "\n",
    "\n",
    "user2 = User(\"pqr\",\"pqr@gmail.com\",\"password@123\")\n",
    "print(\"Hi\",user2.__dict__)\n",
    "# parent class can't access func of child class\n",
    "# user2.update_github(\"www.github.com/p\") \n",
    "\n",
    "# print(profile1.get_details())\n",
    "\n",
    "# print(profile1.name) it will not work\n",
    "# print(profile1.get_name())\n",
    "\n",
    "print(profile1.get_name())\n",
    "print(profile1.get_user_name())\n",
    "print(profile1.get_details())\n",
    "print(profile1._User__password)"
   ]
  },
  {
   "cell_type": "code",
   "execution_count": null,
   "metadata": {},
   "outputs": [],
   "source": [
    "Single Inheritance\n",
    "    User(Parent)\n",
    "    Profile(Child)\n",
    "\n",
    "Multilevel :\n",
    "    Parent1\n",
    "    \n",
    "    Parent2(Parent1)\n",
    "    \n",
    "    Child1(Parent2)\n",
    "    \n",
    "Multiple inheritance :\n",
    "    \n",
    "    User(Parent 1) Admin(Parent 2)\n",
    "        profile(Child)\n",
    "    \n",
    "Hybrid :\n",
    "    \n",
    "    Parent1\n",
    "    \n",
    "    Parent2(Parent1) Parent3\n",
    "    \n",
    "    Child(Parent2,Parent3)"
   ]
  },
  {
   "cell_type": "code",
   "execution_count": null,
   "metadata": {},
   "outputs": [],
   "source": []
  },
  {
   "cell_type": "code",
   "execution_count": null,
   "metadata": {},
   "outputs": [],
   "source": [
    "Method Overriding : In 2 class having same method with same name and same parameters but \n",
    "                    different implementation like above method get_details\n",
    "    "
   ]
  },
  {
   "cell_type": "code",
   "execution_count": 44,
   "metadata": {},
   "outputs": [
    {
     "name": "stdout",
     "output_type": "stream",
     "text": [
      "Help on Profile in module __main__ object:\n",
      "\n",
      "class Profile(User, Admin)\n",
      " |  Profile(username, email, password, contact, github, linkedin)\n",
      " |  \n",
      " |  Method resolution order:\n",
      " |      Profile\n",
      " |      User\n",
      " |      Admin\n",
      " |      builtins.object\n",
      " |  \n",
      " |  Methods defined here:\n",
      " |  \n",
      " |  __init__(self, username, email, password, contact, github, linkedin)\n",
      " |      Initialize self.  See help(type(self)) for accurate signature.\n",
      " |  \n",
      " |  get_details(self)\n",
      " |  \n",
      " |  update_github(self, new_url)\n",
      " |  \n",
      " |  ----------------------------------------------------------------------\n",
      " |  Methods inherited from User:\n",
      " |  \n",
      " |  add_name(self, name)\n",
      " |  \n",
      " |  change_password(self, new_password)\n",
      " |  \n",
      " |  login(self, username, password)\n",
      " |  \n",
      " |  ----------------------------------------------------------------------\n",
      " |  Data descriptors inherited from User:\n",
      " |  \n",
      " |  __dict__\n",
      " |      dictionary for instance variables (if defined)\n",
      " |  \n",
      " |  __weakref__\n",
      " |      list of weak references to the object (if defined)\n",
      "\n"
     ]
    }
   ],
   "source": [
    "help(profile1)"
   ]
  },
  {
   "cell_type": "markdown",
   "metadata": {},
   "source": [
    "Depth first left to right algo: Based on inheritance order"
   ]
  },
  {
   "cell_type": "markdown",
   "metadata": {},
   "source": [
    "if we are using multiple inheritance it not a good way to use super method\n",
    "In multiple inheritance we should call method explicitly."
   ]
  },
  {
   "cell_type": "markdown",
   "metadata": {},
   "source": [
    "Don't expose the variable but write the func to use it."
   ]
  },
  {
   "cell_type": "markdown",
   "metadata": {},
   "source": [
    "getters and setters"
   ]
  },
  {
   "cell_type": "markdown",
   "metadata": {},
   "source": [
    "getters: To get the value for a particular variable.\n",
    "setters: To set the value for a particular variable."
   ]
  },
  {
   "cell_type": "markdown",
   "metadata": {},
   "source": [
    "If we made any variable private in parent class we are not able to call that var \n",
    "in child class."
   ]
  },
  {
   "cell_type": "markdown",
   "metadata": {},
   "source": [
    "Protected: Restrict the access to the variable outside the class,but it can \n",
    "            be allowed inside the child class."
   ]
  },
  {
   "cell_type": "markdown",
   "metadata": {},
   "source": [
    "1) Public : A variable is accessed outside the class and also inside the  child class.\n",
    "\n",
    "2) Private : A variable is accessed using getter and setter method but not accessed by child class.\n",
    "\n",
    "3) Protected : A variable is accessed inside the child class "
   ]
  },
  {
   "cell_type": "code",
   "execution_count": null,
   "metadata": {},
   "outputs": [],
   "source": [
    "User :\n",
    "    username\n",
    "    first_name\n",
    "    last_name\n",
    "    password\n",
    "    email\n",
    "    \n",
    "    login\n",
    "    logout\n",
    "    isauthenticated\n",
    "    \n",
    "Profile :  \n",
    "    Contact\n",
    "    Github \n",
    "    linkedin\n"
   ]
  },
  {
   "cell_type": "code",
   "execution_count": 61,
   "metadata": {},
   "outputs": [
    {
     "name": "stdout",
     "output_type": "stream",
     "text": [
      "Josh\n",
      "{'_user_name': 'abc', 'email': 'abc@gmail.com', '_User__password': 'pass12', '_name': 'Josh'}\n"
     ]
    },
    {
     "ename": "TypeError",
     "evalue": "__init__() missing 3 required positional arguments: 'contact', 'github', and 'linkedin'",
     "output_type": "error",
     "traceback": [
      "\u001b[0;31m---------------------------------------------------------------------------\u001b[0m",
      "\u001b[0;31mTypeError\u001b[0m                                 Traceback (most recent call last)",
      "\u001b[0;32m<ipython-input-61-83363a0978c6>\u001b[0m in \u001b[0;36m<module>\u001b[0;34m\u001b[0m\n\u001b[1;32m     56\u001b[0m \u001b[0mprint\u001b[0m\u001b[0;34m(\u001b[0m\u001b[0muser1\u001b[0m\u001b[0;34m.\u001b[0m\u001b[0m__dict__\u001b[0m\u001b[0;34m)\u001b[0m\u001b[0;34m\u001b[0m\u001b[0;34m\u001b[0m\u001b[0m\n\u001b[1;32m     57\u001b[0m \u001b[0;34m\u001b[0m\u001b[0m\n\u001b[0;32m---> 58\u001b[0;31m \u001b[0mprofile1\u001b[0m \u001b[0;34m=\u001b[0m \u001b[0mProfile\u001b[0m\u001b[0;34m(\u001b[0m\u001b[0;34m\"www.github.com/abc\"\u001b[0m\u001b[0;34m,\u001b[0m\u001b[0;34m\"www.linkedin.com\"\u001b[0m\u001b[0;34m,\u001b[0m\u001b[0;34m\"9185843211\"\u001b[0m\u001b[0;34m)\u001b[0m\u001b[0;34m\u001b[0m\u001b[0;34m\u001b[0m\u001b[0m\n\u001b[0m\u001b[1;32m     59\u001b[0m \u001b[0mprint\u001b[0m\u001b[0;34m(\u001b[0m\u001b[0mprofile1\u001b[0m\u001b[0;34m.\u001b[0m\u001b[0m__dict__\u001b[0m\u001b[0;34m)\u001b[0m\u001b[0;34m\u001b[0m\u001b[0;34m\u001b[0m\u001b[0m\n",
      "\u001b[0;31mTypeError\u001b[0m: __init__() missing 3 required positional arguments: 'contact', 'github', and 'linkedin'"
     ]
    }
   ],
   "source": [
    "class User:\n",
    "    def __init__(self,username,email,password):\n",
    "        self._user_name = username\n",
    "        self.email = email\n",
    "        self.__password = password\n",
    "        \n",
    "    def login(self,username,password):\n",
    "        if self.user_name == username and self.password == password:\n",
    "            return True\n",
    "        else:\n",
    "            return False\n",
    "    \n",
    "    def get_username(self):\n",
    "        return self._user_name\n",
    "    \n",
    "    def set_name(self,name):\n",
    "         self._name = name\n",
    "    \n",
    "    def get_name(self):\n",
    "        return self._name\n",
    "    \n",
    "    def change_password(self,new_password):\n",
    "        self.__password = new_password\n",
    "        \n",
    "    def get_details(self):\n",
    "        return \"{} {}\".format(self._user_name,self.email)\n",
    "        \n",
    "        \n",
    "class Admin:\n",
    "    \n",
    "    def get_details(self):\n",
    "        pass\n",
    "    \n",
    "    \n",
    "    \n",
    "class Profile(User,Admin):\n",
    "    \n",
    "    def __init__(self,username,email,password,contact,github,linkedin):\n",
    "        super().__init__(username,email,password)\n",
    "        self.contact = contact\n",
    "        self.github_url = github\n",
    "        self.linkedin_url = linkedin\n",
    "        \n",
    "        \n",
    "    def update_github(self,github):\n",
    "        self.github_url = github\n",
    "        \n",
    "   \n",
    "    \n",
    "    \n",
    "user1 = User(\"abc\",\"abc@gmail.com\",\"pass1\")\n",
    "# print(user1.get_username())\n",
    "user1.set_name(\"Josh\")\n",
    "print(user1.get_name())\n",
    "user1.change_password(\"pass12\")\n",
    "print(user1.__dict__)\n",
    "\n",
    "profile1 = Profile(\"www.github.com/abc\",\"www.linkedin.com\",\"9185843211\")\n",
    "print(profile1.__dict__)"
   ]
  },
  {
   "cell_type": "markdown",
   "metadata": {},
   "source": [
    "### "
   ]
  },
  {
   "cell_type": "code",
   "execution_count": null,
   "metadata": {},
   "outputs": [],
   "source": []
  }
 ],
 "metadata": {
  "kernelspec": {
   "display_name": "Python 3",
   "language": "python",
   "name": "python3"
  },
  "language_info": {
   "codemirror_mode": {
    "name": "ipython",
    "version": 3
   },
   "file_extension": ".py",
   "mimetype": "text/x-python",
   "name": "python",
   "nbconvert_exporter": "python",
   "pygments_lexer": "ipython3",
   "version": "3.7.4"
  }
 },
 "nbformat": 4,
 "nbformat_minor": 2
}
