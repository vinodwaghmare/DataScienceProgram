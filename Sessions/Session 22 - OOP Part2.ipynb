{
 "cells": [
  {
   "cell_type": "code",
   "execution_count": null,
   "metadata": {},
   "outputs": [],
   "source": [
    "class Class_name:\n",
    "    def __init__(self):\n",
    "        sef.var_name = val\n",
    "        \n",
    "obj_name = Class_name()"
   ]
  },
  {
   "cell_type": "code",
   "execution_count": 52,
   "metadata": {},
   "outputs": [
    {
     "name": "stdout",
     "output_type": "stream",
     "text": [
      "Rafael 18 Fail 31.43\n",
      "Topper of the class is Ron 21 Pass 85.71\n",
      " Ron 21\n"
     ]
    }
   ],
   "source": [
    "#Write a code for students who have failed and the student who is a topper.\n",
    "\n",
    "class Student:\n",
    "    def __init__(self,name,roll_no):\n",
    "        self.name = name\n",
    "        self.roll_no = roll_no\n",
    "   \n",
    "    \n",
    "    def add_marks(self,marks):\n",
    "        self.marks = marks\n",
    "        \n",
    "    def cal_result(self):\n",
    "        self.per = sum(self.marks.values())/350 * 100\n",
    "        if self.per >= 40:\n",
    "            self.result = \"Pass\"\n",
    "        else:\n",
    "            self.result = \"Fail\"\n",
    "            \n",
    "    def get_details(self):\n",
    "        return \"{} {} {} {}\".format(self.name,str(self.roll_no),self.result,round(self.per,2))\n",
    "    \n",
    "    def __str__(self):\n",
    "        return \" {} {}\".format(self.name,self.roll_no)\n",
    "    \n",
    "    def __add__(self,obj2): # first obj will get passed as self\n",
    "        return sum(self.marks.values()) + sum(obj2.marks.values())\n",
    "\n",
    "    def __sub__(self,obj2): # first obj will get passed as self\n",
    "        return sum(self.marks.values()) - sum(obj2.marks.values())\n",
    "    \n",
    "    def __mul__(self,num): # first obj will get passed as self\n",
    "        return sum(self.marks.values()) * num\n",
    "    \n",
    "    \n",
    "stud1 = Student(\"Ron\",\"21\")\n",
    "stud2 = Student(\"Mike\",\"32\")\n",
    "stud3 = Student(\"John\",\"41\")\n",
    "stud4 = Student(\"Michael\",\"13\")\n",
    "stud5 = Student(\"Rafael\",\"18\")\n",
    "# print(stud1.__dict__)\n",
    "stud1.add_marks({\"Eng\":50,\"Math\":50,\"Phy\":50,\"Chem\":50,\"Hist\":50,\"Eco\":50})\n",
    "stud2.add_marks({\"Eng\":30,\"Math\":20,\"Phy\":40,\"Chem\":20,\"Hist\":30,\"Eco\":40})\n",
    "stud3.add_marks({\"Eng\":40,\"Math\":20,\"Phy\":30,\"Chem\":40,\"Hist\":30,\"Eco\":10})\n",
    "stud4.add_marks({\"Eng\":30,\"Math\":40,\"Phy\":20,\"Chem\":40,\"Hist\":30,\"Eco\":50})\n",
    "stud5.add_marks({\"Eng\":20,\"Math\":10,\"Phy\":20,\"Chem\":10,\"Hist\":20,\"Eco\":30})\n",
    "\n",
    "students = [stud1,stud2,stud3,stud4,stud5]\n",
    "for student in students:\n",
    "    student.cal_result()\n",
    "    if student.per < 40:\n",
    "        print(student.get_details())\n",
    "    \n",
    "student_per = [(student,student.per) for student in students if student.per >= 40]\n",
    "\n",
    "topper = max(student_per, key = lambda t : t[1])\n",
    "print(\"Topper of the class is\",topper[0].get_details())\n",
    "print(stud1)"
   ]
  },
  {
   "cell_type": "code",
   "execution_count": 23,
   "metadata": {},
   "outputs": [
    {
     "name": "stdout",
     "output_type": "stream",
     "text": [
      "(<__main__.Student object at 0x111d4fed0>, 85.71428571428571)\n"
     ]
    }
   ],
   "source": [
    "print(topper)"
   ]
  },
  {
   "cell_type": "code",
   "execution_count": 53,
   "metadata": {},
   "outputs": [
    {
     "name": "stdout",
     "output_type": "stream",
     "text": [
      "480\n",
      "120\n",
      "600\n"
     ]
    }
   ],
   "source": [
    "print(stud1 + stud2) # obj can't be added we can do it using __add\n",
    "print(stud1 - stud2) # same for subraction\n",
    "print( stud1 * 2)"
   ]
  },
  {
   "cell_type": "code",
   "execution_count": 54,
   "metadata": {},
   "outputs": [
    {
     "ename": "TypeError",
     "evalue": "unsupported operand type(s) for *: 'int' and 'Student'",
     "output_type": "error",
     "traceback": [
      "\u001b[0;31m---------------------------------------------------------------------------\u001b[0m",
      "\u001b[0;31mTypeError\u001b[0m                                 Traceback (most recent call last)",
      "\u001b[0;32m<ipython-input-54-3ae72bf76cc3>\u001b[0m in \u001b[0;36m<module>\u001b[0;34m\u001b[0m\n\u001b[0;32m----> 1\u001b[0;31m \u001b[0mprint\u001b[0m\u001b[0;34m(\u001b[0m\u001b[0mstud1\u001b[0m \u001b[0;34m*\u001b[0m \u001b[0mstud2\u001b[0m\u001b[0;34m)\u001b[0m\u001b[0;34m\u001b[0m\u001b[0;34m\u001b[0m\u001b[0m\n\u001b[0m",
      "\u001b[0;32m<ipython-input-52-701977760393>\u001b[0m in \u001b[0;36m__mul__\u001b[0;34m(self, num)\u001b[0m\n\u001b[1;32m     30\u001b[0m \u001b[0;34m\u001b[0m\u001b[0m\n\u001b[1;32m     31\u001b[0m     \u001b[0;32mdef\u001b[0m \u001b[0m__mul__\u001b[0m\u001b[0;34m(\u001b[0m\u001b[0mself\u001b[0m\u001b[0;34m,\u001b[0m\u001b[0mnum\u001b[0m\u001b[0;34m)\u001b[0m\u001b[0;34m:\u001b[0m \u001b[0;31m# first obj will get passed as self\u001b[0m\u001b[0;34m\u001b[0m\u001b[0;34m\u001b[0m\u001b[0m\n\u001b[0;32m---> 32\u001b[0;31m         \u001b[0;32mreturn\u001b[0m \u001b[0msum\u001b[0m\u001b[0;34m(\u001b[0m\u001b[0mself\u001b[0m\u001b[0;34m.\u001b[0m\u001b[0mmarks\u001b[0m\u001b[0;34m.\u001b[0m\u001b[0mvalues\u001b[0m\u001b[0;34m(\u001b[0m\u001b[0;34m)\u001b[0m\u001b[0;34m)\u001b[0m \u001b[0;34m*\u001b[0m \u001b[0mnum\u001b[0m\u001b[0;34m\u001b[0m\u001b[0;34m\u001b[0m\u001b[0m\n\u001b[0m\u001b[1;32m     33\u001b[0m \u001b[0;34m\u001b[0m\u001b[0m\n\u001b[1;32m     34\u001b[0m \u001b[0;34m\u001b[0m\u001b[0m\n",
      "\u001b[0;31mTypeError\u001b[0m: unsupported operand type(s) for *: 'int' and 'Student'"
     ]
    }
   ],
   "source": [
    "print(stud1 * stud2)"
   ]
  },
  {
   "cell_type": "code",
   "execution_count": null,
   "metadata": {},
   "outputs": [],
   "source": [
    "Everyting in Python is Object"
   ]
  },
  {
   "cell_type": "code",
   "execution_count": 39,
   "metadata": {},
   "outputs": [
    {
     "name": "stdout",
     "output_type": "stream",
     "text": [
      "<class 'list'>\n"
     ]
    }
   ],
   "source": [
    "l = [10,20,30]\n",
    "print(type(l))"
   ]
  },
  {
   "cell_type": "code",
   "execution_count": null,
   "metadata": {},
   "outputs": [],
   "source": []
  },
  {
   "cell_type": "code",
   "execution_count": null,
   "metadata": {},
   "outputs": [],
   "source": [
    "<class 'list'> : list is a obj of class"
   ]
  },
  {
   "cell_type": "code",
   "execution_count": null,
   "metadata": {},
   "outputs": [],
   "source": [
    "class list\n",
    "    \n",
    "    def append(self):\n",
    "    \n",
    "    def extend(self):"
   ]
  },
  {
   "cell_type": "code",
   "execution_count": 42,
   "metadata": {},
   "outputs": [
    {
     "name": "stdout",
     "output_type": "stream",
     "text": [
      "[10, 20, 30, 100, 200, 300]\n"
     ]
    }
   ],
   "source": [
    "l1 = [10,20,30]\n",
    "l2 = [100,200,300]\n",
    "print(l1 + l2) # 2 obj are getting add\n",
    "# here we can add because we have builti func __add__"
   ]
  },
  {
   "cell_type": "code",
   "execution_count": 51,
   "metadata": {},
   "outputs": [
    {
     "name": "stdout",
     "output_type": "stream",
     "text": [
      "[10, 20, 30, 10, 20, 30]\n"
     ]
    }
   ],
   "source": [
    "l1 = [10,20,30]\n",
    "l2 = [100,200,300]\n",
    "print(l1 * 2)"
   ]
  },
  {
   "cell_type": "code",
   "execution_count": 43,
   "metadata": {},
   "outputs": [
    {
     "name": "stdout",
     "output_type": "stream",
     "text": [
      "['__add__', '__class__', '__contains__', '__delattr__', '__delitem__', '__dir__', '__doc__', '__eq__', '__format__', '__ge__', '__getattribute__', '__getitem__', '__gt__', '__hash__', '__iadd__', '__imul__', '__init__', '__init_subclass__', '__iter__', '__le__', '__len__', '__lt__', '__mul__', '__ne__', '__new__', '__reduce__', '__reduce_ex__', '__repr__', '__reversed__', '__rmul__', '__setattr__', '__setitem__', '__sizeof__', '__str__', '__subclasshook__', 'append', 'clear', 'copy', 'count', 'extend', 'index', 'insert', 'pop', 'remove', 'reverse', 'sort']\n"
     ]
    }
   ],
   "source": [
    "print(dir(list))"
   ]
  },
  {
   "cell_type": "code",
   "execution_count": null,
   "metadata": {},
   "outputs": [],
   "source": [
    "Class Variables : count"
   ]
  },
  {
   "cell_type": "code",
   "execution_count": 66,
   "metadata": {},
   "outputs": [
    {
     "name": "stdout",
     "output_type": "stream",
     "text": [
      "5\n",
      "5\n",
      "{'name': 'Ron', 'roll_no': '21'}\n",
      "100\n",
      "{'name': 'Ron', 'roll_no': '21', 'count': 100}\n",
      "5\n",
      "[<__main__.Student object at 0x111d6cc50>, <__main__.Student object at 0x111d6cbd0>, <__main__.Student object at 0x111d6c7d0>, <__main__.Student object at 0x111d6cad0>, <__main__.Student object at 0x111d6c410>]\n",
      "Rafael 18 Fail 31.43\n"
     ]
    }
   ],
   "source": [
    "#Write a code for students who have failed and the student who is a topper.\n",
    "\n",
    "class Student:\n",
    "    count = 0\n",
    "    students = []\n",
    "    \n",
    "    def __init__(self,name,roll_no):\n",
    "        self.name = name\n",
    "        self.roll_no = roll_no\n",
    "        Student.count += 1\n",
    "        Student.students.append(self)\n",
    "        \n",
    "   \n",
    "    \n",
    "    def add_marks(self,marks):\n",
    "        self.marks = marks\n",
    "        \n",
    "    def cal_result(self):\n",
    "        self.per = sum(self.marks.values())/350 * 100\n",
    "        if self.per >= 40:\n",
    "            self.result = \"Pass\"\n",
    "        else:\n",
    "            self.result = \"Fail\"\n",
    "            \n",
    "    def get_details(self):\n",
    "        return \"{} {} {} {}\".format(self.name,str(self.roll_no),self.result,round(self.per,2))\n",
    "    \n",
    "    def __str__(self):\n",
    "        return \" {} {}\".format(self.name,self.roll_no)\n",
    "    \n",
    "    def __add__(self,obj2): # first obj will get passed as self\n",
    "        return sum(self.marks.values()) + sum(obj2.marks.values())\n",
    "\n",
    "    def __sub__(self,obj2): # first obj will get passed as self\n",
    "        return sum(self.marks.values()) - sum(obj2.marks.values())\n",
    "    \n",
    "    def __mul__(self,num): # first obj will get passed as self\n",
    "        return sum(self.marks.values()) * num\n",
    " \n",
    "    \n",
    "stud1 = Student(\"Ron\",\"21\")\n",
    "stud2 = Student(\"Mike\",\"32\")\n",
    "stud3 = Student(\"John\",\"41\")\n",
    "stud4 = Student(\"Michael\",\"13\")\n",
    "stud5 = Student(\"Rafael\",\"18\")\n",
    "# print(stud1.__dict__)\n",
    "\n",
    "print(Student.count)\n",
    "print(stud1.count)\n",
    "print(stud1.__dict__)\n",
    "stud1.count = 100 # we can't modify class variable using obj the method containing the var will be a local variable\n",
    "# we are only able to modify that not the class variable \n",
    "print(stud1.count)\n",
    "print(stud1.__dict__)\n",
    "\n",
    "print(Student.count)\n",
    "\n",
    "print(Student.students)\n",
    "\n",
    "stud1.add_marks({\"Eng\":50,\"Math\":50,\"Phy\":50,\"Chem\":50,\"Hist\":50,\"Eco\":50})\n",
    "stud2.add_marks({\"Eng\":30,\"Math\":20,\"Phy\":40,\"Chem\":20,\"Hist\":30,\"Eco\":40})\n",
    "stud3.add_marks({\"Eng\":40,\"Math\":20,\"Phy\":30,\"Chem\":40,\"Hist\":30,\"Eco\":10})\n",
    "stud4.add_marks({\"Eng\":30,\"Math\":40,\"Phy\":20,\"Chem\":40,\"Hist\":30,\"Eco\":50})\n",
    "stud5.add_marks({\"Eng\":20,\"Math\":10,\"Phy\":20,\"Chem\":10,\"Hist\":20,\"Eco\":30})\n",
    "\n",
    "\n",
    "\n",
    "for student in Student.students:\n",
    "    student.cal_result()\n",
    "    if student.result == \"Fail\":\n",
    "        print(student.get_details())\n",
    "    \n",
    "student_per = [(student,student.per) for student in Student.students if student.per >= 40]\n",
    "\n",
    "topper = max(student_per, key = lambda t : t[1])\n",
    "print(\"Topper of the class is\",topper[0].get_details())\n"
   ]
  },
  {
   "cell_type": "code",
   "execution_count": null,
   "metadata": {},
   "outputs": [],
   "source": [
    "# OOPS principle shows that mixing class var and instance var in one method and modifying them is a bad practice."
   ]
  },
  {
   "cell_type": "code",
   "execution_count": null,
   "metadata": {},
   "outputs": [],
   "source": [
    "Instance methods => Modify instance var in inst method\n",
    "class method => modify class variable\n",
    "\n",
    "Inorder to modify class variable into instance method will not directly write class var inside instance method we\n",
    "will write class method inside instance variable after its done we will call class method "
   ]
  },
  {
   "cell_type": "code",
   "execution_count": 67,
   "metadata": {},
   "outputs": [
    {
     "name": "stdout",
     "output_type": "stream",
     "text": [
      "5\n",
      "5\n",
      "{'name': 'Ron', 'roll_no': '21'}\n",
      "100\n",
      "{'name': 'Ron', 'roll_no': '21', 'count': 100}\n",
      "5\n",
      "[<__main__.Student object at 0x111d5de50>, <__main__.Student object at 0x111d90250>, <__main__.Student object at 0x111d90150>, <__main__.Student object at 0x111d90210>, <__main__.Student object at 0x111d90290>]\n",
      "Rafael 18 Fail 31.43\n",
      "Topper of the class is Ron 21 Pass 85.71\n"
     ]
    }
   ],
   "source": [
    "#Write a code for students who have failed and the student who is a topper.\n",
    "\n",
    "class Student:\n",
    "    count = 0\n",
    "    students = []\n",
    "    \n",
    "    @classmethod\n",
    "    def incr_count(cls): # 1st args(cls) ref to the class\n",
    "        cls.count += 1\n",
    "        \n",
    "    @classmethod\n",
    "    def add_student(cls,obj):\n",
    "        cls.students.append(obj)\n",
    "    \n",
    "    def __init__(self,name,roll_no):\n",
    "        self.name = name\n",
    "        self.roll_no = roll_no\n",
    "        Student.incr_count()\n",
    "        Student.add_student(self)\n",
    "        \n",
    "   \n",
    "    \n",
    "    def add_marks(self,marks):\n",
    "        self.marks = marks\n",
    "        \n",
    "    def cal_result(self):\n",
    "        self.per = sum(self.marks.values())/350 * 100\n",
    "        if self.per >= 40:\n",
    "            self.result = \"Pass\"\n",
    "        else:\n",
    "            self.result = \"Fail\"\n",
    "            \n",
    "    def get_details(self):\n",
    "        return \"{} {} {} {}\".format(self.name,str(self.roll_no),self.result,round(self.per,2))\n",
    "    \n",
    "    def __str__(self):\n",
    "        return \" {} {}\".format(self.name,self.roll_no)\n",
    "    \n",
    "    def __add__(self,obj2): # first obj will get passed as self\n",
    "        return sum(self.marks.values()) + sum(obj2.marks.values())\n",
    "\n",
    "    def __sub__(self,obj2): # first obj will get passed as self\n",
    "        return sum(self.marks.values()) - sum(obj2.marks.values())\n",
    "    \n",
    "    def __mul__(self,num): # first obj will get passed as self\n",
    "        return sum(self.marks.values()) * num\n",
    " \n",
    "    \n",
    "stud1 = Student(\"Ron\",\"21\")\n",
    "stud2 = Student(\"Mike\",\"32\")\n",
    "stud3 = Student(\"John\",\"41\")\n",
    "stud4 = Student(\"Michael\",\"13\")\n",
    "stud5 = Student(\"Rafael\",\"18\")\n",
    "# print(stud1.__dict__)\n",
    "\n",
    "print(Student.count)\n",
    "print(stud1.count)\n",
    "print(stud1.__dict__)\n",
    "stud1.count = 100 # we can't modify class variable using obj the method containing the var will be a local variable\n",
    "# we are only able to modify that not the class variable \n",
    "print(stud1.count)\n",
    "print(stud1.__dict__)\n",
    "\n",
    "print(Student.count)\n",
    "\n",
    "print(Student.students)\n",
    "\n",
    "stud1.add_marks({\"Eng\":50,\"Math\":50,\"Phy\":50,\"Chem\":50,\"Hist\":50,\"Eco\":50})\n",
    "stud2.add_marks({\"Eng\":30,\"Math\":20,\"Phy\":40,\"Chem\":20,\"Hist\":30,\"Eco\":40})\n",
    "stud3.add_marks({\"Eng\":40,\"Math\":20,\"Phy\":30,\"Chem\":40,\"Hist\":30,\"Eco\":10})\n",
    "stud4.add_marks({\"Eng\":30,\"Math\":40,\"Phy\":20,\"Chem\":40,\"Hist\":30,\"Eco\":50})\n",
    "stud5.add_marks({\"Eng\":20,\"Math\":10,\"Phy\":20,\"Chem\":10,\"Hist\":20,\"Eco\":30})\n",
    "\n",
    "\n",
    "\n",
    "for student in Student.students:\n",
    "    student.cal_result()\n",
    "    if student.result == \"Fail\":\n",
    "        print(student.get_details())\n",
    "    \n",
    "student_per = [(student,student.per) for student in Student.students if student.per >= 40]\n",
    "\n",
    "topper = max(student_per, key = lambda t : t[1])\n",
    "print(\"Topper of the class is\",topper[0].get_details())\n"
   ]
  },
  {
   "cell_type": "code",
   "execution_count": 73,
   "metadata": {},
   "outputs": [
    {
     "name": "stdout",
     "output_type": "stream",
     "text": [
      "abc@123 abc@gmail.com ABC\n",
      "pqr@123 pqr@gmail.com PQR\n",
      "xyz@123 xyz@gmail.com RST\n",
      "rst@123 rst@gmail.com XYZ\n"
     ]
    }
   ],
   "source": [
    "class User:\n",
    "    \n",
    "    count = 0\n",
    "    users = []\n",
    "    \n",
    "    @classmethod\n",
    "    def incr_count(cls):\n",
    "        cls.count += 1\n",
    "    \n",
    "    @classmethod\n",
    "    def add_users(cls,obj):\n",
    "        cls.users.append(obj)\n",
    "        \n",
    "        \n",
    "    def __init__(self,username,email,password):\n",
    "        \n",
    "        self.user_name = username\n",
    "        self.email = email\n",
    "        self.password = password\n",
    "        User.incr_count()\n",
    "        User.add_users(self)\n",
    "        \n",
    "        \n",
    "        \n",
    "    def login(self,username,password):\n",
    "        if self.user_name == username and self.password == password:\n",
    "            return True\n",
    "        else:\n",
    "            return False\n",
    "        \n",
    "    def add_name(self,name):\n",
    "        self.name = name\n",
    "        \n",
    "    def change_password(self,new_password):\n",
    "        self.password = new_password\n",
    "        \n",
    "    def __str__(self):\n",
    "        return \"{} {}\".format(self.user_name,self.email)\n",
    "    \n",
    "    def get_details(self):\n",
    "        return \"{} {} {}\".format(self.user_name,self.email,self.name)\n",
    "        \n",
    "\n",
    "user1 = User(\"abc@123\",\"abc@gmail.com\",\"password@123\")\n",
    "# User(user1,\"abc@123\",\"abc@gmail.com\",\"password@123\")\n",
    "\n",
    "user2 = User(\"pqr@123\",\"pqr@gmail.com\",\"password@123\")\n",
    "user3 = User(\"xyz@123\",\"xyz@gmail.com\",\"password@123\")\n",
    "user4 = User(\"rst@123\",\"rst@gmail.com\",\"password@123\")\n",
    "\n",
    "user1.add_name(\"ABC\")\n",
    "user2.add_name(\"PQR\")\n",
    "user3.add_name(\"RST\")\n",
    "user4.add_name(\"XYZ\")\n",
    "\n",
    "# users = [user1,user2,user3,user4]\n",
    "\n",
    "for user in User.users:\n",
    "    print(user.get_details())\n",
    "# print(user1)"
   ]
  },
  {
   "cell_type": "code",
   "execution_count": null,
   "metadata": {},
   "outputs": [],
   "source": [
    "Course\n",
    "    c_id\n",
    "    c_name\n",
    "    c_description\n",
    "    c_duration\n",
    "    c_author\n",
    "    c_price\n",
    "\n",
    "Tutorials\n",
    "    t_id\n",
    "    t_title\n",
    "    t_content\n",
    "    t_course\n",
    "    \n",
    "All the tutorials of course \"Python\"\n",
    "All the tutorilas by Author \"ABC\"\n",
    "\n",
    "# 1 course multiple tutorials"
   ]
  },
  {
   "cell_type": "code",
   "execution_count": 82,
   "metadata": {},
   "outputs": [
    {
     "name": "stdout",
     "output_type": "stream",
     "text": [
      "<__main__.Course object at 0x111d6cc50>\n",
      "Python\n",
      " 101 Python Datatypes List,Dict,Set,Tuples\n",
      " 102 Python Functions Parameter passing techniques\n"
     ]
    }
   ],
   "source": [
    "class Course:\n",
    "    courses = []\n",
    "    def __init__(self,id,title,duration,author,price):    \n",
    "        self.c_id = id\n",
    "        self.c_title = title\n",
    "        self.c_duration = duration\n",
    "        self.c_author = author\n",
    "        self.c_price = price\n",
    "        Course.courses.append(self)\n",
    "        \n",
    "\n",
    "\n",
    "class Tutorial:\n",
    "    tutorials = []\n",
    "    def __init__(self,id,title,content,course):\n",
    "        self.t_id = id\n",
    "        self.t_title = title\n",
    "        self.t_content = content\n",
    "        self.course = course\n",
    "        Tutorial.tutorials.append(self)\n",
    "        \n",
    "    def get_details(self):\n",
    "        return \" {} {} {}\".format(self.t_id,self.t_title,self.t_content)\n",
    "\n",
    "course1 = Course(1,\"Python\",\"30\",\"ABC\",5000)\n",
    "course2 = Course(2,\"Django\",\"50\",\"ABC\",10000)\n",
    "course3 = Course(3,\"Machine Learning\",\"70\",\"PQR\",20000)\n",
    "\n",
    "tu1 = Tutorial(101,\"Python Datatypes\",\"List,Dict,Set,Tuples\",course1)\n",
    "tu2 = Tutorial(102,\"Python Functions\",\"Parameter passing techniques\",course1)\n",
    "tu3 = Tutorial(103,\"Django Models\",\"Models and QRM\",course2)\n",
    "tu4 = Tutorial(104,\"Numpy \",\"numpy array\",course3)\n",
    "tu5 = Tutorial(105,\"Pandas\",\"pandas dataframes\",course3)\n",
    "\n",
    "\n",
    "for course in Course.courses:\n",
    "    if course.c_title == \"Python\":\n",
    "        c_python = course\n",
    "        \n",
    "print(c_python)\n",
    "print(c_python.c_title)\n",
    "# print(Course.courses)\n",
    "\n",
    "for tut in Tutorial.tutorials:\n",
    "    if tut.course == c_python:\n",
    "        print(tut.get_details())\n",
    "        \n",
    "# print(Tutorial.tutorials)"
   ]
  },
  {
   "cell_type": "code",
   "execution_count": null,
   "metadata": {},
   "outputs": [],
   "source": []
  },
  {
   "cell_type": "code",
   "execution_count": null,
   "metadata": {},
   "outputs": [],
   "source": []
  }
 ],
 "metadata": {
  "kernelspec": {
   "display_name": "Python 3",
   "language": "python",
   "name": "python3"
  },
  "language_info": {
   "codemirror_mode": {
    "name": "ipython",
    "version": 3
   },
   "file_extension": ".py",
   "mimetype": "text/x-python",
   "name": "python",
   "nbconvert_exporter": "python",
   "pygments_lexer": "ipython3",
   "version": "3.7.4"
  }
 },
 "nbformat": 4,
 "nbformat_minor": 2
}
