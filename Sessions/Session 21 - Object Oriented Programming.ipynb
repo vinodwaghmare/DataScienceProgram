{
 "cells": [
  {
   "cell_type": "code",
   "execution_count": null,
   "metadata": {},
   "outputs": [],
   "source": [
    "oop means\n",
    "Class and Objects\n",
    "when we try to scale large code func are not enough so class and objects are\n",
    "used\n",
    "\n",
    "Class :\n",
    "    Data members/attributes/variables\n",
    "    Methods\n",
    "\n",
    "Objects"
   ]
  },
  {
   "cell_type": "code",
   "execution_count": null,
   "metadata": {},
   "outputs": [],
   "source": [
    "Paytm\n",
    "    Class : \n",
    "        contact \n",
    "        email\n",
    "        kyc\n",
    "    \n",
    "    Paytm actions :\n",
    "        recharge\n",
    "        book_tickets\n",
    "        bill\n",
    "        wallet\n",
    "    \n",
    "user1\n",
    "user2 \n",
    "    "
   ]
  },
  {
   "cell_type": "code",
   "execution_count": null,
   "metadata": {},
   "outputs": [],
   "source": [
    "User\n",
    "    user_name\n",
    "    email\n",
    "    password\n",
    "    \n",
    "    name\n",
    "    contact\n",
    "\n",
    "func need\n",
    "    login \n",
    "    logout\n",
    "    \n",
    "    add_contact\n",
    "    add_name\n",
    "    update_name\n",
    "    update_email\n",
    "    change_password\n",
    "    change_contact\n",
    "    "
   ]
  },
  {
   "cell_type": "code",
   "execution_count": 3,
   "metadata": {},
   "outputs": [
    {
     "name": "stdout",
     "output_type": "stream",
     "text": [
      "<__main__.User object at 0x1060d2c90>\n"
     ]
    }
   ],
   "source": [
    "class User:\n",
    "    pass\n",
    "\n",
    "user1 = User()\n",
    "print(user1)"
   ]
  },
  {
   "cell_type": "code",
   "execution_count": null,
   "metadata": {},
   "outputs": [],
   "source": [
    "PEP"
   ]
  },
  {
   "cell_type": "code",
   "execution_count": null,
   "metadata": {},
   "outputs": [],
   "source": [
    "Instance Variable : Every object will have its own copy of that variable."
   ]
  },
  {
   "cell_type": "code",
   "execution_count": 25,
   "metadata": {},
   "outputs": [
    {
     "name": "stdout",
     "output_type": "stream",
     "text": [
      "7\n",
      "<bound method User.add of <__main__.User object at 0x1099862d0>>\n"
     ]
    }
   ],
   "source": [
    "class User:\n",
    "    def __init__(self,username,email,password):\n",
    "#         python will call these method(implicitly) when we create a func\n",
    "#         self is reference to the object self(i)\n",
    "        self.user_name = username # instance variables\n",
    "        self.email = email\n",
    "        self.password = password\n",
    "        \n",
    "    def add(self,num1,num2):\n",
    "        self.num3 = 0\n",
    "        self.num1 = num1\n",
    "        self.num2 = num2\n",
    "        self.num3 = self.num1 + self.num2\n",
    "        print(self.num3)\n",
    "\n",
    "user1 = User(\"abc@123\",\"abc@gmail.com\",\"password@123\")\n",
    "#User(user1,\"abc@123\",\"abc@gmail.com\",\"password@123\")\n",
    "\n",
    "user2 = User(\"pqr@123\",\"pqr@gmail.com\",\"password@123\")\n",
    "\n",
    "user1.add(3,4)\n",
    "print(user1.add)\n",
    "\n"
   ]
  },
  {
   "cell_type": "code",
   "execution_count": null,
   "metadata": {},
   "outputs": [],
   "source": []
  },
  {
   "cell_type": "code",
   "execution_count": null,
   "metadata": {},
   "outputs": [],
   "source": []
  },
  {
   "cell_type": "code",
   "execution_count": 9,
   "metadata": {},
   "outputs": [
    {
     "name": "stdout",
     "output_type": "stream",
     "text": [
      "password@123\n",
      "password@123\n",
      "abc@123 abc@gmail.com\n",
      "pqr@123 pqr@gmail.com\n"
     ]
    }
   ],
   "source": [
    "class User:\n",
    "    \n",
    "    def signup(self,user_name,email,password): # explicit function \n",
    "        self.user_name = user_name # variables\n",
    "        self.email = email\n",
    "        password = password\n",
    "        print(password)\n",
    "        \n",
    "    def login():\n",
    "        pass\n",
    "        \n",
    "        \n",
    "user1 = User()\n",
    "user2 = User()\n",
    "user1.signup(\"abc@123\",\"abc@gmail.com\",\"password@123\")\n",
    "user2.signup(\"pqr@123\",\"pqr@gmail.com\",\"password@123\")\n",
    "\n",
    "\n",
    "print(user1.user_name,user1.email)\n",
    "print(user2.user_name,user2.email)        "
   ]
  },
  {
   "cell_type": "code",
   "execution_count": null,
   "metadata": {},
   "outputs": [],
   "source": [
    "*a\n",
    "**k"
   ]
  },
  {
   "cell_type": "code",
   "execution_count": 8,
   "metadata": {},
   "outputs": [
    {
     "name": "stdout",
     "output_type": "stream",
     "text": [
      "abc@123\n",
      "pqr@123\n",
      "pqr@123 pqr@gmail.com\n"
     ]
    }
   ],
   "source": [
    "print(user1.user_name)\n",
    "print(user2.user_name)\n",
    "print(user2.user_name,user2.email)"
   ]
  },
  {
   "cell_type": "code",
   "execution_count": 9,
   "metadata": {},
   "outputs": [
    {
     "name": "stdout",
     "output_type": "stream",
     "text": [
      "<__main__.User object at 0x10636ed50>\n"
     ]
    }
   ],
   "source": [
    "class User:\n",
    "    pass\n",
    "\n",
    "user1 = User()\n",
    "print(user1)"
   ]
  },
  {
   "cell_type": "code",
   "execution_count": 19,
   "metadata": {},
   "outputs": [
    {
     "name": "stdout",
     "output_type": "stream",
     "text": [
      "password@123\n",
      "password@123\n",
      "abc@123 abc@gmail.com\n",
      "pqr@123 pqr@gmail.com\n"
     ]
    }
   ],
   "source": [
    "class User:\n",
    "    \n",
    "    def signup(self,username,email,password):\n",
    "        self.user_name = username # variables\n",
    "        self.email = email\n",
    "        password = password\n",
    "        print(password)\n",
    "        \n",
    "    def login():\n",
    "        pass\n",
    "        \n",
    "        \n",
    "user1 = User()\n",
    "user2 = User()\n",
    "user1.signup(\"abc@123\",\"abc@gmail.com\",\"password@123\")\n",
    "user2.signup(\"pqr@123\",\"pqr@gmail.com\",\"password@123\")\n",
    "\n",
    "\n",
    "print(user1.user_name,user1.email)\n",
    "print(user2.user_name,user2.email)        "
   ]
  },
  {
   "cell_type": "code",
   "execution_count": 21,
   "metadata": {},
   "outputs": [
    {
     "name": "stdout",
     "output_type": "stream",
     "text": [
      "True\n"
     ]
    }
   ],
   "source": [
    "class User:\n",
    "    def __init__(self,username,email,password):\n",
    "        self.user_name = username # variables\n",
    "        self.email = email\n",
    "        self.password = password\n",
    "        \n",
    "    def login(self,username,password):   \n",
    "        if self.user_name == username and self.password == password:\n",
    "            return True\n",
    "        else:\n",
    "            return False\n",
    "\n",
    "user1 = User(\"abc@123\",\"abc@gmail.com\",\"password@123\")\n",
    "#User(user1,\"abc@123\",\"abc@gmail.com\",\"password@123\")\n",
    "\n",
    "user2 = User(\"pqr@123\",\"pqr@gmail.com\",\"password@123\")\n",
    "\n",
    "print(user2.login(\"pqr@123\",\"password@123\"))\n",
    "\n",
    "#user1.add_name(\"ABC\")\n"
   ]
  },
  {
   "cell_type": "code",
   "execution_count": 32,
   "metadata": {},
   "outputs": [
    {
     "name": "stdout",
     "output_type": "stream",
     "text": [
      "ABC\n",
      "PQR\n",
      "abc@123\n"
     ]
    }
   ],
   "source": [
    "class User:\n",
    "    def __init__(self,username,email,password):\n",
    "        self.username = username\n",
    "        self.email = email\n",
    "        self.password = password\n",
    "\n",
    "    def login(self,username,password):   \n",
    "        if self.user_name == username and self.password == password:\n",
    "            return True\n",
    "        else:\n",
    "            return False\n",
    "        \n",
    "        \n",
    "    def add_name(self,name):\n",
    "        self.name = name\n",
    "        \n",
    "    def change_password(self,new_password):\n",
    "        self.password = new_password\n",
    "        \n",
    "        \n",
    "        \n",
    "user1 = User(\"abc@123\",\"abc@gmail.com\",\"password@123\")\n",
    "user2 = User(\"pqr@123\",\"pqr@gmail.com\",\"password@123\")\n",
    "\n",
    "user1.add_name(\"ABC\")\n",
    "user2.add_name(\"PQR\")\n",
    "print(user1.name)\n",
    "print(user2.name)\n",
    "\n",
    "user1.change_password(\"abc@123\")\n",
    "print(user1.password)       "
   ]
  },
  {
   "cell_type": "code",
   "execution_count": 29,
   "metadata": {},
   "outputs": [
    {
     "name": "stdout",
     "output_type": "stream",
     "text": [
      "{'username': 'abc@123', 'email': 'abc@gmail.com', 'password': 'password@123', 'name': 'ABC'}\n",
      "{'username': 'pqr@123', 'email': 'pqr@gmail.com', 'password': 'password@123', 'name': 'PQR'}\n"
     ]
    }
   ],
   "source": [
    "print(user1.__dict__)\n",
    "print(user2.__dict__)"
   ]
  },
  {
   "cell_type": "code",
   "execution_count": 45,
   "metadata": {},
   "outputs": [
    {
     "name": "stdout",
     "output_type": "stream",
     "text": [
      "abc@123 abc@gmail.com ABC\n",
      "pqr@123 pqr@gmail.com PQR\n",
      "xyz@123 pqr@gmail.com RST\n",
      "rst@123 pqr@gmail.com XYZ\n"
     ]
    }
   ],
   "source": [
    "class User:\n",
    "    def __init__(self,username,email,password):\n",
    "        self.user_name = username\n",
    "        self.email = email\n",
    "        self.password = password\n",
    "\n",
    "    def login(self,username,password):   \n",
    "        if self.user_name == username and self.password == password:\n",
    "            return True\n",
    "        else:\n",
    "            return False        \n",
    "        \n",
    "    def add_name(self,name):\n",
    "        self.name = name\n",
    "        \n",
    "    def change_password(self,new_password):\n",
    "        self.password = new_password \n",
    "        \n",
    "    def __str__(self):\n",
    "        return \"{} {}\".format(self.user_name,self.email)\n",
    "    \n",
    "    def get_details(self):\n",
    "        return \"{} {} {}\".format(self.user_name,self.email,self.name)\n",
    "        \n",
    "user1 = User(\"abc@123\",\"abc@gmail.com\",\"password@123\")\n",
    "user2 = User(\"pqr@123\",\"pqr@gmail.com\",\"password@123\")\n",
    "\n",
    "user3 = User(\"xyz@123\",\"pqr@gmail.com\",\"password@123\")\n",
    "user4 = User(\"rst@123\",\"pqr@gmail.com\",\"password@123\")\n",
    "\n",
    "user1.add_name(\"ABC\")\n",
    "user2.add_name(\"PQR\")\n",
    "user3.add_name(\"RST\")\n",
    "user4.add_name(\"XYZ\")\n",
    "\n",
    "users = [user1,user2,user3,user4]\n",
    "for user in users:\n",
    "    print(user.get_details())\n",
    "#print(user1)\n",
    "        "
   ]
  },
  {
   "cell_type": "code",
   "execution_count": null,
   "metadata": {},
   "outputs": [],
   "source": [
    "Student\n",
    "    name\n",
    "    roll_no\n",
    "    std\n",
    "    \n",
    "    add_marks = []\n",
    "    cal_result()\n",
    "    \n",
    "    All student who failed\n",
    "    Topper of the class name,roll_no,marks,percentage"
   ]
  },
  {
   "cell_type": "code",
   "execution_count": null,
   "metadata": {},
   "outputs": [],
   "source": [
    "\n",
    "\n",
    "    "
   ]
  },
  {
   "cell_type": "code",
   "execution_count": 63,
   "metadata": {},
   "outputs": [
    {
     "name": "stdout",
     "output_type": "stream",
     "text": [
      "[(<__main__.Student object at 0x109697e50>, 88.2), (<__main__.Student object at 0x109697710>, 71.2), (<__main__.Student object at 0x109697ad0>, 52.800000000000004), (<__main__.Student object at 0x109697510>, 76.8)]\n"
     ]
    }
   ],
   "source": [
    "class Student :\n",
    "    count = 0\n",
    "    students = []\n",
    "    \n",
    "    def __init__(self,roll_no,name):\n",
    "        self.roll_no = roll_no\n",
    "        self.name = name\n",
    "        Student.count += 1\n",
    "        Student.students.append(self)\n",
    "        \n",
    "    def add_marks(self,marks):\n",
    "        self.marks = marks\n",
    "        \n",
    "    def cal_result(self):\n",
    "        self.per = sum(self.marks.values())/500 * 100\n",
    "        if self.per >= 40:\n",
    "            self.result = \"Pass\"\n",
    "        else:\n",
    "            self.result = \"Fail\"\n",
    "     \n",
    "    def get_details(self):\n",
    "        return \"{} {} {} {}\".format(str(self.roll_no),str(self.name),str(self.per),str(self.result))\n",
    "\n",
    "stud1 = Student(1,\"ABC\")\n",
    "stud2 = Student(2,\"PQR\")\n",
    "stud3 = Student(3,\"RST\")\n",
    "stud4 = Student(4,\"XYZ\")\n",
    "stud5 = Student(5,\"PPP\")\n",
    "stud6 = Student(6,\"TTT\")\n",
    "\n",
    "stud1.add_marks({\"eng\":78,\"maths\":88,\"his\":88,\"sci\":88,\"geo\":99})\n",
    "stud2.add_marks({\"eng\":80,\"maths\":77,\"his\":89,\"sci\":70,\"geo\":40})\n",
    "stud3.add_marks({\"eng\":50,\"maths\":33,\"his\":30,\"sci\":30,\"geo\":30})\n",
    "stud4.add_marks({\"eng\":30,\"maths\":44,\"his\":35,\"sci\":56,\"geo\":99})\n",
    "stud5.add_marks({\"eng\":40,\"maths\":80,\"his\":89,\"sci\":76,\"geo\":99})\n",
    "stud6.add_marks({\"eng\":35,\"maths\":30,\"his\":30,\"sci\":40,\"geo\":20})\n",
    "\n",
    "students = [stud1,stud2,stud3,stud4,stud5,stud6]\n",
    "for student in students:\n",
    "    student.cal_result()\n",
    "\n",
    "#Failed Students\n",
    "# for student in students:\n",
    "#     if student.result == \"Fail\":\n",
    "#         print(student.get_details())\n",
    "        \n",
    "student_per = [(student,student.per) for student in students if student.result == \"Pass\"]\n",
    "# topper = max(student_per,key = lambda t :t[1] )   \n",
    "# print(\"Topper of the class is\",topper[0].get_details())\n",
    "# #print(stud6.per,stud6.result)    "
   ]
  },
  {
   "cell_type": "code",
   "execution_count": null,
   "metadata": {},
   "outputs": [],
   "source": []
  },
  {
   "cell_type": "code",
   "execution_count": null,
   "metadata": {},
   "outputs": [],
   "source": [
    "class Student :\n",
    "    count = 0\n",
    "    students = []\n",
    "    \n",
    "    @classmethod \n",
    "    def incr_count(cls):\n",
    "        cls.count += 1\n",
    "    \n",
    "    @classmethod\n",
    "    def add_student(cls,obj):\n",
    "        cls.students.append(obj)\n",
    "    \n",
    "    \n",
    "    def __init__(self,roll_no,name):\n",
    "        self.roll_no = roll_no\n",
    "        self.name = name\n",
    "        Student.incr_count()\n",
    "        Student.add_student(self)\n",
    "        \n",
    "    def add_marks(self,marks):\n",
    "        self.marks = marks\n",
    "        \n",
    "    def cal_result(self):\n",
    "        self.per = sum(self.marks.values())/500 * 100\n",
    "        if self.per >= 40:\n",
    "            self.result = \"Pass\"\n",
    "        else:\n",
    "            self.result = \"Fail\"\n",
    "     \n",
    "    def get_details(self):\n",
    "        return \"{} {} {} {}\".format(str(self.roll_no),str(self.name),str(self.per),str(self.result))\n",
    "    \n",
    "    def __add__(self,obj2)\n",
    "stud1 = Student(1,\"ABC\")\n",
    "stud2 = Student(2,\"PQR\")\n",
    "stud3 = Student(3,\"RST\")\n",
    "stud4 = Student(4,\"XYZ\")\n",
    "stud5 = Student(5,\"PPP\")\n",
    "stud6 = Student(6,\"TTT\")\n",
    "\n",
    "print(Student.count)\n",
    "print(stud1.count)\n",
    "print(Student.count)\n",
    "print(stud1.__dict__)\n",
    "stud1.count = 100\n",
    "print(stud1.count)\n",
    "print(stud1.__dict__)\n",
    "\n",
    "print(Student.count)\n",
    "\n",
    "stud1.add_marks({\"eng\":78,\"maths\":88,\"his\":88,\"sci\":88,\"geo\":99})\n",
    "stud2.add_marks({\"eng\":80,\"maths\":77,\"his\":89,\"sci\":70,\"geo\":40})\n",
    "stud3.add_marks({\"eng\":50,\"maths\":33,\"his\":30,\"sci\":30,\"geo\":30})\n",
    "stud4.add_marks({\"eng\":30,\"maths\":44,\"his\":35,\"sci\":56,\"geo\":99})\n",
    "stud5.add_marks({\"eng\":40,\"maths\":80,\"his\":89,\"sci\":76,\"geo\":99})\n",
    "stud6.add_marks({\"eng\":35,\"maths\":30,\"his\":30,\"sci\":40,\"geo\":20})\n",
    "\n",
    "students = [stud1,stud2,stud3,stud4,stud5,stud6]\n",
    "for student in Student.students:\n",
    "    student.cal_result()\n",
    "\n",
    "#Failed Students\n",
    "for student in Student.students:\n",
    "    if student.result == \"Fail\":\n",
    "        print(student.get_details())\n",
    "        \n",
    "student_per = [(student,student.per) for student in Student.students if student.result == \"Pass\"]\n",
    "topper = max(student_per,key = lambda t : t[1] )   \n",
    "print(\"Topper of the class is\",topper[0].get_details())\n",
    "#print(stud6.per,stud6.result)    "
   ]
  },
  {
   "cell_type": "code",
   "execution_count": 67,
   "metadata": {},
   "outputs": [
    {
     "name": "stdout",
     "output_type": "stream",
     "text": [
      "Help on built-in function max in module builtins:\n",
      "\n",
      "max(...)\n",
      "    max(iterable, *[, default=obj, key=func]) -> value\n",
      "    max(arg1, arg2, *args, *[, key=func]) -> value\n",
      "    \n",
      "    With a single iterable argument, return its biggest item. The\n",
      "    default keyword-only argument specifies an object to return if\n",
      "    the provided iterable is empty.\n",
      "    With two or more arguments, return the largest argument.\n",
      "\n"
     ]
    }
   ],
   "source": [
    "help(max)"
   ]
  },
  {
   "cell_type": "code",
   "execution_count": null,
   "metadata": {},
   "outputs": [],
   "source": [
    "class class_name\n",
    "    def __init__(self,val1,val2):\n",
    "        self.var_name = val1 \n",
    "        # instance var:every obj have its own copy\n",
    "        var_name # local variable\n",
    "    def __str__(self):\n",
    "        return str\n",
    "\n",
    "\n",
    "obj_name = class_name(\"ABC\",\"PQR\")\n",
    "print(obj_name)"
   ]
  },
  {
   "cell_type": "code",
   "execution_count": null,
   "metadata": {},
   "outputs": [],
   "source": [
    "instance methods => instance variables\n",
    "class methods => modify class variable\n"
   ]
  },
  {
   "cell_type": "code",
   "execution_count": null,
   "metadata": {},
   "outputs": [],
   "source": [
    "Course\n",
    "    c_id\n",
    "    c_name\n",
    "    c_description\n",
    "    c_duration\n",
    "    c_author\n",
    "    c_price\n",
    "    \n",
    "Tutorials\n",
    "    t_id\n",
    "    t_title\n",
    "    t_content\n",
    "    t_course\n",
    "    \n",
    "All the tutorials of course \"Python\"    \n",
    "All the tutorials by Author \"ABC\"\n",
    "        -Iterate over all tut\n",
    "        -for every tut check the course.author\n",
    "        \n",
    "        \n",
    "        -Iterate over courses and find out all the courses by author ABC\n",
    "        -Iterate over tut and check if the course in step 1\n",
    "\n",
    "# 1 course multiple tutorials "
   ]
  },
  {
   "cell_type": "code",
   "execution_count": null,
   "metadata": {},
   "outputs": [],
   "source": []
  },
  {
   "cell_type": "code",
   "execution_count": 7,
   "metadata": {},
   "outputs": [
    {
     "ename": "TypeError",
     "evalue": "Course() takes no arguments",
     "output_type": "error",
     "traceback": [
      "\u001b[0;31m---------------------------------------------------------------------------\u001b[0m",
      "\u001b[0;31mTypeError\u001b[0m                                 Traceback (most recent call last)",
      "\u001b[0;32m<ipython-input-7-8df5a498a272>\u001b[0m in \u001b[0;36m<module>\u001b[0;34m\u001b[0m\n\u001b[1;32m     21\u001b[0m     \u001b[0;32mreturn\u001b[0m \u001b[0;34m\"{} {} {}\"\u001b[0m\u001b[0;34m.\u001b[0m\u001b[0mformat\u001b[0m\u001b[0;34m(\u001b[0m\u001b[0mself\u001b[0m\u001b[0;34m.\u001b[0m\u001b[0mc_id\u001b[0m\u001b[0;34m,\u001b[0m\u001b[0mself\u001b[0m\u001b[0;34m.\u001b[0m\u001b[0mc_title\u001b[0m\u001b[0;34m,\u001b[0m\u001b[0mself\u001b[0m\u001b[0;34m.\u001b[0m\u001b[0mt_content\u001b[0m\u001b[0;34m)\u001b[0m\u001b[0;34m\u001b[0m\u001b[0;34m\u001b[0m\u001b[0m\n\u001b[1;32m     22\u001b[0m \u001b[0;34m\u001b[0m\u001b[0m\n\u001b[0;32m---> 23\u001b[0;31m \u001b[0mcourse1\u001b[0m \u001b[0;34m=\u001b[0m \u001b[0mCourse\u001b[0m\u001b[0;34m(\u001b[0m\u001b[0;36m1\u001b[0m\u001b[0;34m,\u001b[0m\u001b[0;34m\"Python\"\u001b[0m\u001b[0;34m,\u001b[0m\u001b[0;34m\"30\"\u001b[0m\u001b[0;34m,\u001b[0m\u001b[0;34m\"ABC\"\u001b[0m\u001b[0;34m,\u001b[0m\u001b[0;36m5000\u001b[0m\u001b[0;34m)\u001b[0m\u001b[0;34m\u001b[0m\u001b[0;34m\u001b[0m\u001b[0m\n\u001b[0m\u001b[1;32m     24\u001b[0m \u001b[0mcourse2\u001b[0m \u001b[0;34m=\u001b[0m \u001b[0mCourse\u001b[0m\u001b[0;34m(\u001b[0m\u001b[0;36m2\u001b[0m\u001b[0;34m,\u001b[0m\u001b[0;34m\"Django\"\u001b[0m\u001b[0;34m,\u001b[0m\u001b[0;34m\"50\"\u001b[0m\u001b[0;34m,\u001b[0m\u001b[0;34m\"ABC\"\u001b[0m\u001b[0;34m,\u001b[0m\u001b[0;36m10000\u001b[0m\u001b[0;34m)\u001b[0m\u001b[0;34m\u001b[0m\u001b[0;34m\u001b[0m\u001b[0m\n\u001b[1;32m     25\u001b[0m \u001b[0mcourse3\u001b[0m \u001b[0;34m=\u001b[0m \u001b[0mCourse\u001b[0m\u001b[0;34m(\u001b[0m\u001b[0;36m3\u001b[0m\u001b[0;34m,\u001b[0m\u001b[0;34m\"Machine Learning\"\u001b[0m\u001b[0;34m,\u001b[0m\u001b[0;34m\"70\"\u001b[0m\u001b[0;34m,\u001b[0m\u001b[0;34m\"PQR\"\u001b[0m\u001b[0;34m,\u001b[0m\u001b[0;36m20000\u001b[0m\u001b[0;34m)\u001b[0m\u001b[0;34m\u001b[0m\u001b[0;34m\u001b[0m\u001b[0m\n",
      "\u001b[0;31mTypeError\u001b[0m: Course() takes no arguments"
     ]
    }
   ],
   "source": [
    "class Course :\n",
    "    courses = []\n",
    "    def __init(self,id,title,duration,author,price):\n",
    "        self.c_id = id\n",
    "        self.c_title = title\n",
    "        self.c_duration = duration\n",
    "        self.c_author = author\n",
    "        self.c_price = price\n",
    "        Course.courses.append(self)\n",
    "\n",
    "class Tutorial:\n",
    "    tutorials = []\n",
    "    def __init__(self,id,title,content,course):\n",
    "        self.t_id = id\n",
    "        self.t_title = title\n",
    "        self.t_content = content\n",
    "        self.course = course\n",
    "        Tutorial.tutorials.append(self)\n",
    "        \n",
    "def get_details(self):\n",
    "    return \"{} {} {}\".format(self.c_id,self.c_title,self.t_content)\n",
    "\n",
    "course1 = Course(1,\"Python\",\"30\",\"ABC\",5000)\n",
    "course2 = Course(2,\"Django\",\"50\",\"ABC\",10000)\n",
    "course3 = Course(3,\"Machine Learning\",\"70\",\"PQR\",20000)\n",
    "\n",
    "\n",
    "tu1 = Tutorial(101,\"Python Datatypes\",\"List,Dict,Set,Tuples\",course1)\n",
    "tu2 = Tutorial(102,\"Python Functions\",\"Parameter passing techniques\",course1)\n",
    "tu3 = Tutorial(103,\"Django Models\",\"Models and ORM\",course2)\n",
    "tu4 = Tutorial(104,\"Numpy\",\"List,Dict,Set,Tuples\",course1)\n",
    "tu5 = Tutorial(105,\"Pandas\",\"List,Dict,Set,Tuples\",course1)\n",
    "\n",
    "print(Course.courses)\n",
    "print(Tutorial.tutorials)\n",
    "\n",
    "for course in  Course.courses:\n",
    "    if course.c_title == \"Python\":\n",
    "        c_python = course\n",
    "print(c_python.c_title)      \n",
    "\n",
    "for tut in Tutorial.tutorials:\n",
    "    if tut.course == c_python:\n",
    "        print(tut.get_details())\n",
    "    \n",
    "print(\"Al tutorials for author ABC\")\n",
    "\n",
    "for tut in ˇTutorial.tutorials:\n",
    "    if tut.course.c_author == \"ABC\":\n",
    "        print(tut.get_details())\n",
    "        \n",
    "c_abc = [course for course in Course.courses if course.c_author == \"ABC\"]        \n",
    "\n",
    "for tut in Tutorial.tutorials:\n",
    "    if tut.course in c_abc:\n",
    "        print(tut.get_details())"
   ]
  },
  {
   "cell_type": "code",
   "execution_count": null,
   "metadata": {},
   "outputs": [],
   "source": [
    "User\n",
    "    user_name\n",
    "    email\n",
    "    password\n",
    "    \n",
    "    name\n",
    "    contact\n",
    "\n",
    "func need\n",
    "    login \n",
    "    logout\n",
    "    \n",
    "    add_contact\n",
    "    add_name\n",
    "    update_name\n",
    "    update_email\n",
    "    change_password\n",
    "    change_contact"
   ]
  },
  {
   "cell_type": "code",
   "execution_count": 62,
   "metadata": {},
   "outputs": [
    {
     "name": "stdout",
     "output_type": "stream",
     "text": [
      "Vinod xyz@123 lightsaber123\n",
      "Vinod Waghmare 8976453221\n",
      "<bound method User.register of <__main__.User object at 0x10997d810>>\n",
      "8976453221 Vinod Waghmare Vinod xyz@123 lightsaber890 9023451221\n",
      "<bound method User.update_details of <__main__.User object at 0x10997d810>>\n"
     ]
    }
   ],
   "source": [
    "class User:\n",
    "    def __init__(self,username,email,password):\n",
    "        self.username = username\n",
    "        self.email = email\n",
    "        self.password = password\n",
    "        print(username,email,password)\n",
    "        \n",
    "        \n",
    "    def register(self,name,contact):\n",
    "        self.name = name\n",
    "        self.contact = contact\n",
    "        print(name,contact)\n",
    "        \n",
    "    def login(self,username,password):\n",
    "        if self.username == username and self.password == password:\n",
    "            return True\n",
    "        else:\n",
    "            return False\n",
    "        \n",
    "    def update_details(self,add_contact,add_name,update_username,update_email,change_password,change_contact):\n",
    "        self.add_contact = add_contact\n",
    "        self.add_name = add_name\n",
    "        self.username = update_username\n",
    "        self.email = update_email\n",
    "        self.password = change_password\n",
    "        self.contact = change_contact\n",
    "        print(self.add_contact,self.add_name,self.username,self.email,self.password,self.contact)\n",
    "        \n",
    "user1 = User(\"Vinod\",\"xyz@123\",\"lightsaber123\")\n",
    "user1.register(\"Vinod Waghmare\",\"8976453221\")\n",
    "print(user1.register)\n",
    "# print(user1.login(\"Vinod\",\"lightsaber123\"))\n",
    "user1.update_details(\"8976453221\",\"Vinod Waghmare\",\"Vinod\",\"xyz@123\",\"lightsaber890\",\"9023451221\")\n",
    "print(user1.update_details)\n",
    "\n"
   ]
  },
  {
   "cell_type": "code",
   "execution_count": null,
   "metadata": {},
   "outputs": [],
   "source": []
  }
 ],
 "metadata": {
  "kernelspec": {
   "display_name": "Python 3",
   "language": "python",
   "name": "python3"
  },
  "language_info": {
   "codemirror_mode": {
    "name": "ipython",
    "version": 3
   },
   "file_extension": ".py",
   "mimetype": "text/x-python",
   "name": "python",
   "nbconvert_exporter": "python",
   "pygments_lexer": "ipython3",
   "version": "3.7.4"
  }
 },
 "nbformat": 4,
 "nbformat_minor": 2
}
