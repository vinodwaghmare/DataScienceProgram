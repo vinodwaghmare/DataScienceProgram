{
 "cells": [
  {
   "cell_type": "markdown",
   "metadata": {},
   "source": [
    "1.In the pre-smartphone era,each number key is assigned a subset of the alphabet {a,b,…,z}.\n",
    "\n",
    "- 2 is assigned {a,b,c}, \n",
    "- 3 is assigned {d,e,f} \n",
    "- 4 is assigned {g,h,i} \n",
    "- 5 is assigned {j,k,l}\n",
    "- 6 is assigned {m,n,o} \n",
    "- 7 is assigned {p,q,r,s}\n",
    "- 8 is assigned {t,u,v} \n",
    "- 9 is assigned {w,x,y,z}\n",
    "\n",
    "Write a function numbers_to_chars() to find the characters generated using key 9999335533. Output should be \"zeke\"\n",
    "\n",
    "Function Name : numbers_to_chars() Input : Integer number sequence Output : Str"
   ]
  },
  {
   "cell_type": "code",
   "execution_count": null,
   "metadata": {},
   "outputs": [
    {
     "name": "stdout",
     "output_type": "stream",
     "text": [
      "9999335533\n"
     ]
    }
   ],
   "source": [
    "import collections\n",
    "def match(w,start,stop):\n",
    "    w = list(w)\n",
    "    number = ''\n",
    "    for l in w[start:stop]:\n",
    "        if l in ['a','b','c']:\n",
    "            number = number + '2'\n",
    "        if l in ['d','e','f']:\n",
    "            number = number + '3'\n",
    "        if l in ['g','h','i']:\n",
    "            number = number + '4'\n",
    "        if l in ['j','k','l']:\n",
    "            number = number + '5'\n",
    "        if l in ['m','n','o']:\n",
    "            number = number + '6'\n",
    "        if l in ['p','q','r','s']:\n",
    "            number = number + '7'\n",
    "        if l in ['t','u','v']:\n",
    "            number = number + '8'\n",
    "        if l in ['w','x','y','z']:\n",
    "            number = number + '9'\n",
    "    return number\n",
    "\n",
    "def match_faster(w,start,stop):\n",
    "    # applying divide n conquer for each word\n",
    "    if start<=stop:\n",
    "        mid = int((start + stop)/2)\n",
    "        numpart1 = match(w,start,mid)\n",
    "        numpart2 = match(w,mid,stop)\n",
    "        num = numpart1+numpart2\n",
    "    return num\n",
    "\n",
    "def array(y):\n",
    "    unsorted = []\n",
    "    for word in y:\n",
    "        num = match_faster(word,0,len(word))\n",
    "        unsorted.append(num)\n",
    "    return unsorted\n",
    "\n",
    "if __name__ == '__main__':\n",
    "    unsorted_list = []\n",
    "    words = []\n",
    "    j = 0\n",
    "    no_of_words = int(input())\n",
    "    for i in range(no_of_words):\n",
    "        g = input()\n",
    "        words.append(g)\n",
    "    unsorted_list = array(words)\n",
    "    for j in range(len(unsorted_list)):\n",
    "        unsorted_list[j] = int(unsorted_list[j]) \n",
    "    freq = collections.Counter(unsorted_list)\n",
    "    max_val = max(freq.values())\n",
    "    for k,n in freq.items():\n",
    "        if n == max_val:\n",
    "            print(k)"
   ]
  },
  {
   "cell_type": "markdown",
   "metadata": {},
   "source": [
    "2.Given a dict of tickets(\"to\":\"from\")\n",
    "\n",
    "{\"Chennai\":\"Banglore\",\"Bombay\":\"Delhi\",\"Goa\":\"Chennai\",\"Delhi\":\"Goa\"} find out the sequence of travel.\n",
    "\n",
    "Expected Output : Bombay->Delhi, Delhi->Goa, Goa->Chennai, Chennai->Banglore\n",
    "\n",
    "Function Name : travel_sequence Input : dict Output : dict\n",
    "\n"
   ]
  },
  {
   "cell_type": "code",
   "execution_count": 1,
   "metadata": {},
   "outputs": [
    {
     "name": "stdout",
     "output_type": "stream",
     "text": [
      "{'Bombay': 'Delhi', 'Delhi': 'Goa', 'Goa': 'Chennai', 'Chennai': 'Banglore'}\n"
     ]
    }
   ],
   "source": [
    "def travel_sequence(d):\n",
    "    d1 = {} # new dictionary to have a  travel sequence\n",
    "    i = 0 \n",
    "    count = 0\n",
    "    for key,value in d.items():\n",
    "        if key not in d.values(): # finding from sequence of travel to the end of the sequence of travel .\n",
    "            for i in range(len(d)):\n",
    "                d1[key] = value\n",
    "                count += 1\n",
    "                if count < (len(d)):\n",
    "                    key = value\n",
    "                    value = d[key]\n",
    "                \n",
    "    return d1      \n",
    "            \n",
    "print(travel_sequence({\"Chennai\":\"Banglore\",\"Bombay\":\"Delhi\",\"Goa\":\"Chennai\",\"Delhi\":\"Goa\"}))"
   ]
  },
  {
   "cell_type": "markdown",
   "metadata": {},
   "source": [
    "3.Given a dictionary that associates the names of states with a list of the names of cities that appear in it,\n",
    "write a program that creates a new dictionary that associates the name of a city with the list of states that \n",
    "it appears in.\n",
    "\n",
    "As an example, if the first dictionary is\n",
    "\n",
    "Input : states = {'New Hampshire': ['Concord', 'Hanover'],\n",
    "\n",
    "'Massachusetts': ['Boston', 'Concord', 'Springfield'],\n",
    "\n",
    "'Illinois': ['Chicago', 'Springfield', 'Peoria'] }\n",
    "\n",
    "Output:\n",
    "\n",
    "cities = {'Hanover': ['New Hampshire'],\n",
    "\n",
    "'Chicago': ['Illinois'],'Boston': ['Massachusetts'],\n",
    "\n",
    "'Peoria': ['Illinois'],'Concord': ['New Hampshire','Massachusetts'],\n",
    "\n",
    "'Springfield': ['Massachusetts', 'Illinois'] }\n",
    "\n",
    "Function Name : city_with_states Input : dict Output : dict"
   ]
  },
  {
   "cell_type": "code",
   "execution_count": 24,
   "metadata": {},
   "outputs": [
    {
     "name": "stdout",
     "output_type": "stream",
     "text": [
      "{'Springfield': ['Massachusetts', 'Illinois'], 'Concord': ['New Hampshire', 'Massachusetts'], 'Boston': ['Massachusetts'], 'Chicago': ['Illinois'], 'Peoria': ['Illinois'], 'Hanover': ['New Hampshire']}\n"
     ]
    }
   ],
   "source": [
    "def city_with_states(states):\n",
    "    cities = {}\n",
    "    l = []\n",
    "    \n",
    "    for i in states.values():\n",
    "        l.extend(i)\n",
    "        s = set(l) # Converting muliple occurence values into single occurence \n",
    "    \n",
    "    for i in s:\n",
    "        for j in states.keys():\n",
    "            if i in states[j]:\n",
    "                if i not in cities.keys():\n",
    "                    cities[i] = [j]\n",
    "                else:\n",
    "                    cities[i].append(j)\n",
    "                       \n",
    "    return cities           \n",
    "   \n",
    "    \n",
    "states = {'New Hampshire': ['Concord', 'Hanover'],'Massachusetts': ['Boston', 'Concord', 'Springfield'],'Illinois': ['Chicago', 'Springfield', 'Peoria'] }\n",
    "\n",
    "print(city_with_states(states))\n"
   ]
  },
  {
   "cell_type": "markdown",
   "metadata": {},
   "source": [
    "4.How do you check if a given String contains valid parentheses? Given a string containing just the characters\n",
    "'(', ')', '{', '}', '[' and ']', write a program in python to check if the input string is valid.\n",
    "The brackets must close in the correct order, \"()\" and \"()[]{}\" are all valid but \"(]\" and \"([)]\" are not.\n",
    "\n",
    "Function Name : check_parentheses Input : str Output : True/False"
   ]
  },
  {
   "cell_type": "code",
   "execution_count": 31,
   "metadata": {},
   "outputs": [
    {
     "name": "stdout",
     "output_type": "stream",
     "text": [
      "True\n",
      "True\n",
      "True\n",
      "False\n",
      "False\n"
     ]
    }
   ],
   "source": [
    "def check_parentheses(str_input):\n",
    "    d1 = {\"{\":\"}\",\"[\":\"]\",\"(\":\")\"}\n",
    "    l = []\n",
    "    for char in str_input:\n",
    "        if char in d1.keys():\n",
    "            if d1[char] in str_input:\n",
    "                l.append(\"true\")\n",
    "            else:\n",
    "                l.append(\"False\")\n",
    "                \n",
    "    if \"False\" in l:\n",
    "        return False\n",
    "    else:\n",
    "        return True\n",
    "       \n",
    "print(check_parentheses(\"{}[]()\"))\n",
    "print(check_parentheses(\"{1sm}[34mm](333)\"))\n",
    "print(check_parentheses(\"{23}w[re]we()\"))\n",
    "print(check_parentheses(\"{[]()\"))\n",
    "print(check_parentheses(\"{}[()\"))"
   ]
  },
  {
   "cell_type": "markdown",
   "metadata": {},
   "source": [
    "5.Write a program to convert Integer to Roman String. For example, if a given integer is 5 then your program should print \"V\".\n",
    "\n",
    "Function Name : int_roman Input : int Output : str"
   ]
  },
  {
   "cell_type": "code",
   "execution_count": 34,
   "metadata": {},
   "outputs": [
    {
     "name": "stdout",
     "output_type": "stream",
     "text": [
      "XIII\n",
      "CXXXII\n",
      "MCCLXVI\n"
     ]
    }
   ],
   "source": [
    "def int_roman(num):\n",
    "    val = [1000, 900, 500, 400,100, 90, 50, 40,10, 9, 5, 4,1]\n",
    "    syb = [\"M\", \"CM\", \"D\", \"CD\",\"C\", \"XC\", \"L\", \"XL\",\"X\", \"IX\", \"V\", \"IV\",\"I\"]\n",
    "    roman_num = ''\n",
    "    i = 0\n",
    "    while  num > 0: \n",
    "        for k in range(num // val[i]):\n",
    "            roman_num += syb[i]\n",
    "            num -= val[i]\n",
    "        i += 1\n",
    "    return roman_num\n",
    "    \n",
    "print(int_roman(13))\n",
    "print(int_roman(132))\n",
    "print(int_roman(1266))\n",
    "\n"
   ]
  },
  {
   "cell_type": "markdown",
   "metadata": {},
   "source": [
    "6.Write a program utility that counts the number of lines of actual python code in a. For the purpose of this exercise, a line is counted if it contains something other than whitespace or text in a comment.\n",
    "remember that comment start sequences that appear inside python strings should be ignored.\n",
    "\n",
    "Function Name : count_code_lines Input : str Output : int"
   ]
  },
  {
   "cell_type": "code",
   "execution_count": 5,
   "metadata": {
    "scrolled": true
   },
   "outputs": [
    {
     "name": "stdout",
     "output_type": "stream",
     "text": [
      "10\n"
     ]
    }
   ],
   "source": [
    "def count_code_lines(input_code):\n",
    "    count = 0\n",
    "    \n",
    "    s = input_code.split(\"\\n\")\n",
    "    \n",
    "    for val in s:\n",
    "        if len(val) == 0 or val[0] == \"#\":\n",
    "            continue\n",
    "        else:\n",
    "            count +=1\n",
    "        \n",
    "    \n",
    "    return count\n",
    "\n",
    "input_code = \"\"\"\n",
    "#Linear search implementation\n",
    "#Takes list and a key as input and returns True or False as answer\n",
    "def linear_search(l,key):\n",
    "    for value in l:\n",
    "        if key == value:\n",
    "            return True #Return True is key exist\n",
    "    else:\n",
    "        return False #Return False if key does not exist\n",
    "\n",
    "l = [100,200,300,400,500,600]\n",
    "key = 500\n",
    "result = linear_search(l,key)\n",
    "print(result)\n",
    "\"\"\"\n",
    "\n",
    "print(count_code_lines(input_code))\n"
   ]
  },
  {
   "cell_type": "markdown",
   "metadata": {},
   "source": [
    "7.Write a program to check the strength of a supplied password\n",
    "\n",
    "The length of the password must be at least 8 characters in length The password must contain at least 1 capital letter The password must contain at least 1 digit The password must contain at least 1 special character and allowed special characters are (!,@,#,$,&)\n",
    "\n",
    "We need to provide feedback to the user about the strength of their password\n",
    "\n",
    "Provide the user with a list of reasons why their password is 'weak'\n",
    "Function Name : check_password_strength Input : str Output : tuple (str,list) eg (\"Weak\",[\"The password must contain at least 1 capital letter\"])\n",
    "\n",
    "Check if given sentence is syntactically correct or not\n",
    "A simple sentence if syntactically correct if it fulfills given rules. The following are given rules.\n",
    "\n",
    "Sentence must start with a Uppercase character (e.g. Noun/ I/ We/ He etc.)\n",
    "There must be spaces between words.\n",
    "Then the sentence must end with a full stop(.).\n",
    "Two continuous spaces are not allowed.\n",
    "Two continuous uppercase characters are not allowed.\n",
    "However the sentence can end after an uppercase character.\n",
    "Function Name : check_sentence Input : str Output : tuple (True/False,list) eg (False,[\"There must be spaces between words.\"])"
   ]
  },
  {
   "cell_type": "code",
   "execution_count": null,
   "metadata": {},
   "outputs": [
    {
     "name": "stdout",
     "output_type": "stream",
     "text": [
      "Enter desired password: Wxsw@2890\n",
      "Too Strong\n",
      "Password meets all requirements and may be used.\n",
      "Enter desired password: ses\n",
      "Weak!\n",
      "Password must contain at least one upper-case character.\n",
      "Password must contain at least one number.\n",
      "Password must contain at least one special character.\n",
      "Password must be at least 8 characters in length.\n"
     ]
    }
   ],
   "source": [
    "def check_upper(input):\n",
    "    uppers = 0 \n",
    "    upper_list = \"A B C D E F G H I J K L M N O P Q R S T U V W X Y Z\".split(\" \")\n",
    "    for char in input:\n",
    "        if char in upper_list:\n",
    "            uppers += 1\n",
    "    if uppers > 0:\n",
    "        return True\n",
    "    else:\n",
    "        return False\n",
    "\n",
    "def check_lower(input):\n",
    "    lowers = 0\n",
    "    lower_list = \"a b c d e f g h i j k l m n o p q r s t u v w x y z\".split(\" \")\n",
    "    for char in input:\n",
    "        if char in lower_list:\n",
    "            lowers += 1\n",
    "    if lowers > 0:\n",
    "        return True\n",
    "    else:\n",
    "        return False\n",
    "\n",
    "def check_number(input):\n",
    "    numbers = 0\n",
    "    number_list = \"1234567890\"\n",
    "    for char in input:\n",
    "        if char in number_list:\n",
    "            numbers += 1\n",
    "    if numbers > 0:\n",
    "        return True\n",
    "    else:\n",
    "        return False\n",
    "\n",
    "def check_special(input):\n",
    "    specials = 0\n",
    "    special_list = \"! @ $ % ^ & * ( ) _ - + = { } [ ] | \\ , . > < / ? ~ ` \\\" ' : ;\".split(\" \")\n",
    "    for char in input:\n",
    "        if char in special_list:\n",
    "            specials += 1\n",
    "    if specials > 0:\n",
    "        return True\n",
    "    else:\n",
    "        return False\n",
    "\n",
    "def check_len(input):\n",
    "    if len(input) >= 8:\n",
    "        return True\n",
    "    else:\n",
    "        return False\n",
    "\n",
    "\n",
    "def check_sentence(input):\n",
    "    check_dict = {\n",
    "        'upper': check_upper(input),\n",
    "        'lower': check_lower(input),\n",
    "        'number': check_number(input),\n",
    "        'special': check_special(input),\n",
    "        'len' : check_len(input)\n",
    "    }\n",
    "    if check_upper(input) & check_lower(input) & check_number(input) & check_special(input) & check_len(input):\n",
    "        print(\"Too Strong\")\n",
    "        return True\n",
    "        \n",
    "    else:\n",
    "        print (\"Weak!\")\n",
    "        \n",
    "        if check_dict['upper'] == False:\n",
    "            print(\"Password must contain at least one upper-case character.\")\n",
    "        if check_dict['lower'] == False:\n",
    "            print(\"Password must contain at least one lower-case character.\")\n",
    "        if check_dict['number'] == False:\n",
    "            print (\"Password must contain at least one number.\")\n",
    "        if check_dict['special'] == False:\n",
    "            print (\"Password must contain at least one special character.\")\n",
    "        if check_dict['len'] == False:\n",
    "            print (\"Password must be at least 8 characters in length.\" )\n",
    "        print                  \n",
    "\n",
    "while True:\n",
    "    password = input(\"Enter desired password: \")\n",
    "    if check_sentence(password):\n",
    "        print (\"Password meets all requirements and may be used.\")\n",
    "    "
   ]
  },
  {
   "cell_type": "markdown",
   "metadata": {},
   "source": [
    "\n",
    "9.Given an array arr[] of integers and an integer K, the task is to find the greatest contiguous sub-array of size K.\n",
    "\n",
    "Sub-array X is said to be greater than sub-array Y if the first non-matching element in both the sub-arrays has a greater value in X than in Y.\n",
    "\n",
    "For example : Input: arr[] = {1, 4, 3, 2, 5}, K = 4 Output: 4 3 2 5 Two subarrays are {1, 4, 3, 2} and {4, 3, 2, 5}. First non-matching element from array1 and array 2 : 1 and 4 as 4 is greater Hence, the greater one is {4, 3, 2, 5}"
   ]
  },
  {
   "cell_type": "code",
   "execution_count": 4,
   "metadata": {},
   "outputs": [
    {
     "name": "stdout",
     "output_type": "stream",
     "text": [
      "First non-matching element from array2 and array1 : 4 and 1 as 4 is greater Hence,\n",
      "            the greater one is array('i', [4, 3, 2, 5])\n",
      "First matching element from array1 and array2 : 4 and 4  Hence,\n",
      "            the greater one is array('i', [4, 3, 2, 5])\n",
      "First matching element from array1 and array2 : 4 and 4  Hence,\n",
      "            the greater one is array('i', [4, 4, 3, 2])\n"
     ]
    }
   ],
   "source": [
    "from array import *\n",
    "def greatest_subarray(arr,k):\n",
    "    sub_array_1 = array(\"i\",[])\n",
    "    sub_array_2 = array(\"i\",[])\n",
    "    l = list(arr)\n",
    "    for i in arr:\n",
    "        if len(sub_array_1) < k:\n",
    "            sub_array_1.append(i)\n",
    "            \n",
    "    for i in arr[1:]:\n",
    "        if len(sub_array_2) < k:\n",
    "            sub_array_2.append(i)\n",
    "            \n",
    "    if sub_array_1[0] == sub_array_2[0]:\n",
    "        \n",
    "        if sum(sub_array_1) > sum(sub_array_2):\n",
    "            sub_array = '''First matching element from array1 and array2 : {} and {}  Hence,\n",
    "            the greater one is {}'''.format(sub_array_1[0],sub_array_2[0],sub_array_1)\n",
    "            return (sub_array)\n",
    "    \n",
    "        else:\n",
    "            sub_array = '''First matching element from array1 and array2 : {} and {}  Hence,\n",
    "            the greater one is {}'''.format(sub_array_1[0],sub_array_2[0],sub_array_2)\n",
    "            return (sub_array)            \n",
    "        \n",
    "    elif sum(sub_array_1) > sum(sub_array_2):\n",
    "        sub_array = '''First non-matching element from array1 and array2 : {} and {} as {} is greater Hence,\n",
    "            the greater one is {}'''.format(sub_array_1[0],sub_array_2[0],sub_array_1[0],sub_array_1)\n",
    "        return (sub_array)\n",
    "    else:\n",
    "        sub_array = '''First non-matching element from array2 and array1 : {} and {} as {} is greater Hence,\n",
    "            the greater one is {}'''.format(sub_array_2[0],sub_array_1[0],sub_array_2[0],sub_array_2)\n",
    "        return (sub_array)\n",
    "        \n",
    " \n",
    "        \n",
    "        \n",
    "\n",
    "arr = array(\"i\",[1,4,3,2,5]) #checking the given array\n",
    "k = 4\n",
    "print(greatest_subarray(arr,k)) \n",
    "\n",
    "arr = array(\"i\",[4,4,3,2,5]) #checking the array if 1st elements are same\n",
    "k = 4\n",
    "print(greatest_subarray(arr,k))\n",
    "\n",
    "arr = array(\"i\",[4,4,3,2,1]) #checking the array if 1st elements are same\n",
    "k = 4\n",
    "print(greatest_subarray(arr,k))"
   ]
  },
  {
   "cell_type": "markdown",
   "metadata": {},
   "source": [
    "10.Given a list of N integers. The task is to eliminate the minimum number of elements such that in the resulting list the sum of any two adjacent values is even.\n",
    "\n",
    "Numbers = [1, 3, 5, 4, 2] Output = [1, 3, 5] Total elements removed 2 Elements to be removed [4,2]\n",
    "\n",
    "Function Name : adj_sum_even() Input : list Output : tuple(int,list)"
   ]
  },
  {
   "cell_type": "code",
   "execution_count": 3,
   "metadata": {},
   "outputs": [
    {
     "name": "stdout",
     "output_type": "stream",
     "text": [
      "Total elements removed 3 and the elements which got removed [2, 4, 2]\n",
      "Output = [1, 3, 5]\n"
     ]
    }
   ],
   "source": [
    "def adj_sum_even(Numbers):\n",
    "    \n",
    "    removed_elements = []\n",
    "    lntial_list= len(Numbers)\n",
    "    \n",
    "    for val1 in Numbers:\n",
    "        for val2 in Numbers[1:]:\n",
    "            if not (val1 + val2) % 2 == 0:\n",
    "                Numbers.remove(val2)\n",
    "                removed_elements.append(val2)\n",
    "             \n",
    "    Final_list = len(Numbers)\n",
    "    list_length = lntial_list - Final_list\n",
    "    print(\"Total elements removed {} and the elements which got removed {}\".format(list_length,removed_elements)) \n",
    "    output =\"Output = {}\".format(Numbers)\n",
    "    return output      \n",
    "    \n",
    "Numbers = [1,3,2,5,4,2]\n",
    "print(adj_sum_even(Numbers))"
   ]
  },
  {
   "cell_type": "code",
   "execution_count": 5,
   "metadata": {},
   "outputs": [
    {
     "name": "stdout",
     "output_type": "stream",
     "text": [
      "(2, [1, 3, 5])\n"
     ]
    }
   ],
   "source": [
    "def adj_sum_even(numbers):\n",
    "    \n",
    "    odd_nums = []\n",
    "    even_nums = []\n",
    "    total_removed = 0\n",
    "    \n",
    "    for value in numbers:\n",
    "        if value % 2 == 0:\n",
    "            even_nums.append(value)\n",
    "        else:\n",
    "            odd_nums.append(value)\n",
    "        \n",
    "    if len(odd_nums) < len(even_nums):\n",
    "        for value in odd_nums:\n",
    "            numbers.remove(value)\n",
    "            total_removed += 1\n",
    "    else:\n",
    "        for value in even_nums:\n",
    "            numbers.remove(value)\n",
    "            total_removed += 1\n",
    "            \n",
    "    return (total_removed,numbers)\n",
    "\n",
    "Numbers = [1,3,5,4,2]\n",
    "print(adj_sum_even(Numbers))"
   ]
  },
  {
   "cell_type": "code",
   "execution_count": null,
   "metadata": {},
   "outputs": [],
   "source": []
  },
  {
   "cell_type": "code",
   "execution_count": null,
   "metadata": {},
   "outputs": [],
   "source": []
  }
 ],
 "metadata": {
  "kernelspec": {
   "display_name": "Python 3",
   "language": "python",
   "name": "python3"
  },
  "language_info": {
   "codemirror_mode": {
    "name": "ipython",
    "version": 3
   },
   "file_extension": ".py",
   "mimetype": "text/x-python",
   "name": "python",
   "nbconvert_exporter": "python",
   "pygments_lexer": "ipython3",
   "version": "3.7.4"
  }
 },
 "nbformat": 4,
 "nbformat_minor": 2
}
