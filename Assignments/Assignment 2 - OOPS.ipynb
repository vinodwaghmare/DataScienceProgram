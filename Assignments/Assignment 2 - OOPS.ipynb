{
 "cells": [
  {
   "cell_type": "code",
   "execution_count": 67,
   "metadata": {},
   "outputs": [],
   "source": [
    "class Bikes_on_Rental:\n",
    "    \n",
    "    \n",
    "    def __init__(self,stock_available=0):\n",
    "        '''Accepting stocks provided by provider'''\n",
    "        \n",
    "        self.stock_available = stock_available\n",
    "\n",
    "    def View_the_available_stocks(self):\n",
    "        '''Displaying the available stocks present for provider '''\n",
    "\n",
    "        print(\"We have currently {} bikes available to rent.\".format(self.stock_available))\n",
    "        return self.stock_available\n",
    "    \n",
    "    \n",
    "    def is_availability(self, req_quantity):\n",
    "        if self.stock_available > req_quantity:\n",
    "            return True\n",
    "        else:\n",
    "            return False\n",
    "        \n",
    "    \n",
    "    def rentingBikeOnHourlyBasis(self, no_of_bikes,hour):\n",
    "\n",
    "        '''Renting bike on hourly basis'''\n",
    "        \n",
    "        if no_of_bikes <= 0:\n",
    "            print(\"Invalid Input\")\n",
    "            return None\n",
    "        \n",
    "        elif no_of_bikes > self.stock_available:\n",
    "            print(\" Available bikes for rent are {} .\".format(self.stock_available))\n",
    "            return None\n",
    "        \n",
    "        else:\n",
    "            print(\"Customer Renting bikes for {} hour\".format(hour))\n",
    "            print(\"You rented  {} bikes and be charged $5 bike per hour \".format(no_of_bikes))\n",
    "            self.stock_available -= no_of_bikes            \n",
    "            return None     \n",
    "     \n",
    "    def rentBikeOnDailyBasis(self, no_of_bikes,day):\n",
    "        '''Renting bike on daily basis'''\n",
    "        \n",
    "        if no_of_bikes <= 0:\n",
    "            print(\"Invalid Input\")\n",
    "            return None\n",
    "\n",
    "        elif no_of_bikes > self.stock_available: \n",
    "            print(\" Available bikes for rent are {} .\".format(self.stock_available))\n",
    "            return None\n",
    "    \n",
    "        else:\n",
    "            print(\"Customer Renting bikes for {} day\".format(day))\n",
    "            print(\"You rented  {} bikes and be charged $20 bike per daily \".format(no_of_bikes))\n",
    "            self.stock_available -= no_of_bikes\n",
    "            return None\n",
    "        \n",
    "    def rentBikeOnWeeklyBasis(self, no_of_bikes, week):\n",
    "        '''Renting bike on weekly basis'''\n",
    "        \n",
    "        if no_of_bikes <= 0:\n",
    "            print(\"Invalid Input\")\n",
    "            return None\n",
    "\n",
    "        elif no_of_bikes > self.stock_available:\n",
    "            print(\" Available bikes for rent are {} .\".format(self.stock_available))\n",
    "            return None\n",
    "    \n",
    "        else:\n",
    "            print(\"Customer renting bikes for {} week\".format(week))\n",
    "            print(\"You rented  {} bikes and be charged $50 bike per weekly \".format(no_of_bikes))\n",
    "            self.stock_available -= no_of_bikes\n",
    "            return None\n",
    "        \n",
    "    \n",
    "\n",
    "    \n",
    "    def returnBike(self, request):\n",
    "        \"\"\"\n",
    "        1. Accept a rented bike from a customer\n",
    "        2. Replensihes the inventory\n",
    "        3. Return a bill\n",
    "        \"\"\"\n",
    "        \n",
    "        \n",
    "\n",
    "        if rentalPeriod and rentalBasis and no_the_Bikes:\n",
    "            self.stock_available += no_the_Bikes\n",
    "            rentalDuration = rentalPeriod\n",
    "        \n",
    "            if rentalBasis == \"hour\":\n",
    "                bill = round(rentalDuration / hour ) * 5 * no_the_Bikes\n",
    "                \n",
    "            elif rentalBasis == \"day\":\n",
    "                bill = round(rentalDuration / day) * 20 * no_the_Bikes\n",
    "                \n",
    "            elif rentalBasis == \"week\":\n",
    "                bill = round(rentalDuration / 7 ) * 60 * no_the_Bikes\n",
    "            \n",
    "               \n",
    "            if (3 <= no_the_Bikes <= 5):\n",
    "                print(\"You are eligible for 30% discount\")\n",
    "                bill = bill * (70/100)\n",
    "\n",
    "            print(\"Bill will be ${}\".format(bill))\n",
    "            return bill\n",
    "        else:\n",
    "            print(\"Are you sure that rented a bike from us\")\n",
    "            return None\n",
    "\n",
    "\n",
    "\n",
    "class Customer:\n",
    "\n",
    "    def __init__(self,name,email,contact):\n",
    " \n",
    "        self.name = name\n",
    "        self.email = email\n",
    "        self.contact = contact\n",
    "        self.cust_stock = []\n",
    "        \n",
    "    def requestBike(self,no_of_bikes = 0,rentalBasis = 0,rentalPeriod = 0):\n",
    "            self.cust_stock.append(no_of_bikes)\n",
    "            return None\n",
    "\n",
    "    def returnBike(self):\n",
    "        if self.rentalBasis and self.rentalTime and self.bikes:\n",
    "            rentalBasis = self.rentalBasis\n",
    "            rentalPeriod = self.rentalPeriod\n",
    "            bikes = self.bikes\n",
    "            request = [rentalBasis,rentalPeriod,bikes]\n",
    "            return Bikes_on_Rental.returnBike(request)\n",
    "            \n",
    "        else:\n",
    "            \n",
    "            return 0 \n",
    "     \n"
   ]
  },
  {
   "cell_type": "code",
   "execution_count": 68,
   "metadata": {},
   "outputs": [],
   "source": [
    "shop1 = Bikes_on_Rental(32)"
   ]
  },
  {
   "cell_type": "code",
   "execution_count": 69,
   "metadata": {},
   "outputs": [
    {
     "name": "stdout",
     "output_type": "stream",
     "text": [
      "We have currently 32 bikes available to rent.\n"
     ]
    },
    {
     "data": {
      "text/plain": [
       "32"
      ]
     },
     "execution_count": 69,
     "metadata": {},
     "output_type": "execute_result"
    }
   ],
   "source": [
    "shop1.View_the_available_stocks()"
   ]
  },
  {
   "cell_type": "code",
   "execution_count": 70,
   "metadata": {},
   "outputs": [
    {
     "name": "stdout",
     "output_type": "stream",
     "text": [
      "Customer Renting bikes for 4 hour\n",
      "You rented  3 bikes and be charged $5 bike per hour \n"
     ]
    }
   ],
   "source": [
    "shop1.rentingBikeOnHourlyBasis(3,4)"
   ]
  },
  {
   "cell_type": "code",
   "execution_count": 71,
   "metadata": {},
   "outputs": [
    {
     "name": "stdout",
     "output_type": "stream",
     "text": [
      "We have currently 29 bikes available to rent.\n"
     ]
    },
    {
     "data": {
      "text/plain": [
       "29"
      ]
     },
     "execution_count": 71,
     "metadata": {},
     "output_type": "execute_result"
    }
   ],
   "source": [
    "shop1.View_the_available_stocks()"
   ]
  },
  {
   "cell_type": "code",
   "execution_count": 72,
   "metadata": {},
   "outputs": [
    {
     "name": "stdout",
     "output_type": "stream",
     "text": [
      "Customer Renting bikes for 3 day\n",
      "You rented  5 bikes and be charged $20 bike per daily \n"
     ]
    }
   ],
   "source": [
    "shop1.rentBikeOnDailyBasis(5,3)"
   ]
  },
  {
   "cell_type": "code",
   "execution_count": 73,
   "metadata": {},
   "outputs": [],
   "source": [
    "cust1 = Customer('abc','abc@gmail.com',9158590122)"
   ]
  }
 ],
 "metadata": {
  "kernelspec": {
   "display_name": "Python 3",
   "language": "python",
   "name": "python3"
  },
  "language_info": {
   "codemirror_mode": {
    "name": "ipython",
    "version": 3
   },
   "file_extension": ".py",
   "mimetype": "text/x-python",
   "name": "python",
   "nbconvert_exporter": "python",
   "pygments_lexer": "ipython3",
   "version": "3.7.4"
  }
 },
 "nbformat": 4,
 "nbformat_minor": 2
}
